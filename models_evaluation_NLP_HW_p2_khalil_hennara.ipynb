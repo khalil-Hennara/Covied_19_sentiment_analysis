{
 "cells": [
  {
   "cell_type": "markdown",
   "metadata": {},
   "source": [
    "I put the table of all result at first.\n",
    "\n",
    "but you can see each model accuracy and structure in this Notebook."
   ]
  },
  {
   "cell_type": "markdown",
   "metadata": {},
   "source": [
    "## Tabel of models without Remove Hash or StopWord "
   ]
  },
  {
   "cell_type": "markdown",
   "metadata": {},
   "source": [
    "| model_name | model_summary | model_parameter | model_accuracy_test |\n",
    "| :-: | :- | :-: | :-: |\n",
    "|Base_Model | Embedding(300)-Dense(10)-Dense(5)|  9,171,217 | 0.6936 |\n",
    "|CNN_model  | Embedding(300)-3*Conv1D(128)-Dense(128)-Dens(5) |14,119,981| 0.6479 |\n",
    "|GRU_with_Regulaziation | Embedding(300)-2*GRU(128,recurent_dropout)-Dense(5)| 14,011,437 |  0.7889 |\n",
    "|GRU_with_f1_and_Regulaization | Embedding(300)-2*GRU(128,recurent_dropout)-Dense(5)|14,011,437 | 0.7780 |\n",
    "|LSTM_with_f1_and_Regulaization |  Embedding(300)-2*LST(128,recurent_dropout)-Dense(32)-Dense(5) | 14,102,125 | 0.7546|\n",
    "|LSTM_32_Node | Embedding(300)-2*LST(32,recurent_dropout)-Dense(32)-Dense(5)|13,798,765 |0.7181|\n",
    "|LSTM_Bidarictional | Embedding(300)-Bid(LSTM(64))-Dense(64)-Dense(5) | 13,834,093 | 0.7275 |\n",
    "|...|...|...|...|\n",
    "|Ensamble_model | GRU_with_Regulaziation + GRU_with_f1_and_Regulaization +LSTM_with_f1_and_Regulaization | None | 0.8071 | "
   ]
  },
  {
   "cell_type": "markdown",
   "metadata": {},
   "source": [
    "## Tabel of models with Remove Hash and StopWord "
   ]
  },
  {
   "cell_type": "markdown",
   "metadata": {},
   "source": [
    "| model_name | model_summary | model_parameter | model_accuracy_test |\n",
    "| :-: | :- | :-: | :-: |\n",
    "|GRU_with_Clan_StopWords | Embedding(300)-2*GRU(128,recurent_dropout)-Dense(5)|13,468,177| 0.7290|\n",
    "|LSTM_with_Clan_StopWords_f1_score |Embedding(300)-2*LSTM(128,recurent_dropout)-Dense(5)|13,468,177| 0.7560|\n",
    "|LSTM_64_With_CleanHash | Embedding(200)-Bidirectional(LSTM(128))-Dense(64)-Dense(5)|6,938,861|0.7845|\n",
    "|...|...|...|...|"
   ]
  },
  {
   "cell_type": "markdown",
   "metadata": {},
   "source": [
    "## Tabel of models with Remove just Hash (#)"
   ]
  },
  {
   "cell_type": "markdown",
   "metadata": {},
   "source": [
    "| model_name | model_summary | model_parameter | model_accuracy_test |\n",
    "| :-: | :- | :-: | :-: |\n",
    "|GRU_with_clean_Hash|Embedding(300)-2*GRU(128,recurent_dropout)-Dense(5)|14,014,437|0.8006|\n",
    "|LSTM_with_clean_Hash| Embedding(300) -2*LSTM(128)-Dense(5)|14,101,477|0.7886|\n",
    "|GRU_Learning_scheduler_with_mask| Embedding(300)-2GRU(128)-Dense(5) | 14,014,437 | 0.7921|\n",
    "|...|...|...|...|\n",
    "|Ensamble_model| GRU_with_clean_Hash+LSTM_with_clean_Hash+GRU_Learning_scheduler_with_mask|None|0.8172|"
   ]
  },
  {
   "cell_type": "markdown",
   "metadata": {},
   "source": [
    "## Tabel of Binary_classification models"
   ]
  },
  {
   "cell_type": "markdown",
   "metadata": {},
   "source": [
    "| model_name | model_summary | model_parameter | model_accuracy_test |\n",
    "| :-: | :- | :-: | :-: |\n",
    "|Binary_classifiction|Embedding(300)-2*LSTM(128)-Dense(1)|12,506,761|0.8927\n",
    "|Binary_classifiction_2|Embedding(300)-LSTM(128)-Dense(32)-Dense(1)|12,379,209|0.8949\n",
    "|Binary_classifiction_with_transfer_learning |Embedding(300)-2*GRU(128)-Dense(1)|14,013,921|0.8448\n"
   ]
  },
  {
   "cell_type": "code",
   "execution_count": null,
   "metadata": {},
   "outputs": [],
   "source": [
    "import numpy as np\n",
    "import matplotlib.pyplot as plt\n",
    "import pandas as pd\n",
    "import nltk\n",
    "import seaborn as sn\n",
    "import re\n",
    "\n",
    "import tensorflow as tf \n",
    "import tensorflow.keras as keras \n",
    "import tensorflow_addons as tfa\n",
    "\n",
    "import sklearn.model_selection as model_selection\n",
    "import sklearn.metrics as metrics_model\n",
    "import sklearn.linear_model as linear_model"
   ]
  },
  {
   "cell_type": "code",
   "execution_count": 7,
   "metadata": {
    "executionInfo": {
     "elapsed": 1532,
     "status": "ok",
     "timestamp": 1608884907603,
     "user": {
      "displayName": "khalil hennara",
      "photoUrl": "",
      "userId": "12581719381754495507"
     },
     "user_tz": -120
    },
    "id": "Foiwcb0YPU9X"
   },
   "outputs": [],
   "source": [
    "f1=tfa.metrics.F1Score(5)"
   ]
  },
  {
   "cell_type": "code",
   "execution_count": 3,
   "metadata": {
    "colab": {
     "base_uri": "https://localhost:8080/"
    },
    "executionInfo": {
     "elapsed": 27495,
     "status": "ok",
     "timestamp": 1608883126058,
     "user": {
      "displayName": "khalil hennara",
      "photoUrl": "",
      "userId": "12581719381754495507"
     },
     "user_tz": -120
    },
    "id": "gYf6NosKKsW9",
    "outputId": "1bfe57e2-b5a2-4bf9-cdae-7de952240eac"
   },
   "outputs": [
    {
     "name": "stdout",
     "output_type": "stream",
     "text": [
      "Mounted at /content/drive\n"
     ]
    }
   ],
   "source": [
    "from google.colab import drive\n",
    "drive.mount('/content/drive')"
   ]
  },
  {
   "cell_type": "code",
   "execution_count": null,
   "metadata": {
    "colab": {
     "base_uri": "https://localhost:8080/"
    },
    "executionInfo": {
     "elapsed": 4706,
     "status": "ok",
     "timestamp": 1608820680915,
     "user": {
      "displayName": "khalil hennara",
      "photoUrl": "",
      "userId": "12581719381754495507"
     },
     "user_tz": -120
    },
    "id": "S6byRlwMKyol",
    "outputId": "94f7d197-df8f-4a05-fb3c-7165dec4abf8"
   },
   "outputs": [
    {
     "name": "stdout",
     "output_type": "stream",
     "text": [
      "45822\n"
     ]
    }
   ],
   "source": [
    "train_set=pd.read_csv('/content/drive/MyDrive/train_df.csv')\n",
    "test_set=pd.read_csv('/content/drive/MyDrive/test_df.csv')\n",
    "\n",
    "X_train=train_set['clean_text'].values\n",
    "X_test=test_set['clean_text'].values\n",
    "y_train=train_set['NomericSentiment'].values\n",
    "y_test=test_set['NomericSentiment'].values\n",
    "\n",
    "X_train,X_val,y_train,y_val=model_selection.train_test_split(X_train,y_train,test_size=0.2,stratify=train_set['NomericSentiment'],random_state=42)\n",
    "\n",
    "y_train=keras.utils.to_categorical(y_train,5)\n",
    "y_test=keras.utils.to_categorical(y_test,5)\n",
    "y_val=keras.utils.to_categorical(y_val,5)\n",
    "\n",
    "tokinizer=keras.preprocessing.text.Tokenizer(num_words=30000)\n",
    "tokinizer.fit_on_texts(train_set['clean_text'].values)\n",
    "\n",
    "vocab_size=len(tokinizer.word_index)+1\n",
    "print(vocab_size)\n",
    "\n",
    "X_train=tokinizer.texts_to_sequences(X_train)\n",
    "X_test=tokinizer.texts_to_sequences(X_test)\n",
    "X_val=tokinizer.texts_to_sequences(X_val)\n",
    "X_train_set=keras.preprocessing.sequence.pad_sequences(X_train,padding='post',maxlen=70)\n",
    "X_test_set=keras.preprocessing.sequence.pad_sequences(X_test,padding='post',maxlen=70)\n",
    "X_val_set=keras.preprocessing.sequence.pad_sequences(X_val,padding='post',maxlen=70)\n",
    "\n"
   ]
  },
  {
   "cell_type": "code",
   "execution_count": 8,
   "metadata": {
    "colab": {
     "base_uri": "https://localhost:8080/"
    },
    "executionInfo": {
     "elapsed": 1177,
     "status": "ok",
     "timestamp": 1608884912730,
     "user": {
      "displayName": "khalil hennara",
      "photoUrl": "",
      "userId": "12581719381754495507"
     },
     "user_tz": -120
    },
    "id": "pGh1AfmQQpdS",
    "outputId": "a03a2fbc-538f-4192-ac05-e3b2ef556704"
   },
   "outputs": [
    {
     "name": "stdout",
     "output_type": "stream",
     "text": [
      "[nltk_data] Downloading package stopwords to /root/nltk_data...\n",
      "[nltk_data]   Unzipping corpora/stopwords.zip.\n"
     ]
    }
   ],
   "source": [
    "nltk.download('stopwords')\n",
    "from nltk.corpus import stopwords\n",
    "STOPWORDS=stopwords.words('english')\n",
    "\n",
    "def remove_stop_word_less_than_3_charecter(data):\n",
    "  min_stop=[w for w in STOPWORDS if len(w)<=3]\n",
    "  word=data.split()\n",
    "  res=[w for w in word if w not in min_stop]\n",
    "  return ' '.join(res)\n",
    "\n",
    "def remove_hash(data):\n",
    "  words=data.split()\n",
    "  res=[w for w in words if '#' not in w]\n",
    "  return ' '.join(res)\n"
   ]
  },
  {
   "cell_type": "code",
   "execution_count": 9,
   "metadata": {
    "executionInfo": {
     "elapsed": 1312,
     "status": "ok",
     "timestamp": 1608884914663,
     "user": {
      "displayName": "khalil hennara",
      "photoUrl": "",
      "userId": "12581719381754495507"
     },
     "user_tz": -120
    },
    "id": "UuliPLpUAzV4"
   },
   "outputs": [],
   "source": [
    "import re\n",
    "def remove_just_Hash(data):\n",
    "  data=re.sub('#','',data)\n",
    "  return data"
   ]
  },
  {
   "cell_type": "markdown",
   "metadata": {
    "id": "2jQSRv7uMED9"
   },
   "source": [
    "Base model is DenseNet With Embedding"
   ]
  },
  {
   "cell_type": "code",
   "execution_count": null,
   "metadata": {
    "id": "Hb-aDItqLDO7"
   },
   "outputs": [],
   "source": [
    "Base_model=keras.models.load_model('/content/drive/MyDrive/Model/DenseNet_with_Embedding.h5')"
   ]
  },
  {
   "cell_type": "code",
   "execution_count": null,
   "metadata": {
    "colab": {
     "base_uri": "https://localhost:8080/"
    },
    "executionInfo": {
     "elapsed": 2740,
     "status": "ok",
     "timestamp": 1608284050793,
     "user": {
      "displayName": "khalil hennara",
      "photoUrl": "",
      "userId": "12581719381754495507"
     },
     "user_tz": -120
    },
    "id": "-0iVtQedMSnQ",
    "outputId": "38979a35-2684-47c9-8ffe-81aa65015773"
   },
   "outputs": [
    {
     "name": "stdout",
     "output_type": "stream",
     "text": [
      "823/823 [==============================] - 1s 2ms/step - loss: 0.5685 - accuracy: 0.8180\n",
      "Accuracy : 0.8179953694343567 \n",
      "258/258 [==============================] - 0s 2ms/step - loss: 0.8438 - accuracy: 0.6936\n",
      "Accuracy : 0.6936444044113159 \n"
     ]
    }
   ],
   "source": [
    "loss,acc=Base_model.evaluate(X_train_set,y_train)\n",
    "print(\"Accuracy : {} \".format(acc))\n",
    "loss,acc=Base_model.evaluate(X_test_set,y_test)\n",
    "print(\"Accuracy : {} \".format(acc))\n"
   ]
  },
  {
   "cell_type": "markdown",
   "metadata": {
    "id": "wwDP0ezeM36A"
   },
   "source": [
    "now late see the model we train for know "
   ]
  },
  {
   "cell_type": "code",
   "execution_count": null,
   "metadata": {
    "colab": {
     "base_uri": "https://localhost:8080/"
    },
    "executionInfo": {
     "elapsed": 23070,
     "status": "ok",
     "timestamp": 1608284164272,
     "user": {
      "displayName": "khalil hennara",
      "photoUrl": "",
      "userId": "12581719381754495507"
     },
     "user_tz": -120
    },
    "id": "48mhylRwMin8",
    "outputId": "58bbaca0-045a-4b17-a5a1-cdcfc475ec22"
   },
   "outputs": [
    {
     "name": "stdout",
     "output_type": "stream",
     "text": [
      "823/823 [==============================] - 10s 11ms/step - loss: 0.6858 - accuracy: 0.7337\n",
      "Accuracy : 0.7336776852607727 \n",
      "258/258 [==============================] - 3s 12ms/step - loss: 0.9087 - accuracy: 0.6480\n",
      "Accuracy : 0.6479523777961731 \n"
     ]
    }
   ],
   "source": [
    "CNN_model=keras.models.load_model('/content/drive/MyDrive/Model/CNN_with_Embedding.h5')\n",
    "loss,acc=CNN_model.evaluate(X_train_set,y_train)\n",
    "print(\"Accuracy : {} \".format(acc))\n",
    "loss,acc=CNN_model.evaluate(X_test_set,y_test)\n",
    "print(\"Accuracy : {} \".format(acc))\n"
   ]
  },
  {
   "cell_type": "markdown",
   "metadata": {
    "id": "LJjPCJGkNPRx"
   },
   "source": [
    "These model is do better in generlization "
   ]
  },
  {
   "cell_type": "code",
   "execution_count": null,
   "metadata": {
    "colab": {
     "base_uri": "https://localhost:8080/"
    },
    "executionInfo": {
     "elapsed": 9709,
     "status": "ok",
     "timestamp": 1608820664063,
     "user": {
      "displayName": "khalil hennara",
      "photoUrl": "",
      "userId": "12581719381754495507"
     },
     "user_tz": -120
    },
    "id": "oCyeY0aaNHYK",
    "outputId": "38e5078f-60b0-4ac1-a44c-43ae0500fa5d"
   },
   "outputs": [
    {
     "name": "stdout",
     "output_type": "stream",
     "text": [
      "Model: \"sequential\"\n",
      "_________________________________________________________________\n",
      "Layer (type)                 Output Shape              Param #   \n",
      "=================================================================\n",
      "embedding (Embedding)        (None, 70, 300)           13746600  \n",
      "_________________________________________________________________\n",
      "gru (GRU)                    (None, 70, 128)           165120    \n",
      "_________________________________________________________________\n",
      "gru_1 (GRU)                  (None, 128)               99072     \n",
      "_________________________________________________________________\n",
      "dense (Dense)                (None, 5)                 645       \n",
      "=================================================================\n",
      "Total params: 14,011,437\n",
      "Trainable params: 14,011,437\n",
      "Non-trainable params: 0\n",
      "_________________________________________________________________\n"
     ]
    }
   ],
   "source": [
    "GRURNN_with_Regulaziation=keras.models.load_model('/content/drive/MyDrive/Model/GRURNN_with_Regulaziation.h5')\n",
    "GRURNN_with_Regulaziation.summary()"
   ]
  },
  {
   "cell_type": "code",
   "execution_count": null,
   "metadata": {
    "colab": {
     "base_uri": "https://localhost:8080/"
    },
    "executionInfo": {
     "elapsed": 51460,
     "status": "ok",
     "timestamp": 1608820743665,
     "user": {
      "displayName": "khalil hennara",
      "photoUrl": "",
      "userId": "12581719381754495507"
     },
     "user_tz": -120
    },
    "id": "v3fAIug6NzFS",
    "outputId": "6f1f7ea4-681a-4221-95c5-1934558ec96b"
   },
   "outputs": [
    {
     "name": "stdout",
     "output_type": "stream",
     "text": [
      "823/823 [==============================] - 39s 46ms/step - loss: 0.3226 - accuracy: 0.8925\n",
      "Accuracy : 0.8925\n",
      "258/258 [==============================] - 12s 47ms/step - loss: 0.6043 - accuracy: 0.7889\n",
      "Accuracy : 0.7889\n"
     ]
    }
   ],
   "source": [
    "loss,acc=GRURNN_with_Regulaziation.evaluate(X_train_set,y_train)\n",
    "print(\"Accuracy : {:.4f}\".format(acc))\n",
    "loss,acc=GRURNN_with_Regulaziation.evaluate(X_test_set,y_test)\n",
    "print(\"Accuracy : {:.4f}\".format(acc))\n"
   ]
  },
  {
   "cell_type": "markdown",
   "metadata": {
    "id": "ednokuXZOZ7r"
   },
   "source": [
    "as we can see this model still have overfit but its do better on training set and test set"
   ]
  },
  {
   "cell_type": "code",
   "execution_count": null,
   "metadata": {
    "colab": {
     "base_uri": "https://localhost:8080/"
    },
    "executionInfo": {
     "elapsed": 10753,
     "status": "ok",
     "timestamp": 1608820852467,
     "user": {
      "displayName": "khalil hennara",
      "photoUrl": "",
      "userId": "12581719381754495507"
     },
     "user_tz": -120
    },
    "id": "lFoakvmpOJ9H",
    "outputId": "7ed4a9aa-8dec-44e0-a7c5-3b2a20a95b4c"
   },
   "outputs": [
    {
     "name": "stdout",
     "output_type": "stream",
     "text": [
      "Model: \"sequential\"\n",
      "_________________________________________________________________\n",
      "Layer (type)                 Output Shape              Param #   \n",
      "=================================================================\n",
      "embedding (Embedding)        (None, 70, 300)           13746600  \n",
      "_________________________________________________________________\n",
      "gru (GRU)                    (None, 70, 128)           165120    \n",
      "_________________________________________________________________\n",
      "gru_1 (GRU)                  (None, 128)               99072     \n",
      "_________________________________________________________________\n",
      "dense (Dense)                (None, 5)                 645       \n",
      "=================================================================\n",
      "Total params: 14,011,437\n",
      "Trainable params: 14,011,437\n",
      "Non-trainable params: 0\n",
      "_________________________________________________________________\n"
     ]
    }
   ],
   "source": [
    "GRU_with_f1_and_Regulaization=keras.models.load_model('/content/drive/MyDrive/Model/GRURNN_with_Regulaziation_with_f1Score.h5')\n",
    "GRU_with_f1_and_Regulaization.summary()"
   ]
  },
  {
   "cell_type": "code",
   "execution_count": null,
   "metadata": {
    "colab": {
     "base_uri": "https://localhost:8080/"
    },
    "executionInfo": {
     "elapsed": 47484,
     "status": "ok",
     "timestamp": 1608820900632,
     "user": {
      "displayName": "khalil hennara",
      "photoUrl": "",
      "userId": "12581719381754495507"
     },
     "user_tz": -120
    },
    "id": "1vK3tOuSPCPD",
    "outputId": "bc12f7ab-3e1c-4cd3-e3c9-1c5b50831c3b"
   },
   "outputs": [
    {
     "name": "stdout",
     "output_type": "stream",
     "text": [
      "Accuracy : 0.8784,f1_score:[0.85155183 0.860328   0.8996927  0.9082192  0.90566593]\n",
      "Accuracy : 0.7780,f1_score:[0.7471169 0.7454546 0.835452  0.8109867 0.7900147]\n"
     ]
    }
   ],
   "source": [
    "loss,acc,f1_score=GRU_with_f1_and_Regulaization.evaluate(X_train_set,y_train,verbose=False)\n",
    "print(\"Accuracy : {:.4f},f1_score:{}\".format(acc,f1_score))\n",
    "loss,acc,f1_score=GRU_with_f1_and_Regulaization.evaluate(X_test_set,y_test,verbose=False)\n",
    "print(\"Accuracy : {:.4f},f1_score:{}\".format(acc,f1_score))"
   ]
  },
  {
   "cell_type": "markdown",
   "metadata": {
    "id": "9lUy9IoNQWjU"
   },
   "source": [
    "this model is Better becouse its generalize better"
   ]
  },
  {
   "cell_type": "code",
   "execution_count": null,
   "metadata": {
    "colab": {
     "base_uri": "https://localhost:8080/"
    },
    "executionInfo": {
     "elapsed": 12871,
     "status": "ok",
     "timestamp": 1608820918789,
     "user": {
      "displayName": "khalil hennara",
      "photoUrl": "",
      "userId": "12581719381754495507"
     },
     "user_tz": -120
    },
    "id": "AtvhLCVHP6rV",
    "outputId": "5e1c535a-3bcf-45e9-8c7c-72ca99407588"
   },
   "outputs": [
    {
     "name": "stdout",
     "output_type": "stream",
     "text": [
      "Model: \"sequential\"\n",
      "_________________________________________________________________\n",
      "Layer (type)                 Output Shape              Param #   \n",
      "=================================================================\n",
      "embedding (Embedding)        (None, 70, 300)           13746600  \n",
      "_________________________________________________________________\n",
      "lstm (LSTM)                  (None, 70, 128)           219648    \n",
      "_________________________________________________________________\n",
      "lstm_1 (LSTM)                (None, 128)               131584    \n",
      "_________________________________________________________________\n",
      "dense (Dense)                (None, 32)                4128      \n",
      "_________________________________________________________________\n",
      "dropout (Dropout)            (None, 32)                0         \n",
      "_________________________________________________________________\n",
      "dense_1 (Dense)              (None, 5)                 165       \n",
      "=================================================================\n",
      "Total params: 14,102,125\n",
      "Trainable params: 14,102,125\n",
      "Non-trainable params: 0\n",
      "_________________________________________________________________\n"
     ]
    }
   ],
   "source": [
    "LSTMRNN_with_Regulaziation_with_f1Score=keras.models.load_model('/content/drive/MyDrive/Model/LSTMRNN_with_Regulaziation_with_f1Score.h5')\n",
    "LSTMRNN_with_Regulaziation_with_f1Score.summary()"
   ]
  },
  {
   "cell_type": "code",
   "execution_count": null,
   "metadata": {
    "colab": {
     "base_uri": "https://localhost:8080/"
    },
    "executionInfo": {
     "elapsed": 68738,
     "status": "ok",
     "timestamp": 1608820991419,
     "user": {
      "displayName": "khalil hennara",
      "photoUrl": "",
      "userId": "12581719381754495507"
     },
     "user_tz": -120
    },
    "id": "6UuHXKO-RNgm",
    "outputId": "17e477b5-0887-4502-ba56-35ca3a2874cc"
   },
   "outputs": [
    {
     "name": "stdout",
     "output_type": "stream",
     "text": [
      "Accuracy : 0.8343,f1_score:[0.8187207  0.8150789  0.88279355 0.8357736  0.8424234 ]\n",
      "Accuracy : 0.7546,f1_score:[0.74985665 0.72254056 0.81523675 0.7460036  0.75910926]\n"
     ]
    }
   ],
   "source": [
    "loss,acc,f1_score=LSTMRNN_with_Regulaziation_with_f1Score.evaluate(X_train_set,y_train,verbose=False)\n",
    "print(\"Accuracy : {:.4f},f1_score:{}\".format(acc,f1_score))\n",
    "loss,acc,f1_score=LSTMRNN_with_Regulaziation_with_f1Score.evaluate(X_test_set,y_test,verbose=False)\n",
    "print(\"Accuracy : {:.4f},f1_score:{}\".format(acc,f1_score))\n"
   ]
  },
  {
   "cell_type": "markdown",
   "metadata": {
    "id": "JEGweD7USSo5"
   },
   "source": [
    "this model is the best for now from respective of generalization"
   ]
  },
  {
   "cell_type": "code",
   "execution_count": null,
   "metadata": {
    "colab": {
     "base_uri": "https://localhost:8080/"
    },
    "executionInfo": {
     "elapsed": 8997,
     "status": "ok",
     "timestamp": 1608285582566,
     "user": {
      "displayName": "khalil hennara",
      "photoUrl": "",
      "userId": "12581719381754495507"
     },
     "user_tz": -120
    },
    "id": "DLjsyUErRkSV",
    "outputId": "07bf1d61-cf64-46f6-b018-03d7b9df0b30"
   },
   "outputs": [
    {
     "name": "stdout",
     "output_type": "stream",
     "text": [
      "Model: \"sequential\"\n",
      "_________________________________________________________________\n",
      "Layer (type)                 Output Shape              Param #   \n",
      "=================================================================\n",
      "embedding (Embedding)        (None, 60, 300)           13746600  \n",
      "_________________________________________________________________\n",
      "lstm (LSTM)                  (None, 60, 32)            42624     \n",
      "_________________________________________________________________\n",
      "lstm_1 (LSTM)                (None, 32)                8320      \n",
      "_________________________________________________________________\n",
      "dense (Dense)                (None, 32)                1056      \n",
      "_________________________________________________________________\n",
      "dropout (Dropout)            (None, 32)                0         \n",
      "_________________________________________________________________\n",
      "dense_1 (Dense)              (None, 5)                 165       \n",
      "=================================================================\n",
      "Total params: 13,798,765\n",
      "Trainable params: 13,798,765\n",
      "Non-trainable params: 0\n",
      "_________________________________________________________________\n"
     ]
    }
   ],
   "source": [
    "LSTM_32_Node=keras.models.load_model('/content/drive/MyDrive/Model/LSTM_32_Node.h5')\n",
    "LSTM_32_Node.summary()"
   ]
  },
  {
   "cell_type": "code",
   "execution_count": null,
   "metadata": {
    "colab": {
     "base_uri": "https://localhost:8080/"
    },
    "executionInfo": {
     "elapsed": 19896,
     "status": "ok",
     "timestamp": 1608285705152,
     "user": {
      "displayName": "khalil hennara",
      "photoUrl": "",
      "userId": "12581719381754495507"
     },
     "user_tz": -120
    },
    "id": "oodXBmIYSlFH",
    "outputId": "b39131fa-417b-433b-f5d8-039c6cd0d89e"
   },
   "outputs": [
    {
     "name": "stdout",
     "output_type": "stream",
     "text": [
      "WARNING:tensorflow:Model was constructed with shape (None, 60) for input KerasTensor(type_spec=TensorSpec(shape=(None, 60), dtype=tf.float32, name='embedding_input'), name='embedding_input', description=\"created by layer 'embedding_input'\"), but it was called on an input with incompatible shape (None, 70).\n",
      "Accuracy : 0.8519,f1_score:[0.858193   0.798273   0.8960197  0.92418855 0.7842494 ]\n",
      "Accuracy : 0.7181,f1_score:[0.7043203  0.67195004 0.7912226  0.7644548  0.664422  ]\n"
     ]
    }
   ],
   "source": [
    "loss,acc,f1_score=LSTM_32_Node.evaluate(X_train_set,y_train,verbose=False)\n",
    "print(\"Accuracy : {:.4f},f1_score:{}\".format(acc,f1_score))\n",
    "loss,acc,f1_score=LSTM_32_Node.evaluate(X_test_set,y_test,verbose=False)\n",
    "print(\"Accuracy : {:.4f},f1_score:{}\".format(acc,f1_score))"
   ]
  },
  {
   "cell_type": "code",
   "execution_count": null,
   "metadata": {
    "colab": {
     "base_uri": "https://localhost:8080/"
    },
    "executionInfo": {
     "elapsed": 8968,
     "status": "ok",
     "timestamp": 1608285841433,
     "user": {
      "displayName": "khalil hennara",
      "photoUrl": "",
      "userId": "12581719381754495507"
     },
     "user_tz": -120
    },
    "id": "ZYyRQMltTAWX",
    "outputId": "63e93b34-14e2-4210-a10e-7db37694e018"
   },
   "outputs": [
    {
     "name": "stdout",
     "output_type": "stream",
     "text": [
      "Model: \"sequential\"\n",
      "_________________________________________________________________\n",
      "Layer (type)                 Output Shape              Param #   \n",
      "=================================================================\n",
      "embedding (Embedding)        (None, 60, 300)           13746600  \n",
      "_________________________________________________________________\n",
      "bidirectional (Bidirectional (None, 60, 64)            85248     \n",
      "_________________________________________________________________\n",
      "global_max_pooling1d (Global (None, 64)                0         \n",
      "_________________________________________________________________\n",
      "dense (Dense)                (None, 32)                2080      \n",
      "_________________________________________________________________\n",
      "dropout (Dropout)            (None, 32)                0         \n",
      "_________________________________________________________________\n",
      "dense_1 (Dense)              (None, 5)                 165       \n",
      "=================================================================\n",
      "Total params: 13,834,093\n",
      "Trainable params: 13,834,093\n",
      "Non-trainable params: 0\n",
      "_________________________________________________________________\n"
     ]
    }
   ],
   "source": [
    "LSTM_Bidarictional=keras.models.load_model('/content/drive/MyDrive/Model/LSTM__1_32_Node_with_Bidirectional.h5')\n",
    "LSTM_Bidarictional.summary()"
   ]
  },
  {
   "cell_type": "code",
   "execution_count": null,
   "metadata": {
    "colab": {
     "base_uri": "https://localhost:8080/"
    },
    "executionInfo": {
     "elapsed": 19003,
     "status": "ok",
     "timestamp": 1608285950109,
     "user": {
      "displayName": "khalil hennara",
      "photoUrl": "",
      "userId": "12581719381754495507"
     },
     "user_tz": -120
    },
    "id": "G71GqYt9TitO",
    "outputId": "7fc76ff8-3db2-44da-c81b-711f902dc1fa"
   },
   "outputs": [
    {
     "name": "stdout",
     "output_type": "stream",
     "text": [
      "Accuracy : 0.8638,f1_score:[0.8537154  0.81803566 0.9135204  0.9183412  0.8339745 ]\n",
      "Accuracy : 0.7275,f1_score:[0.7034396  0.680453   0.80510974 0.7665662  0.70974463]\n"
     ]
    }
   ],
   "source": [
    "loss,acc,f1_score=LSTM_32_Node.evaluate(X_train_set[:,:-10],y_train,verbose=False)\n",
    "print(\"Accuracy : {:.4f},f1_score:{}\".format(acc,f1_score))\n",
    "loss,acc,f1_score=LSTM_32_Node.evaluate(X_test_set[:,:-10],y_test,verbose=False)\n",
    "print(\"Accuracy : {:.4f},f1_score:{}\".format(acc,f1_score))"
   ]
  },
  {
   "cell_type": "markdown",
   "metadata": {
    "id": "EqeXUwYgUE4-"
   },
   "source": [
    "as we can see the best 2 model is LSTM_with_f1_Score\n",
    "and GRU_with_f1_score"
   ]
  },
  {
   "cell_type": "markdown",
   "metadata": {
    "id": "MFEIJJIYLhSk"
   },
   "source": [
    " # Ensambel Model \n",
    "\n",
    "now I am use The Best Three model Without Remove (**#**) and see How This model well do on the test set\n",
    "\n",
    "So now we gone use Ensamble model of the best model we get for this moment\n"
   ]
  },
  {
   "cell_type": "code",
   "execution_count": null,
   "metadata": {
    "id": "wwl0A4d6zC8R"
   },
   "outputs": [],
   "source": [
    "def get_ensamble_predict(models,X_test):\n",
    "  res=np.zeros((X_test.shape[0],5))\n",
    "  preds=[]\n",
    "  for i,model in enumerate(models):\n",
    "    print('working...')\n",
    "    pred=model.predict(X_test)\n",
    "    print('Done_{}'.format(i+1))\n",
    "    preds.append(pred)\n",
    "  res=(0.4*preds[0]+0.3*preds[1]+0.3*preds[2])\n",
    "  return res"
   ]
  },
  {
   "cell_type": "code",
   "execution_count": null,
   "metadata": {
    "colab": {
     "base_uri": "https://localhost:8080/"
    },
    "executionInfo": {
     "elapsed": 159060,
     "status": "ok",
     "timestamp": 1608821151544,
     "user": {
      "displayName": "khalil hennara",
      "photoUrl": "",
      "userId": "12581719381754495507"
     },
     "user_tz": -120
    },
    "id": "UVWrW6p1MEMS",
    "outputId": "492fba17-3b1d-44fd-c882-8c235d963ea9"
   },
   "outputs": [
    {
     "name": "stdout",
     "output_type": "stream",
     "text": [
      "working...\n",
      "Done_1\n",
      "working...\n",
      "Done_2\n",
      "working...\n",
      "Done_3\n",
      "...............\n",
      " Train_done \n",
      "...............\n",
      "working...\n",
      "Done_1\n",
      "working...\n",
      "Done_2\n",
      "working...\n",
      "Done_3\n"
     ]
    }
   ],
   "source": [
    "models=[GRURNN_with_Regulaziation,LSTMRNN_with_Regulaziation_with_f1Score,GRU_with_f1_and_Regulaization]\n",
    "\n",
    "y_pred_train=get_ensamble_predict(models,X_train_set)\n",
    "print('...............\\n Train_done \\n...............')\n",
    "y_pred_test=get_ensamble_predict(models,X_test_set)\n"
   ]
  },
  {
   "cell_type": "code",
   "execution_count": null,
   "metadata": {
    "colab": {
     "base_uri": "https://localhost:8080/"
    },
    "executionInfo": {
     "elapsed": 1855,
     "status": "ok",
     "timestamp": 1608821824769,
     "user": {
      "displayName": "khalil hennara",
      "photoUrl": "",
      "userId": "12581719381754495507"
     },
     "user_tz": -120
    },
    "id": "cl-2xEN7MULo",
    "outputId": "7e0fd274-8dda-436b-eda2-75c709b54977"
   },
   "outputs": [
    {
     "name": "stdout",
     "output_type": "stream",
     "text": [
      "Training Accureacy : 0.8994, f1_score : [0.88330833 0.88634772 0.90365521 0.92577985 0.92132565]\n",
      "Testing Accureacy : 0.8071, f1_score : [0.79187192 0.77144274 0.85012285 0.83578621 0.8175389 ]\n"
     ]
    }
   ],
   "source": [
    "acc=metrics_model.accuracy_score(np.argmax(y_train,axis=1),np.argmax(y_pred_train,axis=1))\n",
    "f1_score=metrics_model.f1_score(np.argmax(y_train,axis=1),np.argmax(y_pred_train,axis=1),average=None)\n",
    "print(\"Training Accureacy : {:.4f}, f1_score : {}\".format(acc,f1_score))\n",
    "\n",
    "acc=metrics_model.accuracy_score(np.argmax(y_test,axis=1),np.argmax(y_pred_test,axis=1))\n",
    "f1_score=metrics_model.f1_score(np.argmax(y_test,axis=1),np.argmax(y_pred_test,axis=1),average=None)\n",
    "print(\"Testing Accureacy : {:.4f}, f1_score : {}\".format(acc,f1_score))"
   ]
  },
  {
   "cell_type": "markdown",
   "metadata": {
    "id": "OCBLegtG70N0"
   },
   "source": [
    "as we can see the Ensemble model generalize better than each model alone \n",
    "and do as better as the model after we clean the (#) we try this on the last two model that we train after we remove the (#)"
   ]
  },
  {
   "cell_type": "code",
   "execution_count": null,
   "metadata": {
    "colab": {
     "base_uri": "https://localhost:8080/"
    },
    "executionInfo": {
     "elapsed": 6768,
     "status": "ok",
     "timestamp": 1608286958543,
     "user": {
      "displayName": "khalil hennara",
      "photoUrl": "",
      "userId": "12581719381754495507"
     },
     "user_tz": -120
    },
    "id": "ApOZVePOXsbg",
    "outputId": "4efe50b8-6be5-422b-e434-c12261a23154"
   },
   "outputs": [
    {
     "name": "stdout",
     "output_type": "stream",
     "text": [
      "Model: \"sequential\"\n",
      "_________________________________________________________________\n",
      "Layer (type)                 Output Shape              Param #   \n",
      "=================================================================\n",
      "embedding (Embedding)        (None, 60, 200)           9164400   \n",
      "_________________________________________________________________\n",
      "bidirectional (Bidirectional (None, 60, 64)            59648     \n",
      "_________________________________________________________________\n",
      "global_max_pooling1d (Global (None, 64)                0         \n",
      "_________________________________________________________________\n",
      "dense (Dense)                (None, 10)                650       \n",
      "_________________________________________________________________\n",
      "dropout (Dropout)            (None, 10)                0         \n",
      "_________________________________________________________________\n",
      "dense_1 (Dense)              (None, 5)                 55        \n",
      "=================================================================\n",
      "Total params: 9,224,753\n",
      "Trainable params: 9,224,753\n",
      "Non-trainable params: 0\n",
      "_________________________________________________________________\n"
     ]
    }
   ],
   "source": [
    "LSTM__1_32_Node_with_Bidirectional_200d=keras.models.load_model('/content/drive/MyDrive/Model/LSTM__1_32_Node_with_Bidirectional_200d.h5')\n",
    "LSTM__1_32_Node_with_Bidirectional_200d.summary()"
   ]
  },
  {
   "cell_type": "code",
   "execution_count": null,
   "metadata": {
    "colab": {
     "base_uri": "https://localhost:8080/"
    },
    "executionInfo": {
     "elapsed": 18897,
     "status": "ok",
     "timestamp": 1608287007548,
     "user": {
      "displayName": "khalil hennara",
      "photoUrl": "",
      "userId": "12581719381754495507"
     },
     "user_tz": -120
    },
    "id": "N20PIkNjXsPg",
    "outputId": "784de8bb-bec4-4a7e-9219-2f8c40eab63b"
   },
   "outputs": [
    {
     "name": "stdout",
     "output_type": "stream",
     "text": [
      "Accuracy : 0.8903,f1_score:[0.88749325 0.8644599  0.9123442  0.9021647  0.901139  ]\n",
      "Accuracy : 0.7628,f1_score:[0.7458634  0.7206419  0.839327   0.76967686 0.76486737]\n"
     ]
    }
   ],
   "source": [
    "loss,acc,f1_score=LSTM__1_32_Node_with_Bidirectional_200d.evaluate(X_train_set[:,:-10],y_train,verbose=False)\n",
    "print(\"Accuracy : {:.4f},f1_score:{}\".format(acc,f1_score))\n",
    "loss,acc,f1_score=LSTM__1_32_Node_with_Bidirectional_200d.evaluate(X_test_set[:,:-10],y_test,verbose=False)\n",
    "print(\"Accuracy : {:.4f},f1_score:{}\".format(acc,f1_score))"
   ]
  },
  {
   "cell_type": "markdown",
   "metadata": {
    "id": "CfsXSJAhYIY_"
   },
   "source": [
    "This model use embedding of 200D but it worse than befor"
   ]
  },
  {
   "cell_type": "markdown",
   "metadata": {
    "id": "oySJwW-2UTc8"
   },
   "source": [
    "# remove Stop Word and Hash\n",
    "now lets compare the model after we clean the stop word and Hash"
   ]
  },
  {
   "cell_type": "code",
   "execution_count": null,
   "metadata": {
    "colab": {
     "base_uri": "https://localhost:8080/"
    },
    "executionInfo": {
     "elapsed": 12117,
     "status": "ok",
     "timestamp": 1608286151834,
     "user": {
      "displayName": "khalil hennara",
      "photoUrl": "",
      "userId": "12581719381754495507"
     },
     "user_tz": -120
    },
    "id": "67zyZ63MT8W4",
    "outputId": "e36b8902-6df7-4480-fae6-e900a34ac55e"
   },
   "outputs": [
    {
     "name": "stdout",
     "output_type": "stream",
     "text": [
      "Model: \"sequential\"\n",
      "_________________________________________________________________\n",
      "Layer (type)                 Output Shape              Param #   \n",
      "=================================================================\n",
      "embedding (Embedding)        (None, 50, 300)           13116300  \n",
      "_________________________________________________________________\n",
      "lstm (LSTM)                  (None, 50, 128)           219648    \n",
      "_________________________________________________________________\n",
      "lstm_1 (LSTM)                (None, 128)               131584    \n",
      "_________________________________________________________________\n",
      "dense (Dense)                (None, 5)                 645       \n",
      "=================================================================\n",
      "Total params: 13,468,177\n",
      "Trainable params: 13,468,177\n",
      "Non-trainable params: 0\n",
      "_________________________________________________________________\n"
     ]
    }
   ],
   "source": [
    "GRURNN_with_Regulaziation_with_f1Score_and_Clan_StopWords=keras.models.load_model('/content/drive/MyDrive/Model/GRURNN_with_Regulaziation_with_f1Score_and_Clan_StopWords.h5')\n",
    "GRURNN_with_Regulaziation_with_f1Score_and_Clan_StopWords.summary()"
   ]
  },
  {
   "cell_type": "code",
   "execution_count": null,
   "metadata": {
    "colab": {
     "base_uri": "https://localhost:8080/"
    },
    "executionInfo": {
     "elapsed": 7330,
     "status": "ok",
     "timestamp": 1608286370035,
     "user": {
      "displayName": "khalil hennara",
      "photoUrl": "",
      "userId": "12581719381754495507"
     },
     "user_tz": -120
    },
    "id": "9z8nhCYxVQVb",
    "outputId": "c5b03844-c4c7-4ae7-9858-347c3fb9c2bc"
   },
   "outputs": [
    {
     "name": "stdout",
     "output_type": "stream",
     "text": [
      "43721\n"
     ]
    }
   ],
   "source": [
    "train_set=pd.read_csv('/content/drive/MyDrive/train_df.csv')\n",
    "test_set=pd.read_csv('/content/drive/MyDrive/test_df.csv')\n",
    "\n",
    "train_set['clean_text_1']=train_set['clean_text'].apply(remove_stop_word_less_than_3_charecter)\n",
    "test_set['clean_text_1']=test_set['clean_text'].apply(remove_stop_word_less_than_3_charecter)\n",
    "\n",
    "X_train=train_set['clean_text_1'].values\n",
    "X_test=test_set['clean_text_1'].values\n",
    "y_train=train_set['NomericSentiment'].values\n",
    "y_test=test_set['NomericSentiment'].values\n",
    "\n",
    "X_train,X_val,y_train,y_val=model_selection.train_test_split(X_train,y_train,test_size=0.2,stratify=train_set['NomericSentiment'],random_state=42)\n",
    "\n",
    "y_train=keras.utils.to_categorical(y_train,5)\n",
    "y_test=keras.utils.to_categorical(y_test,5)\n",
    "y_val=keras.utils.to_categorical(y_val,5)\n",
    "\n",
    "tokinizer=keras.preprocessing.text.Tokenizer(num_words=30000)\n",
    "tokinizer.fit_on_texts(train_set['clean_text_1'].values)\n",
    "\n",
    "vocab_size=len(tokinizer.word_index)+1\n",
    "print(vocab_size)\n",
    "\n",
    "X_train=tokinizer.texts_to_sequences(X_train)\n",
    "X_test=tokinizer.texts_to_sequences(X_test)\n",
    "X_val=tokinizer.texts_to_sequences(X_val)\n",
    "X_train_set=keras.preprocessing.sequence.pad_sequences(X_train,padding='post',maxlen=70)\n",
    "X_test_set=keras.preprocessing.sequence.pad_sequences(X_test,padding='post',maxlen=70)\n",
    "X_val_set=keras.preprocessing.sequence.pad_sequences(X_val,padding='post',maxlen=70)\n",
    "\n"
   ]
  },
  {
   "cell_type": "code",
   "execution_count": null,
   "metadata": {
    "colab": {
     "base_uri": "https://localhost:8080/"
    },
    "executionInfo": {
     "elapsed": 50496,
     "status": "ok",
     "timestamp": 1608286428460,
     "user": {
      "displayName": "khalil hennara",
      "photoUrl": "",
      "userId": "12581719381754495507"
     },
     "user_tz": -120
    },
    "id": "BZhDI4fwUvQz",
    "outputId": "04f81f9f-b579-46a3-d61f-01eda57c5508"
   },
   "outputs": [
    {
     "name": "stdout",
     "output_type": "stream",
     "text": [
      "Accuracy : 0.8178,f1_score:[0.8254593  0.77413213 0.86163926 0.8694514  0.7547939 ]\n",
      "Accuracy : 0.7290,f1_score:[0.7260726 0.6829605 0.8026801 0.7845734 0.6426496]\n"
     ]
    }
   ],
   "source": [
    "loss,acc,f1_score=GRURNN_with_Regulaziation_with_f1Score_and_Clan_StopWords.evaluate(X_train_set[:,:-20],y_train,verbose=False)\n",
    "print(\"Accuracy : {:.4f},f1_score:{}\".format(acc,f1_score))\n",
    "loss,acc,f1_score=GRURNN_with_Regulaziation_with_f1Score_and_Clan_StopWords.evaluate(X_test_set[:,:-20],y_test,verbose=False)\n",
    "print(\"Accuracy : {:.4f},f1_score:{}\".format(acc,f1_score))"
   ]
  },
  {
   "cell_type": "markdown",
   "metadata": {
    "id": "xPk3knEaV5wj"
   },
   "source": [
    "we cant be sure about that but if we dont remove stop word i think its do better"
   ]
  },
  {
   "cell_type": "code",
   "execution_count": null,
   "metadata": {
    "colab": {
     "base_uri": "https://localhost:8080/"
    },
    "executionInfo": {
     "elapsed": 14128,
     "status": "ok",
     "timestamp": 1608286540881,
     "user": {
      "displayName": "khalil hennara",
      "photoUrl": "",
      "userId": "12581719381754495507"
     },
     "user_tz": -120
    },
    "id": "78DCM3YYVC8D",
    "outputId": "b68f4597-0b0b-44ea-d2e5-575eb37275b1"
   },
   "outputs": [
    {
     "name": "stdout",
     "output_type": "stream",
     "text": [
      "Model: \"sequential\"\n",
      "_________________________________________________________________\n",
      "Layer (type)                 Output Shape              Param #   \n",
      "=================================================================\n",
      "embedding (Embedding)        (None, 50, 300)           13116300  \n",
      "_________________________________________________________________\n",
      "lstm (LSTM)                  (None, 50, 128)           219648    \n",
      "_________________________________________________________________\n",
      "lstm_1 (LSTM)                (None, 128)               131584    \n",
      "_________________________________________________________________\n",
      "dense (Dense)                (None, 5)                 645       \n",
      "=================================================================\n",
      "Total params: 13,468,177\n",
      "Trainable params: 13,468,177\n",
      "Non-trainable params: 0\n",
      "_________________________________________________________________\n"
     ]
    }
   ],
   "source": [
    "LSTMRNN_with_Regulaziation_with_f1Score_and_Clan_StopWords=keras.models.load_model('/content/drive/MyDrive/Model/LSTMRNN_with_Regulaziation_with_f1Score_and_Clan_StopWords.h5')\n",
    "LSTMRNN_with_Regulaziation_with_f1Score_and_Clan_StopWords.summary()"
   ]
  },
  {
   "cell_type": "code",
   "execution_count": null,
   "metadata": {
    "colab": {
     "base_uri": "https://localhost:8080/"
    },
    "executionInfo": {
     "elapsed": 50896,
     "status": "ok",
     "timestamp": 1608286668151,
     "user": {
      "displayName": "khalil hennara",
      "photoUrl": "",
      "userId": "12581719381754495507"
     },
     "user_tz": -120
    },
    "id": "1J4MQifWWNxG",
    "outputId": "1b0663a1-5232-4443-c8e4-b85108dcfcf3"
   },
   "outputs": [
    {
     "name": "stdout",
     "output_type": "stream",
     "text": [
      "Accuracy : 0.8595,f1_score:[0.8470087  0.8264884  0.8852916  0.8906322  0.87286097]\n",
      "Accuracy : 0.7560,f1_score:[0.73406965 0.69856703 0.82241726 0.79852396 0.76313365]\n"
     ]
    }
   ],
   "source": [
    "loss,acc,f1_score=LSTMRNN_with_Regulaziation_with_f1Score_and_Clan_StopWords.evaluate(X_train_set[:,:-20],y_train,verbose=False)\n",
    "print(\"Accuracy : {:.4f},f1_score:{}\".format(acc,f1_score))\n",
    "loss,acc,f1_score=LSTMRNN_with_Regulaziation_with_f1Score_and_Clan_StopWords.evaluate(X_test_set[:,:-20],y_test,verbose=False)\n",
    "print(\"Accuracy : {:.4f},f1_score:{}\".format(acc,f1_score))"
   ]
  },
  {
   "cell_type": "markdown",
   "metadata": {
    "id": "pQYO-tasYQ3y"
   },
   "source": [
    "as we can see remove **stop word** its not good for this data as we expected in the first part"
   ]
  },
  {
   "cell_type": "markdown",
   "metadata": {
    "id": "WH6jD5usYrGA"
   },
   "source": [
    "# remove Hash\n",
    " now lets try with removing hash"
   ]
  },
  {
   "cell_type": "code",
   "execution_count": null,
   "metadata": {
    "colab": {
     "base_uri": "https://localhost:8080/"
    },
    "executionInfo": {
     "elapsed": 5175,
     "status": "ok",
     "timestamp": 1608287244692,
     "user": {
      "displayName": "khalil hennara",
      "photoUrl": "",
      "userId": "12581719381754495507"
     },
     "user_tz": -120
    },
    "id": "DrAEirbeWj44",
    "outputId": "259b691a-7a28-4f81-c112-f0725362c965"
   },
   "outputs": [
    {
     "name": "stdout",
     "output_type": "stream",
     "text": [
      "33973\n"
     ]
    }
   ],
   "source": [
    "train_set=pd.read_csv('/content/drive/MyDrive/train_df.csv')\n",
    "test_set=pd.read_csv('/content/drive/MyDrive/test_df.csv')\n",
    "\n",
    "train_set['clean_text_1']=train_set['clean_text'].apply(remove_hash)\n",
    "test_set['clean_text_1']=test_set['clean_text'].apply(remove_hash)\n",
    "\n",
    "X_train=train_set['clean_text_1'].values\n",
    "X_test=test_set['clean_text_1'].values\n",
    "y_train=train_set['NomericSentiment'].values\n",
    "y_test=test_set['NomericSentiment'].values\n",
    "\n",
    "X_train,X_val,y_train,y_val=model_selection.train_test_split(X_train,y_train,test_size=0.2,stratify=train_set['NomericSentiment'],random_state=42)\n",
    "\n",
    "y_train=keras.utils.to_categorical(y_train,5)\n",
    "y_test=keras.utils.to_categorical(y_test,5)\n",
    "y_val=keras.utils.to_categorical(y_val,5)\n",
    "\n",
    "tokinizer=keras.preprocessing.text.Tokenizer(num_words=30000)\n",
    "tokinizer.fit_on_texts(train_set['clean_text_1'].values)\n",
    "\n",
    "vocab_size=len(tokinizer.word_index)+1\n",
    "print(vocab_size)\n",
    "\n",
    "X_train=tokinizer.texts_to_sequences(X_train)\n",
    "X_test=tokinizer.texts_to_sequences(X_test)\n",
    "X_val=tokinizer.texts_to_sequences(X_val)\n",
    "X_train_set=keras.preprocessing.sequence.pad_sequences(X_train,padding='post',maxlen=70)\n",
    "X_test_set=keras.preprocessing.sequence.pad_sequences(X_test,padding='post',maxlen=70)\n",
    "X_val_set=keras.preprocessing.sequence.pad_sequences(X_val,padding='post',maxlen=70)\n",
    "\n"
   ]
  },
  {
   "cell_type": "code",
   "execution_count": null,
   "metadata": {
    "colab": {
     "base_uri": "https://localhost:8080/"
    },
    "executionInfo": {
     "elapsed": 5909,
     "status": "ok",
     "timestamp": 1608287315690,
     "user": {
      "displayName": "khalil hennara",
      "photoUrl": "",
      "userId": "12581719381754495507"
     },
     "user_tz": -120
    },
    "id": "x9-pyG49Y7y4",
    "outputId": "9eeb894a-c834-4036-b904-3544910fb29a"
   },
   "outputs": [
    {
     "name": "stdout",
     "output_type": "stream",
     "text": [
      "Model: \"sequential\"\n",
      "_________________________________________________________________\n",
      "Layer (type)                 Output Shape              Param #   \n",
      "=================================================================\n",
      "embedding (Embedding)        (None, 60, 200)           6794600   \n",
      "_________________________________________________________________\n",
      "bidirectional (Bidirectional (None, 128)               135680    \n",
      "_________________________________________________________________\n",
      "dropout (Dropout)            (None, 128)               0         \n",
      "_________________________________________________________________\n",
      "dense (Dense)                (None, 64)                8256      \n",
      "_________________________________________________________________\n",
      "dropout_1 (Dropout)          (None, 64)                0         \n",
      "_________________________________________________________________\n",
      "dense_1 (Dense)              (None, 5)                 325       \n",
      "=================================================================\n",
      "Total params: 6,938,861\n",
      "Trainable params: 6,938,861\n",
      "Non-trainable params: 0\n",
      "_________________________________________________________________\n"
     ]
    }
   ],
   "source": [
    "LSTM_64_With_CleanHash=keras.models.load_model('/content/drive/MyDrive/Model/LSTM__64_Node_with_Bidirectional_200d_with_cleanHash.h5')\n",
    "LSTM_64_With_CleanHash.summary()"
   ]
  },
  {
   "cell_type": "code",
   "execution_count": null,
   "metadata": {
    "colab": {
     "base_uri": "https://localhost:8080/"
    },
    "executionInfo": {
     "elapsed": 21986,
     "status": "ok",
     "timestamp": 1608287434595,
     "user": {
      "displayName": "khalil hennara",
      "photoUrl": "",
      "userId": "12581719381754495507"
     },
     "user_tz": -120
    },
    "id": "6SISuroRZM8c",
    "outputId": "6c8ef622-d3a5-4c83-ac87-ae1ee5b90eee"
   },
   "outputs": [
    {
     "name": "stdout",
     "output_type": "stream",
     "text": [
      "Accuracy : 0.9121,f1_score:[0.9005755  0.89599013 0.9268921  0.93551445 0.9193739 ]\n",
      "Accuracy : 0.7845,f1_score:[0.76413745 0.7493846  0.8503938  0.80541587 0.78243715]\n"
     ]
    }
   ],
   "source": [
    "loss,acc,f1_score=LSTM_64_With_CleanHash.evaluate(X_train_set[:,:-10],y_train,verbose=False)\n",
    "print(\"Accuracy : {:.4f},f1_score:{}\".format(acc,f1_score))\n",
    "loss,acc,f1_score=LSTM_64_With_CleanHash.evaluate(X_test_set[:,:-10],y_test,verbose=False)\n",
    "print(\"Accuracy : {:.4f},f1_score:{}\".format(acc,f1_score))"
   ]
  },
  {
   "cell_type": "markdown",
   "metadata": {
    "id": "OXijdrBNZ7Op"
   },
   "source": [
    "This model is do better on the training and test but still have overfit and The first model we have train do better than this model on test set"
   ]
  },
  {
   "cell_type": "code",
   "execution_count": null,
   "metadata": {
    "id": "GmHRt4Jxl0xq"
   },
   "outputs": [],
   "source": [
    "import re\n",
    "def remove_just_Hash(data):\n",
    "  data=re.sub('#','',data)\n",
    "  return data"
   ]
  },
  {
   "cell_type": "markdown",
   "metadata": {
    "id": "SUTETgxO7Mx3"
   },
   "source": [
    "now we see The model after we remove just (**#**) wich get the better result"
   ]
  },
  {
   "cell_type": "code",
   "execution_count": 21,
   "metadata": {
    "colab": {
     "base_uri": "https://localhost:8080/"
    },
    "executionInfo": {
     "elapsed": 3460,
     "status": "ok",
     "timestamp": 1608885472754,
     "user": {
      "displayName": "khalil hennara",
      "photoUrl": "",
      "userId": "12581719381754495507"
     },
     "user_tz": -120
    },
    "id": "nfRKPr3Tlj57",
    "outputId": "c9038898-0c6a-48f5-c2d2-93445ddf54b1"
   },
   "outputs": [
    {
     "name": "stdout",
     "output_type": "stream",
     "text": [
      "45832\n"
     ]
    }
   ],
   "source": [
    "train_set=pd.read_csv('/content/drive/MyDrive/train_df.csv')\n",
    "test_set=pd.read_csv('/content/drive/MyDrive/test_df.csv')\n",
    "\n",
    "train_set['clean_text_1']=train_set['clean_text'].apply(remove_just_Hash)\n",
    "test_set['clean_text_1']=test_set['clean_text'].apply(remove_just_Hash)\n",
    "\n",
    "X_train=train_set['clean_text_1'].values\n",
    "X_test=test_set['clean_text_1'].values\n",
    "y_train=train_set['NomericSentiment'].values\n",
    "y_test=test_set['NomericSentiment'].values\n",
    "\n",
    "X_train,X_val,y_train,y_val=model_selection.train_test_split(X_train,y_train,test_size=0.2,stratify=train_set['NomericSentiment'],random_state=42)\n",
    "\n",
    "y_train=keras.utils.to_categorical(y_train,5)\n",
    "y_test=keras.utils.to_categorical(y_test,5)\n",
    "y_val=keras.utils.to_categorical(y_val,5)\n",
    "\n",
    "tokinizer=keras.preprocessing.text.Tokenizer(num_words=30000)\n",
    "tokinizer.fit_on_texts(train_set['clean_text_1'].values)\n",
    "\n",
    "vocab_size=len(tokinizer.word_index)+1\n",
    "print(vocab_size)\n",
    "\n",
    "X_train=tokinizer.texts_to_sequences(X_train)\n",
    "X_test=tokinizer.texts_to_sequences(X_test)\n",
    "X_val=tokinizer.texts_to_sequences(X_val)\n",
    "X_train_set=keras.preprocessing.sequence.pad_sequences(X_train,padding='post',maxlen=70)\n",
    "X_test_set=keras.preprocessing.sequence.pad_sequences(X_test,padding='post',maxlen=70)\n",
    "X_val_set=keras.preprocessing.sequence.pad_sequences(X_val,padding='post',maxlen=70)\n",
    "\n"
   ]
  },
  {
   "cell_type": "code",
   "execution_count": null,
   "metadata": {
    "colab": {
     "base_uri": "https://localhost:8080/"
    },
    "executionInfo": {
     "elapsed": 9325,
     "status": "ok",
     "timestamp": 1608819889856,
     "user": {
      "displayName": "khalil hennara",
      "photoUrl": "",
      "userId": "12581719381754495507"
     },
     "user_tz": -120
    },
    "id": "XYbChr--ZmDS",
    "outputId": "306f7788-508e-4138-fffa-50c8c67ea939"
   },
   "outputs": [
    {
     "name": "stdout",
     "output_type": "stream",
     "text": [
      "Model: \"sequential\"\n",
      "_________________________________________________________________\n",
      "Layer (type)                 Output Shape              Param #   \n",
      "=================================================================\n",
      "embedding (Embedding)        (None, 70, 300)           13749600  \n",
      "_________________________________________________________________\n",
      "gru (GRU)                    (None, 70, 128)           165120    \n",
      "_________________________________________________________________\n",
      "gru_1 (GRU)                  (None, 128)               99072     \n",
      "_________________________________________________________________\n",
      "dropout (Dropout)            (None, 128)               0         \n",
      "_________________________________________________________________\n",
      "dense (Dense)                (None, 5)                 645       \n",
      "=================================================================\n",
      "Total params: 14,014,437\n",
      "Trainable params: 14,014,437\n",
      "Non-trainable params: 0\n",
      "_________________________________________________________________\n"
     ]
    }
   ],
   "source": [
    "GRURNN_with_Regulaization_And_clean_Hash=keras.models.load_model('/content/drive/MyDrive/GRU_with_Regulaization_And_clean_#.h5')\n",
    "GRURNN_with_Regulaization_And_clean_Hash.summary()"
   ]
  },
  {
   "cell_type": "code",
   "execution_count": null,
   "metadata": {
    "colab": {
     "base_uri": "https://localhost:8080/"
    },
    "executionInfo": {
     "elapsed": 50748,
     "status": "ok",
     "timestamp": 1608819950014,
     "user": {
      "displayName": "khalil hennara",
      "photoUrl": "",
      "userId": "12581719381754495507"
     },
     "user_tz": -120
    },
    "id": "SIF4m-eFl_7p",
    "outputId": "69b7de29-8a7d-459c-fc81-4eceb053c85e"
   },
   "outputs": [
    {
     "name": "stdout",
     "output_type": "stream",
     "text": [
      "823/823 [==============================] - 38s 45ms/step - loss: 0.3170 - accuracy: 0.8972\n",
      "Accuracy : 0.8972\n",
      "258/258 [==============================] - 12s 45ms/step - loss: 0.5777 - accuracy: 0.8006\n",
      "Accuracy : 0.8006\n"
     ]
    }
   ],
   "source": [
    "loss,acc=GRURNN_with_Regulaization_And_clean_Hash.evaluate(X_train_set,y_train)\n",
    "print(\"Accuracy : {:.4f}\".format(acc))\n",
    "loss,acc=GRURNN_with_Regulaization_And_clean_Hash.evaluate(X_test_set,y_test)\n",
    "print(\"Accuracy : {:.4f}\".format(acc))"
   ]
  },
  {
   "cell_type": "markdown",
   "metadata": {
    "id": "6wM6Rg3bmgoc"
   },
   "source": [
    "we can see that we get better result after we remove only the (**#**) charecter\n",
    "\n",
    "we will traning another model but now with lstm cell "
   ]
  },
  {
   "cell_type": "code",
   "execution_count": null,
   "metadata": {
    "colab": {
     "base_uri": "https://localhost:8080/"
    },
    "executionInfo": {
     "elapsed": 7774,
     "status": "ok",
     "timestamp": 1608819965520,
     "user": {
      "displayName": "khalil hennara",
      "photoUrl": "",
      "userId": "12581719381754495507"
     },
     "user_tz": -120
    },
    "id": "ehn3MrxKmQte",
    "outputId": "21f9f5a1-319b-4074-da18-dafa07287cd6"
   },
   "outputs": [
    {
     "name": "stdout",
     "output_type": "stream",
     "text": [
      "Model: \"sequential\"\n",
      "_________________________________________________________________\n",
      "Layer (type)                 Output Shape              Param #   \n",
      "=================================================================\n",
      "embedding (Embedding)        (None, 70, 300)           13749600  \n",
      "_________________________________________________________________\n",
      "lstm (LSTM)                  (None, 70, 128)           219648    \n",
      "_________________________________________________________________\n",
      "lstm_1 (LSTM)                (None, 128)               131584    \n",
      "_________________________________________________________________\n",
      "dropout (Dropout)            (None, 128)               0         \n",
      "_________________________________________________________________\n",
      "dense (Dense)                (None, 5)                 645       \n",
      "=================================================================\n",
      "Total params: 14,101,477\n",
      "Trainable params: 14,101,477\n",
      "Non-trainable params: 0\n",
      "_________________________________________________________________\n"
     ]
    }
   ],
   "source": [
    "LSTM_WITh_Clean_Hash=keras.models.load_model('/content/drive/MyDrive/LSTM_with_Regulaization_And_clean_#.h5')\n",
    "LSTM_WITh_Clean_Hash.summary()"
   ]
  },
  {
   "cell_type": "code",
   "execution_count": null,
   "metadata": {
    "colab": {
     "base_uri": "https://localhost:8080/"
    },
    "executionInfo": {
     "elapsed": 58940,
     "status": "ok",
     "timestamp": 1608820037838,
     "user": {
      "displayName": "khalil hennara",
      "photoUrl": "",
      "userId": "12581719381754495507"
     },
     "user_tz": -120
    },
    "id": "1oNfO18fxJOF",
    "outputId": "d2170652-670a-4f2b-828b-3c329b11fb0f"
   },
   "outputs": [
    {
     "name": "stdout",
     "output_type": "stream",
     "text": [
      "Training Accuracy: 0.9172, f1_score : [0.9086776  0.9009023  0.9106529  0.94649714 0.94011366]\n",
      "Testing Accuracy:  0.7886, f1_score : [0.76172453 0.7564692  0.8420325  0.8135461  0.8081672 ]\n"
     ]
    }
   ],
   "source": [
    "loss, accuracy,f1_score = LSTM_WITh_Clean_Hash.evaluate(X_train_set, y_train, verbose=False)\n",
    "print(\"Training Accuracy: {:.4f}, f1_score : {}\".format(accuracy,f1_score))\n",
    "loss, accuracy,f1_score = LSTM_WITh_Clean_Hash.evaluate(X_test_set, y_test, verbose=False)\n",
    "print(\"Testing Accuracy:  {:.4f}, f1_score : {}\".format(accuracy,f1_score))"
   ]
  },
  {
   "cell_type": "markdown",
   "metadata": {
    "id": "puXFjt56xpLT"
   },
   "source": [
    "This model do better on the traning but worse in the testing from The GRU model"
   ]
  },
  {
   "cell_type": "code",
   "execution_count": null,
   "metadata": {
    "colab": {
     "base_uri": "https://localhost:8080/"
    },
    "executionInfo": {
     "elapsed": 8338,
     "status": "ok",
     "timestamp": 1608820051973,
     "user": {
      "displayName": "khalil hennara",
      "photoUrl": "",
      "userId": "12581719381754495507"
     },
     "user_tz": -120
    },
    "id": "uE2AUd-BJMWy",
    "outputId": "17b23e21-702b-4461-b8ea-de5c5940eba2"
   },
   "outputs": [
    {
     "name": "stdout",
     "output_type": "stream",
     "text": [
      "Model: \"sequential\"\n",
      "_________________________________________________________________\n",
      "Layer (type)                 Output Shape              Param #   \n",
      "=================================================================\n",
      "embedding (Embedding)        (None, 60, 300)           13749600  \n",
      "_________________________________________________________________\n",
      "gru (GRU)                    (None, 60, 128)           165120    \n",
      "_________________________________________________________________\n",
      "gru_1 (GRU)                  (None, 60, 128)           99072     \n",
      "_________________________________________________________________\n",
      "global_max_pooling1d (Global (None, 128)               0         \n",
      "_________________________________________________________________\n",
      "dense (Dense)                (None, 5)                 645       \n",
      "=================================================================\n",
      "Total params: 14,014,437\n",
      "Trainable params: 14,014,437\n",
      "Non-trainable params: 0\n",
      "_________________________________________________________________\n"
     ]
    }
   ],
   "source": [
    "GRU_Learning_scheduler=keras.models.load_model('/content/drive/MyDrive/GRU_Learning_scheduler.h5')\n",
    "GRU_Learning_scheduler.summary()"
   ]
  },
  {
   "cell_type": "code",
   "execution_count": null,
   "metadata": {
    "colab": {
     "base_uri": "https://localhost:8080/"
    },
    "executionInfo": {
     "elapsed": 42732,
     "status": "ok",
     "timestamp": 1608820147879,
     "user": {
      "displayName": "khalil hennara",
      "photoUrl": "",
      "userId": "12581719381754495507"
     },
     "user_tz": -120
    },
    "id": "qmhvdWyiJehe",
    "outputId": "4f63fed0-8717-43f3-88b1-2aed68399c9a"
   },
   "outputs": [
    {
     "name": "stdout",
     "output_type": "stream",
     "text": [
      "WARNING:tensorflow:Model was constructed with shape (None, 60) for input KerasTensor(type_spec=TensorSpec(shape=(None, 60), dtype=tf.float32, name='embedding_input'), name='embedding_input', description=\"created by layer 'embedding_input'\"), but it was called on an input with incompatible shape (None, 70).\n",
      "Training Accuracy: 0.9232\n",
      "Testing Accuracy:  0.7921\n"
     ]
    }
   ],
   "source": [
    "loss, accuracy = GRU_Learning_scheduler.evaluate(X_train_set, y_train, verbose=False)\n",
    "print(\"Training Accuracy: {:.4f}\".format(accuracy))\n",
    "loss, accuracy = GRU_Learning_scheduler.evaluate(X_test_set, y_test, verbose=False)\n",
    "print(\"Testing Accuracy:  {:.4f}\".format(accuracy))"
   ]
  },
  {
   "cell_type": "code",
   "execution_count": 22,
   "metadata": {
    "colab": {
     "base_uri": "https://localhost:8080/"
    },
    "executionInfo": {
     "elapsed": 9259,
     "status": "ok",
     "timestamp": 1608885537252,
     "user": {
      "displayName": "khalil hennara",
      "photoUrl": "",
      "userId": "12581719381754495507"
     },
     "user_tz": -120
    },
    "id": "y0XvP-8GDGB3",
    "outputId": "0fba9743-564d-43a6-aa32-325eb8849572"
   },
   "outputs": [
    {
     "name": "stdout",
     "output_type": "stream",
     "text": [
      "Model: \"sequential\"\n",
      "_________________________________________________________________\n",
      "Layer (type)                 Output Shape              Param #   \n",
      "=================================================================\n",
      "embedding (Embedding)        (None, 60, 300)           13749600  \n",
      "_________________________________________________________________\n",
      "gru (GRU)                    (None, 60, 64)            70272     \n",
      "_________________________________________________________________\n",
      "dropout (Dropout)            (None, 60, 64)            0         \n",
      "_________________________________________________________________\n",
      "conv1d (Conv1D)              (None, 58, 32)            6176      \n",
      "_________________________________________________________________\n",
      "dropout_1 (Dropout)          (None, 58, 32)            0         \n",
      "_________________________________________________________________\n",
      "conv1d_1 (Conv1D)            (None, 56, 32)            3104      \n",
      "_________________________________________________________________\n",
      "global_max_pooling1d (Global (None, 32)                0         \n",
      "_________________________________________________________________\n",
      "dense (Dense)                (None, 5)                 165       \n",
      "=================================================================\n",
      "Total params: 13,829,317\n",
      "Trainable params: 13,829,317\n",
      "Non-trainable params: 0\n",
      "_________________________________________________________________\n"
     ]
    }
   ],
   "source": [
    "GRU_Conv1D=keras.models.load_model('/content/drive/MyDrive/GRU_Conv1D.h5')\n",
    "GRU_Conv1D.summary()"
   ]
  },
  {
   "cell_type": "code",
   "execution_count": 24,
   "metadata": {
    "colab": {
     "base_uri": "https://localhost:8080/"
    },
    "executionInfo": {
     "elapsed": 17118,
     "status": "ok",
     "timestamp": 1608885667629,
     "user": {
      "displayName": "khalil hennara",
      "photoUrl": "",
      "userId": "12581719381754495507"
     },
     "user_tz": -120
    },
    "id": "7bTYcWtaDPXB",
    "outputId": "447f5b70-b0a9-4347-b73e-58a197946012"
   },
   "outputs": [
    {
     "name": "stdout",
     "output_type": "stream",
     "text": [
      "823/823 [==============================] - 13s 15ms/step - loss: 0.3357 - accuracy: 0.9038\n",
      "Accuracy : 0.904\n",
      "258/258 [==============================] - 4s 15ms/step - loss: 0.6901 - accuracy: 0.7474\n",
      "Accuracy : 0.747\n"
     ]
    }
   ],
   "source": [
    "loss,acc=GRU_Conv1D.evaluate(X_train_set[:,:-10],y_train)\n",
    "print(\"Accuracy : {:.3f}\".format(acc))\n",
    "loss,acc=GRU_Conv1D.evaluate(X_test_set[:,:-10],y_test)\n",
    "print(\"Accuracy : {:.3f}\".format(acc))\n"
   ]
  },
  {
   "cell_type": "markdown",
   "metadata": {
    "id": "VVrfHk5yxygs"
   },
   "source": [
    "# Ensambel Model \n",
    "\n",
    "we will do the same thing for model that we remove The (**#**) from it "
   ]
  },
  {
   "cell_type": "code",
   "execution_count": null,
   "metadata": {
    "id": "kK8LXIp-y3ck"
   },
   "outputs": [],
   "source": [
    "models_2=[GRURNN_with_Regulaization_And_clean_Hash,LSTM_WITh_Clean_Hash,GRU_Learning_scheduler]"
   ]
  },
  {
   "cell_type": "code",
   "execution_count": null,
   "metadata": {
    "colab": {
     "base_uri": "https://localhost:8080/"
    },
    "executionInfo": {
     "elapsed": 146132,
     "status": "ok",
     "timestamp": 1608820388514,
     "user": {
      "displayName": "khalil hennara",
      "photoUrl": "",
      "userId": "12581719381754495507"
     },
     "user_tz": -120
    },
    "id": "q0FtvWVMzpWU",
    "outputId": "71b67948-8212-449a-8b74-337f391bcbf3"
   },
   "outputs": [
    {
     "name": "stdout",
     "output_type": "stream",
     "text": [
      "working...\n",
      "Done_1\n",
      "working...\n",
      "Done_2\n",
      "working...\n",
      "WARNING:tensorflow:Model was constructed with shape (None, 60) for input KerasTensor(type_spec=TensorSpec(shape=(None, 60), dtype=tf.float32, name='embedding_input'), name='embedding_input', description=\"created by layer 'embedding_input'\"), but it was called on an input with incompatible shape (None, 70).\n",
      "Done_3\n",
      "............./nTrain_done/n.............\n",
      "working...\n",
      "Done_1\n",
      "working...\n",
      "Done_2\n",
      "working...\n",
      "Done_3\n"
     ]
    }
   ],
   "source": [
    "y_pred_train=get_ensamble_predict(models_2,X_train_set)\n",
    "print('.............\\nTrain_done\\n.............')\n",
    "y_pred_test=get_ensamble_predict(models_2,X_test_set)\n"
   ]
  },
  {
   "cell_type": "code",
   "execution_count": null,
   "metadata": {
    "colab": {
     "base_uri": "https://localhost:8080/"
    },
    "executionInfo": {
     "elapsed": 1952,
     "status": "ok",
     "timestamp": 1608820395284,
     "user": {
      "displayName": "khalil hennara",
      "photoUrl": "",
      "userId": "12581719381754495507"
     },
     "user_tz": -120
    },
    "id": "wTBeYd504nh1",
    "outputId": "80cd709b-2883-4ec2-8a73-400bffe2fdc9"
   },
   "outputs": [
    {
     "name": "stdout",
     "output_type": "stream",
     "text": [
      "Training Accureacy : 0.9285, f1_score : [0.92358848 0.91557651 0.91679176 0.95529982 0.94776553]\n",
      "Testing Accureacy : 0.8172, f1_score : [0.80225517 0.79148733 0.86571234 0.82828283 0.82194418]\n"
     ]
    }
   ],
   "source": [
    "acc=metrics_model.accuracy_score(np.argmax(y_train,axis=1),np.argmax(y_pred_train,axis=1))\n",
    "f1_score=metrics_model.f1_score(np.argmax(y_train,axis=1),np.argmax(y_pred_train,axis=1),average=None)\n",
    "print(\"Training Accureacy : {:.4f}, f1_score : {}\".format(acc,f1_score))\n",
    "\n",
    "acc=metrics_model.accuracy_score(np.argmax(y_test,axis=1),np.argmax(y_pred_test,axis=1))\n",
    "f1_score=metrics_model.f1_score(np.argmax(y_test,axis=1),np.argmax(y_pred_test,axis=1),average=None)\n",
    "print(\"Testing Accureacy : {:.4f}, f1_score : {}\".format(acc,f1_score))"
   ]
  },
  {
   "cell_type": "markdown",
   "metadata": {
    "id": "ihCjLwQHC-9y"
   },
   "source": [
    "we can see that the ensamble model on is better than using each model alone\n",
    "\n",
    "so we chose this three model to make the ensamble model and we will predict with this three model.\n",
    "\n",
    "but first we will retrain those model on the whole data you can see **Last_Training..** Notebook"
   ]
  },
  {
   "cell_type": "markdown",
   "metadata": {
    "id": "V-mUM9qE8xLZ"
   },
   "source": [
    "# Binary Classification"
   ]
  },
  {
   "cell_type": "code",
   "execution_count": 10,
   "metadata": {
    "colab": {
     "base_uri": "https://localhost:8080/"
    },
    "executionInfo": {
     "elapsed": 3235,
     "status": "ok",
     "timestamp": 1608884925401,
     "user": {
      "displayName": "khalil hennara",
      "photoUrl": "",
      "userId": "12581719381754495507"
     },
     "user_tz": -120
    },
    "id": "X92orHlVR8bB",
    "outputId": "c7e88fc0-d92f-4a7f-d573-dcf0b0322641"
   },
   "outputs": [
    {
     "name": "stdout",
     "output_type": "stream",
     "text": [
      "40518\n"
     ]
    }
   ],
   "source": [
    "train_set=pd.read_csv('/content/drive/MyDrive/train_df.csv')\n",
    "test_set=pd.read_csv('/content/drive/MyDrive/test_df.csv')\n",
    "\n",
    "train_set['clean_text_1']=train_set['clean_text'].apply(remove_just_Hash)\n",
    "test_set['clean_text_1']=test_set['clean_text'].apply(remove_just_Hash)\n",
    "\n",
    "dic={0:0,1:1,3:0,4:1}\n",
    "\n",
    "train_set=train_set[train_set['NomericSentiment']!=2]\n",
    "test_set=test_set[test_set['NomericSentiment']!=2]\n",
    "\n",
    "train_set['label']=train_set['NomericSentiment'].apply(lambda x:dic[x])\n",
    "test_set['label']=test_set['NomericSentiment'].apply(lambda x:dic[x])\n",
    "\n",
    "X_train=train_set['clean_text_1'].values\n",
    "X_test=test_set['clean_text_1'].values\n",
    "y_train=train_set['label'].values\n",
    "y_test=test_set['label'].values\n",
    "\n",
    "\n",
    "X_train,X_val,y_train,y_val=model_selection.train_test_split(X_train,y_train,test_size=0.2,stratify=train_set['label'],random_state=42)\n",
    "\n",
    "# y_train=keras.utils.to_categorical(y_train,2)\n",
    "# y_test=keras.utils.to_categorical(y_test,2)\n",
    "# y_val=keras.utils.to_categorical(y_val,2)\n",
    "y_train=y_train.astype(np.uint8)\n",
    "y_test=y_test.astype(np.uint8)\n",
    "y_val=y_val.astype(np.uint8)\n",
    "\n",
    "tokinizer=keras.preprocessing.text.Tokenizer(num_words=30000)\n",
    "tokinizer.fit_on_texts(train_set['clean_text_1'].values)\n",
    "\n",
    "vocab_size=len(tokinizer.word_index)+1\n",
    "print(vocab_size)\n",
    "\n",
    "X_train=tokinizer.texts_to_sequences(X_train)\n",
    "X_test=tokinizer.texts_to_sequences(X_test)\n",
    "X_val=tokinizer.texts_to_sequences(X_val)\n",
    "X_train_set=keras.preprocessing.sequence.pad_sequences(X_train,padding='post',maxlen=70)\n",
    "X_test_set=keras.preprocessing.sequence.pad_sequences(X_test,padding='post',maxlen=70)\n",
    "X_val_set=keras.preprocessing.sequence.pad_sequences(X_val,padding='post',maxlen=70)\n"
   ]
  },
  {
   "cell_type": "code",
   "execution_count": 11,
   "metadata": {
    "colab": {
     "base_uri": "https://localhost:8080/"
    },
    "executionInfo": {
     "elapsed": 10435,
     "status": "ok",
     "timestamp": 1608884989969,
     "user": {
      "displayName": "khalil hennara",
      "photoUrl": "",
      "userId": "12581719381754495507"
     },
     "user_tz": -120
    },
    "id": "qlWxFtEhAcyN",
    "outputId": "f3c36382-ed5d-403b-f640-0462cb521939"
   },
   "outputs": [
    {
     "name": "stdout",
     "output_type": "stream",
     "text": [
      "Model: \"sequential\"\n",
      "_________________________________________________________________\n",
      "Layer (type)                 Output Shape              Param #   \n",
      "=================================================================\n",
      "embedding (Embedding)        (None, 70, 300)           12155400  \n",
      "_________________________________________________________________\n",
      "lstm (LSTM)                  (None, 70, 128)           219648    \n",
      "_________________________________________________________________\n",
      "lstm_1 (LSTM)                (None, 128)               131584    \n",
      "_________________________________________________________________\n",
      "dropout (Dropout)            (None, 128)               0         \n",
      "_________________________________________________________________\n",
      "dense (Dense)                (None, 1)                 129       \n",
      "=================================================================\n",
      "Total params: 12,506,761\n",
      "Trainable params: 12,506,761\n",
      "Non-trainable params: 0\n",
      "_________________________________________________________________\n"
     ]
    }
   ],
   "source": [
    "Binary_calssification=keras.models.load_model('/content/drive/MyDrive/Binary_Classifaction.h5')\n",
    "Binary_calssification.summary()"
   ]
  },
  {
   "cell_type": "code",
   "execution_count": 12,
   "metadata": {
    "colab": {
     "base_uri": "https://localhost:8080/"
    },
    "executionInfo": {
     "elapsed": 46756,
     "status": "ok",
     "timestamp": 1608885108240,
     "user": {
      "displayName": "khalil hennara",
      "photoUrl": "",
      "userId": "12581719381754495507"
     },
     "user_tz": -120
    },
    "id": "W2Z1kX7BBIV2",
    "outputId": "39f500ee-8c44-49ec-eaed-c9e708c830f1"
   },
   "outputs": [
    {
     "name": "stdout",
     "output_type": "stream",
     "text": [
      "Accuracy : 0.9644\n",
      "Accuracy : 0.8927\n"
     ]
    }
   ],
   "source": [
    "loss,acc=Binary_calssification.evaluate(X_train_set,y_train,verbose=False)\n",
    "print('Accuracy : {:.4f}'.format(acc))\n",
    "loss,acc=Binary_calssification.evaluate(X_test_set,y_test,verbose=False)\n",
    "print('Accuracy : {:.4f}'.format(acc))\n"
   ]
  },
  {
   "cell_type": "code",
   "execution_count": 15,
   "metadata": {
    "colab": {
     "base_uri": "https://localhost:8080/"
    },
    "executionInfo": {
     "elapsed": 5828,
     "status": "ok",
     "timestamp": 1608885201176,
     "user": {
      "displayName": "khalil hennara",
      "photoUrl": "",
      "userId": "12581719381754495507"
     },
     "user_tz": -120
    },
    "id": "vyasH2vaBcan",
    "outputId": "7d1db6a9-0482-4220-e9f8-5adb312267df"
   },
   "outputs": [
    {
     "name": "stdout",
     "output_type": "stream",
     "text": [
      "Model: \"sequential\"\n",
      "_________________________________________________________________\n",
      "Layer (type)                 Output Shape              Param #   \n",
      "=================================================================\n",
      "embedding (Embedding)        (None, 70, 300)           12155400  \n",
      "_________________________________________________________________\n",
      "lstm (LSTM)                  (None, 70, 128)           219648    \n",
      "_________________________________________________________________\n",
      "global_max_pooling1d (Global (None, 128)               0         \n",
      "_________________________________________________________________\n",
      "dense (Dense)                (None, 32)                4128      \n",
      "_________________________________________________________________\n",
      "dropout (Dropout)            (None, 32)                0         \n",
      "_________________________________________________________________\n",
      "dense_1 (Dense)              (None, 1)                 33        \n",
      "=================================================================\n",
      "Total params: 12,379,209\n",
      "Trainable params: 12,379,209\n",
      "Non-trainable params: 0\n",
      "_________________________________________________________________\n"
     ]
    }
   ],
   "source": [
    "Binary_Classifcation_2=keras.models.load_model('/content/drive/MyDrive/Binary_Classifaction_2.h5')\n",
    "Binary_Classifcation_2.summary()"
   ]
  },
  {
   "cell_type": "code",
   "execution_count": 17,
   "metadata": {
    "colab": {
     "base_uri": "https://localhost:8080/"
    },
    "executionInfo": {
     "elapsed": 37135,
     "status": "ok",
     "timestamp": 1608885320007,
     "user": {
      "displayName": "khalil hennara",
      "photoUrl": "",
      "userId": "12581719381754495507"
     },
     "user_tz": -120
    },
    "id": "4P8t2EK3BywZ",
    "outputId": "2c36d3d2-901d-4fa4-9f70-fc123ace86f6"
   },
   "outputs": [
    {
     "name": "stdout",
     "output_type": "stream",
     "text": [
      "Accuracy : 0.9649\n",
      "Accuracy : 0.8949\n"
     ]
    }
   ],
   "source": [
    "loss,acc=Binary_Classifcation_2.evaluate(X_train_set,y_train,verbose=False)\n",
    "print('Accuracy : {:.4f}'.format(acc))\n",
    "loss,acc=Binary_Classifcation_2.evaluate(X_test_set,y_test,verbose=False)\n",
    "print('Accuracy : {:.4f}'.format(acc))\n"
   ]
  },
  {
   "cell_type": "code",
   "execution_count": 19,
   "metadata": {
    "colab": {
     "base_uri": "https://localhost:8080/"
    },
    "executionInfo": {
     "elapsed": 10813,
     "status": "ok",
     "timestamp": 1608885361890,
     "user": {
      "displayName": "khalil hennara",
      "photoUrl": "",
      "userId": "12581719381754495507"
     },
     "user_tz": -120
    },
    "id": "rllc3nz6CGdx",
    "outputId": "14c94adf-5f09-48ea-960d-ce3b4ffd2b85"
   },
   "outputs": [
    {
     "name": "stdout",
     "output_type": "stream",
     "text": [
      "Model: \"sequential\"\n",
      "_________________________________________________________________\n",
      "Layer (type)                 Output Shape              Param #   \n",
      "=================================================================\n",
      "embedding (Embedding)        (None, 70, 300)           13749600  \n",
      "_________________________________________________________________\n",
      "gru (GRU)                    (None, 70, 128)           165120    \n",
      "_________________________________________________________________\n",
      "gru_1 (GRU)                  (None, 128)               99072     \n",
      "_________________________________________________________________\n",
      "dropout (Dropout)            (None, 128)               0         \n",
      "_________________________________________________________________\n",
      "dense (Dense)                (None, 1)                 129       \n",
      "=================================================================\n",
      "Total params: 14,013,921\n",
      "Trainable params: 14,013,921\n",
      "Non-trainable params: 0\n",
      "_________________________________________________________________\n"
     ]
    }
   ],
   "source": [
    "Binary_calssifiaction_with_transfer_learning=keras.models.load_model('/content/drive/MyDrive/Binary_calssifiaction_with_transfer_learning.h5')\n",
    "Binary_calssifiaction_with_transfer_learning.summary()"
   ]
  },
  {
   "cell_type": "code",
   "execution_count": 20,
   "metadata": {
    "colab": {
     "base_uri": "https://localhost:8080/"
    },
    "executionInfo": {
     "elapsed": 40266,
     "status": "ok",
     "timestamp": 1608885462631,
     "user": {
      "displayName": "khalil hennara",
      "photoUrl": "",
      "userId": "12581719381754495507"
     },
     "user_tz": -120
    },
    "id": "Md0PhsWfCc1T",
    "outputId": "265b6d40-467e-4938-897c-29dc192e4f7f"
   },
   "outputs": [
    {
     "name": "stdout",
     "output_type": "stream",
     "text": [
      "669/669 [==============================] - 30s 44ms/step - loss: 0.1274 - acc: 0.9614\n",
      "Accuracy : 0.9614\n",
      "210/210 [==============================] - 9s 44ms/step - loss: 0.3514 - acc: 0.8448\n",
      "Accuracy : 0.8448\n"
     ]
    }
   ],
   "source": [
    "loss,acc=Binary_calssifiaction_with_transfer_learning.evaluate(X_train_set,y_train)\n",
    "print(\"Accuracy : {:.4f}\".format(acc))\n",
    "loss,acc=Binary_calssifiaction_with_transfer_learning.evaluate(X_test_set,y_test)\n",
    "print(\"Accuracy : {:.4f}\".format(acc))\n"
   ]
  },
  {
   "cell_type": "code",
   "execution_count": null,
   "metadata": {
    "id": "860cb1LqC0do"
   },
   "outputs": [],
   "source": []
  }
 ],
 "metadata": {
  "colab": {
   "authorship_tag": "ABX9TyMubZ3U1uUhU5e0vgSf1PPc",
   "name": "make_evaluation_base_on_many_model",
   "provenance": [],
   "toc_visible": true
  },
  "kernelspec": {
   "display_name": "Python 3",
   "language": "python",
   "name": "python3"
  },
  "language_info": {
   "codemirror_mode": {
    "name": "ipython",
    "version": 3
   },
   "file_extension": ".py",
   "mimetype": "text/x-python",
   "name": "python",
   "nbconvert_exporter": "python",
   "pygments_lexer": "ipython3",
   "version": "3.8.5"
  }
 },
 "nbformat": 4,
 "nbformat_minor": 1
}
