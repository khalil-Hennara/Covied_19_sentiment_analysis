{
 "cells": [
  {
   "cell_type": "code",
   "execution_count": 1,
   "metadata": {
    "executionInfo": {
     "elapsed": 3048,
     "status": "ok",
     "timestamp": 1608772599051,
     "user": {
      "displayName": "khalil hennara",
      "photoUrl": "",
      "userId": "12581719381754495507"
     },
     "user_tz": -120
    },
    "id": "CVGnrcD9rnsG"
   },
   "outputs": [],
   "source": [
    "import numpy as np\n",
    "import matplotlib.pyplot as plt\n",
    "import pandas as pd\n",
    "import nltk\n",
    "import seaborn as sn\n",
    "import re\n",
    "\n",
    "import tensorflow as tf \n",
    "import tensorflow.keras as keras \n",
    "import tensorflow_addons  as tfa\n",
    "\n",
    "import sklearn.model_selection as model_selection\n",
    "import sklearn.metrics as metrics_model\n",
    "import sklearn.linear_model as linear_model"
   ]
  },
  {
   "cell_type": "code",
   "execution_count": 2,
   "metadata": {
    "colab": {
     "base_uri": "https://localhost:8080/"
    },
    "executionInfo": {
     "elapsed": 29720,
     "status": "ok",
     "timestamp": 1608769785959,
     "user": {
      "displayName": "khalil hennara",
      "photoUrl": "",
      "userId": "12581719381754495507"
     },
     "user_tz": -120
    },
    "id": "XiEHcbX8rwsl",
    "outputId": "d05f6ae8-bcac-4497-f50a-f0b176cd1198"
   },
   "outputs": [
    {
     "name": "stdout",
     "output_type": "stream",
     "text": [
      "Mounted at /content/drive\n"
     ]
    }
   ],
   "source": [
    "from google.colab import drive\n",
    "drive.mount('/content/drive')"
   ]
  },
  {
   "cell_type": "code",
   "execution_count": 3,
   "metadata": {
    "colab": {
     "base_uri": "https://localhost:8080/"
    },
    "executionInfo": {
     "elapsed": 49870,
     "status": "ok",
     "timestamp": 1608769839606,
     "user": {
      "displayName": "khalil hennara",
      "photoUrl": "",
      "userId": "12581719381754495507"
     },
     "user_tz": -120
    },
    "id": "JldNRm9BrzNc",
    "outputId": "72310d22-39c8-4aad-81f3-50547464da51"
   },
   "outputs": [
    {
     "name": "stdout",
     "output_type": "stream",
     "text": [
      "Archive:  /content/drive/MyDrive/glove.6B.zip\n",
      "  inflating: glove.6B.50d.txt        \n",
      "  inflating: glove.6B.100d.txt       \n",
      "  inflating: glove.6B.200d.txt       \n",
      "  inflating: glove.6B.300d.txt       \n"
     ]
    }
   ],
   "source": [
    "!unzip /content/drive/MyDrive/glove.6B.zip"
   ]
  },
  {
   "cell_type": "code",
   "execution_count": 2,
   "metadata": {
    "executionInfo": {
     "elapsed": 713,
     "status": "ok",
     "timestamp": 1608772603601,
     "user": {
      "displayName": "khalil hennara",
      "photoUrl": "",
      "userId": "12581719381754495507"
     },
     "user_tz": -120
    },
    "id": "mFr_DZ0DMjUY"
   },
   "outputs": [],
   "source": [
    "import re\n",
    "def remove_hash(data):\n",
    "  return re.sub('#','',data)"
   ]
  },
  {
   "cell_type": "code",
   "execution_count": 3,
   "metadata": {
    "colab": {
     "base_uri": "https://localhost:8080/"
    },
    "executionInfo": {
     "elapsed": 2993,
     "status": "ok",
     "timestamp": 1608772607678,
     "user": {
      "displayName": "khalil hennara",
      "photoUrl": "",
      "userId": "12581719381754495507"
     },
     "user_tz": -120
    },
    "id": "9v8aKDmxr3Dg",
    "outputId": "2181b70f-f8b0-4e69-b582-f1a74e8a53c5"
   },
   "outputs": [
    {
     "name": "stdout",
     "output_type": "stream",
     "text": [
      "45832\n"
     ]
    }
   ],
   "source": [
    "train_set=pd.read_csv('/content/drive/MyDrive/train_df.csv')\n",
    "test_set=pd.read_csv('/content/drive/MyDrive/test_df.csv')\n",
    "\n",
    "train_set['clean_text_1']=train_set['clean_text'].apply(remove_hash)\n",
    "test_set['clean_text_1']=test_set['clean_text'].apply(remove_hash)\n",
    "\n",
    "X_train=train_set['clean_text_1'].values\n",
    "X_test=test_set['clean_text_1'].values\n",
    "y_train=train_set['NomericSentiment'].values\n",
    "y_test=test_set['NomericSentiment'].values\n",
    "\n",
    "X_train,X_val,y_train,y_val=model_selection.train_test_split(X_train,y_train,test_size=0.2,stratify=train_set['NomericSentiment'],random_state=42)\n",
    "\n",
    "y_train=keras.utils.to_categorical(y_train,5)\n",
    "y_test=keras.utils.to_categorical(y_test,5)\n",
    "y_val=keras.utils.to_categorical(y_val,5)\n",
    "\n",
    "tokinizer=keras.preprocessing.text.Tokenizer(num_words=30000)\n",
    "tokinizer.fit_on_texts(train_set['clean_text_1'].values)\n",
    "\n",
    "vocab_size=len(tokinizer.word_index)+1\n",
    "print(vocab_size)\n",
    "\n",
    "max_length=70\n",
    "X_train=tokinizer.texts_to_sequences(X_train)\n",
    "X_test=tokinizer.texts_to_sequences(X_test)\n",
    "X_val=tokinizer.texts_to_sequences(X_val)\n",
    "X_train_set=keras.preprocessing.sequence.pad_sequences(X_train,padding='post',maxlen=max_length)\n",
    "X_test_set=keras.preprocessing.sequence.pad_sequences(X_test,padding='post',maxlen=max_length)\n",
    "X_val_set=keras.preprocessing.sequence.pad_sequences(X_val,padding='post',maxlen=max_length)\n",
    "\n"
   ]
  },
  {
   "cell_type": "code",
   "execution_count": 4,
   "metadata": {
    "executionInfo": {
     "elapsed": 675,
     "status": "ok",
     "timestamp": 1608772615386,
     "user": {
      "displayName": "khalil hennara",
      "photoUrl": "",
      "userId": "12581719381754495507"
     },
     "user_tz": -120
    },
    "id": "slwop9H1tBnI"
   },
   "outputs": [],
   "source": [
    "def plot_history(history):\n",
    "    acc = history.history['accuracy']\n",
    "    val_acc = history.history['val_accuracy']\n",
    "    loss = history.history['loss']\n",
    "    val_loss = history.history['val_loss']\n",
    "    x = range(1, len(acc) + 1)\n",
    "\n",
    "    plt.figure(figsize=(12, 5))\n",
    "    plt.subplot(1, 2, 1)\n",
    "    plt.plot(x, acc, 'b', label='Training acc')\n",
    "    plt.plot(x, val_acc, 'r', label='Validation acc')\n",
    "    plt.title('Training and validation accuracy')\n",
    "    plt.legend()\n",
    "    plt.subplot(1, 2, 2)\n",
    "    plt.plot(x, loss, 'b', label='Training loss')\n",
    "    plt.plot(x, val_loss, 'r', label='Validation loss')\n",
    "    plt.title('Training and validation loss')\n",
    "    plt.legend()"
   ]
  },
  {
   "cell_type": "code",
   "execution_count": 5,
   "metadata": {
    "colab": {
     "base_uri": "https://localhost:8080/"
    },
    "executionInfo": {
     "elapsed": 22707,
     "status": "ok",
     "timestamp": 1608772638802,
     "user": {
      "displayName": "khalil hennara",
      "photoUrl": "",
      "userId": "12581719381754495507"
     },
     "user_tz": -120
    },
    "id": "kNWVmMkjr406",
    "outputId": "ccfeab35-d5b3-4790-e518-9c524fef8b0d"
   },
   "outputs": [
    {
     "name": "stdout",
     "output_type": "stream",
     "text": [
      "Found 400000 word vector\n",
      "Hit : 27022 ,misses: 18809\n"
     ]
    }
   ],
   "source": [
    "embading_index={}\n",
    "path = '/content/glove.6B.300d.txt'\n",
    "with open(path) as f:\n",
    "  for line in f:\n",
    "    key,value=line.split(maxsplit=1)\n",
    "    value=np.fromstring(value,\"f\",sep=\" \")\n",
    "    embading_index[key]=value\n",
    "\n",
    "print(\"Found {} word vector\".format(len(embading_index)))\n",
    "\n",
    "embading_dim=300\n",
    "num_tokens=vocab_size\n",
    "hit=0\n",
    "miss=0\n",
    "\n",
    "embading_matrix=np.zeros((num_tokens,embading_dim))\n",
    "\n",
    "for word,value in tokinizer.word_index.items():\n",
    "  embading_vector=embading_index.get(word)\n",
    "  if embading_vector is not None:\n",
    "      embading_matrix[value]=embading_vector\n",
    "      hit+=1\n",
    "  else:miss+=1\n",
    "print(\"Hit : {} ,misses: {}\".format(hit,miss))"
   ]
  },
  {
   "cell_type": "code",
   "execution_count": null,
   "metadata": {
    "id": "RQQXRIImst2B"
   },
   "outputs": [],
   "source": [
    "f1=tfa.metrics.F1Score(5)"
   ]
  },
  {
   "cell_type": "code",
   "execution_count": null,
   "metadata": {
    "colab": {
     "base_uri": "https://localhost:8080/"
    },
    "executionInfo": {
     "elapsed": 663,
     "status": "ok",
     "timestamp": 1608744365002,
     "user": {
      "displayName": "khalil hennara",
      "photoUrl": "",
      "userId": "12581719381754495507"
     },
     "user_tz": -120
    },
    "id": "hqhn0q9L9blP",
    "outputId": "84a3581c-321c-4b3c-b551-dc0de88ad599"
   },
   "outputs": [
    {
     "name": "stdout",
     "output_type": "stream",
     "text": [
      "[nltk_data] Downloading package stopwords to /root/nltk_data...\n",
      "[nltk_data]   Unzipping corpora/stopwords.zip.\n"
     ]
    }
   ],
   "source": [
    "nltk.download('stopwords')\n",
    "from nltk.corpus import stopwords\n",
    "STOPWORDS=stopwords.words('english')\n",
    "\n",
    "def remove_stop_word_less_than_3_charecter(data):\n",
    "  min_stop=[w for w in STOPWORDS if len(w)<=3]\n",
    "  word=data.split()\n",
    "  res=[w for w in word if w not in min_stop]\n",
    "  return ' '.join(res)\n",
    "\n",
    "def remove_stop_word(data):\n",
    "  word=data.split()\n",
    "  res=[w for w in word if w not in STOPWORDS]\n",
    "  return ' '.join(res)\n",
    "\n",
    "def remove_hash(data):\n",
    "  words=data.split()\n",
    "  res=[w for w in words if '#' not in w]\n",
    "  return ' '.join(res)"
   ]
  },
  {
   "cell_type": "code",
   "execution_count": null,
   "metadata": {
    "colab": {
     "base_uri": "https://localhost:8080/"
    },
    "executionInfo": {
     "elapsed": 1578,
     "status": "ok",
     "timestamp": 1608279544001,
     "user": {
      "displayName": "khalil hennara",
      "photoUrl": "",
      "userId": "12581719381754495507"
     },
     "user_tz": -120
    },
    "id": "TshD3dQnsFD2",
    "outputId": "643ae82e-1aeb-4f58-9d66-d90393fbd742"
   },
   "outputs": [
    {
     "name": "stdout",
     "output_type": "stream",
     "text": [
      "WARNING:tensorflow:Layer lstm will not use cuDNN kernel since it doesn't meet the cuDNN kernel criteria. It will use generic GPU kernel as fallback when running on GPU\n",
      "WARNING:tensorflow:Layer lstm will not use cuDNN kernel since it doesn't meet the cuDNN kernel criteria. It will use generic GPU kernel as fallback when running on GPU\n",
      "WARNING:tensorflow:Layer lstm will not use cuDNN kernel since it doesn't meet the cuDNN kernel criteria. It will use generic GPU kernel as fallback when running on GPU\n",
      "Model: \"sequential\"\n",
      "_________________________________________________________________\n",
      "Layer (type)                 Output Shape              Param #   \n",
      "=================================================================\n",
      "embedding (Embedding)        (None, 60, 200)           9164400   \n",
      "_________________________________________________________________\n",
      "bidirectional (Bidirectional (None, 256)               336896    \n",
      "_________________________________________________________________\n",
      "dropout (Dropout)            (None, 256)               0         \n",
      "_________________________________________________________________\n",
      "dense (Dense)                (None, 64)                16448     \n",
      "_________________________________________________________________\n",
      "dropout_1 (Dropout)          (None, 64)                0         \n",
      "_________________________________________________________________\n",
      "dense_1 (Dense)              (None, 5)                 325       \n",
      "=================================================================\n",
      "Total params: 9,518,069\n",
      "Trainable params: 9,518,069\n",
      "Non-trainable params: 0\n",
      "_________________________________________________________________\n"
     ]
    }
   ],
   "source": [
    "keras.backend.clear_session()\n",
    "model=keras.models.Sequential([\n",
    "          keras.layers.Embedding(input_dim=num_tokens,\n",
    "                                 output_dim=embading_dim,\n",
    "                                 embeddings_initializer=keras.initializers.Constant(embading_matrix),\n",
    "                                 trainable=True,\n",
    "                                 input_length=max_length),\n",
    "          keras.layers.Bidirectional(keras.layers.LSTM(128,recurrent_dropout=0.1)),\n",
    "          keras.layers.Dropout(0.2),\n",
    "          keras.layers.Dense(64,activation='relu'),\n",
    "          keras.layers.Dropout(0.3),\n",
    "          keras.layers.Dense(5,activation='softmax')\n",
    "])\n",
    "model.summary()"
   ]
  },
  {
   "cell_type": "code",
   "execution_count": null,
   "metadata": {
    "id": "fTbML1rqsFMH"
   },
   "outputs": [],
   "source": [
    "model.compile(loss='categorical_crossentropy',optimizer='adam',metrics=['accuracy',f1])"
   ]
  },
  {
   "cell_type": "code",
   "execution_count": null,
   "metadata": {
    "id": "8gI2Wlo0swC3"
   },
   "outputs": [],
   "source": [
    "model_checkpoint=keras.callbacks.ModelCheckpoint('/content/drive/MyDrive/LSTM__128_Node_with_Bidirectional_200d.h5',monitor='val_loss',save_best_only=True)\n",
    "erlay_stop=keras.callbacks.EarlyStopping(monitor='val_loss',patience=5,restore_best_weights=True)"
   ]
  },
  {
   "cell_type": "code",
   "execution_count": null,
   "metadata": {
    "colab": {
     "base_uri": "https://localhost:8080/"
    },
    "executionInfo": {
     "elapsed": 1658918,
     "status": "ok",
     "timestamp": 1608281214238,
     "user": {
      "displayName": "khalil hennara",
      "photoUrl": "",
      "userId": "12581719381754495507"
     },
     "user_tz": -120
    },
    "id": "xMiZCAA9sFTO",
    "outputId": "a8020b16-947e-4662-960b-d31c75cda745"
   },
   "outputs": [
    {
     "name": "stdout",
     "output_type": "stream",
     "text": [
      "Epoch 1/20\n",
      "412/412 [==============================] - 213s 508ms/step - loss: 1.3831 - accuracy: 0.3838 - f1_score: 0.3641 - val_loss: 0.9163 - val_accuracy: 0.6327 - val_f1_score: 0.6474\n",
      "Epoch 2/20\n",
      "412/412 [==============================] - 204s 494ms/step - loss: 0.7395 - accuracy: 0.7264 - f1_score: 0.7331 - val_loss: 0.6989 - val_accuracy: 0.7407 - val_f1_score: 0.7501\n",
      "Epoch 3/20\n",
      "412/412 [==============================] - 206s 499ms/step - loss: 0.4888 - accuracy: 0.8373 - f1_score: 0.8414 - val_loss: 0.6730 - val_accuracy: 0.7653 - val_f1_score: 0.7736\n",
      "Epoch 4/20\n",
      "412/412 [==============================] - 199s 484ms/step - loss: 0.3486 - accuracy: 0.8941 - f1_score: 0.8970 - val_loss: 0.7194 - val_accuracy: 0.7620 - val_f1_score: 0.7703\n",
      "Epoch 5/20\n",
      "412/412 [==============================] - 205s 497ms/step - loss: 0.2721 - accuracy: 0.9123 - f1_score: 0.9152 - val_loss: 0.7762 - val_accuracy: 0.7515 - val_f1_score: 0.7606\n",
      "Epoch 6/20\n",
      "412/412 [==============================] - 207s 502ms/step - loss: 0.2100 - accuracy: 0.9327 - f1_score: 0.9356 - val_loss: 0.9696 - val_accuracy: 0.7466 - val_f1_score: 0.7533\n",
      "Epoch 7/20\n",
      "412/412 [==============================] - 202s 490ms/step - loss: 0.1564 - accuracy: 0.9488 - f1_score: 0.9512 - val_loss: 1.0171 - val_accuracy: 0.7475 - val_f1_score: 0.7551\n",
      "Epoch 8/20\n",
      "412/412 [==============================] - 202s 490ms/step - loss: 0.1259 - accuracy: 0.9567 - f1_score: 0.9585 - val_loss: 1.1341 - val_accuracy: 0.7436 - val_f1_score: 0.7515\n"
     ]
    }
   ],
   "source": [
    "with tf.device('/device:GPU:0'):\n",
    "  history=model.fit(X_train_set,y_train,epochs=20,validation_data=(X_val_set,y_val),batch_size=64,callbacks=[model_checkpoint,erlay_stop])"
   ]
  },
  {
   "cell_type": "code",
   "execution_count": null,
   "metadata": {
    "id": "RiMCvtU_vtGB"
   },
   "outputs": [],
   "source": [
    "model=keras.models.load_model('/content/drive/MyDrive/LSTM__1_32_Node_with_Bidirectional_200d.h5')"
   ]
  },
  {
   "cell_type": "code",
   "execution_count": null,
   "metadata": {
    "colab": {
     "base_uri": "https://localhost:8080/",
     "height": 425
    },
    "executionInfo": {
     "elapsed": 41768,
     "status": "ok",
     "timestamp": 1608281260816,
     "user": {
      "displayName": "khalil hennara",
      "photoUrl": "",
      "userId": "12581719381754495507"
     },
     "user_tz": -120
    },
    "id": "6lmkKbixtb1N",
    "outputId": "2b8f221d-412f-4448-93ff-4b39cf96e898"
   },
   "outputs": [
    {
     "name": "stdout",
     "output_type": "stream",
     "text": [
      "823/823 [==============================] - 31s 38ms/step - loss: 0.3240 - accuracy: 0.9082 - f1_score: 0.9117\n",
      "Training Accuracy:0.9082 , f1_score [0.89433074 0.89580745 0.92221373 0.9251132  0.92089826]\n",
      "258/258 [==============================] - 10s 38ms/step - loss: 0.6619 - accuracy: 0.7690 - f1_score: 0.7755\n",
      "Testing Accuracy:  0.7690, f1_score [0.7458982  0.7268195  0.8398357  0.79623353 0.7687943 ]\n"
     ]
    },
    {
     "data": {
      "image/png": "[encoded data removed]",
      "text/plain": [
       "<Figure size 864x360 with 2 Axes>"
      ]
     },
     "metadata": {
      "needs_background": "light",
      "tags": []
     },
     "output_type": "display_data"
    }
   ],
   "source": [
    "\n",
    "loss, accuracy ,f1_score = model.evaluate(X_train_set, y_train)\n",
    "print(\"Training Accuracy:{:.4f} , f1_score {}\".format(accuracy,f1_score))\n",
    "loss, accuracy ,f1_score = model.evaluate(X_test_set, y_test)\n",
    "print(\"Testing Accuracy:  {:.4f}, f1_score {}\".format(accuracy,f1_score))\n",
    "plot_history(history)"
   ]
  },
  {
   "cell_type": "markdown",
   "metadata": {
    "id": "telmtfwZCONr"
   },
   "source": [
    "we will try remove hash from data"
   ]
  },
  {
   "cell_type": "code",
   "execution_count": null,
   "metadata": {
    "colab": {
     "base_uri": "https://localhost:8080/"
    },
    "executionInfo": {
     "elapsed": 4850,
     "status": "ok",
     "timestamp": 1608282811301,
     "user": {
      "displayName": "khalil hennara",
      "photoUrl": "",
      "userId": "12581719381754495507"
     },
     "user_tz": -120
    },
    "id": "ukhgQEaDv2Gz",
    "outputId": "362bf678-d52f-434c-9bc6-563010989e97"
   },
   "outputs": [
    {
     "name": "stdout",
     "output_type": "stream",
     "text": [
      "33946\n"
     ]
    }
   ],
   "source": [
    "train_set=pd.read_csv('/content/drive/MyDrive/train_df.csv')\n",
    "test_set=pd.read_csv('/content/drive/MyDrive/test_df.csv')\n",
    "\n",
    "train_set['clean_text_1']=train_set['clean_text'].apply(remove_hash).apply(remove_stop_word)\n",
    "test_set['clean_text_1']=test_set['clean_text'].apply(remove_hash).apply(remove_stop_word)\n",
    "\n",
    "X_train=train_set['clean_text_1'].values\n",
    "X_test=test_set['clean_text_1'].values\n",
    "y_train=train_set['NomericSentiment'].values\n",
    "y_test=test_set['NomericSentiment'].values\n",
    "\n",
    "\n",
    "X_train,X_val,y_train,y_val=model_selection.train_test_split(X_train,y_train,test_size=0.2,stratify=train_set['NomericSentiment'],random_state=42)\n",
    "\n",
    "y_train=keras.utils.to_categorical(y_train,5)\n",
    "y_test=keras.utils.to_categorical(y_test,5)\n",
    "y_val=keras.utils.to_categorical(y_val,5)\n",
    "\n",
    "tokinizer=keras.preprocessing.text.Tokenizer(num_words=30000)\n",
    "tokinizer.fit_on_texts(train_set['clean_text_1'].values)\n",
    "\n",
    "vocab_size=len(tokinizer.word_index)+1\n",
    "print(vocab_size)\n",
    "\n",
    "max_length=60\n",
    "X_train=tokinizer.texts_to_sequences(X_train)\n",
    "X_test=tokinizer.texts_to_sequences(X_test)\n",
    "X_val=tokinizer.texts_to_sequences(X_val)\n",
    "X_train_set=keras.preprocessing.sequence.pad_sequences(X_train,padding='post',maxlen=max_length)\n",
    "X_test_set=keras.preprocessing.sequence.pad_sequences(X_test,padding='post',maxlen=max_length)\n",
    "X_val_set=keras.preprocessing.sequence.pad_sequences(X_val,padding='post',maxlen=max_length)\n",
    "\n"
   ]
  },
  {
   "cell_type": "code",
   "execution_count": null,
   "metadata": {
    "colab": {
     "base_uri": "https://localhost:8080/"
    },
    "executionInfo": {
     "elapsed": 15279,
     "status": "ok",
     "timestamp": 1608282832288,
     "user": {
      "displayName": "khalil hennara",
      "photoUrl": "",
      "userId": "12581719381754495507"
     },
     "user_tz": -120
    },
    "id": "VDltzxsiCtpr",
    "outputId": "e7baf120-02d1-4394-84ab-2675a0c8a617"
   },
   "outputs": [
    {
     "name": "stdout",
     "output_type": "stream",
     "text": [
      "Found 400000 word vector\n",
      "Hit : 26066 ,misses: 7879\n"
     ]
    }
   ],
   "source": [
    "embading_index={}\n",
    "path = '/content/glove.6B.200d.txt'\n",
    "with open(path) as f:\n",
    "  for line in f:\n",
    "    key,value=line.split(maxsplit=1)\n",
    "    value=np.fromstring(value,\"f\",sep=\" \")\n",
    "    embading_index[key]=value\n",
    "\n",
    "print(\"Found {} word vector\".format(len(embading_index)))\n",
    "\n",
    "embading_dim=200\n",
    "num_tokens=vocab_size\n",
    "hit=0\n",
    "miss=0\n",
    "\n",
    "embading_matrix=np.zeros((num_tokens,embading_dim))\n",
    "\n",
    "for word,value in tokinizer.word_index.items():\n",
    "  embading_vector=embading_index.get(word)\n",
    "  if embading_vector is not None:\n",
    "      embading_matrix[value]=embading_vector\n",
    "      hit+=1\n",
    "  else:miss+=1\n",
    "print(\"Hit : {} ,misses: {}\".format(hit,miss))"
   ]
  },
  {
   "cell_type": "code",
   "execution_count": null,
   "metadata": {
    "colab": {
     "base_uri": "https://localhost:8080/"
    },
    "executionInfo": {
     "elapsed": 1147,
     "status": "ok",
     "timestamp": 1608282874356,
     "user": {
      "displayName": "khalil hennara",
      "photoUrl": "",
      "userId": "12581719381754495507"
     },
     "user_tz": -120
    },
    "id": "DwbVMmfpC1bv",
    "outputId": "1733f94a-0cb2-4f8f-b0d8-d3b6d76942fc"
   },
   "outputs": [
    {
     "name": "stdout",
     "output_type": "stream",
     "text": [
      "Model: \"sequential\"\n",
      "_________________________________________________________________\n",
      "Layer (type)                 Output Shape              Param #   \n",
      "=================================================================\n",
      "embedding (Embedding)        (None, 60, 200)           6789200   \n",
      "_________________________________________________________________\n",
      "bidirectional (Bidirectional (None, 256)               336896    \n",
      "_________________________________________________________________\n",
      "dropout (Dropout)            (None, 256)               0         \n",
      "_________________________________________________________________\n",
      "dense (Dense)                (None, 5)                 1285      \n",
      "=================================================================\n",
      "Total params: 7,127,381\n",
      "Trainable params: 7,127,381\n",
      "Non-trainable params: 0\n",
      "_________________________________________________________________\n"
     ]
    }
   ],
   "source": [
    "keras.backend.clear_session()\n",
    "model_1=keras.models.Sequential([\n",
    "          keras.layers.Embedding(input_dim=num_tokens,\n",
    "                                 output_dim=embading_dim,\n",
    "                                 embeddings_initializer=keras.initializers.Constant(embading_matrix),\n",
    "                                 trainable=True,\n",
    "                                 input_length=max_length),\n",
    "          keras.layers.Bidirectional(keras.layers.LSTM(128)),\n",
    "          keras.layers.Dropout(0.2),\n",
    "          keras.layers.Dense(5,activation='softmax')\n",
    "])\n",
    "model_1.summary()"
   ]
  },
  {
   "cell_type": "code",
   "execution_count": null,
   "metadata": {
    "id": "Zpkmc06pDDlX"
   },
   "outputs": [],
   "source": [
    "model_1.compile(loss='categorical_crossentropy',optimizer='adam',metrics=['accuracy',f1])\n",
    "model_checkpoint=keras.callbacks.ModelCheckpoint('/content/drive/MyDrive/LSTM__64_Node_with_Bidirectional_200d_with_cleanHash_allstop_word.h5',monitor='val_loss',save_best_only=True)\n",
    "erlay_stop=keras.callbacks.EarlyStopping(monitor='val_loss',patience=5,restore_best_weights=True)"
   ]
  },
  {
   "cell_type": "code",
   "execution_count": null,
   "metadata": {
    "colab": {
     "base_uri": "https://localhost:8080/"
    },
    "executionInfo": {
     "elapsed": 441317,
     "status": "ok",
     "timestamp": 1608283339667,
     "user": {
      "displayName": "khalil hennara",
      "photoUrl": "",
      "userId": "12581719381754495507"
     },
     "user_tz": -120
    },
    "id": "a-hX5dbxDPJ4",
    "outputId": "a03c43aa-a09c-4522-e41e-2cbdb9f9dbc0"
   },
   "outputs": [
    {
     "name": "stdout",
     "output_type": "stream",
     "text": [
      "Epoch 1/20\n",
      "823/823 [==============================] - 63s 73ms/step - loss: 1.2134 - accuracy: 0.4792 - f1_score: 0.6075 - val_loss: 0.7717 - val_accuracy: 0.7124 - val_f1_score: 0.7209\n",
      "Epoch 2/20\n",
      "823/823 [==============================] - 62s 76ms/step - loss: 0.5993 - accuracy: 0.7880 - f1_score: 0.7935 - val_loss: 0.6577 - val_accuracy: 0.7648 - val_f1_score: 0.7731\n",
      "Epoch 3/20\n",
      "823/823 [==============================] - 61s 74ms/step - loss: 0.3978 - accuracy: 0.8731 - f1_score: 0.8769 - val_loss: 0.6725 - val_accuracy: 0.7679 - val_f1_score: 0.7744\n",
      "Epoch 4/20\n",
      "823/823 [==============================] - 61s 74ms/step - loss: 0.2762 - accuracy: 0.9146 - f1_score: 0.9174 - val_loss: 0.7550 - val_accuracy: 0.7644 - val_f1_score: 0.7718\n",
      "Epoch 5/20\n",
      "823/823 [==============================] - 61s 74ms/step - loss: 0.1950 - accuracy: 0.9361 - f1_score: 0.9384 - val_loss: 0.9316 - val_accuracy: 0.7495 - val_f1_score: 0.7575\n",
      "Epoch 6/20\n",
      "823/823 [==============================] - 61s 74ms/step - loss: 0.1338 - accuracy: 0.9597 - f1_score: 0.9614 - val_loss: 1.0220 - val_accuracy: 0.7440 - val_f1_score: 0.7515\n",
      "Epoch 7/20\n",
      "823/823 [==============================] - 61s 74ms/step - loss: 0.0990 - accuracy: 0.9689 - f1_score: 0.9701 - val_loss: 1.2357 - val_accuracy: 0.7405 - val_f1_score: 0.7479\n"
     ]
    }
   ],
   "source": [
    "with tf.device('/device:GPU:0'):\n",
    "  history=model_1.fit(X_train_set,y_train,epochs=20,validation_data=(X_val_set,y_val),batch_size=32,callbacks=[model_checkpoint,erlay_stop])"
   ]
  },
  {
   "cell_type": "code",
   "execution_count": null,
   "metadata": {
    "colab": {
     "base_uri": "https://localhost:8080/",
     "height": 425
    },
    "executionInfo": {
     "elapsed": 12797,
     "status": "ok",
     "timestamp": 1608283355828,
     "user": {
      "displayName": "khalil hennara",
      "photoUrl": "",
      "userId": "12581719381754495507"
     },
     "user_tz": -120
    },
    "id": "Ix898zsZDSpY",
    "outputId": "6fdcf2b6-b3ff-4395-f543-d67967d54c14"
   },
   "outputs": [
    {
     "name": "stdout",
     "output_type": "stream",
     "text": [
      "823/823 [==============================] - 6s 6ms/step - loss: 0.4139 - accuracy: 0.8712 - f1_score: 0.8755\n",
      "Training Accuracy:0.8712 , f1_score [0.8513802  0.8483876  0.9128378  0.87967175 0.8852459 ]\n",
      "258/258 [==============================] - 1s 6ms/step - loss: 0.6509 - accuracy: 0.7732 - f1_score: 0.7791\n",
      "Testing Accuracy:  0.7732, f1_score [0.7520806  0.7092569  0.8597822  0.80312717 0.77124774]\n"
     ]
    },
    {
     "data": {
      "image/png": "[encoded data removed]",
      "text/plain": [
       "<Figure size 864x360 with 2 Axes>"
      ]
     },
     "metadata": {
      "needs_background": "light",
      "tags": []
     },
     "output_type": "display_data"
    }
   ],
   "source": [
    "model=keras.models.load_model('/content/drive/MyDrive/LSTM__64_Node_with_Bidirectional_200d_with_cleanHash_allstop_word.h5')\n",
    "loss, accuracy ,f1_score = model.evaluate(X_train_set, y_train)\n",
    "print(\"Training Accuracy:{:.4f} , f1_score {}\".format(accuracy,f1_score))\n",
    "loss, accuracy ,f1_score = model.evaluate(X_test_set, y_test)\n",
    "print(\"Testing Accuracy:  {:.4f}, f1_score {}\".format(accuracy,f1_score))\n",
    "plot_history(history)"
   ]
  },
  {
   "cell_type": "markdown",
   "metadata": {
    "id": "O1UnRoy0HW86"
   },
   "source": [
    "if we dont remove stop word its better"
   ]
  },
  {
   "cell_type": "code",
   "execution_count": null,
   "metadata": {
    "colab": {
     "base_uri": "https://localhost:8080/"
    },
    "executionInfo": {
     "elapsed": 835,
     "status": "ok",
     "timestamp": 1608654987784,
     "user": {
      "displayName": "khalil hennara",
      "photoUrl": "",
      "userId": "12581719381754495507"
     },
     "user_tz": -120
    },
    "id": "SB8NWBaoEiAA",
    "outputId": "30e0e45c-3ec9-44c7-9eab-200834ba113a"
   },
   "outputs": [
    {
     "name": "stdout",
     "output_type": "stream",
     "text": [
      "Model: \"sequential\"\n",
      "_________________________________________________________________\n",
      "Layer (type)                 Output Shape              Param #   \n",
      "=================================================================\n",
      "embedding (Embedding)        (None, 60, 300)           13749600  \n",
      "_________________________________________________________________\n",
      "gru (GRU)                    (None, 60, 64)            70272     \n",
      "_________________________________________________________________\n",
      "dropout (Dropout)            (None, 60, 64)            0         \n",
      "_________________________________________________________________\n",
      "conv1d (Conv1D)              (None, 58, 32)            6176      \n",
      "_________________________________________________________________\n",
      "dropout_1 (Dropout)          (None, 58, 32)            0         \n",
      "_________________________________________________________________\n",
      "conv1d_1 (Conv1D)            (None, 56, 32)            3104      \n",
      "_________________________________________________________________\n",
      "global_max_pooling1d (Global (None, 32)                0         \n",
      "_________________________________________________________________\n",
      "dense (Dense)                (None, 5)                 165       \n",
      "=================================================================\n",
      "Total params: 13,829,317\n",
      "Trainable params: 13,829,317\n",
      "Non-trainable params: 0\n",
      "_________________________________________________________________\n"
     ]
    }
   ],
   "source": [
    "keras.backend.clear_session()\n",
    "model=keras.models.Sequential([\n",
    "          keras.layers.Embedding(input_dim=num_tokens,\n",
    "                                 output_dim=embading_dim,\n",
    "                                 embeddings_initializer=keras.initializers.Constant(embading_matrix),\n",
    "                                 trainable=True,\n",
    "                                 input_length=max_length),\n",
    "          keras.layers.GRU(64,return_sequences=True),\n",
    "          keras.layers.Dropout(0.2),\n",
    "          keras.layers.Conv1D(32,3),\n",
    "          keras.layers.Dropout(0.2),\n",
    "          keras.layers.Conv1D(32,3),\n",
    "          keras.layers.GlobalMaxPool1D(),\n",
    "          keras.layers.Dense(5,activation='softmax')\n",
    "])\n",
    "model.summary()"
   ]
  },
  {
   "cell_type": "code",
   "execution_count": null,
   "metadata": {
    "id": "ZFSyAkfGN3bU"
   },
   "outputs": [],
   "source": [
    "model.compile(loss='categorical_crossentropy',optimizer='adam',metrics=['accuracy'])\n",
    "eraly_stop=keras.callbacks.EarlyStopping(monitor='val_loss',patience=5)\n",
    "check_point=keras.callbacks.ModelCheckpoint('/content/drive/MyDrive/GRU_Conv1D.h5',save_best_only=True)"
   ]
  },
  {
   "cell_type": "code",
   "execution_count": null,
   "metadata": {
    "colab": {
     "base_uri": "https://localhost:8080/",
     "height": 35
    },
    "executionInfo": {
     "elapsed": 1005,
     "status": "ok",
     "timestamp": 1608653667921,
     "user": {
      "displayName": "khalil hennara",
      "photoUrl": "",
      "userId": "12581719381754495507"
     },
     "user_tz": -120
    },
    "id": "daVlzmNsOrBk",
    "outputId": "7efbf020-a22d-4cf0-8707-1b9fc554e6cc"
   },
   "outputs": [
    {
     "data": {
      "application/vnd.google.colaboratory.intrinsic+json": {
       "type": "string"
      },
      "text/plain": [
       "'/device:GPU:0'"
      ]
     },
     "execution_count": 12,
     "metadata": {
      "tags": []
     },
     "output_type": "execute_result"
    }
   ],
   "source": [
    "tf.test.gpu_device_name()"
   ]
  },
  {
   "cell_type": "code",
   "execution_count": null,
   "metadata": {
    "colab": {
     "base_uri": "https://localhost:8080/"
    },
    "executionInfo": {
     "elapsed": 873454,
     "status": "ok",
     "timestamp": 1608655870235,
     "user": {
      "displayName": "khalil hennara",
      "photoUrl": "",
      "userId": "12581719381754495507"
     },
     "user_tz": -120
    },
    "id": "j9umrLnpOvnm",
    "outputId": "40eb851f-0b00-4697-ce4f-000163f7488b"
   },
   "outputs": [
    {
     "name": "stdout",
     "output_type": "stream",
     "text": [
      "Epoch 1/20\n",
      "823/823 [==============================] - 108s 130ms/step - loss: 1.2855 - accuracy: 0.4375 - val_loss: 0.8663 - val_accuracy: 0.6556\n",
      "Epoch 2/20\n",
      "823/823 [==============================] - 108s 132ms/step - loss: 0.6674 - accuracy: 0.7518 - val_loss: 0.7572 - val_accuracy: 0.7076\n",
      "Epoch 3/20\n",
      "823/823 [==============================] - 106s 129ms/step - loss: 0.4495 - accuracy: 0.8469 - val_loss: 0.7031 - val_accuracy: 0.7364\n",
      "Epoch 4/20\n",
      "823/823 [==============================] - 104s 126ms/step - loss: 0.3028 - accuracy: 0.8977 - val_loss: 0.7480 - val_accuracy: 0.7393\n",
      "Epoch 5/20\n",
      "823/823 [==============================] - 104s 126ms/step - loss: 0.1914 - accuracy: 0.9351 - val_loss: 0.9116 - val_accuracy: 0.7336\n",
      "Epoch 6/20\n",
      "823/823 [==============================] - 105s 127ms/step - loss: 0.1273 - accuracy: 0.9601 - val_loss: 1.0926 - val_accuracy: 0.7267\n",
      "Epoch 7/20\n",
      "823/823 [==============================] - 104s 126ms/step - loss: 0.0818 - accuracy: 0.9728 - val_loss: 1.2879 - val_accuracy: 0.7206\n",
      "Epoch 8/20\n",
      "823/823 [==============================] - 104s 126ms/step - loss: 0.0604 - accuracy: 0.9802 - val_loss: 1.4818 - val_accuracy: 0.7061\n"
     ]
    }
   ],
   "source": [
    "with tf.device('/device:GPU:0'):\n",
    "  history=model.fit(X_train_set,y_train,epochs=20,validation_data=(X_val_set,y_val),callbacks=[eraly_stop,check_point])"
   ]
  },
  {
   "cell_type": "code",
   "execution_count": null,
   "metadata": {
    "colab": {
     "base_uri": "https://localhost:8080/"
    },
    "executionInfo": {
     "elapsed": 5174,
     "status": "ok",
     "timestamp": 1608655974274,
     "user": {
      "displayName": "khalil hennara",
      "photoUrl": "",
      "userId": "12581719381754495507"
     },
     "user_tz": -120
    },
    "id": "gLsOvHIPPshj",
    "outputId": "e7cf96c3-9ccb-4310-c433-edd0aaee6eac"
   },
   "outputs": [
    {
     "name": "stdout",
     "output_type": "stream",
     "text": [
      "823/823 [==============================] - 3s 4ms/step - loss: 0.0563 - accuracy: 0.9816\n",
      "Accuracy : 0.9816 \n",
      "258/258 [==============================] - 1s 4ms/step - loss: 12.4603 - accuracy: 0.2172\n",
      "Accuracy : 0.2172 \n"
     ]
    }
   ],
   "source": [
    "loss,acc=model.evaluate(X_train_set,y_train)\n",
    "print('Accuracy : {:.4f} '.format(acc))\n",
    "loss,acc=model.evaluate(X_test_set,y_test)\n",
    "print('Accuracy : {:.4f} '.format(acc))\n"
   ]
  },
  {
   "cell_type": "code",
   "execution_count": null,
   "metadata": {
    "colab": {
     "base_uri": "https://localhost:8080/"
    },
    "executionInfo": {
     "elapsed": 2165,
     "status": "ok",
     "timestamp": 1608655988142,
     "user": {
      "displayName": "khalil hennara",
      "photoUrl": "",
      "userId": "12581719381754495507"
     },
     "user_tz": -120
    },
    "id": "tMgEsMvHSnU3",
    "outputId": "235a58ad-a41b-4854-92c4-cad97c2f6d17"
   },
   "outputs": [
    {
     "data": {
      "image/png": "[encoded data removed]",
      "text/plain": [
       "<Figure size 864x360 with 2 Axes>"
      ]
     },
     "metadata": {
      "needs_background": "light",
      "tags": []
     },
     "output_type": "display_data"
    }
   ],
   "source": [
    "plot_history(history)\n"
   ]
  },
  {
   "cell_type": "code",
   "execution_count": 14,
   "metadata": {
    "colab": {
     "base_uri": "https://localhost:8080/"
    },
    "executionInfo": {
     "elapsed": 1228,
     "status": "ok",
     "timestamp": 1608771038910,
     "user": {
      "displayName": "khalil hennara",
      "photoUrl": "",
      "userId": "12581719381754495507"
     },
     "user_tz": -120
    },
    "id": "UX3dCpRQXlyZ",
    "outputId": "29dac5e0-c50e-4636-c638-4af416286b35"
   },
   "outputs": [
    {
     "name": "stdout",
     "output_type": "stream",
     "text": [
      "Model: \"sequential\"\n",
      "_________________________________________________________________\n",
      "Layer (type)                 Output Shape              Param #   \n",
      "=================================================================\n",
      "embedding (Embedding)        (None, 40, 300)           13749600  \n",
      "_________________________________________________________________\n",
      "gru (GRU)                    (None, 40, 128)           165120    \n",
      "_________________________________________________________________\n",
      "gru_1 (GRU)                  (None, 40, 128)           99072     \n",
      "_________________________________________________________________\n",
      "global_max_pooling1d (Global (None, 128)               0         \n",
      "_________________________________________________________________\n",
      "dense (Dense)                (None, 5)                 645       \n",
      "=================================================================\n",
      "Total params: 14,014,437\n",
      "Trainable params: 14,014,437\n",
      "Non-trainable params: 0\n",
      "_________________________________________________________________\n"
     ]
    }
   ],
   "source": [
    "keras.backend.clear_session()\n",
    "model=keras.models.Sequential([\n",
    "          keras.layers.Embedding(input_dim=num_tokens,\n",
    "                                 output_dim=embading_dim,\n",
    "                                 embeddings_initializer=keras.initializers.Constant(embading_matrix),\n",
    "                                 trainable=True,\n",
    "                                 input_length=max_length),\n",
    "          keras.layers.GRU(128,return_sequences=True),\n",
    "          keras.layers.GRU(128,return_sequences=True),\n",
    "          keras.layers.GlobalMaxPool1D(),\n",
    "          keras.layers.Dense(5,activation='softmax')\n",
    "])\n",
    "model.summary()"
   ]
  },
  {
   "cell_type": "code",
   "execution_count": null,
   "metadata": {
    "id": "uGlBrjnJfM51"
   },
   "outputs": [],
   "source": [
    "# this Function is for learning rate schedule \n",
    "# so the learning rate change depending of the val_loss\n",
    "# this function is get better result than ReduceLROnPlateau function that come with keras\n",
    "\n",
    "LR_START = 0.0000001\n",
    "LR_MIN = 0.000001\n",
    "LR_MAX = 0.0008\n",
    "LR_RAMPUP_EPOCHS = 3\n",
    "LR_SUSTAIN_EPOCHS = 0\n",
    "LR_EXP_DECAY = .8\n",
    "\n",
    "def lr_schedule(epoch):\n",
    "    if epoch < LR_RAMPUP_EPOCHS:\n",
    "        lr = (LR_MAX - LR_START) / LR_RAMPUP_EPOCHS * epoch + LR_START\n",
    "    elif epoch < LR_RAMPUP_EPOCHS + LR_SUSTAIN_EPOCHS:\n",
    "        lr = LR_MAX\n",
    "    else:\n",
    "        lr = (LR_MAX - LR_MIN) * LR_EXP_DECAY**(epoch - LR_RAMPUP_EPOCHS - LR_SUSTAIN_EPOCHS) + LR_MIN\n",
    "    return lr\n"
   ]
  },
  {
   "cell_type": "code",
   "execution_count": 15,
   "metadata": {
    "executionInfo": {
     "elapsed": 1029,
     "status": "ok",
     "timestamp": 1608771046807,
     "user": {
      "displayName": "khalil hennara",
      "photoUrl": "",
      "userId": "12581719381754495507"
     },
     "user_tz": -120
    },
    "id": "PzNz0oOxe4av"
   },
   "outputs": [],
   "source": [
    "model.compile(loss='categorical_crossentropy',optimizer=keras.optimizers.Adam(lr=1e-4),metrics=['accuracy'])\n",
    "eraly_stop=keras.callbacks.EarlyStopping(monitor='val_loss',patience=5)\n",
    "check_point=keras.callbacks.ModelCheckpoint('/content/drive/MyDrive/GRU_Learning_scheduler_20.h5',save_best_only=True)\n",
    "lr_scdual=keras.callbacks.LearningRateScheduler(lr_schedule,verbose=0)\n",
    "# reduce_lr =  keras.callbacks.ReduceLROnPlateau(monitor = \"val_loss\", factor = 0.5, patience = 3,\n",
    "#   verbose = 0, mode = \"auto\", min_delta = 1e-04, cooldown = 0,\n",
    "#   min_lr = 1e-5)\n",
    "callbacks_list=[eraly_stop,check_point,lr_scdual]\n"
   ]
  },
  {
   "cell_type": "code",
   "execution_count": null,
   "metadata": {
    "colab": {
     "base_uri": "https://localhost:8080/",
     "height": 35
    },
    "executionInfo": {
     "elapsed": 676,
     "status": "ok",
     "timestamp": 1608742140044,
     "user": {
      "displayName": "khalil hennara",
      "photoUrl": "",
      "userId": "12581719381754495507"
     },
     "user_tz": -120
    },
    "id": "sprSphjzgLne",
    "outputId": "055e553e-4ecd-487b-e894-ba620ffb38ce"
   },
   "outputs": [
    {
     "data": {
      "application/vnd.google.colaboratory.intrinsic+json": {
       "type": "string"
      },
      "text/plain": [
       "'/device:GPU:0'"
      ]
     },
     "execution_count": 12,
     "metadata": {
      "tags": []
     },
     "output_type": "execute_result"
    }
   ],
   "source": [
    "tf.test.gpu_device_name()"
   ]
  },
  {
   "cell_type": "code",
   "execution_count": null,
   "metadata": {
    "id": "Dga3IbuXgPVb"
   },
   "outputs": [],
   "source": [
    "with tf.device('/device:GPU:0'):\n",
    "  history=model.fit(X_train_set,y_train,epochs=20,validation_data=(X_val_set,y_val),callbacks=callbacks_list)"
   ]
  },
  {
   "cell_type": "code",
   "execution_count": null,
   "metadata": {
    "colab": {
     "base_uri": "https://localhost:8080/"
    },
    "executionInfo": {
     "elapsed": 12086,
     "status": "ok",
     "timestamp": 1608746711207,
     "user": {
      "displayName": "khalil hennara",
      "photoUrl": "",
      "userId": "12581719381754495507"
     },
     "user_tz": -120
    },
    "id": "x_FfBXY7gdPS",
    "outputId": "fce37bbe-cdce-4c4b-88eb-55b68fb35004"
   },
   "outputs": [
    {
     "name": "stdout",
     "output_type": "stream",
     "text": [
      "823/823 [==============================] - 4s 5ms/step - loss: 0.2508 - accuracy: 0.9225\n",
      "Accuracy : 0.9225\n",
      "258/258 [==============================] - 1s 5ms/step - loss: 0.6057 - accuracy: 0.7903\n",
      "Accuracy : 0.7903\n"
     ]
    }
   ],
   "source": [
    "model=keras.models.load_model('/content/drive/MyDrive/GRU_Learning_scheduler.h5')\n",
    "loss,acc=model.evaluate(X_train_set,y_train)\n",
    "print('Accuracy : {:.4f}'.format(acc))\n",
    "loss,acc=model.evaluate(X_test_set,y_test)\n",
    "print('Accuracy : {:.4f}'.format(acc))"
   ]
  },
  {
   "cell_type": "markdown",
   "metadata": {},
   "source": [
    "# Note \n",
    "The following cell have model that create using keras API Models \n",
    "for mask issuse \n",
    "\n",
    "its the same as old model but we add mask for ignor *0* wich is the value of padding \n",
    "in other word ignor the padding token"
   ]
  },
  {
   "cell_type": "code",
   "execution_count": 11,
   "metadata": {
    "executionInfo": {
     "elapsed": 2970,
     "status": "ok",
     "timestamp": 1608772784799,
     "user": {
      "displayName": "khalil hennara",
      "photoUrl": "",
      "userId": "12581719381754495507"
     },
     "user_tz": -120
    },
    "id": "YOQLPG__xYfy"
   },
   "outputs": [],
   "source": [
    "\n",
    "keras.backend.clear_session()\n",
    "K = keras.backend\n",
    "inputs = keras.layers.Input(shape=[None])\n",
    "mask = keras.layers.Lambda(lambda inputs: K.not_equal(inputs, 0))(inputs)\n",
    "z=keras.layers.Embedding(input_dim=num_tokens,\n",
    "                                 output_dim=embading_dim,\n",
    "                                 embeddings_initializer=keras.initializers.Constant(embading_matrix),\n",
    "                                 trainable=True,\n",
    "                                 input_length=max_length)(inputs)\n",
    "z = keras.layers.GRU(128,return_sequences=True)(z,mask=mask)\n",
    "z = keras.layers.GRU(128,return_sequences=True)(z,mask=mask)\n",
    "z = keras.layers.GlobalMaxPool1D()(z)\n",
    "outputs=keras.layers.Dense(5,activation='softmax')(z)\n",
    "Model=keras.Model(inputs=[inputs],outputs=[outputs])"
   ]
  },
  {
   "cell_type": "code",
   "execution_count": 12,
   "metadata": {
    "executionInfo": {
     "elapsed": 742,
     "status": "ok",
     "timestamp": 1608772788381,
     "user": {
      "displayName": "khalil hennara",
      "photoUrl": "",
      "userId": "12581719381754495507"
     },
     "user_tz": -120
    },
    "id": "h9RW2SlwO2Hz"
   },
   "outputs": [],
   "source": [
    "Model.compile(loss='categorical_crossentropy',optimizer=keras.optimizers.Adam(lr=1e-4),metrics=['accuracy'])\n",
    "eraly_stop=keras.callbacks.EarlyStopping(monitor='val_loss',patience=3)\n",
    "check_point=keras.callbacks.ModelCheckpoint('/content/drive/MyDrive/GRU_Learning_scheduler_20.h5',save_best_only=True)\n",
    "#lr_scdual=keras.callbacks.LearningRateScheduler(lr_schedule,verbose=0)\n",
    "reduce_lr =  keras.callbacks.ReduceLROnPlateau(monitor = \"val_loss\", factor = 0.5, patience = 3,\n",
    "  verbose = 0, mode = \"auto\", min_delta = 0.0008, cooldown = 0,\n",
    "  min_lr = 1e-5)\n",
    "callbacks_list=[eraly_stop,check_point,reduce_lr]\n"
   ]
  },
  {
   "cell_type": "code",
   "execution_count": 13,
   "metadata": {
    "colab": {
     "base_uri": "https://localhost:8080/"
    },
    "executionInfo": {
     "elapsed": 1323381,
     "status": "ok",
     "timestamp": 1608774116151,
     "user": {
      "displayName": "khalil hennara",
      "photoUrl": "",
      "userId": "12581719381754495507"
     },
     "user_tz": -120
    },
    "id": "Tvb-4pgjO72i",
    "outputId": "c8d5b54f-aa92-47e3-ca12-fbfcf0de9a3a"
   },
   "outputs": [
    {
     "name": "stdout",
     "output_type": "stream",
     "text": [
      "Epoch 1/20\n",
      "823/823 [==============================] - 123s 140ms/step - loss: 1.4978 - accuracy: 0.3298 - val_loss: 1.1850 - val_accuracy: 0.4931\n",
      "Epoch 2/20\n",
      "823/823 [==============================] - 117s 142ms/step - loss: 1.1043 - accuracy: 0.5403 - val_loss: 1.0113 - val_accuracy: 0.5885\n",
      "Epoch 3/20\n",
      "823/823 [==============================] - 113s 137ms/step - loss: 0.9127 - accuracy: 0.6464 - val_loss: 0.9125 - val_accuracy: 0.6483\n",
      "Epoch 4/20\n",
      "823/823 [==============================] - 112s 137ms/step - loss: 0.7962 - accuracy: 0.7063 - val_loss: 0.8755 - val_accuracy: 0.6637\n",
      "Epoch 5/20\n",
      "823/823 [==============================] - 113s 137ms/step - loss: 0.7012 - accuracy: 0.7490 - val_loss: 0.8174 - val_accuracy: 0.6963\n",
      "Epoch 6/20\n",
      "823/823 [==============================] - 113s 137ms/step - loss: 0.6197 - accuracy: 0.7949 - val_loss: 0.7869 - val_accuracy: 0.7097\n",
      "Epoch 7/20\n",
      "823/823 [==============================] - 113s 137ms/step - loss: 0.5417 - accuracy: 0.8233 - val_loss: 0.7851 - val_accuracy: 0.7159\n",
      "Epoch 8/20\n",
      "823/823 [==============================] - 112s 136ms/step - loss: 0.4829 - accuracy: 0.8480 - val_loss: 0.7841 - val_accuracy: 0.7179\n",
      "Epoch 9/20\n",
      "823/823 [==============================] - 111s 135ms/step - loss: 0.4442 - accuracy: 0.8641 - val_loss: 0.8008 - val_accuracy: 0.7140\n",
      "Epoch 10/20\n",
      "823/823 [==============================] - 110s 134ms/step - loss: 0.3963 - accuracy: 0.8793 - val_loss: 0.8286 - val_accuracy: 0.7058\n",
      "Epoch 11/20\n",
      "823/823 [==============================] - 110s 134ms/step - loss: 0.3646 - accuracy: 0.8928 - val_loss: 0.8444 - val_accuracy: 0.7059\n"
     ]
    }
   ],
   "source": [
    "with tf.device('/device:GPU:0'):\n",
    "  history=Model.fit(X_train_set,y_train,epochs=20,validation_data=(X_val_set,y_val),callbacks=callbacks_list)"
   ]
  },
  {
   "cell_type": "code",
   "execution_count": 16,
   "metadata": {
    "colab": {
     "base_uri": "https://localhost:8080/"
    },
    "executionInfo": {
     "elapsed": 7912,
     "status": "ok",
     "timestamp": 1608774174085,
     "user": {
      "displayName": "khalil hennara",
      "photoUrl": "",
      "userId": "12581719381754495507"
     },
     "user_tz": -120
    },
    "id": "qIMq3YYFPByV",
    "outputId": "80344b22-6428-43ce-a7ed-17e99717573c"
   },
   "outputs": [
    {
     "name": "stdout",
     "output_type": "stream",
     "text": [
      "Accuracy : 0.9095\n",
      "Accuracy : 0.7206\n"
     ]
    }
   ],
   "source": [
    "loss,acc=Model.evaluate(X_train_set,y_train,verbose=False)\n",
    "print('Accuracy : {:.4f}'.format(acc))\n",
    "loss,acc=Model.evaluate(X_test_set,y_test,verbose=False)\n",
    "print('Accuracy : {:.4f}'.format(acc))"
   ]
  },
  {
   "cell_type": "code",
   "execution_count": 17,
   "metadata": {
    "colab": {
     "base_uri": "https://localhost:8080/",
     "height": 336
    },
    "executionInfo": {
     "elapsed": 4000,
     "status": "ok",
     "timestamp": 1608774189702,
     "user": {
      "displayName": "khalil hennara",
      "photoUrl": "",
      "userId": "12581719381754495507"
     },
     "user_tz": -120
    },
    "id": "uXmXgP92TwBC",
    "outputId": "6227cc09-a898-4649-ac06-9ea1b33cb74a"
   },
   "outputs": [
    {
     "data": {
      "image/png": "[encoded data removed]",
      "text/plain": [
       "<Figure size 864x360 with 2 Axes>"
      ]
     },
     "metadata": {
      "needs_background": "light",
      "tags": []
     },
     "output_type": "display_data"
    }
   ],
   "source": [
    "plot_history(history)"
   ]
  },
  {
   "cell_type": "code",
   "execution_count": null,
   "metadata": {
    "id": "yN8ctac2T8k4"
   },
   "outputs": [],
   "source": []
  }
 ],
 "metadata": {
  "accelerator": "GPU",
  "colab": {
   "authorship_tag": "ABX9TyNWZ1z/RvMGSuUdPaU778Mz",
   "name": "Seconde_part_2",
   "provenance": []
  },
  "kernelspec": {
   "display_name": "Python 3",
   "language": "python",
   "name": "python3"
  },
  "language_info": {
   "codemirror_mode": {
    "name": "ipython",
    "version": 3
   },
   "file_extension": ".py",
   "mimetype": "text/x-python",
   "name": "python",
   "nbconvert_exporter": "python",
   "pygments_lexer": "ipython3",
   "version": "3.8.5"
  }
 },
 "nbformat": 4,
 "nbformat_minor": 1
}
