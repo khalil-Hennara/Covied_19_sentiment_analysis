{
 "cells": [
  {
   "cell_type": "code",
   "execution_count": 1,
   "metadata": {
    "executionInfo": {
     "elapsed": 4213,
     "status": "ok",
     "timestamp": 1608142574801,
     "user": {
      "displayName": "khalil hennara",
      "photoUrl": "",
      "userId": "12581719381754495507"
     },
     "user_tz": -120
    },
    "id": "pqJCwcpEPPeE"
   },
   "outputs": [],
   "source": [
    "import numpy as np\n",
    "import matplotlib.pyplot as plt\n",
    "import pandas as pd\n",
    "import nltk\n",
    "import seaborn as sn\n",
    "import re\n",
    "\n",
    "import tensorflow as tf \n",
    "import tensorflow.keras as keras "
   ]
  },
  {
   "cell_type": "markdown",
   "metadata": {},
   "source": [
    "# Loking in the data\n",
    "first step in find the best solution\n",
    "is to search in the data and be familiar with it\n",
    "all the step we do in this section it to know the data"
   ]
  },
  {
   "cell_type": "code",
   "execution_count": 42,
   "metadata": {
    "executionInfo": {
     "elapsed": 821,
     "status": "ok",
     "timestamp": 1608126862427,
     "user": {
      "displayName": "khalil hennara",
      "photoUrl": "",
      "userId": "12581719381754495507"
     },
     "user_tz": -120
    },
    "id": "Xng-BjsTPPjm"
   },
   "outputs": [],
   "source": [
    "df=pd.read_csv('/content/drive/MyDrive/Covid_19_tweets_train.csv',encoding='latin')"
   ]
  },
  {
   "cell_type": "code",
   "execution_count": 43,
   "metadata": {
    "colab": {
     "base_uri": "https://localhost:8080/"
    },
    "executionInfo": {
     "elapsed": 829,
     "status": "ok",
     "timestamp": 1608126863819,
     "user": {
      "displayName": "khalil hennara",
      "photoUrl": "",
      "userId": "12581719381754495507"
     },
     "user_tz": -120
    },
    "id": "FP0wjGtKPPoC",
    "outputId": "673e660f-85ea-442a-dafb-8c6bf8c1c2c9"
   },
   "outputs": [
    {
     "name": "stdout",
     "output_type": "stream",
     "text": [
      "<class 'pandas.core.frame.DataFrame'>\n",
      "RangeIndex: 41157 entries, 0 to 41156\n",
      "Data columns (total 6 columns):\n",
      " #   Column         Non-Null Count  Dtype \n",
      "---  ------         --------------  ----- \n",
      " 0   UserName       41157 non-null  int64 \n",
      " 1   ScreenName     41157 non-null  int64 \n",
      " 2   Location       32567 non-null  object\n",
      " 3   TweetAt        41157 non-null  object\n",
      " 4   OriginalTweet  41157 non-null  object\n",
      " 5   Sentiment      41157 non-null  object\n",
      "dtypes: int64(2), object(4)\n",
      "memory usage: 1.9+ MB\n"
     ]
    }
   ],
   "source": [
    "df.info()"
   ]
  },
  {
   "cell_type": "code",
   "execution_count": 44,
   "metadata": {
    "colab": {
     "base_uri": "https://localhost:8080/",
     "height": 455
    },
    "executionInfo": {
     "elapsed": 1275,
     "status": "ok",
     "timestamp": 1608126870232,
     "user": {
      "displayName": "khalil hennara",
      "photoUrl": "",
      "userId": "12581719381754495507"
     },
     "user_tz": -120
    },
    "id": "mPbySr4pQNtR",
    "outputId": "09835e2e-6c81-4a69-c938-24ebde67e5ea"
   },
   "outputs": [
    {
     "data": {
      "text/html": [
       "<div>\n",
       "<style scoped>\n",
       "    .dataframe tbody tr th:only-of-type {\n",
       "        vertical-align: middle;\n",
       "    }\n",
       "\n",
       "    .dataframe tbody tr th {\n",
       "        vertical-align: top;\n",
       "    }\n",
       "\n",
       "    .dataframe thead th {\n",
       "        text-align: right;\n",
       "    }\n",
       "</style>\n",
       "<table border=\"1\" class=\"dataframe\">\n",
       "  <thead>\n",
       "    <tr style=\"text-align: right;\">\n",
       "      <th></th>\n",
       "      <th>ScreenName</th>\n",
       "    </tr>\n",
       "    <tr>\n",
       "      <th>UserName</th>\n",
       "      <th></th>\n",
       "    </tr>\n",
       "  </thead>\n",
       "  <tbody>\n",
       "    <tr>\n",
       "      <th>3799</th>\n",
       "      <td>48751</td>\n",
       "    </tr>\n",
       "    <tr>\n",
       "      <th>3800</th>\n",
       "      <td>48752</td>\n",
       "    </tr>\n",
       "    <tr>\n",
       "      <th>3801</th>\n",
       "      <td>48753</td>\n",
       "    </tr>\n",
       "    <tr>\n",
       "      <th>3802</th>\n",
       "      <td>48754</td>\n",
       "    </tr>\n",
       "    <tr>\n",
       "      <th>3803</th>\n",
       "      <td>48755</td>\n",
       "    </tr>\n",
       "    <tr>\n",
       "      <th>...</th>\n",
       "      <td>...</td>\n",
       "    </tr>\n",
       "    <tr>\n",
       "      <th>44951</th>\n",
       "      <td>89903</td>\n",
       "    </tr>\n",
       "    <tr>\n",
       "      <th>44952</th>\n",
       "      <td>89904</td>\n",
       "    </tr>\n",
       "    <tr>\n",
       "      <th>44953</th>\n",
       "      <td>89905</td>\n",
       "    </tr>\n",
       "    <tr>\n",
       "      <th>44954</th>\n",
       "      <td>89906</td>\n",
       "    </tr>\n",
       "    <tr>\n",
       "      <th>44955</th>\n",
       "      <td>89907</td>\n",
       "    </tr>\n",
       "  </tbody>\n",
       "</table>\n",
       "<p>41157 rows × 1 columns</p>\n",
       "</div>"
      ],
      "text/plain": [
       "          ScreenName\n",
       "UserName            \n",
       "3799           48751\n",
       "3800           48752\n",
       "3801           48753\n",
       "3802           48754\n",
       "3803           48755\n",
       "...              ...\n",
       "44951          89903\n",
       "44952          89904\n",
       "44953          89905\n",
       "44954          89906\n",
       "44955          89907\n",
       "\n",
       "[41157 rows x 1 columns]"
      ]
     },
     "execution_count": 44,
     "metadata": {
      "tags": []
     },
     "output_type": "execute_result"
    }
   ],
   "source": [
    "df.groupby('UserName').median()"
   ]
  },
  {
   "cell_type": "code",
   "execution_count": 45,
   "metadata": {
    "colab": {
     "base_uri": "https://localhost:8080/"
    },
    "executionInfo": {
     "elapsed": 966,
     "status": "ok",
     "timestamp": 1608126872352,
     "user": {
      "displayName": "khalil hennara",
      "photoUrl": "",
      "userId": "12581719381754495507"
     },
     "user_tz": -120
    },
    "id": "_Qnhf1iEQnaP",
    "outputId": "18721ac4-8f36-4291-ad4c-54b872c80002"
   },
   "outputs": [
    {
     "name": "stdout",
     "output_type": "stream",
     "text": [
      "<class 'pandas.core.frame.DataFrame'>\n",
      "RangeIndex: 41157 entries, 0 to 41156\n",
      "Data columns (total 6 columns):\n",
      " #   Column         Non-Null Count  Dtype \n",
      "---  ------         --------------  ----- \n",
      " 0   UserName       41157 non-null  int64 \n",
      " 1   ScreenName     41157 non-null  int64 \n",
      " 2   Location       32567 non-null  object\n",
      " 3   TweetAt        41157 non-null  object\n",
      " 4   OriginalTweet  41157 non-null  object\n",
      " 5   Sentiment      41157 non-null  object\n",
      "dtypes: int64(2), object(4)\n",
      "memory usage: 1.9+ MB\n"
     ]
    }
   ],
   "source": [
    "df.info()"
   ]
  },
  {
   "cell_type": "code",
   "execution_count": 46,
   "metadata": {
    "executionInfo": {
     "elapsed": 761,
     "status": "ok",
     "timestamp": 1608126873494,
     "user": {
      "displayName": "khalil hennara",
      "photoUrl": "",
      "userId": "12581719381754495507"
     },
     "user_tz": -120
    },
    "id": "XY4-0dUUR5r_"
   },
   "outputs": [],
   "source": [
    "mask=df['Location'].isnull() == True "
   ]
  },
  {
   "cell_type": "code",
   "execution_count": 47,
   "metadata": {
    "colab": {
     "base_uri": "https://localhost:8080/",
     "height": 597
    },
    "executionInfo": {
     "elapsed": 1789,
     "status": "ok",
     "timestamp": 1608126875855,
     "user": {
      "displayName": "khalil hennara",
      "photoUrl": "",
      "userId": "12581719381754495507"
     },
     "user_tz": -120
    },
    "id": "RRlmS5JTSNKc",
    "outputId": "53d89115-6817-4265-f20f-5449019e7a52"
   },
   "outputs": [
    {
     "data": {
      "text/html": [
       "<div>\n",
       "<style scoped>\n",
       "    .dataframe tbody tr th:only-of-type {\n",
       "        vertical-align: middle;\n",
       "    }\n",
       "\n",
       "    .dataframe tbody tr th {\n",
       "        vertical-align: top;\n",
       "    }\n",
       "\n",
       "    .dataframe thead th {\n",
       "        text-align: right;\n",
       "    }\n",
       "</style>\n",
       "<table border=\"1\" class=\"dataframe\">\n",
       "  <thead>\n",
       "    <tr style=\"text-align: right;\">\n",
       "      <th></th>\n",
       "      <th>UserName</th>\n",
       "      <th>ScreenName</th>\n",
       "      <th>Location</th>\n",
       "      <th>TweetAt</th>\n",
       "      <th>OriginalTweet</th>\n",
       "      <th>Sentiment</th>\n",
       "    </tr>\n",
       "  </thead>\n",
       "  <tbody>\n",
       "    <tr>\n",
       "      <th>3</th>\n",
       "      <td>3802</td>\n",
       "      <td>48754</td>\n",
       "      <td>NaN</td>\n",
       "      <td>16-03-2020</td>\n",
       "      <td>My food stock is not the only one which is emp...</td>\n",
       "      <td>Positive</td>\n",
       "    </tr>\n",
       "    <tr>\n",
       "      <th>4</th>\n",
       "      <td>3803</td>\n",
       "      <td>48755</td>\n",
       "      <td>NaN</td>\n",
       "      <td>16-03-2020</td>\n",
       "      <td>Me, ready to go at supermarket during the #COV...</td>\n",
       "      <td>Extremely Negative</td>\n",
       "    </tr>\n",
       "    <tr>\n",
       "      <th>14</th>\n",
       "      <td>3813</td>\n",
       "      <td>48765</td>\n",
       "      <td>NaN</td>\n",
       "      <td>16-03-2020</td>\n",
       "      <td>ADARA Releases COVID-19 Resource Center for Tr...</td>\n",
       "      <td>Positive</td>\n",
       "    </tr>\n",
       "    <tr>\n",
       "      <th>22</th>\n",
       "      <td>3821</td>\n",
       "      <td>48773</td>\n",
       "      <td>NaN</td>\n",
       "      <td>16-03-2020</td>\n",
       "      <td>We have AMAZING CHEAP DEALS! FOR THE #COVID201...</td>\n",
       "      <td>Extremely Positive</td>\n",
       "    </tr>\n",
       "    <tr>\n",
       "      <th>23</th>\n",
       "      <td>3822</td>\n",
       "      <td>48774</td>\n",
       "      <td>NaN</td>\n",
       "      <td>16-03-2020</td>\n",
       "      <td>We have AMAZING CHEAP DEALS! FOR THE #COVID201...</td>\n",
       "      <td>Extremely Positive</td>\n",
       "    </tr>\n",
       "    <tr>\n",
       "      <th>...</th>\n",
       "      <td>...</td>\n",
       "      <td>...</td>\n",
       "      <td>...</td>\n",
       "      <td>...</td>\n",
       "      <td>...</td>\n",
       "      <td>...</td>\n",
       "    </tr>\n",
       "    <tr>\n",
       "      <th>41148</th>\n",
       "      <td>44947</td>\n",
       "      <td>89899</td>\n",
       "      <td>NaN</td>\n",
       "      <td>14-04-2020</td>\n",
       "      <td>UV light Sterilizer Sanitizer for your mask an...</td>\n",
       "      <td>Extremely Positive</td>\n",
       "    </tr>\n",
       "    <tr>\n",
       "      <th>41151</th>\n",
       "      <td>44950</td>\n",
       "      <td>89902</td>\n",
       "      <td>NaN</td>\n",
       "      <td>14-04-2020</td>\n",
       "      <td>@MrSilverScott you are definitely my man. I fe...</td>\n",
       "      <td>Extremely Positive</td>\n",
       "    </tr>\n",
       "    <tr>\n",
       "      <th>41153</th>\n",
       "      <td>44952</td>\n",
       "      <td>89904</td>\n",
       "      <td>NaN</td>\n",
       "      <td>14-04-2020</td>\n",
       "      <td>Response to complaint not provided citing COVI...</td>\n",
       "      <td>Extremely Negative</td>\n",
       "    </tr>\n",
       "    <tr>\n",
       "      <th>41154</th>\n",
       "      <td>44953</td>\n",
       "      <td>89905</td>\n",
       "      <td>NaN</td>\n",
       "      <td>14-04-2020</td>\n",
       "      <td>You know itÂs getting tough when @KameronWild...</td>\n",
       "      <td>Positive</td>\n",
       "    </tr>\n",
       "    <tr>\n",
       "      <th>41155</th>\n",
       "      <td>44954</td>\n",
       "      <td>89906</td>\n",
       "      <td>NaN</td>\n",
       "      <td>14-04-2020</td>\n",
       "      <td>Is it wrong that the smell of hand sanitizer i...</td>\n",
       "      <td>Neutral</td>\n",
       "    </tr>\n",
       "  </tbody>\n",
       "</table>\n",
       "<p>8590 rows × 6 columns</p>\n",
       "</div>"
      ],
      "text/plain": [
       "       UserName  ...           Sentiment\n",
       "3          3802  ...            Positive\n",
       "4          3803  ...  Extremely Negative\n",
       "14         3813  ...            Positive\n",
       "22         3821  ...  Extremely Positive\n",
       "23         3822  ...  Extremely Positive\n",
       "...         ...  ...                 ...\n",
       "41148     44947  ...  Extremely Positive\n",
       "41151     44950  ...  Extremely Positive\n",
       "41153     44952  ...  Extremely Negative\n",
       "41154     44953  ...            Positive\n",
       "41155     44954  ...             Neutral\n",
       "\n",
       "[8590 rows x 6 columns]"
      ]
     },
     "execution_count": 47,
     "metadata": {
      "tags": []
     },
     "output_type": "execute_result"
    }
   ],
   "source": [
    "df[mask]"
   ]
  },
  {
   "cell_type": "code",
   "execution_count": 48,
   "metadata": {
    "colab": {
     "base_uri": "https://localhost:8080/",
     "height": 293
    },
    "executionInfo": {
     "elapsed": 1751,
     "status": "ok",
     "timestamp": 1608126876721,
     "user": {
      "displayName": "khalil hennara",
      "photoUrl": "",
      "userId": "12581719381754495507"
     },
     "user_tz": -120
    },
    "id": "KGUz3IC1ScR1",
    "outputId": "f0f7a80a-104c-430c-eadb-7501c65d678b"
   },
   "outputs": [
    {
     "data": {
      "text/html": [
       "<div>\n",
       "<style scoped>\n",
       "    .dataframe tbody tr th:only-of-type {\n",
       "        vertical-align: middle;\n",
       "    }\n",
       "\n",
       "    .dataframe tbody tr th {\n",
       "        vertical-align: top;\n",
       "    }\n",
       "\n",
       "    .dataframe thead th {\n",
       "        text-align: right;\n",
       "    }\n",
       "</style>\n",
       "<table border=\"1\" class=\"dataframe\">\n",
       "  <thead>\n",
       "    <tr style=\"text-align: right;\">\n",
       "      <th></th>\n",
       "      <th>UserName</th>\n",
       "      <th>ScreenName</th>\n",
       "      <th>Location</th>\n",
       "      <th>TweetAt</th>\n",
       "      <th>OriginalTweet</th>\n",
       "      <th>Sentiment</th>\n",
       "    </tr>\n",
       "  </thead>\n",
       "  <tbody>\n",
       "    <tr>\n",
       "      <th>0</th>\n",
       "      <td>3799</td>\n",
       "      <td>48751</td>\n",
       "      <td>London</td>\n",
       "      <td>16-03-2020</td>\n",
       "      <td>@MeNyrbie @Phil_Gahan @Chrisitv https://t.co/i...</td>\n",
       "      <td>Neutral</td>\n",
       "    </tr>\n",
       "    <tr>\n",
       "      <th>1</th>\n",
       "      <td>3800</td>\n",
       "      <td>48752</td>\n",
       "      <td>UK</td>\n",
       "      <td>16-03-2020</td>\n",
       "      <td>advice Talk to your neighbours family to excha...</td>\n",
       "      <td>Positive</td>\n",
       "    </tr>\n",
       "    <tr>\n",
       "      <th>2</th>\n",
       "      <td>3801</td>\n",
       "      <td>48753</td>\n",
       "      <td>Vagabonds</td>\n",
       "      <td>16-03-2020</td>\n",
       "      <td>Coronavirus Australia: Woolworths to give elde...</td>\n",
       "      <td>Positive</td>\n",
       "    </tr>\n",
       "    <tr>\n",
       "      <th>5</th>\n",
       "      <td>3804</td>\n",
       "      <td>48756</td>\n",
       "      <td>ÃT: 36.319708,-82.363649</td>\n",
       "      <td>16-03-2020</td>\n",
       "      <td>As news of the regionÂs first confirmed COVID...</td>\n",
       "      <td>Positive</td>\n",
       "    </tr>\n",
       "    <tr>\n",
       "      <th>6</th>\n",
       "      <td>3805</td>\n",
       "      <td>48757</td>\n",
       "      <td>35.926541,-78.753267</td>\n",
       "      <td>16-03-2020</td>\n",
       "      <td>Cashier at grocery store was sharing his insig...</td>\n",
       "      <td>Positive</td>\n",
       "    </tr>\n",
       "  </tbody>\n",
       "</table>\n",
       "</div>"
      ],
      "text/plain": [
       "   UserName  ...  Sentiment\n",
       "0      3799  ...    Neutral\n",
       "1      3800  ...   Positive\n",
       "2      3801  ...   Positive\n",
       "5      3804  ...   Positive\n",
       "6      3805  ...   Positive\n",
       "\n",
       "[5 rows x 6 columns]"
      ]
     },
     "execution_count": 48,
     "metadata": {
      "tags": []
     },
     "output_type": "execute_result"
    }
   ],
   "source": [
    "df[~mask].head()"
   ]
  },
  {
   "cell_type": "code",
   "execution_count": 49,
   "metadata": {
    "colab": {
     "base_uri": "https://localhost:8080/"
    },
    "executionInfo": {
     "elapsed": 1160,
     "status": "ok",
     "timestamp": 1608126876723,
     "user": {
      "displayName": "khalil hennara",
      "photoUrl": "",
      "userId": "12581719381754495507"
     },
     "user_tz": -120
    },
    "id": "XjKd7xWpSzEd",
    "outputId": "472dc365-96f3-487c-93c7-83eec529c1ec"
   },
   "outputs": [
    {
     "data": {
      "text/plain": [
       "London                          540\n",
       "United States                   528\n",
       "London, England                 520\n",
       "New York, NY                    395\n",
       "Washington, DC                  373\n",
       "                               ... \n",
       "SjÃ¦lland, Danmark                1\n",
       "why?                              1\n",
       "Birmingham, Birmingham            1\n",
       "Birmingham EU.                    1\n",
       "Kitchener | Ontario | Canada      1\n",
       "Name: Location, Length: 12220, dtype: int64"
      ]
     },
     "execution_count": 49,
     "metadata": {
      "tags": []
     },
     "output_type": "execute_result"
    }
   ],
   "source": [
    "df['Location'].value_counts()"
   ]
  },
  {
   "cell_type": "markdown",
   "metadata": {
    "executionInfo": {
     "elapsed": 1436,
     "status": "ok",
     "timestamp": 1608126877545,
     "user": {
      "displayName": "khalil hennara",
      "photoUrl": "",
      "userId": "12581719381754495507"
     },
     "user_tz": -120
    },
    "id": "V3pnIsg4TI57"
   },
   "source": [
    "As we see The Location column has too many bad value and the only column has None value so \n",
    "I would delet this column its better than west time to clean This column"
   ]
  },
  {
   "cell_type": "code",
   "execution_count": 51,
   "metadata": {
    "colab": {
     "base_uri": "https://localhost:8080/",
     "height": 424
    },
    "executionInfo": {
     "elapsed": 986,
     "status": "ok",
     "timestamp": 1608126877548,
     "user": {
      "displayName": "khalil hennara",
      "photoUrl": "",
      "userId": "12581719381754495507"
     },
     "user_tz": -120
    },
    "id": "OOHrDDqJT_6R",
    "outputId": "53d017ce-de18-43b6-b3ca-3bd4cd5b9acb"
   },
   "outputs": [
    {
     "data": {
      "text/html": [
       "<div>\n",
       "<style scoped>\n",
       "    .dataframe tbody tr th:only-of-type {\n",
       "        vertical-align: middle;\n",
       "    }\n",
       "\n",
       "    .dataframe tbody tr th {\n",
       "        vertical-align: top;\n",
       "    }\n",
       "\n",
       "    .dataframe thead th {\n",
       "        text-align: right;\n",
       "    }\n",
       "</style>\n",
       "<table border=\"1\" class=\"dataframe\">\n",
       "  <thead>\n",
       "    <tr style=\"text-align: right;\">\n",
       "      <th></th>\n",
       "      <th>UserName</th>\n",
       "      <th>ScreenName</th>\n",
       "      <th>TweetAt</th>\n",
       "      <th>OriginalTweet</th>\n",
       "      <th>Sentiment</th>\n",
       "    </tr>\n",
       "  </thead>\n",
       "  <tbody>\n",
       "    <tr>\n",
       "      <th>0</th>\n",
       "      <td>3799</td>\n",
       "      <td>48751</td>\n",
       "      <td>16-03-2020</td>\n",
       "      <td>@MeNyrbie @Phil_Gahan @Chrisitv https://t.co/i...</td>\n",
       "      <td>Neutral</td>\n",
       "    </tr>\n",
       "    <tr>\n",
       "      <th>1</th>\n",
       "      <td>3800</td>\n",
       "      <td>48752</td>\n",
       "      <td>16-03-2020</td>\n",
       "      <td>advice Talk to your neighbours family to excha...</td>\n",
       "      <td>Positive</td>\n",
       "    </tr>\n",
       "    <tr>\n",
       "      <th>2</th>\n",
       "      <td>3801</td>\n",
       "      <td>48753</td>\n",
       "      <td>16-03-2020</td>\n",
       "      <td>Coronavirus Australia: Woolworths to give elde...</td>\n",
       "      <td>Positive</td>\n",
       "    </tr>\n",
       "    <tr>\n",
       "      <th>3</th>\n",
       "      <td>3802</td>\n",
       "      <td>48754</td>\n",
       "      <td>16-03-2020</td>\n",
       "      <td>My food stock is not the only one which is emp...</td>\n",
       "      <td>Positive</td>\n",
       "    </tr>\n",
       "    <tr>\n",
       "      <th>4</th>\n",
       "      <td>3803</td>\n",
       "      <td>48755</td>\n",
       "      <td>16-03-2020</td>\n",
       "      <td>Me, ready to go at supermarket during the #COV...</td>\n",
       "      <td>Extremely Negative</td>\n",
       "    </tr>\n",
       "    <tr>\n",
       "      <th>...</th>\n",
       "      <td>...</td>\n",
       "      <td>...</td>\n",
       "      <td>...</td>\n",
       "      <td>...</td>\n",
       "      <td>...</td>\n",
       "    </tr>\n",
       "    <tr>\n",
       "      <th>41152</th>\n",
       "      <td>44951</td>\n",
       "      <td>89903</td>\n",
       "      <td>14-04-2020</td>\n",
       "      <td>Airline pilots offering to stock supermarket s...</td>\n",
       "      <td>Neutral</td>\n",
       "    </tr>\n",
       "    <tr>\n",
       "      <th>41153</th>\n",
       "      <td>44952</td>\n",
       "      <td>89904</td>\n",
       "      <td>14-04-2020</td>\n",
       "      <td>Response to complaint not provided citing COVI...</td>\n",
       "      <td>Extremely Negative</td>\n",
       "    </tr>\n",
       "    <tr>\n",
       "      <th>41154</th>\n",
       "      <td>44953</td>\n",
       "      <td>89905</td>\n",
       "      <td>14-04-2020</td>\n",
       "      <td>You know itÂs getting tough when @KameronWild...</td>\n",
       "      <td>Positive</td>\n",
       "    </tr>\n",
       "    <tr>\n",
       "      <th>41155</th>\n",
       "      <td>44954</td>\n",
       "      <td>89906</td>\n",
       "      <td>14-04-2020</td>\n",
       "      <td>Is it wrong that the smell of hand sanitizer i...</td>\n",
       "      <td>Neutral</td>\n",
       "    </tr>\n",
       "    <tr>\n",
       "      <th>41156</th>\n",
       "      <td>44955</td>\n",
       "      <td>89907</td>\n",
       "      <td>14-04-2020</td>\n",
       "      <td>@TartiiCat Well new/used Rift S are going for ...</td>\n",
       "      <td>Negative</td>\n",
       "    </tr>\n",
       "  </tbody>\n",
       "</table>\n",
       "<p>41157 rows × 5 columns</p>\n",
       "</div>"
      ],
      "text/plain": [
       "       UserName  ...           Sentiment\n",
       "0          3799  ...             Neutral\n",
       "1          3800  ...            Positive\n",
       "2          3801  ...            Positive\n",
       "3          3802  ...            Positive\n",
       "4          3803  ...  Extremely Negative\n",
       "...         ...  ...                 ...\n",
       "41152     44951  ...             Neutral\n",
       "41153     44952  ...  Extremely Negative\n",
       "41154     44953  ...            Positive\n",
       "41155     44954  ...             Neutral\n",
       "41156     44955  ...            Negative\n",
       "\n",
       "[41157 rows x 5 columns]"
      ]
     },
     "execution_count": 51,
     "metadata": {
      "tags": []
     },
     "output_type": "execute_result"
    }
   ],
   "source": [
    "df.drop('Location',axis=1,inplace=True)\n",
    "df"
   ]
  },
  {
   "cell_type": "code",
   "execution_count": 52,
   "metadata": {
    "colab": {
     "base_uri": "https://localhost:8080/"
    },
    "executionInfo": {
     "elapsed": 904,
     "status": "ok",
     "timestamp": 1608126877892,
     "user": {
      "displayName": "khalil hennara",
      "photoUrl": "",
      "userId": "12581719381754495507"
     },
     "user_tz": -120
    },
    "id": "VbCXXnulULFN",
    "outputId": "230cf04b-dd8b-4b67-d312-3731f5b06bd3"
   },
   "outputs": [
    {
     "name": "stdout",
     "output_type": "stream",
     "text": [
      "<class 'pandas.core.frame.DataFrame'>\n",
      "RangeIndex: 41157 entries, 0 to 41156\n",
      "Data columns (total 5 columns):\n",
      " #   Column         Non-Null Count  Dtype \n",
      "---  ------         --------------  ----- \n",
      " 0   UserName       41157 non-null  int64 \n",
      " 1   ScreenName     41157 non-null  int64 \n",
      " 2   TweetAt        41157 non-null  object\n",
      " 3   OriginalTweet  41157 non-null  object\n",
      " 4   Sentiment      41157 non-null  object\n",
      "dtypes: int64(2), object(3)\n",
      "memory usage: 1.6+ MB\n"
     ]
    }
   ],
   "source": [
    "df.info()"
   ]
  },
  {
   "cell_type": "markdown",
   "metadata": {},
   "source": [
    " **Find The Number of Class**"
   ]
  },
  {
   "cell_type": "code",
   "execution_count": 53,
   "metadata": {
    "colab": {
     "base_uri": "https://localhost:8080/"
    },
    "executionInfo": {
     "elapsed": 1531,
     "status": "ok",
     "timestamp": 1608126878937,
     "user": {
      "displayName": "khalil hennara",
      "photoUrl": "",
      "userId": "12581719381754495507"
     },
     "user_tz": -120
    },
    "id": "Dl6COhzGUQzG",
    "outputId": "695fcb60-c786-4174-ca83-da501cca9796"
   },
   "outputs": [
    {
     "data": {
      "text/plain": [
       "Positive              11422\n",
       "Negative               9917\n",
       "Neutral                7713\n",
       "Extremely Positive     6624\n",
       "Extremely Negative     5481\n",
       "Name: Sentiment, dtype: int64"
      ]
     },
     "execution_count": 53,
     "metadata": {
      "tags": []
     },
     "output_type": "execute_result"
    }
   ],
   "source": [
    "df['Sentiment'].value_counts()"
   ]
  },
  {
   "cell_type": "markdown",
   "metadata": {
    "executionInfo": {
     "elapsed": 1200,
     "status": "ok",
     "timestamp": 1608126878939,
     "user": {
      "displayName": "khalil hennara",
      "photoUrl": "",
      "userId": "12581719381754495507"
     },
     "user_tz": -120
    },
    "id": "fGdvPAcpUX3n"
   },
   "source": [
    "as we see we have 5 class in this data \n",
    "#### Positive,  Negative, ExtremelyPositive, ExtremelyNegative, Neutral"
   ]
  },
  {
   "cell_type": "code",
   "execution_count": 55,
   "metadata": {
    "colab": {
     "base_uri": "https://localhost:8080/"
    },
    "executionInfo": {
     "elapsed": 1267,
     "status": "ok",
     "timestamp": 1608126879637,
     "user": {
      "displayName": "khalil hennara",
      "photoUrl": "",
      "userId": "12581719381754495507"
     },
     "user_tz": -120
    },
    "id": "9gXTf0SfUX57",
    "outputId": "4a919bbd-57b0-411a-e19e-52eb6a5f5b35"
   },
   "outputs": [
    {
     "data": {
      "text/plain": [
       "@Consumer_Cell has the worst customer service.  Sold my 77 yo mother a #consumercellular phone that doesn't work then cancelled my account without my authorization.  You should be ashamed of this kind of service during #coronavirus epidemic.                                             1\n",
       "\"YouÂre social distancing, but you still need to eat. @amandamull untangles the physical and moral hazards of ordering takeout or going to the grocery store during a pandemic.\" https://t.co/ke8c4iKD0j #coronavirus                                                                        1\n",
       "Can we just take a minute to appreciate the hard work and stress all the panic buyers are putting the supermarket workers under. Never seen so much selfishness in my life. #Corvid19uk #panicbuying #COVID2019 #emptyshelves                                                                 1\n",
       "@BustingCrimes @grahamwettone Help for hospitality staff: @HospAction \\r\\r\\nHelp for pub staff: @drinks_trust \\r\\r\\nAdvice on benefits, debt, consumer &amp; employment issues: @CitizensAdvice \\r\\r\\nBenefits calculator/grants search: @turn2us_org \\r\\r\\nDebt advice: @D                   1\n",
       "@TomiLahren Perhaps @TomiLahren the way forward re your suggestion to reopen America would be for you to lead from the front - go volunteer at a hospital and clean the COVID-19 ridden beds and rooms, maybe work in a supermarket on the till or bagging up -                               1\n",
       "                                                                                                                                                                                                                                                                                             ..\n",
       "@BedBathBeyond I love shopping with yÂall and do understand that stores are closed due to the COVID-19 pandemic, but I would love to use my two year expired coupons online since I cannot in store.                                                                                         1\n",
       "Divergence in #oilprice shows Collapse in Demand due to #coronavirus pandemic sparks a downturn in the #globaleconomy https://t.co/0eRrGwcgVf https://t.co/4SDz9Yz4pl                                                                                                                         1\n",
       "She is an idiot??\\r\\r\\nhttps://t.co/0xhRBoJGF6                                                                                                                                                                                                                                                1\n",
       "Clapping for frontline NHS workers, carers, supermarket staff and everyone else risking their lives and health to care for others from our quiet corner of London. So much gratitude. ?? #ClapForCarers #ClapForTheNHS #clapforourcarers #coronavirus #NHSThankYou https://t.co/BRkAvOPCx3    1\n",
       "SSD and RAM prices fall due to CoronaVirus COVID-19 https://t.co/TKp7ejWelh\\r\\r\\n\\r\\r\\n#SSD #RAM #CoronaVirusUpdate #CoronaVirus #Covid_19 #COVID2019NL #tech #technology https://t.co/84V9My7Y7r                                                                                             1\n",
       "Name: OriginalTweet, Length: 41157, dtype: int64"
      ]
     },
     "execution_count": 55,
     "metadata": {
      "tags": []
     },
     "output_type": "execute_result"
    }
   ],
   "source": [
    "df['OriginalTweet'].value_counts()"
   ]
  },
  {
   "cell_type": "markdown",
   "metadata": {
    "executionInfo": {
     "elapsed": 1453,
     "status": "ok",
     "timestamp": 1608126880232,
     "user": {
      "displayName": "khalil hennara",
      "photoUrl": "",
      "userId": "12581719381754495507"
     },
     "user_tz": -120
    },
    "id": "snD2xATuUX9S"
   },
   "source": [
    "## Note\n",
    "There is no repete tweet and that good thing for traning "
   ]
  },
  {
   "cell_type": "code",
   "execution_count": 57,
   "metadata": {
    "colab": {
     "base_uri": "https://localhost:8080/"
    },
    "executionInfo": {
     "elapsed": 1513,
     "status": "ok",
     "timestamp": 1608126880770,
     "user": {
      "displayName": "khalil hennara",
      "photoUrl": "",
      "userId": "12581719381754495507"
     },
     "user_tz": -120
    },
    "id": "Fo0dd4FBUYBd",
    "outputId": "5a3128e1-8415-40a6-c839-b3d3aae1430b"
   },
   "outputs": [
    {
     "data": {
      "text/plain": [
       "Positive              11422\n",
       "Negative               9917\n",
       "Neutral                7713\n",
       "Extremely Positive     6624\n",
       "Extremely Negative     5481\n",
       "Name: Sentiment, dtype: int64"
      ]
     },
     "execution_count": 57,
     "metadata": {
      "tags": []
     },
     "output_type": "execute_result"
    }
   ],
   "source": [
    "df['Sentiment'].value_counts()"
   ]
  },
  {
   "cell_type": "code",
   "execution_count": 58,
   "metadata": {
    "executionInfo": {
     "elapsed": 1157,
     "status": "ok",
     "timestamp": 1608126880773,
     "user": {
      "displayName": "khalil hennara",
      "photoUrl": "",
      "userId": "12581719381754495507"
     },
     "user_tz": -120
    },
    "id": "-rsQyQbgWm7w"
   },
   "outputs": [],
   "source": [
    "dic={'Positive':0,'Negative':1,'Neutral':2,'Extremely Positive':3,'Extremely Negative':4}"
   ]
  },
  {
   "cell_type": "code",
   "execution_count": 59,
   "metadata": {
    "executionInfo": {
     "elapsed": 1128,
     "status": "ok",
     "timestamp": 1608126881153,
     "user": {
      "displayName": "khalil hennara",
      "photoUrl": "",
      "userId": "12581719381754495507"
     },
     "user_tz": -120
    },
    "id": "ukZUTyarUYEh"
   },
   "outputs": [],
   "source": [
    "#make onther column that contain sentiment but in int \n",
    "df['NomericSentiment']=df['Sentiment'].apply(lambda x: dic[x])"
   ]
  },
  {
   "cell_type": "code",
   "execution_count": 60,
   "metadata": {
    "colab": {
     "base_uri": "https://localhost:8080/",
     "height": 282
    },
    "executionInfo": {
     "elapsed": 1124,
     "status": "ok",
     "timestamp": 1608126881597,
     "user": {
      "displayName": "khalil hennara",
      "photoUrl": "",
      "userId": "12581719381754495507"
     },
     "user_tz": -120
    },
    "id": "X5Dg4wNWWao6",
    "outputId": "12561e86-55ac-441f-fa01-d4ed2d3b9715"
   },
   "outputs": [
    {
     "data": {
      "text/plain": [
       "<matplotlib.axes._subplots.AxesSubplot at 0x7fd577710668>"
      ]
     },
     "execution_count": 60,
     "metadata": {
      "tags": []
     },
     "output_type": "execute_result"
    },
    {
     "data": {
      "image/png": "[encoded data removed]",
      "text/plain": [
       "<Figure size 432x288 with 1 Axes>"
      ]
     },
     "metadata": {
      "needs_background": "light",
      "tags": []
     },
     "output_type": "display_data"
    }
   ],
   "source": [
    "df['NomericSentiment'].hist()"
   ]
  },
  {
   "cell_type": "markdown",
   "metadata": {
    "executionInfo": {
     "elapsed": 693,
     "status": "ok",
     "timestamp": 1608126881598,
     "user": {
      "displayName": "khalil hennara",
      "photoUrl": "",
      "userId": "12581719381754495507"
     },
     "user_tz": -120
    },
    "id": "rfqjgBD-XE8r"
   },
   "source": [
    "## Note\n",
    "as we see the data have more positive value than the other class.\n",
    "\n",
    "in other world we have no normal distribution and the distribution is \n",
    "\n",
    "skew in Positive class and that should be take consideration  in the traning"
   ]
  },
  {
   "cell_type": "code",
   "execution_count": 62,
   "metadata": {
    "colab": {
     "base_uri": "https://localhost:8080/"
    },
    "executionInfo": {
     "elapsed": 564,
     "status": "ok",
     "timestamp": 1608126881928,
     "user": {
      "displayName": "khalil hennara",
      "photoUrl": "",
      "userId": "12581719381754495507"
     },
     "user_tz": -120
    },
    "id": "8U9SIwyKX4CD",
    "outputId": "128ee737-babc-4703-eb01-e6d8597dc398"
   },
   "outputs": [
    {
     "data": {
      "text/plain": [
       "0    @MeNyrbie @Phil_Gahan @Chrisitv https://t.co/i...\n",
       "1    advice Talk to your neighbours family to excha...\n",
       "2    Coronavirus Australia: Woolworths to give elde...\n",
       "Name: OriginalTweet, dtype: object"
      ]
     },
     "execution_count": 62,
     "metadata": {
      "tags": []
     },
     "output_type": "execute_result"
    }
   ],
   "source": [
    "df['OriginalTweet'][:3]"
   ]
  },
  {
   "cell_type": "code",
   "execution_count": 63,
   "metadata": {
    "executionInfo": {
     "elapsed": 1440,
     "status": "ok",
     "timestamp": 1608126883150,
     "user": {
      "displayName": "khalil hennara",
      "photoUrl": "",
      "userId": "12581719381754495507"
     },
     "user_tz": -120
    },
    "id": "vXoaE3byX4Fp"
   },
   "outputs": [],
   "source": [
    "# find The number of world in each tweet\n",
    "df['world_count']=df['OriginalTweet'].apply(lambda x: len(x.split()))"
   ]
  },
  {
   "cell_type": "code",
   "execution_count": 64,
   "metadata": {
    "colab": {
     "base_uri": "https://localhost:8080/"
    },
    "executionInfo": {
     "elapsed": 1023,
     "status": "ok",
     "timestamp": 1608126883152,
     "user": {
      "displayName": "khalil hennara",
      "photoUrl": "",
      "userId": "12581719381754495507"
     },
     "user_tz": -120
    },
    "id": "tZA4XuksX4L4",
    "outputId": "2bb91436-2376-4093-8b8a-429ac405a282"
   },
   "outputs": [
    {
     "data": {
      "text/plain": [
       "count    41157.000000\n",
       "mean        30.500304\n",
       "std         11.591172\n",
       "min          1.000000\n",
       "25%         21.000000\n",
       "50%         32.000000\n",
       "75%         40.000000\n",
       "max         64.000000\n",
       "Name: world_count, dtype: float64"
      ]
     },
     "execution_count": 64,
     "metadata": {
      "tags": []
     },
     "output_type": "execute_result"
    }
   ],
   "source": [
    "\n",
    "df['world_count'].describe()"
   ]
  },
  {
   "cell_type": "markdown",
   "metadata": {
    "executionInfo": {
     "elapsed": 1470,
     "status": "ok",
     "timestamp": 1608126883961,
     "user": {
      "displayName": "khalil hennara",
      "photoUrl": "",
      "userId": "12581719381754495507"
     },
     "user_tz": -120
    },
    "id": "zEG6iF-7X4cI"
   },
   "source": [
    " as we see There is some tweet to small so we we can drop this tweet becous its un valid tweet"
   ]
  },
  {
   "cell_type": "code",
   "execution_count": 66,
   "metadata": {
    "colab": {
     "base_uri": "https://localhost:8080/",
     "height": 1000
    },
    "executionInfo": {
     "elapsed": 1057,
     "status": "ok",
     "timestamp": 1608126883963,
     "user": {
      "displayName": "khalil hennara",
      "photoUrl": "",
      "userId": "12581719381754495507"
     },
     "user_tz": -120
    },
    "id": "Fg6RzICXX4fN",
    "outputId": "67655ff0-9621-447b-80f4-10616b64ddaf"
   },
   "outputs": [
    {
     "data": {
      "text/html": [
       "<div>\n",
       "<style scoped>\n",
       "    .dataframe tbody tr th:only-of-type {\n",
       "        vertical-align: middle;\n",
       "    }\n",
       "\n",
       "    .dataframe tbody tr th {\n",
       "        vertical-align: top;\n",
       "    }\n",
       "\n",
       "    .dataframe thead th {\n",
       "        text-align: right;\n",
       "    }\n",
       "</style>\n",
       "<table border=\"1\" class=\"dataframe\">\n",
       "  <thead>\n",
       "    <tr style=\"text-align: right;\">\n",
       "      <th></th>\n",
       "      <th>UserName</th>\n",
       "      <th>ScreenName</th>\n",
       "      <th>TweetAt</th>\n",
       "      <th>OriginalTweet</th>\n",
       "      <th>Sentiment</th>\n",
       "      <th>NomericSentiment</th>\n",
       "      <th>world_count</th>\n",
       "    </tr>\n",
       "  </thead>\n",
       "  <tbody>\n",
       "    <tr>\n",
       "      <th>7259</th>\n",
       "      <td>11058</td>\n",
       "      <td>56010</td>\n",
       "      <td>19-03-2020</td>\n",
       "      <td>Coronavirus...Better...Netizens...Mockery...Mo...</td>\n",
       "      <td>Extremely Positive</td>\n",
       "      <td>3</td>\n",
       "      <td>2</td>\n",
       "    </tr>\n",
       "    <tr>\n",
       "      <th>7260</th>\n",
       "      <td>11059</td>\n",
       "      <td>56011</td>\n",
       "      <td>19-03-2020</td>\n",
       "      <td>US...Impose...New...Iran...Link...Sanctions......</td>\n",
       "      <td>Extremely Positive</td>\n",
       "      <td>3</td>\n",
       "      <td>2</td>\n",
       "    </tr>\n",
       "    <tr>\n",
       "      <th>9073</th>\n",
       "      <td>12872</td>\n",
       "      <td>57824</td>\n",
       "      <td>20-03-2020</td>\n",
       "      <td>Stop   Fucking   Hoarding</td>\n",
       "      <td>Negative</td>\n",
       "      <td>1</td>\n",
       "      <td>3</td>\n",
       "    </tr>\n",
       "    <tr>\n",
       "      <th>9163</th>\n",
       "      <td>12962</td>\n",
       "      <td>57914</td>\n",
       "      <td>20-03-2020</td>\n",
       "      <td>Reality check indeed</td>\n",
       "      <td>Neutral</td>\n",
       "      <td>2</td>\n",
       "      <td>3</td>\n",
       "    </tr>\n",
       "    <tr>\n",
       "      <th>9167</th>\n",
       "      <td>12966</td>\n",
       "      <td>57918</td>\n",
       "      <td>20-03-2020</td>\n",
       "      <td>Meanwhile at home</td>\n",
       "      <td>Neutral</td>\n",
       "      <td>2</td>\n",
       "      <td>3</td>\n",
       "    </tr>\n",
       "    <tr>\n",
       "      <th>9516</th>\n",
       "      <td>13315</td>\n",
       "      <td>58267</td>\n",
       "      <td>20-03-2020</td>\n",
       "      <td>Unintended consequences...\\r\\r\\n\\r\\r\\nhttps://...</td>\n",
       "      <td>Neutral</td>\n",
       "      <td>2</td>\n",
       "      <td>3</td>\n",
       "    </tr>\n",
       "    <tr>\n",
       "      <th>9776</th>\n",
       "      <td>13575</td>\n",
       "      <td>58527</td>\n",
       "      <td>20-03-2020</td>\n",
       "      <td>Be like Bob</td>\n",
       "      <td>Positive</td>\n",
       "      <td>0</td>\n",
       "      <td>3</td>\n",
       "    </tr>\n",
       "    <tr>\n",
       "      <th>12047</th>\n",
       "      <td>15846</td>\n",
       "      <td>60798</td>\n",
       "      <td>21-03-2020</td>\n",
       "      <td>only in France</td>\n",
       "      <td>Neutral</td>\n",
       "      <td>2</td>\n",
       "      <td>3</td>\n",
       "    </tr>\n",
       "    <tr>\n",
       "      <th>12399</th>\n",
       "      <td>16198</td>\n",
       "      <td>61150</td>\n",
       "      <td>21-03-2020</td>\n",
       "      <td>Seems about right</td>\n",
       "      <td>Neutral</td>\n",
       "      <td>2</td>\n",
       "      <td>3</td>\n",
       "    </tr>\n",
       "    <tr>\n",
       "      <th>12716</th>\n",
       "      <td>16515</td>\n",
       "      <td>61467</td>\n",
       "      <td>21-03-2020</td>\n",
       "      <td>Stay safe everyone</td>\n",
       "      <td>Positive</td>\n",
       "      <td>0</td>\n",
       "      <td>3</td>\n",
       "    </tr>\n",
       "    <tr>\n",
       "      <th>15124</th>\n",
       "      <td>18923</td>\n",
       "      <td>63875</td>\n",
       "      <td>22-03-2020</td>\n",
       "      <td>Toilet paper anyone</td>\n",
       "      <td>Neutral</td>\n",
       "      <td>2</td>\n",
       "      <td>3</td>\n",
       "    </tr>\n",
       "    <tr>\n",
       "      <th>15477</th>\n",
       "      <td>19276</td>\n",
       "      <td>64228</td>\n",
       "      <td>22-03-2020</td>\n",
       "      <td>Supermarkets right now</td>\n",
       "      <td>Neutral</td>\n",
       "      <td>2</td>\n",
       "      <td>3</td>\n",
       "    </tr>\n",
       "    <tr>\n",
       "      <th>15577</th>\n",
       "      <td>19376</td>\n",
       "      <td>64328</td>\n",
       "      <td>22-03-2020</td>\n",
       "      <td>Tissue Issue</td>\n",
       "      <td>Neutral</td>\n",
       "      <td>2</td>\n",
       "      <td>2</td>\n",
       "    </tr>\n",
       "    <tr>\n",
       "      <th>16872</th>\n",
       "      <td>20671</td>\n",
       "      <td>65623</td>\n",
       "      <td>23-03-2020</td>\n",
       "      <td>Cartoon for</td>\n",
       "      <td>Neutral</td>\n",
       "      <td>2</td>\n",
       "      <td>2</td>\n",
       "    </tr>\n",
       "    <tr>\n",
       "      <th>16989</th>\n",
       "      <td>20788</td>\n",
       "      <td>65740</td>\n",
       "      <td>23-03-2020</td>\n",
       "      <td>TP hoarding explained</td>\n",
       "      <td>Neutral</td>\n",
       "      <td>2</td>\n",
       "      <td>3</td>\n",
       "    </tr>\n",
       "    <tr>\n",
       "      <th>17635</th>\n",
       "      <td>21434</td>\n",
       "      <td>66386</td>\n",
       "      <td>23-03-2020</td>\n",
       "      <td>too accurate 19</td>\n",
       "      <td>Neutral</td>\n",
       "      <td>2</td>\n",
       "      <td>3</td>\n",
       "    </tr>\n",
       "    <tr>\n",
       "      <th>17937</th>\n",
       "      <td>21736</td>\n",
       "      <td>66688</td>\n",
       "      <td>23-03-2020</td>\n",
       "      <td>Current situation https://t.co/Gyp289NxeP</td>\n",
       "      <td>Neutral</td>\n",
       "      <td>2</td>\n",
       "      <td>3</td>\n",
       "    </tr>\n",
       "    <tr>\n",
       "      <th>18063</th>\n",
       "      <td>21862</td>\n",
       "      <td>66814</td>\n",
       "      <td>23-03-2020</td>\n",
       "      <td>Germany...Merkel...Quarantine...supermarket......</td>\n",
       "      <td>Negative</td>\n",
       "      <td>1</td>\n",
       "      <td>3</td>\n",
       "    </tr>\n",
       "    <tr>\n",
       "      <th>18977</th>\n",
       "      <td>22776</td>\n",
       "      <td>67728</td>\n",
       "      <td>24-03-2020</td>\n",
       "      <td>Survival strategy</td>\n",
       "      <td>Neutral</td>\n",
       "      <td>2</td>\n",
       "      <td>2</td>\n",
       "    </tr>\n",
       "    <tr>\n",
       "      <th>19325</th>\n",
       "      <td>23124</td>\n",
       "      <td>68076</td>\n",
       "      <td>24-03-2020</td>\n",
       "      <td>Coronavirus is here</td>\n",
       "      <td>Neutral</td>\n",
       "      <td>2</td>\n",
       "      <td>3</td>\n",
       "    </tr>\n",
       "    <tr>\n",
       "      <th>19410</th>\n",
       "      <td>23209</td>\n",
       "      <td>68161</td>\n",
       "      <td>24-03-2020</td>\n",
       "      <td>BREAKING NEWS</td>\n",
       "      <td>Neutral</td>\n",
       "      <td>2</td>\n",
       "      <td>2</td>\n",
       "    </tr>\n",
       "    <tr>\n",
       "      <th>20467</th>\n",
       "      <td>24266</td>\n",
       "      <td>69218</td>\n",
       "      <td>25-03-2020</td>\n",
       "      <td>Omg y all</td>\n",
       "      <td>Neutral</td>\n",
       "      <td>2</td>\n",
       "      <td>3</td>\n",
       "    </tr>\n",
       "    <tr>\n",
       "      <th>21858</th>\n",
       "      <td>25657</td>\n",
       "      <td>70609</td>\n",
       "      <td>25-03-2020</td>\n",
       "      <td>Parcour quarantine https://t.co/6MU3P1SSdw</td>\n",
       "      <td>Neutral</td>\n",
       "      <td>2</td>\n",
       "      <td>3</td>\n",
       "    </tr>\n",
       "    <tr>\n",
       "      <th>21987</th>\n",
       "      <td>25786</td>\n",
       "      <td>70738</td>\n",
       "      <td>25-03-2020</td>\n",
       "      <td>The explained brilliantly</td>\n",
       "      <td>Extremely Positive</td>\n",
       "      <td>3</td>\n",
       "      <td>3</td>\n",
       "    </tr>\n",
       "    <tr>\n",
       "      <th>22433</th>\n",
       "      <td>26232</td>\n",
       "      <td>71184</td>\n",
       "      <td>25-03-2020</td>\n",
       "      <td>Man   needs a</td>\n",
       "      <td>Neutral</td>\n",
       "      <td>2</td>\n",
       "      <td>3</td>\n",
       "    </tr>\n",
       "    <tr>\n",
       "      <th>23975</th>\n",
       "      <td>27774</td>\n",
       "      <td>72726</td>\n",
       "      <td>26-03-2020</td>\n",
       "      <td>Unbelievable https://t.co/fBrPYaxNH6</td>\n",
       "      <td>Positive</td>\n",
       "      <td>0</td>\n",
       "      <td>2</td>\n",
       "    </tr>\n",
       "    <tr>\n",
       "      <th>25022</th>\n",
       "      <td>28821</td>\n",
       "      <td>73773</td>\n",
       "      <td>29-03-2020</td>\n",
       "      <td>Supermarket lines in</td>\n",
       "      <td>Neutral</td>\n",
       "      <td>2</td>\n",
       "      <td>3</td>\n",
       "    </tr>\n",
       "    <tr>\n",
       "      <th>25414</th>\n",
       "      <td>29213</td>\n",
       "      <td>74165</td>\n",
       "      <td>31-03-2020</td>\n",
       "      <td>COVID-19-Lock-Down-Don039t-Panic-There-Is-More...</td>\n",
       "      <td>Negative</td>\n",
       "      <td>1</td>\n",
       "      <td>3</td>\n",
       "    </tr>\n",
       "    <tr>\n",
       "      <th>26310</th>\n",
       "      <td>30109</td>\n",
       "      <td>75061</td>\n",
       "      <td>02-04-2020</td>\n",
       "      <td>clears voice Pennsylvania</td>\n",
       "      <td>Positive</td>\n",
       "      <td>0</td>\n",
       "      <td>3</td>\n",
       "    </tr>\n",
       "    <tr>\n",
       "      <th>26814</th>\n",
       "      <td>30613</td>\n",
       "      <td>75565</td>\n",
       "      <td>02-04-2020</td>\n",
       "      <td>America, 2020 https://t.co/i6S28NWxaU</td>\n",
       "      <td>Neutral</td>\n",
       "      <td>2</td>\n",
       "      <td>3</td>\n",
       "    </tr>\n",
       "    <tr>\n",
       "      <th>27610</th>\n",
       "      <td>31409</td>\n",
       "      <td>76361</td>\n",
       "      <td>03-04-2020</td>\n",
       "      <td>Brazil...Health...Official...Confirm...First.....</td>\n",
       "      <td>Positive</td>\n",
       "      <td>0</td>\n",
       "      <td>1</td>\n",
       "    </tr>\n",
       "    <tr>\n",
       "      <th>29273</th>\n",
       "      <td>33072</td>\n",
       "      <td>78024</td>\n",
       "      <td>05-04-2020</td>\n",
       "      <td>Good article. https://t.co/nSqowuUx7G</td>\n",
       "      <td>Positive</td>\n",
       "      <td>0</td>\n",
       "      <td>3</td>\n",
       "    </tr>\n",
       "    <tr>\n",
       "      <th>29899</th>\n",
       "      <td>33698</td>\n",
       "      <td>78650</td>\n",
       "      <td>06-04-2020</td>\n",
       "      <td>Roses are Red</td>\n",
       "      <td>Neutral</td>\n",
       "      <td>2</td>\n",
       "      <td>3</td>\n",
       "    </tr>\n",
       "    <tr>\n",
       "      <th>29981</th>\n",
       "      <td>33780</td>\n",
       "      <td>78732</td>\n",
       "      <td>06-04-2020</td>\n",
       "      <td>The CNP Report</td>\n",
       "      <td>Neutral</td>\n",
       "      <td>2</td>\n",
       "      <td>3</td>\n",
       "    </tr>\n",
       "    <tr>\n",
       "      <th>30133</th>\n",
       "      <td>33932</td>\n",
       "      <td>78884</td>\n",
       "      <td>06-04-2020</td>\n",
       "      <td>Minion World via</td>\n",
       "      <td>Neutral</td>\n",
       "      <td>2</td>\n",
       "      <td>3</td>\n",
       "    </tr>\n",
       "    <tr>\n",
       "      <th>32028</th>\n",
       "      <td>35827</td>\n",
       "      <td>80779</td>\n",
       "      <td>07-04-2020</td>\n",
       "      <td>Interesting stuff https://t.co/S8fe4GeInY</td>\n",
       "      <td>Positive</td>\n",
       "      <td>0</td>\n",
       "      <td>3</td>\n",
       "    </tr>\n",
       "    <tr>\n",
       "      <th>32448</th>\n",
       "      <td>36247</td>\n",
       "      <td>81199</td>\n",
       "      <td>07-04-2020</td>\n",
       "      <td>Quarantine life</td>\n",
       "      <td>Neutral</td>\n",
       "      <td>2</td>\n",
       "      <td>2</td>\n",
       "    </tr>\n",
       "    <tr>\n",
       "      <th>33693</th>\n",
       "      <td>37492</td>\n",
       "      <td>82444</td>\n",
       "      <td>08-04-2020</td>\n",
       "      <td>https://t.co/ekWLAAfheP\\r\\r\\nHeartbreaking.</td>\n",
       "      <td>Negative</td>\n",
       "      <td>1</td>\n",
       "      <td>2</td>\n",
       "    </tr>\n",
       "    <tr>\n",
       "      <th>34718</th>\n",
       "      <td>38517</td>\n",
       "      <td>83469</td>\n",
       "      <td>08-04-2020</td>\n",
       "      <td>Keda-ceramics-Ghana-and-Sunda-International-de...</td>\n",
       "      <td>Neutral</td>\n",
       "      <td>2</td>\n",
       "      <td>2</td>\n",
       "    </tr>\n",
       "    <tr>\n",
       "      <th>34967</th>\n",
       "      <td>38766</td>\n",
       "      <td>83718</td>\n",
       "      <td>08-04-2020</td>\n",
       "      <td>This is devestating</td>\n",
       "      <td>Neutral</td>\n",
       "      <td>2</td>\n",
       "      <td>3</td>\n",
       "    </tr>\n",
       "    <tr>\n",
       "      <th>35526</th>\n",
       "      <td>39325</td>\n",
       "      <td>84277</td>\n",
       "      <td>09-04-2020</td>\n",
       "      <td>amp</td>\n",
       "      <td>Neutral</td>\n",
       "      <td>2</td>\n",
       "      <td>1</td>\n",
       "    </tr>\n",
       "    <tr>\n",
       "      <th>35908</th>\n",
       "      <td>39707</td>\n",
       "      <td>84659</td>\n",
       "      <td>09-04-2020</td>\n",
       "      <td>https://t.co/d3iHDgifQZ Reading materials</td>\n",
       "      <td>Neutral</td>\n",
       "      <td>2</td>\n",
       "      <td>3</td>\n",
       "    </tr>\n",
       "    <tr>\n",
       "      <th>37996</th>\n",
       "      <td>41795</td>\n",
       "      <td>86747</td>\n",
       "      <td>11-04-2020</td>\n",
       "      <td>Crisis averted</td>\n",
       "      <td>Extremely Negative</td>\n",
       "      <td>4</td>\n",
       "      <td>2</td>\n",
       "    </tr>\n",
       "    <tr>\n",
       "      <th>39290</th>\n",
       "      <td>43089</td>\n",
       "      <td>88041</td>\n",
       "      <td>12-04-2020</td>\n",
       "      <td>Toilet paper</td>\n",
       "      <td>Neutral</td>\n",
       "      <td>2</td>\n",
       "      <td>2</td>\n",
       "    </tr>\n",
       "    <tr>\n",
       "      <th>40091</th>\n",
       "      <td>43890</td>\n",
       "      <td>88842</td>\n",
       "      <td>13-04-2020</td>\n",
       "      <td>Interesting article....\\r\\r\\n\\r\\r\\nhttps://t.c...</td>\n",
       "      <td>Positive</td>\n",
       "      <td>0</td>\n",
       "      <td>3</td>\n",
       "    </tr>\n",
       "    <tr>\n",
       "      <th>40135</th>\n",
       "      <td>43934</td>\n",
       "      <td>88886</td>\n",
       "      <td>13-04-2020</td>\n",
       "      <td>Interesting aricle 19</td>\n",
       "      <td>Positive</td>\n",
       "      <td>0</td>\n",
       "      <td>3</td>\n",
       "    </tr>\n",
       "    <tr>\n",
       "      <th>40893</th>\n",
       "      <td>44692</td>\n",
       "      <td>89644</td>\n",
       "      <td>14-04-2020</td>\n",
       "      <td>Together We Can</td>\n",
       "      <td>Neutral</td>\n",
       "      <td>2</td>\n",
       "      <td>3</td>\n",
       "    </tr>\n",
       "  </tbody>\n",
       "</table>\n",
       "</div>"
      ],
      "text/plain": [
       "       UserName  ScreenName  ... NomericSentiment world_count\n",
       "7259      11058       56010  ...                3           2\n",
       "7260      11059       56011  ...                3           2\n",
       "9073      12872       57824  ...                1           3\n",
       "9163      12962       57914  ...                2           3\n",
       "9167      12966       57918  ...                2           3\n",
       "9516      13315       58267  ...                2           3\n",
       "9776      13575       58527  ...                0           3\n",
       "12047     15846       60798  ...                2           3\n",
       "12399     16198       61150  ...                2           3\n",
       "12716     16515       61467  ...                0           3\n",
       "15124     18923       63875  ...                2           3\n",
       "15477     19276       64228  ...                2           3\n",
       "15577     19376       64328  ...                2           2\n",
       "16872     20671       65623  ...                2           2\n",
       "16989     20788       65740  ...                2           3\n",
       "17635     21434       66386  ...                2           3\n",
       "17937     21736       66688  ...                2           3\n",
       "18063     21862       66814  ...                1           3\n",
       "18977     22776       67728  ...                2           2\n",
       "19325     23124       68076  ...                2           3\n",
       "19410     23209       68161  ...                2           2\n",
       "20467     24266       69218  ...                2           3\n",
       "21858     25657       70609  ...                2           3\n",
       "21987     25786       70738  ...                3           3\n",
       "22433     26232       71184  ...                2           3\n",
       "23975     27774       72726  ...                0           2\n",
       "25022     28821       73773  ...                2           3\n",
       "25414     29213       74165  ...                1           3\n",
       "26310     30109       75061  ...                0           3\n",
       "26814     30613       75565  ...                2           3\n",
       "27610     31409       76361  ...                0           1\n",
       "29273     33072       78024  ...                0           3\n",
       "29899     33698       78650  ...                2           3\n",
       "29981     33780       78732  ...                2           3\n",
       "30133     33932       78884  ...                2           3\n",
       "32028     35827       80779  ...                0           3\n",
       "32448     36247       81199  ...                2           2\n",
       "33693     37492       82444  ...                1           2\n",
       "34718     38517       83469  ...                2           2\n",
       "34967     38766       83718  ...                2           3\n",
       "35526     39325       84277  ...                2           1\n",
       "35908     39707       84659  ...                2           3\n",
       "37996     41795       86747  ...                4           2\n",
       "39290     43089       88041  ...                2           2\n",
       "40091     43890       88842  ...                0           3\n",
       "40135     43934       88886  ...                0           3\n",
       "40893     44692       89644  ...                2           3\n",
       "\n",
       "[47 rows x 7 columns]"
      ]
     },
     "execution_count": 66,
     "metadata": {
      "tags": []
     },
     "output_type": "execute_result"
    }
   ],
   "source": [
    "df[df['world_count']<=3]"
   ]
  },
  {
   "cell_type": "code",
   "execution_count": 67,
   "metadata": {
    "colab": {
     "base_uri": "https://localhost:8080/",
     "height": 70
    },
    "executionInfo": {
     "elapsed": 1129,
     "status": "ok",
     "timestamp": 1608126884456,
     "user": {
      "displayName": "khalil hennara",
      "photoUrl": "",
      "userId": "12581719381754495507"
     },
     "user_tz": -120
    },
    "id": "JaB9pzOWX4jo",
    "outputId": "b3921591-04e8-43d4-e322-790ab048296d"
   },
   "outputs": [
    {
     "data": {
      "application/vnd.google.colaboratory.intrinsic+json": {
       "type": "string"
      },
      "text/plain": [
       "'Brazil...Health...Official...Confirm...First...Indigenous...Coronavirus...Case...Amazon...Chief...Bezos...Say...Donating...100...Food...Charity...COVID-19...Pandemic...Trump...Campaign...Demand...Jeff...Session...Campaign...End...Delusional...Invoking...Ties...President...Turkey'"
      ]
     },
     "execution_count": 67,
     "metadata": {
      "tags": []
     },
     "output_type": "execute_result"
    }
   ],
   "source": [
    "df['OriginalTweet'].iloc[27610]"
   ]
  },
  {
   "cell_type": "markdown",
   "metadata": {
    "executionInfo": {
     "elapsed": 1076,
     "status": "ok",
     "timestamp": 1608126884800,
     "user": {
      "displayName": "khalil hennara",
      "photoUrl": "",
      "userId": "12581719381754495507"
     },
     "user_tz": -120
    },
    "id": "ZOf2WshvX4nt"
   },
   "source": [
    "### Note\n",
    "we can see some Tweet have ... spliter or - so we should update the world_count"
   ]
  },
  {
   "cell_type": "code",
   "execution_count": 69,
   "metadata": {
    "executionInfo": {
     "elapsed": 1009,
     "status": "ok",
     "timestamp": 1608126885201,
     "user": {
      "displayName": "khalil hennara",
      "photoUrl": "",
      "userId": "12581719381754495507"
     },
     "user_tz": -120
    },
    "id": "fFOYcYzRX4rY"
   },
   "outputs": [],
   "source": [
    "df['world_count']=df['OriginalTweet'].apply(lambda x:len(x.split()+x.split('-')+x.split('...')))"
   ]
  },
  {
   "cell_type": "code",
   "execution_count": 70,
   "metadata": {
    "colab": {
     "base_uri": "https://localhost:8080/"
    },
    "executionInfo": {
     "elapsed": 969,
     "status": "ok",
     "timestamp": 1608126885568,
     "user": {
      "displayName": "khalil hennara",
      "photoUrl": "",
      "userId": "12581719381754495507"
     },
     "user_tz": -120
    },
    "id": "GCQRsaXwcr-f",
    "outputId": "8d4382e2-8c6d-4ece-9227-1ba8e26c43b7"
   },
   "outputs": [
    {
     "data": {
      "text/plain": [
       "count    41157.000000\n",
       "mean        32.982992\n",
       "std         11.705900\n",
       "min          3.000000\n",
       "25%         24.000000\n",
       "50%         34.000000\n",
       "75%         42.000000\n",
       "max         67.000000\n",
       "Name: world_count, dtype: float64"
      ]
     },
     "execution_count": 70,
     "metadata": {
      "tags": []
     },
     "output_type": "execute_result"
    }
   ],
   "source": [
    "df['world_count'].describe()"
   ]
  },
  {
   "cell_type": "code",
   "execution_count": 71,
   "metadata": {
    "colab": {
     "base_uri": "https://localhost:8080/",
     "height": 528
    },
    "executionInfo": {
     "elapsed": 761,
     "status": "ok",
     "timestamp": 1608126886721,
     "user": {
      "displayName": "khalil hennara",
      "photoUrl": "",
      "userId": "12581719381754495507"
     },
     "user_tz": -120
    },
    "id": "3VFchWhwczAQ",
    "outputId": "698d01a2-f4ce-4980-f30c-8fe277b1b846"
   },
   "outputs": [
    {
     "data": {
      "text/html": [
       "<div>\n",
       "<style scoped>\n",
       "    .dataframe tbody tr th:only-of-type {\n",
       "        vertical-align: middle;\n",
       "    }\n",
       "\n",
       "    .dataframe tbody tr th {\n",
       "        vertical-align: top;\n",
       "    }\n",
       "\n",
       "    .dataframe thead th {\n",
       "        text-align: right;\n",
       "    }\n",
       "</style>\n",
       "<table border=\"1\" class=\"dataframe\">\n",
       "  <thead>\n",
       "    <tr style=\"text-align: right;\">\n",
       "      <th></th>\n",
       "      <th>UserName</th>\n",
       "      <th>ScreenName</th>\n",
       "      <th>TweetAt</th>\n",
       "      <th>OriginalTweet</th>\n",
       "      <th>Sentiment</th>\n",
       "      <th>NomericSentiment</th>\n",
       "      <th>world_count</th>\n",
       "    </tr>\n",
       "  </thead>\n",
       "  <tbody>\n",
       "    <tr>\n",
       "      <th>155</th>\n",
       "      <td>3954</td>\n",
       "      <td>48906</td>\n",
       "      <td>16-03-2020</td>\n",
       "      <td>Cleanshelf supermarket Sanitizers 19</td>\n",
       "      <td>Neutral</td>\n",
       "      <td>2</td>\n",
       "      <td>6</td>\n",
       "    </tr>\n",
       "    <tr>\n",
       "      <th>239</th>\n",
       "      <td>4038</td>\n",
       "      <td>48990</td>\n",
       "      <td>16-03-2020</td>\n",
       "      <td>Please read this thread</td>\n",
       "      <td>Positive</td>\n",
       "      <td>0</td>\n",
       "      <td>6</td>\n",
       "    </tr>\n",
       "    <tr>\n",
       "      <th>602</th>\n",
       "      <td>4401</td>\n",
       "      <td>49353</td>\n",
       "      <td>16-03-2020</td>\n",
       "      <td>this is kind \\r\\r\\nhttps://t.co/QoXqJDbLiC</td>\n",
       "      <td>Positive</td>\n",
       "      <td>0</td>\n",
       "      <td>6</td>\n",
       "    </tr>\n",
       "    <tr>\n",
       "      <th>5506</th>\n",
       "      <td>9305</td>\n",
       "      <td>54257</td>\n",
       "      <td>19-03-2020</td>\n",
       "      <td>the new supermarket wars</td>\n",
       "      <td>Negative</td>\n",
       "      <td>1</td>\n",
       "      <td>6</td>\n",
       "    </tr>\n",
       "    <tr>\n",
       "      <th>5709</th>\n",
       "      <td>9508</td>\n",
       "      <td>54460</td>\n",
       "      <td>19-03-2020</td>\n",
       "      <td>brings to its knees</td>\n",
       "      <td>Neutral</td>\n",
       "      <td>2</td>\n",
       "      <td>6</td>\n",
       "    </tr>\n",
       "    <tr>\n",
       "      <th>...</th>\n",
       "      <td>...</td>\n",
       "      <td>...</td>\n",
       "      <td>...</td>\n",
       "      <td>...</td>\n",
       "      <td>...</td>\n",
       "      <td>...</td>\n",
       "      <td>...</td>\n",
       "    </tr>\n",
       "    <tr>\n",
       "      <th>39290</th>\n",
       "      <td>43089</td>\n",
       "      <td>88041</td>\n",
       "      <td>12-04-2020</td>\n",
       "      <td>Toilet paper</td>\n",
       "      <td>Neutral</td>\n",
       "      <td>2</td>\n",
       "      <td>4</td>\n",
       "    </tr>\n",
       "    <tr>\n",
       "      <th>40091</th>\n",
       "      <td>43890</td>\n",
       "      <td>88842</td>\n",
       "      <td>13-04-2020</td>\n",
       "      <td>Interesting article....\\r\\r\\n\\r\\r\\nhttps://t.c...</td>\n",
       "      <td>Positive</td>\n",
       "      <td>0</td>\n",
       "      <td>6</td>\n",
       "    </tr>\n",
       "    <tr>\n",
       "      <th>40135</th>\n",
       "      <td>43934</td>\n",
       "      <td>88886</td>\n",
       "      <td>13-04-2020</td>\n",
       "      <td>Interesting aricle 19</td>\n",
       "      <td>Positive</td>\n",
       "      <td>0</td>\n",
       "      <td>5</td>\n",
       "    </tr>\n",
       "    <tr>\n",
       "      <th>40893</th>\n",
       "      <td>44692</td>\n",
       "      <td>89644</td>\n",
       "      <td>14-04-2020</td>\n",
       "      <td>Together We Can</td>\n",
       "      <td>Neutral</td>\n",
       "      <td>2</td>\n",
       "      <td>5</td>\n",
       "    </tr>\n",
       "    <tr>\n",
       "      <th>40990</th>\n",
       "      <td>44789</td>\n",
       "      <td>89741</td>\n",
       "      <td>14-04-2020</td>\n",
       "      <td>My current monthly budget</td>\n",
       "      <td>Neutral</td>\n",
       "      <td>2</td>\n",
       "      <td>6</td>\n",
       "    </tr>\n",
       "  </tbody>\n",
       "</table>\n",
       "<p>91 rows × 7 columns</p>\n",
       "</div>"
      ],
      "text/plain": [
       "       UserName  ScreenName  ... NomericSentiment world_count\n",
       "155        3954       48906  ...                2           6\n",
       "239        4038       48990  ...                0           6\n",
       "602        4401       49353  ...                0           6\n",
       "5506       9305       54257  ...                1           6\n",
       "5709       9508       54460  ...                2           6\n",
       "...         ...         ...  ...              ...         ...\n",
       "39290     43089       88041  ...                2           4\n",
       "40091     43890       88842  ...                0           6\n",
       "40135     43934       88886  ...                0           5\n",
       "40893     44692       89644  ...                2           5\n",
       "40990     44789       89741  ...                2           6\n",
       "\n",
       "[91 rows x 7 columns]"
      ]
     },
     "execution_count": 71,
     "metadata": {
      "tags": []
     },
     "output_type": "execute_result"
    }
   ],
   "source": [
    "df[df['world_count']<=6]"
   ]
  },
  {
   "cell_type": "code",
   "execution_count": 73,
   "metadata": {
    "colab": {
     "base_uri": "https://localhost:8080/"
    },
    "executionInfo": {
     "elapsed": 1124,
     "status": "ok",
     "timestamp": 1608126888694,
     "user": {
      "displayName": "khalil hennara",
      "photoUrl": "",
      "userId": "12581719381754495507"
     },
     "user_tz": -120
    },
    "id": "w5OasrSTfERW",
    "outputId": "04d5e0fa-91bc-4fa5-84b1-a9bd539a1c5f"
   },
   "outputs": [
    {
     "name": "stdout",
     "output_type": "stream",
     "text": [
      "[nltk_data] Downloading collection 'popular'\n",
      "[nltk_data]    | \n",
      "[nltk_data]    | Downloading package cmudict to /root/nltk_data...\n",
      "[nltk_data]    |   Package cmudict is already up-to-date!\n",
      "[nltk_data]    | Downloading package gazetteers to /root/nltk_data...\n",
      "[nltk_data]    |   Package gazetteers is already up-to-date!\n",
      "[nltk_data]    | Downloading package genesis to /root/nltk_data...\n",
      "[nltk_data]    |   Package genesis is already up-to-date!\n",
      "[nltk_data]    | Downloading package gutenberg to /root/nltk_data...\n",
      "[nltk_data]    |   Package gutenberg is already up-to-date!\n",
      "[nltk_data]    | Downloading package inaugural to /root/nltk_data...\n",
      "[nltk_data]    |   Package inaugural is already up-to-date!\n",
      "[nltk_data]    | Downloading package movie_reviews to\n",
      "[nltk_data]    |     /root/nltk_data...\n",
      "[nltk_data]    |   Package movie_reviews is already up-to-date!\n",
      "[nltk_data]    | Downloading package names to /root/nltk_data...\n",
      "[nltk_data]    |   Package names is already up-to-date!\n",
      "[nltk_data]    | Downloading package shakespeare to /root/nltk_data...\n",
      "[nltk_data]    |   Package shakespeare is already up-to-date!\n",
      "[nltk_data]    | Downloading package stopwords to /root/nltk_data...\n",
      "[nltk_data]    |   Package stopwords is already up-to-date!\n",
      "[nltk_data]    | Downloading package treebank to /root/nltk_data...\n",
      "[nltk_data]    |   Package treebank is already up-to-date!\n",
      "[nltk_data]    | Downloading package twitter_samples to\n",
      "[nltk_data]    |     /root/nltk_data...\n",
      "[nltk_data]    |   Package twitter_samples is already up-to-date!\n",
      "[nltk_data]    | Downloading package omw to /root/nltk_data...\n",
      "[nltk_data]    |   Package omw is already up-to-date!\n",
      "[nltk_data]    | Downloading package wordnet to /root/nltk_data...\n",
      "[nltk_data]    |   Package wordnet is already up-to-date!\n",
      "[nltk_data]    | Downloading package wordnet_ic to /root/nltk_data...\n",
      "[nltk_data]    |   Package wordnet_ic is already up-to-date!\n",
      "[nltk_data]    | Downloading package words to /root/nltk_data...\n",
      "[nltk_data]    |   Package words is already up-to-date!\n",
      "[nltk_data]    | Downloading package maxent_ne_chunker to\n",
      "[nltk_data]    |     /root/nltk_data...\n",
      "[nltk_data]    |   Package maxent_ne_chunker is already up-to-date!\n",
      "[nltk_data]    | Downloading package punkt to /root/nltk_data...\n",
      "[nltk_data]    |   Package punkt is already up-to-date!\n",
      "[nltk_data]    | Downloading package snowball_data to\n",
      "[nltk_data]    |     /root/nltk_data...\n",
      "[nltk_data]    |   Package snowball_data is already up-to-date!\n",
      "[nltk_data]    | Downloading package averaged_perceptron_tagger to\n",
      "[nltk_data]    |     /root/nltk_data...\n",
      "[nltk_data]    |   Package averaged_perceptron_tagger is already up-\n",
      "[nltk_data]    |       to-date!\n",
      "[nltk_data]    | \n",
      "[nltk_data]  Done downloading collection popular\n"
     ]
    },
    {
     "data": {
      "text/plain": [
       "True"
      ]
     },
     "execution_count": 73,
     "metadata": {
      "tags": []
     },
     "output_type": "execute_result"
    }
   ],
   "source": [
    "nltk.download('popular')"
   ]
  },
  {
   "cell_type": "code",
   "execution_count": 74,
   "metadata": {
    "colab": {
     "base_uri": "https://localhost:8080/"
    },
    "executionInfo": {
     "elapsed": 523,
     "status": "ok",
     "timestamp": 1608126888697,
     "user": {
      "displayName": "khalil hennara",
      "photoUrl": "",
      "userId": "12581719381754495507"
     },
     "user_tz": -120
    },
    "id": "7Ngh5rV3fMBk",
    "outputId": "d3dd9974-0cad-49ac-e5e7-8201ccdebbfc"
   },
   "outputs": [
    {
     "name": "stdout",
     "output_type": "stream",
     "text": [
      "[nltk_data] Downloading package stopwords to /root/nltk_data...\n",
      "[nltk_data]   Package stopwords is already up-to-date!\n"
     ]
    },
    {
     "data": {
      "text/plain": [
       "True"
      ]
     },
     "execution_count": 74,
     "metadata": {
      "tags": []
     },
     "output_type": "execute_result"
    }
   ],
   "source": [
    "nltk.download('stopwords')"
   ]
  },
  {
   "cell_type": "code",
   "execution_count": 75,
   "metadata": {
    "executionInfo": {
     "elapsed": 976,
     "status": "ok",
     "timestamp": 1608126890393,
     "user": {
      "displayName": "khalil hennara",
      "photoUrl": "",
      "userId": "12581719381754495507"
     },
     "user_tz": -120
    },
    "id": "FKqkyy57ffGp"
   },
   "outputs": [],
   "source": [
    "from nltk.corpus import stopwords"
   ]
  },
  {
   "cell_type": "code",
   "execution_count": 76,
   "metadata": {
    "colab": {
     "base_uri": "https://localhost:8080/"
    },
    "executionInfo": {
     "elapsed": 476,
     "status": "ok",
     "timestamp": 1608126890711,
     "user": {
      "displayName": "khalil hennara",
      "photoUrl": "",
      "userId": "12581719381754495507"
     },
     "user_tz": -120
    },
    "id": "vs63h9CTgsF0",
    "outputId": "b0c4a35f-8144-4293-d2d3-80ffa9de4cec"
   },
   "outputs": [
    {
     "data": {
      "text/plain": [
       "179"
      ]
     },
     "execution_count": 76,
     "metadata": {
      "tags": []
     },
     "output_type": "execute_result"
    }
   ],
   "source": [
    "len(stopwords.words('english'))"
   ]
  },
  {
   "cell_type": "code",
   "execution_count": 77,
   "metadata": {
    "executionInfo": {
     "elapsed": 692,
     "status": "ok",
     "timestamp": 1608126891589,
     "user": {
      "displayName": "khalil hennara",
      "photoUrl": "",
      "userId": "12581719381754495507"
     },
     "user_tz": -120
    },
    "id": "xNFQQR8Agt7n"
   },
   "outputs": [],
   "source": [
    "STOPWORDS=stopwords.words('english')"
   ]
  },
  {
   "cell_type": "code",
   "execution_count": 78,
   "metadata": {
    "executionInfo": {
     "elapsed": 3253,
     "status": "ok",
     "timestamp": 1608126894706,
     "user": {
      "displayName": "khalil hennara",
      "photoUrl": "",
      "userId": "12581719381754495507"
     },
     "user_tz": -120
    },
    "id": "2UNMU5flg7UE"
   },
   "outputs": [],
   "source": [
    "#The number of stop words in each example\n",
    "df['stop_word_count']=df['OriginalTweet'].apply(lambda x: len([w for w in x.split() if w not in STOPWORDS]))"
   ]
  },
  {
   "cell_type": "code",
   "execution_count": 79,
   "metadata": {
    "colab": {
     "base_uri": "https://localhost:8080/"
    },
    "executionInfo": {
     "elapsed": 2736,
     "status": "ok",
     "timestamp": 1608126894708,
     "user": {
      "displayName": "khalil hennara",
      "photoUrl": "",
      "userId": "12581719381754495507"
     },
     "user_tz": -120
    },
    "id": "1XgBLqRUnBLZ",
    "outputId": "82ab210c-cf71-4fe5-f149-e522286f4bff"
   },
   "outputs": [
    {
     "data": {
      "text/plain": [
       "count    41157.000000\n",
       "mean        20.759652\n",
       "std          7.405091\n",
       "min          1.000000\n",
       "25%         15.000000\n",
       "50%         21.000000\n",
       "75%         26.000000\n",
       "max         59.000000\n",
       "Name: stop_word_count, dtype: float64"
      ]
     },
     "execution_count": 79,
     "metadata": {
      "tags": []
     },
     "output_type": "execute_result"
    }
   ],
   "source": [
    "df['stop_word_count'].describe()"
   ]
  },
  {
   "cell_type": "code",
   "execution_count": 80,
   "metadata": {
    "colab": {
     "base_uri": "https://localhost:8080/",
     "height": 930
    },
    "executionInfo": {
     "elapsed": 2149,
     "status": "ok",
     "timestamp": 1608126894711,
     "user": {
      "displayName": "khalil hennara",
      "photoUrl": "",
      "userId": "12581719381754495507"
     },
     "user_tz": -120
    },
    "id": "z9qMBJvvnLWy",
    "outputId": "189b32df-7a30-49b2-c26b-ec867b1a00ca"
   },
   "outputs": [
    {
     "data": {
      "text/html": [
       "<div>\n",
       "<style scoped>\n",
       "    .dataframe tbody tr th:only-of-type {\n",
       "        vertical-align: middle;\n",
       "    }\n",
       "\n",
       "    .dataframe tbody tr th {\n",
       "        vertical-align: top;\n",
       "    }\n",
       "\n",
       "    .dataframe thead th {\n",
       "        text-align: right;\n",
       "    }\n",
       "</style>\n",
       "<table border=\"1\" class=\"dataframe\">\n",
       "  <thead>\n",
       "    <tr style=\"text-align: right;\">\n",
       "      <th></th>\n",
       "      <th>UserName</th>\n",
       "      <th>ScreenName</th>\n",
       "      <th>TweetAt</th>\n",
       "      <th>OriginalTweet</th>\n",
       "      <th>Sentiment</th>\n",
       "      <th>NomericSentiment</th>\n",
       "      <th>world_count</th>\n",
       "      <th>stop_word_count</th>\n",
       "    </tr>\n",
       "  </thead>\n",
       "  <tbody>\n",
       "    <tr>\n",
       "      <th>1</th>\n",
       "      <td>3800</td>\n",
       "      <td>48752</td>\n",
       "      <td>16-03-2020</td>\n",
       "      <td>advice Talk to your neighbours family to excha...</td>\n",
       "      <td>Positive</td>\n",
       "      <td>0</td>\n",
       "      <td>40</td>\n",
       "      <td>27</td>\n",
       "    </tr>\n",
       "    <tr>\n",
       "      <th>3</th>\n",
       "      <td>3802</td>\n",
       "      <td>48754</td>\n",
       "      <td>16-03-2020</td>\n",
       "      <td>My food stock is not the only one which is emp...</td>\n",
       "      <td>Positive</td>\n",
       "      <td>0</td>\n",
       "      <td>45</td>\n",
       "      <td>28</td>\n",
       "    </tr>\n",
       "    <tr>\n",
       "      <th>4</th>\n",
       "      <td>3803</td>\n",
       "      <td>48755</td>\n",
       "      <td>16-03-2020</td>\n",
       "      <td>Me, ready to go at supermarket during the #COV...</td>\n",
       "      <td>Extremely Negative</td>\n",
       "      <td>4</td>\n",
       "      <td>43</td>\n",
       "      <td>27</td>\n",
       "    </tr>\n",
       "    <tr>\n",
       "      <th>5</th>\n",
       "      <td>3804</td>\n",
       "      <td>48756</td>\n",
       "      <td>16-03-2020</td>\n",
       "      <td>As news of the regionÂs first confirmed COVID...</td>\n",
       "      <td>Positive</td>\n",
       "      <td>0</td>\n",
       "      <td>39</td>\n",
       "      <td>28</td>\n",
       "    </tr>\n",
       "    <tr>\n",
       "      <th>6</th>\n",
       "      <td>3805</td>\n",
       "      <td>48757</td>\n",
       "      <td>16-03-2020</td>\n",
       "      <td>Cashier at grocery store was sharing his insig...</td>\n",
       "      <td>Positive</td>\n",
       "      <td>0</td>\n",
       "      <td>30</td>\n",
       "      <td>19</td>\n",
       "    </tr>\n",
       "    <tr>\n",
       "      <th>...</th>\n",
       "      <td>...</td>\n",
       "      <td>...</td>\n",
       "      <td>...</td>\n",
       "      <td>...</td>\n",
       "      <td>...</td>\n",
       "      <td>...</td>\n",
       "      <td>...</td>\n",
       "      <td>...</td>\n",
       "    </tr>\n",
       "    <tr>\n",
       "      <th>41150</th>\n",
       "      <td>44949</td>\n",
       "      <td>89901</td>\n",
       "      <td>14-04-2020</td>\n",
       "      <td>I never that weÂd be in a situation &amp;amp; wor...</td>\n",
       "      <td>Positive</td>\n",
       "      <td>0</td>\n",
       "      <td>36</td>\n",
       "      <td>20</td>\n",
       "    </tr>\n",
       "    <tr>\n",
       "      <th>41151</th>\n",
       "      <td>44950</td>\n",
       "      <td>89902</td>\n",
       "      <td>14-04-2020</td>\n",
       "      <td>@MrSilverScott you are definitely my man. I fe...</td>\n",
       "      <td>Extremely Positive</td>\n",
       "      <td>3</td>\n",
       "      <td>51</td>\n",
       "      <td>26</td>\n",
       "    </tr>\n",
       "    <tr>\n",
       "      <th>41153</th>\n",
       "      <td>44952</td>\n",
       "      <td>89904</td>\n",
       "      <td>14-04-2020</td>\n",
       "      <td>Response to complaint not provided citing COVI...</td>\n",
       "      <td>Extremely Negative</td>\n",
       "      <td>4</td>\n",
       "      <td>26</td>\n",
       "      <td>17</td>\n",
       "    </tr>\n",
       "    <tr>\n",
       "      <th>41154</th>\n",
       "      <td>44953</td>\n",
       "      <td>89905</td>\n",
       "      <td>14-04-2020</td>\n",
       "      <td>You know itÂs getting tough when @KameronWild...</td>\n",
       "      <td>Positive</td>\n",
       "      <td>0</td>\n",
       "      <td>20</td>\n",
       "      <td>16</td>\n",
       "    </tr>\n",
       "    <tr>\n",
       "      <th>41156</th>\n",
       "      <td>44955</td>\n",
       "      <td>89907</td>\n",
       "      <td>14-04-2020</td>\n",
       "      <td>@TartiiCat Well new/used Rift S are going for ...</td>\n",
       "      <td>Negative</td>\n",
       "      <td>1</td>\n",
       "      <td>49</td>\n",
       "      <td>30</td>\n",
       "    </tr>\n",
       "  </tbody>\n",
       "</table>\n",
       "<p>31639 rows × 8 columns</p>\n",
       "</div>"
      ],
      "text/plain": [
       "       UserName  ScreenName  ... world_count stop_word_count\n",
       "1          3800       48752  ...          40              27\n",
       "3          3802       48754  ...          45              28\n",
       "4          3803       48755  ...          43              27\n",
       "5          3804       48756  ...          39              28\n",
       "6          3805       48757  ...          30              19\n",
       "...         ...         ...  ...         ...             ...\n",
       "41150     44949       89901  ...          36              20\n",
       "41151     44950       89902  ...          51              26\n",
       "41153     44952       89904  ...          26              17\n",
       "41154     44953       89905  ...          20              16\n",
       "41156     44955       89907  ...          49              30\n",
       "\n",
       "[31639 rows x 8 columns]"
      ]
     },
     "execution_count": 80,
     "metadata": {
      "tags": []
     },
     "output_type": "execute_result"
    }
   ],
   "source": [
    "df[df['stop_word_count']>=15]"
   ]
  },
  {
   "cell_type": "markdown",
   "metadata": {
    "executionInfo": {
     "elapsed": 1395,
     "status": "ok",
     "timestamp": 1608126894713,
     "user": {
      "displayName": "khalil hennara",
      "photoUrl": "",
      "userId": "12581719381754495507"
     },
     "user_tz": -120
    },
    "id": "lwXRmWKMnziC"
   },
   "source": [
    " ## Note\n",
    " we can see that tweet have 31.5 mean word and 20.5 men for stop word we \n",
    " have about 90% of text wich have more than 10 stop word in\n",
    " so in process function we will not remove stop words \n",
    " becouse we will loss alot of information "
   ]
  },
  {
   "cell_type": "code",
   "execution_count": 82,
   "metadata": {
    "colab": {
     "base_uri": "https://localhost:8080/"
    },
    "executionInfo": {
     "elapsed": 782,
     "status": "ok",
     "timestamp": 1608126894715,
     "user": {
      "displayName": "khalil hennara",
      "photoUrl": "",
      "userId": "12581719381754495507"
     },
     "user_tz": -120
    },
    "id": "Lx0VkhDlTxu_",
    "outputId": "fc399b1e-1bc3-4f5f-ede4-d2bdfb7af311"
   },
   "outputs": [
    {
     "name": "stdout",
     "output_type": "stream",
     "text": [
      "['i', 'me', 'my', 'myself', 'we', 'our', 'ours', 'ourselves', 'you', \"you're\", \"you've\", \"you'll\", \"you'd\", 'your', 'yours', 'yourself', 'yourselves', 'he', 'him', 'his', 'himself', 'she', \"she's\", 'her', 'hers', 'herself', 'it', \"it's\", 'its', 'itself', 'they', 'them', 'their', 'theirs', 'themselves', 'what', 'which', 'who', 'whom', 'this', 'that', \"that'll\", 'these', 'those', 'am', 'is', 'are', 'was', 'were', 'be', 'been', 'being', 'have', 'has', 'had', 'having', 'do', 'does', 'did', 'doing', 'a', 'an', 'the', 'and', 'but', 'if', 'or', 'because', 'as', 'until', 'while', 'of', 'at', 'by', 'for', 'with', 'about', 'against', 'between', 'into', 'through', 'during', 'before', 'after', 'above', 'below', 'to', 'from', 'up', 'down', 'in', 'out', 'on', 'off', 'over', 'under', 'again', 'further', 'then', 'once', 'here', 'there', 'when', 'where', 'why', 'how', 'all', 'any', 'both', 'each', 'few', 'more', 'most', 'other', 'some', 'such', 'no', 'nor', 'not', 'only', 'own', 'same', 'so', 'than', 'too', 'very', 's', 't', 'can', 'will', 'just', 'don', \"don't\", 'should', \"should've\", 'now', 'd', 'll', 'm', 'o', 're', 've', 'y', 'ain', 'aren', \"aren't\", 'couldn', \"couldn't\", 'didn', \"didn't\", 'doesn', \"doesn't\", 'hadn', \"hadn't\", 'hasn', \"hasn't\", 'haven', \"haven't\", 'isn', \"isn't\", 'ma', 'mightn', \"mightn't\", 'mustn', \"mustn't\", 'needn', \"needn't\", 'shan', \"shan't\", 'shouldn', \"shouldn't\", 'wasn', \"wasn't\", 'weren', \"weren't\", 'won', \"won't\", 'wouldn', \"wouldn't\"]\n"
     ]
    }
   ],
   "source": [
    "print(STOPWORDS)"
   ]
  },
  {
   "cell_type": "code",
   "execution_count": 83,
   "metadata": {
    "executionInfo": {
     "elapsed": 1134,
     "status": "ok",
     "timestamp": 1608126895615,
     "user": {
      "displayName": "khalil hennara",
      "photoUrl": "",
      "userId": "12581719381754495507"
     },
     "user_tz": -120
    },
    "id": "D8ANsrg_opAp"
   },
   "outputs": [],
   "source": [
    "# the number of url in each example\n",
    "df['url_count']=df['OriginalTweet'].apply(lambda x: len([w for w in x.split() if 'https' in w or 'http' in w ]))"
   ]
  },
  {
   "cell_type": "code",
   "execution_count": 84,
   "metadata": {
    "colab": {
     "base_uri": "https://localhost:8080/"
    },
    "executionInfo": {
     "elapsed": 808,
     "status": "ok",
     "timestamp": 1608126896014,
     "user": {
      "displayName": "khalil hennara",
      "photoUrl": "",
      "userId": "12581719381754495507"
     },
     "user_tz": -120
    },
    "id": "91bIW-NrpHfM",
    "outputId": "08dc2ba6-1eb6-4142-e1e7-a87c7ad6818c"
   },
   "outputs": [
    {
     "data": {
      "text/plain": [
       "count    41157.000000\n",
       "mean         0.583570\n",
       "std          0.676333\n",
       "min          0.000000\n",
       "25%          0.000000\n",
       "50%          0.000000\n",
       "75%          1.000000\n",
       "max          6.000000\n",
       "Name: url_count, dtype: float64"
      ]
     },
     "execution_count": 84,
     "metadata": {
      "tags": []
     },
     "output_type": "execute_result"
    }
   ],
   "source": [
    "df['url_count'].describe()"
   ]
  },
  {
   "cell_type": "markdown",
   "metadata": {
    "executionInfo": {
     "elapsed": 952,
     "status": "ok",
     "timestamp": 1608126896759,
     "user": {
      "displayName": "khalil hennara",
      "photoUrl": "",
      "userId": "12581719381754495507"
     },
     "user_tz": -120
    },
    "id": "mDseOVmUpWrP"
   },
   "source": [
    "## Note\n",
    "we should remove all url in the text"
   ]
  },
  {
   "cell_type": "code",
   "execution_count": 86,
   "metadata": {
    "executionInfo": {
     "elapsed": 784,
     "status": "ok",
     "timestamp": 1608126897421,
     "user": {
      "displayName": "khalil hennara",
      "photoUrl": "",
      "userId": "12581719381754495507"
     },
     "user_tz": -120
    },
    "id": "y0-r58HGpcgL"
   },
   "outputs": [],
   "source": [
    "# the hastage count and mention count\n",
    "df['hashtage_count']=df['OriginalTweet'].apply(lambda x: len([w for w in x.split() if '#' in w]))\n",
    "df['mention_count']=df['OriginalTweet'].apply(lambda x: len([w for w in x.split() if '@' in w]))\n"
   ]
  },
  {
   "cell_type": "code",
   "execution_count": 87,
   "metadata": {
    "colab": {
     "base_uri": "https://localhost:8080/"
    },
    "executionInfo": {
     "elapsed": 1433,
     "status": "ok",
     "timestamp": 1608126898982,
     "user": {
      "displayName": "khalil hennara",
      "photoUrl": "",
      "userId": "12581719381754495507"
     },
     "user_tz": -120
    },
    "id": "UOrfziD_qDKb",
    "outputId": "e434a862-4f7b-48a4-dbbe-839a178dcfa4"
   },
   "outputs": [
    {
     "data": {
      "text/plain": [
       "count    41157.000000\n",
       "mean         1.978424\n",
       "std          2.850116\n",
       "min          0.000000\n",
       "25%          0.000000\n",
       "50%          1.000000\n",
       "75%          3.000000\n",
       "max         30.000000\n",
       "Name: hashtage_count, dtype: float64"
      ]
     },
     "execution_count": 87,
     "metadata": {
      "tags": []
     },
     "output_type": "execute_result"
    }
   ],
   "source": [
    "df['hashtage_count'].describe()"
   ]
  },
  {
   "cell_type": "code",
   "execution_count": 88,
   "metadata": {
    "colab": {
     "base_uri": "https://localhost:8080/"
    },
    "executionInfo": {
     "elapsed": 615,
     "status": "ok",
     "timestamp": 1608126898984,
     "user": {
      "displayName": "khalil hennara",
      "photoUrl": "",
      "userId": "12581719381754495507"
     },
     "user_tz": -120
    },
    "id": "spwOF3usqG4u",
    "outputId": "2aef172a-bda8-48e4-91c3-70965c972f8e"
   },
   "outputs": [
    {
     "data": {
      "text/plain": [
       "count    41157.000000\n",
       "mean         0.433389\n",
       "std          1.129124\n",
       "min          0.000000\n",
       "25%          0.000000\n",
       "50%          0.000000\n",
       "75%          0.000000\n",
       "max         21.000000\n",
       "Name: mention_count, dtype: float64"
      ]
     },
     "execution_count": 88,
     "metadata": {
      "tags": []
     },
     "output_type": "execute_result"
    }
   ],
   "source": [
    "df['mention_count'].describe()"
   ]
  },
  {
   "cell_type": "code",
   "execution_count": 89,
   "metadata": {
    "colab": {
     "base_uri": "https://localhost:8080/"
    },
    "executionInfo": {
     "elapsed": 797,
     "status": "ok",
     "timestamp": 1608126901178,
     "user": {
      "displayName": "khalil hennara",
      "photoUrl": "",
      "userId": "12581719381754495507"
     },
     "user_tz": -120
    },
    "id": "-L5v9GVbqo84",
    "outputId": "c0cf78b7-93e4-4857-a556-a755c97c0989"
   },
   "outputs": [
    {
     "data": {
      "text/plain": [
       "Index(['UserName', 'ScreenName', 'TweetAt', 'OriginalTweet', 'Sentiment',\n",
       "       'NomericSentiment', 'world_count', 'stop_word_count', 'url_count',\n",
       "       'hashtage_count', 'mention_count'],\n",
       "      dtype='object')"
      ]
     },
     "execution_count": 89,
     "metadata": {
      "tags": []
     },
     "output_type": "execute_result"
    }
   ],
   "source": [
    "df.columns"
   ]
  },
  {
   "cell_type": "markdown",
   "metadata": {},
   "source": [
    "# Note \n",
    "The following Two cell is\n",
    "for visiulizig the meta data we make befor "
   ]
  },
  {
   "cell_type": "code",
   "execution_count": 90,
   "metadata": {
    "colab": {
     "base_uri": "https://localhost:8080/",
     "height": 1000
    },
    "executionInfo": {
     "elapsed": 9029,
     "status": "ok",
     "timestamp": 1608126910662,
     "user": {
      "displayName": "khalil hennara",
      "photoUrl": "",
      "userId": "12581719381754495507"
     },
     "user_tz": -120
    },
    "id": "_TRNSRW_qOT0",
    "outputId": "f091158d-61ed-4af3-b34d-184e1f017c57"
   },
   "outputs": [
    {
     "name": "stderr",
     "output_type": "stream",
     "text": [
      "/usr/local/lib/python3.6/dist-packages/seaborn/distributions.py:2551: FutureWarning: `distplot` is a deprecated function and will be removed in a future version. Please adapt your code to use either `displot` (a figure-level function with similar flexibility) or `histplot` (an axes-level function for histograms).\n",
      "  warnings.warn(msg, FutureWarning)\n",
      "/usr/local/lib/python3.6/dist-packages/seaborn/distributions.py:2551: FutureWarning: `distplot` is a deprecated function and will be removed in a future version. Please adapt your code to use either `displot` (a figure-level function with similar flexibility) or `histplot` (an axes-level function for histograms).\n",
      "  warnings.warn(msg, FutureWarning)\n",
      "/usr/local/lib/python3.6/dist-packages/seaborn/distributions.py:2551: FutureWarning: `distplot` is a deprecated function and will be removed in a future version. Please adapt your code to use either `displot` (a figure-level function with similar flexibility) or `histplot` (an axes-level function for histograms).\n",
      "  warnings.warn(msg, FutureWarning)\n",
      "/usr/local/lib/python3.6/dist-packages/seaborn/distributions.py:2551: FutureWarning: `distplot` is a deprecated function and will be removed in a future version. Please adapt your code to use either `displot` (a figure-level function with similar flexibility) or `histplot` (an axes-level function for histograms).\n",
      "  warnings.warn(msg, FutureWarning)\n",
      "/usr/local/lib/python3.6/dist-packages/seaborn/distributions.py:2551: FutureWarning: `distplot` is a deprecated function and will be removed in a future version. Please adapt your code to use either `displot` (a figure-level function with similar flexibility) or `histplot` (an axes-level function for histograms).\n",
      "  warnings.warn(msg, FutureWarning)\n",
      "/usr/local/lib/python3.6/dist-packages/seaborn/distributions.py:2551: FutureWarning: `distplot` is a deprecated function and will be removed in a future version. Please adapt your code to use either `displot` (a figure-level function with similar flexibility) or `histplot` (an axes-level function for histograms).\n",
      "  warnings.warn(msg, FutureWarning)\n",
      "/usr/local/lib/python3.6/dist-packages/seaborn/distributions.py:2551: FutureWarning: `distplot` is a deprecated function and will be removed in a future version. Please adapt your code to use either `displot` (a figure-level function with similar flexibility) or `histplot` (an axes-level function for histograms).\n",
      "  warnings.warn(msg, FutureWarning)\n",
      "/usr/local/lib/python3.6/dist-packages/seaborn/distributions.py:2551: FutureWarning: `distplot` is a deprecated function and will be removed in a future version. Please adapt your code to use either `displot` (a figure-level function with similar flexibility) or `histplot` (an axes-level function for histograms).\n",
      "  warnings.warn(msg, FutureWarning)\n",
      "/usr/local/lib/python3.6/dist-packages/seaborn/distributions.py:2551: FutureWarning: `distplot` is a deprecated function and will be removed in a future version. Please adapt your code to use either `displot` (a figure-level function with similar flexibility) or `histplot` (an axes-level function for histograms).\n",
      "  warnings.warn(msg, FutureWarning)\n",
      "/usr/local/lib/python3.6/dist-packages/seaborn/distributions.py:2551: FutureWarning: `distplot` is a deprecated function and will be removed in a future version. Please adapt your code to use either `displot` (a figure-level function with similar flexibility) or `histplot` (an axes-level function for histograms).\n",
      "  warnings.warn(msg, FutureWarning)\n",
      "/usr/local/lib/python3.6/dist-packages/seaborn/distributions.py:2551: FutureWarning: `distplot` is a deprecated function and will be removed in a future version. Please adapt your code to use either `displot` (a figure-level function with similar flexibility) or `histplot` (an axes-level function for histograms).\n",
      "  warnings.warn(msg, FutureWarning)\n",
      "/usr/local/lib/python3.6/dist-packages/seaborn/distributions.py:2551: FutureWarning: `distplot` is a deprecated function and will be removed in a future version. Please adapt your code to use either `displot` (a figure-level function with similar flexibility) or `histplot` (an axes-level function for histograms).\n",
      "  warnings.warn(msg, FutureWarning)\n",
      "/usr/local/lib/python3.6/dist-packages/seaborn/distributions.py:2551: FutureWarning: `distplot` is a deprecated function and will be removed in a future version. Please adapt your code to use either `displot` (a figure-level function with similar flexibility) or `histplot` (an axes-level function for histograms).\n",
      "  warnings.warn(msg, FutureWarning)\n",
      "/usr/local/lib/python3.6/dist-packages/seaborn/distributions.py:2551: FutureWarning: `distplot` is a deprecated function and will be removed in a future version. Please adapt your code to use either `displot` (a figure-level function with similar flexibility) or `histplot` (an axes-level function for histograms).\n",
      "  warnings.warn(msg, FutureWarning)\n",
      "/usr/local/lib/python3.6/dist-packages/seaborn/distributions.py:2551: FutureWarning: `distplot` is a deprecated function and will be removed in a future version. Please adapt your code to use either `displot` (a figure-level function with similar flexibility) or `histplot` (an axes-level function for histograms).\n",
      "  warnings.warn(msg, FutureWarning)\n"
     ]
    },
    {
     "data": {
      "image/png": "[encoded data removed]",
      "text/plain": [
       "<Figure size 2000x5000 with 10 Axes>"
      ]
     },
     "metadata": {
      "needs_background": "light",
      "tags": []
     },
     "output_type": "display_data"
    }
   ],
   "source": [
    "METAFEATURES=['world_count','stop_word_count','url_count','hashtage_count','mention_count']\n",
    "POSITIVE=df['Sentiment']=='Positive'\n",
    "fig, axes = plt.subplots(ncols=2, nrows=len(METAFEATURES), figsize=(20, 50), dpi=100)\n",
    "\n",
    "for i, feature in enumerate(METAFEATURES):\n",
    "    sn.distplot(df.loc[~POSITIVE][feature], label='Positive', ax=axes[i][0], color='green')\n",
    "    sn.distplot(df.loc[POSITIVE][feature], label='None Positive', ax=axes[i][0], color='red')\n",
    "\n",
    "    sn.distplot(df[feature], label='Training', ax=axes[i][1])\n",
    "    \n",
    "    for j in range(2):\n",
    "        axes[i][j].set_xlabel('')\n",
    "        axes[i][j].tick_params(axis='x', labelsize=12)\n",
    "        axes[i][j].tick_params(axis='y', labelsize=12)\n",
    "        axes[i][j].legend()\n",
    "    \n",
    "    axes[i][0].set_title(f'{feature} Target Distribution in Training Set', fontsize=13)\n"
   ]
  },
  {
   "cell_type": "code",
   "execution_count": null,
   "metadata": {
    "id": "lS5IiltbsLPH"
   },
   "outputs": [],
   "source": [
    "fig.savefig('fig_2.png')"
   ]
  },
  {
   "cell_type": "code",
   "execution_count": 53,
   "metadata": {
    "colab": {
     "base_uri": "https://localhost:8080/",
     "height": 265
    },
    "executionInfo": {
     "elapsed": 879,
     "status": "ok",
     "timestamp": 1608101505971,
     "user": {
      "displayName": "khalil hennara",
      "photoUrl": "",
      "userId": "12581719381754495507"
     },
     "user_tz": -120
    },
    "id": "L0RNcWMts379",
    "outputId": "da10c39c-f426-4274-87b4-a86ab784d7fb"
   },
   "outputs": [
    {
     "data": {
      "text/plain": [
       "<matplotlib.axes._subplots.AxesSubplot at 0x7f0857875668>"
      ]
     },
     "execution_count": 53,
     "metadata": {
      "tags": []
     },
     "output_type": "execute_result"
    },
    {
     "data": {
      "image/png": "[encoded data removed]",
      "text/plain": [
       "<Figure size 432x288 with 1 Axes>"
      ]
     },
     "metadata": {
      "tags": []
     },
     "output_type": "display_data"
    }
   ],
   "source": [
    "df.groupby('NomericSentiment').count()['Sentiment'].plot(kind='pie',labels=['Positive 29%','Negative 24%','Neural 18%','ExtremelyPostive 16%','ExtremelyNegative 13%'])"
   ]
  },
  {
   "cell_type": "markdown",
   "metadata": {},
   "source": [
    "# Cleanig  Data\n",
    "After we take a look on the data now we can write some function for cleaning step"
   ]
  },
  {
   "cell_type": "code",
   "execution_count": null,
   "metadata": {
    "executionInfo": {
     "elapsed": 2583,
     "status": "ok",
     "timestamp": 1608126910664,
     "user": {
      "displayName": "khalil hennara",
      "photoUrl": "",
      "userId": "12581719381754495507"
     },
     "user_tz": -120
    },
    "id": "weuLDxxe0D69"
   },
   "outputs": [],
   "source": [
    "def replace_urls(text):\n",
    "        \"\"\"\n",
    "    This Function replace url in the text\n",
    "    \n",
    "    parameter:\n",
    "            text : is string \n",
    "    return : string\n",
    "    \"\"\"\n",
    "    url_regex = r'(https?:\\/\\/(?:www\\.|(?!www))[a-zA-Z0-9][a-zA-Z0-9-]+[a-zA-Z0-9]\\.[^\\s]{2,}|www\\.[a-zA-Z0-9][a-zA-Z0-9-]+[a-zA-Z0-9]\\.[^\\s]{2,}|https?:\\/\\/(?:www\\.|(?!www))[a-zA-Z0-9]+\\.[^\\s]{2,}|www\\.[a-zA-Z0-9]+\\.[^\\s]{2,})'\n",
    "    text = re.sub(url_regex, \" \", text)\n",
    "    return text\n"
   ]
  },
  {
   "cell_type": "code",
   "execution_count": 92,
   "metadata": {
    "executionInfo": {
     "elapsed": 1177,
     "status": "ok",
     "timestamp": 1608126911977,
     "user": {
      "displayName": "khalil hennara",
      "photoUrl": "",
      "userId": "12581719381754495507"
     },
     "user_tz": -120
    },
    "id": "nXLAX4EUBwZn"
   },
   "outputs": [],
   "source": [
    "def normalize_whitespace(text):\n",
    "      \"\"\"\n",
    "    This function normalizes whitespaces, removing duplicates.\n",
    "    \n",
    "    parameter:\n",
    "            text : is string\n",
    "    return : string\n",
    "    \"\"\"\n",
    "    text = re.sub(r\"//t\",r\" \", text)\n",
    "    text = re.sub(r\"( )\\1+\",r\"\\1\", text)\n",
    "    text = re.sub(r\"(\\n)\\1+\",r\"\\1\", text)\n",
    "    text = re.sub(r\"(\\r)\\1+\",r\"\\1\", text)\n",
    "    text = re.sub(r\"(\\t)\\1+\",r\"\\1\", text)\n",
    "    return text.strip(\" \")\n"
   ]
  },
  {
   "cell_type": "code",
   "execution_count": 93,
   "metadata": {
    "colab": {
     "base_uri": "https://localhost:8080/"
    },
    "executionInfo": {
     "elapsed": 638,
     "status": "ok",
     "timestamp": 1608126914444,
     "user": {
      "displayName": "khalil hennara",
      "photoUrl": "",
      "userId": "12581719381754495507"
     },
     "user_tz": -120
    },
    "id": "J6LGYGr27mXn",
    "outputId": "656fb111-2d92-405b-95f0-32ec5258ffc0"
   },
   "outputs": [
    {
     "name": "stdout",
     "output_type": "stream",
     "text": [
      "@MeNyrbie @Phil_Gahan @Chrisitv https://t.co/iFz9FAn2Pa and https://t.co/xX6ghGFzCC and https://t.co/I2NlzdxNo8\n"
     ]
    }
   ],
   "source": [
    "print(df['OriginalTweet'][0])"
   ]
  },
  {
   "cell_type": "code",
   "execution_count": 94,
   "metadata": {
    "colab": {
     "base_uri": "https://localhost:8080/",
     "height": 70
    },
    "executionInfo": {
     "elapsed": 969,
     "status": "ok",
     "timestamp": 1608126915539,
     "user": {
      "displayName": "khalil hennara",
      "photoUrl": "",
      "userId": "12581719381754495507"
     },
     "user_tz": -120
    },
    "id": "1sSn0j1J_0iQ",
    "outputId": "d7c6850e-43cc-4aa2-de08-3f3d42a6a012"
   },
   "outputs": [
    {
     "data": {
      "application/vnd.google.colaboratory.intrinsic+json": {
       "type": "string"
      },
      "text/plain": [
       "'As news of the regionÂ\\x92s first confirmed COVID-19 case came out of Sullivan County last week, people flocked to area stores to purchase cleaning supplies, hand sanitizer, food, toilet paper and other goods, @Tim_Dodson reports  '"
      ]
     },
     "execution_count": 94,
     "metadata": {
      "tags": []
     },
     "output_type": "execute_result"
    }
   ],
   "source": [
    "replace_urls(df['OriginalTweet'][5])"
   ]
  },
  {
   "cell_type": "code",
   "execution_count": 95,
   "metadata": {
    "executionInfo": {
     "elapsed": 1283,
     "status": "ok",
     "timestamp": 1608126918573,
     "user": {
      "displayName": "khalil hennara",
      "photoUrl": "",
      "userId": "12581719381754495507"
     },
     "user_tz": -120
    },
    "id": "Qzv0NDjm_-w3"
   },
   "outputs": [],
   "source": [
    "def clean(tweet):\n",
    "        \"\"\"\n",
    "    This Function is The main Function For cleaning \n",
    "    we only used regular expretion \n",
    "    \n",
    "    parameter : \n",
    "            tweet : is string\n",
    "    return : clean string\n",
    "    \"\"\"\n",
    "\n",
    "    #remove url\n",
    "    tweet=replace_urls(tweet)\n",
    "\n",
    "    tweet = re.sub(r\"\\x89Û_\", \"\", tweet)\n",
    "    tweet = re.sub(r\"\\x89ÛÒ\", \"\", tweet)\n",
    "    tweet = re.sub(r\"\\x89ÛÒ\", \"\", tweet)\n",
    "    tweet = re.sub(r\"â\\x94\", \"\" , tweet)\n",
    "    tweet = re.sub(r\"\\x89ÛÏWhen\", \"When\", tweet)\n",
    "    tweet = re.sub(r\"\\x89ÛÏ\", \"\", tweet)\n",
    "    tweet = re.sub(r\"China\\x89Ûªs\", \"China's\", tweet)\n",
    "    tweet = re.sub(r\"let\\x89Ûªs\", \"let's\", tweet)\n",
    "    tweet = re.sub(r\"\\x89Û÷\", \"\", tweet)\n",
    "    tweet = re.sub(r\"\\x89Ûª\", \"\", tweet)\n",
    "    tweet = re.sub(r\"\\x89Û\\x9d\", \"\", tweet)\n",
    "    tweet = re.sub(r\"å_\", \"\", tweet)\n",
    "    tweet = re.sub(r\"\\x89Û¢\", \"\", tweet)\n",
    "    tweet = re.sub(r\"\\x89Û¢åÊ\", \"\", tweet)\n",
    "    tweet = re.sub(r\"fromåÊwounds\", \"from wounds\", tweet)\n",
    "    tweet = re.sub(r\"åÊ\", \"\", tweet)\n",
    "    tweet = re.sub(r\"åÈ\", \"\", tweet)\n",
    "    tweet = re.sub(r\"JapÌ_n\", \"Japan\", tweet)    \n",
    "    tweet = re.sub(r\"Ì©\", \"e\", tweet)\n",
    "    tweet = re.sub(r\"å¨\", \"\", tweet)\n",
    "    tweet = re.sub(r\"SuruÌ¤\", \"Suruc\", tweet)\n",
    "    tweet = re.sub(r\"åÇ\", \"\", tweet)\n",
    "    tweet = re.sub(r\"å£3million\", \"3 million\", tweet)\n",
    "    tweet = re.sub(r\"åÀ\", \"\", tweet)\n",
    "    \n",
    "    # Contractions\n",
    "    tweet = re.sub(r\"he's\", \"he is\", tweet)\n",
    "    tweet = re.sub(r\"there's\", \"there is\", tweet)\n",
    "    tweet = re.sub(r\"We're\", \"We are\", tweet)\n",
    "    tweet = re.sub(r\"That's\", \"That is\", tweet)\n",
    "    tweet = re.sub(r\"won't\", \"will not\", tweet)\n",
    "    tweet = re.sub(r\"they're\", \"they are\", tweet)\n",
    "    tweet = re.sub(r\"Can't\", \"Cannot\", tweet)\n",
    "    tweet = re.sub(r\"wasn't\", \"was not\", tweet)\n",
    "    tweet = re.sub(r\"don\\x89Ûªt\", \"do not\", tweet)\n",
    "    tweet = re.sub(r\"aren't\", \"are not\", tweet)\n",
    "    tweet = re.sub(r\"isn't\", \"is not\", tweet)\n",
    "    tweet = re.sub(r\"What's\", \"What is\", tweet)\n",
    "    tweet = re.sub(r\"haven't\", \"have not\", tweet)\n",
    "    tweet = re.sub(r\"hasn't\", \"has not\", tweet)\n",
    "    tweet = re.sub(r\"There's\", \"There is\", tweet)\n",
    "    tweet = re.sub(r\"He's\", \"He is\", tweet)\n",
    "    tweet = re.sub(r\"It's\", \"It is\", tweet)\n",
    "    tweet = re.sub(r\"You're\", \"You are\", tweet)\n",
    "    tweet = re.sub(r\"I'M\", \"I am\", tweet)\n",
    "    tweet = re.sub(r\"shouldn't\", \"should not\", tweet)\n",
    "    tweet = re.sub(r\"wouldn't\", \"would not\", tweet)\n",
    "    tweet = re.sub(r\"i'm\", \"I am\", tweet)\n",
    "    tweet = re.sub(r\"I\\x89Ûªm\", \"I am\", tweet)\n",
    "    tweet = re.sub(r\"I'm\", \"I am\", tweet)\n",
    "    tweet = re.sub(r\"Isn't\", \"is not\", tweet)\n",
    "    tweet = re.sub(r\"Here's\", \"Here is\", tweet)\n",
    "    tweet = re.sub(r\"you've\", \"you have\", tweet)\n",
    "    tweet = re.sub(r\"you\\x89Ûªve\", \"you have\", tweet)\n",
    "    tweet = re.sub(r\"we're\", \"we are\", tweet)\n",
    "    tweet = re.sub(r\"what's\", \"what is\", tweet)\n",
    "    tweet = re.sub(r\"couldn't\", \"could not\", tweet)\n",
    "    tweet = re.sub(r\"we've\", \"we have\", tweet)\n",
    "    tweet = re.sub(r\"it\\x89Ûªs\", \"it is\", tweet)\n",
    "    tweet = re.sub(r\"doesn\\x89Ûªt\", \"does not\", tweet)\n",
    "    tweet = re.sub(r\"It\\x89Ûªs\", \"It is\", tweet)\n",
    "    tweet = re.sub(r\"Here\\x89Ûªs\", \"Here is\", tweet)\n",
    "    tweet = re.sub(r\"who's\", \"who is\", tweet)\n",
    "    tweet = re.sub(r\"I\\x89Ûªve\", \"I have\", tweet)\n",
    "    tweet = re.sub(r\"y'all\", \"you all\", tweet)\n",
    "    tweet = re.sub(r\"can\\x89Ûªt\", \"cannot\", tweet)\n",
    "    tweet = re.sub(r\"would've\", \"would have\", tweet)\n",
    "    tweet = re.sub(r\"it'll\", \"it will\", tweet)\n",
    "    tweet = re.sub(r\"we'll\", \"we will\", tweet)\n",
    "    tweet = re.sub(r\"wouldn\\x89Ûªt\", \"would not\", tweet)\n",
    "    tweet = re.sub(r\"We've\", \"We have\", tweet)\n",
    "    tweet = re.sub(r\"he'll\", \"he will\", tweet)\n",
    "    tweet = re.sub(r\"Y'all\", \"You all\", tweet)\n",
    "    tweet = re.sub(r\"Weren't\", \"Were not\", tweet)\n",
    "    tweet = re.sub(r\"Didn't\", \"Did not\", tweet)\n",
    "    tweet = re.sub(r\"they'll\", \"they will\", tweet)\n",
    "    tweet = re.sub(r\"they'd\", \"they would\", tweet)\n",
    "    tweet = re.sub(r\"DON'T\", \"DO NOT\", tweet)\n",
    "    tweet = re.sub(r\"That\\x89Ûªs\", \"That is\", tweet)\n",
    "    tweet = re.sub(r\"they've\", \"they have\", tweet)\n",
    "    tweet = re.sub(r\"i'd\", \"I would\", tweet)\n",
    "    tweet = re.sub(r\"should've\", \"should have\", tweet)\n",
    "    tweet = re.sub(r\"You\\x89Ûªre\", \"You are\", tweet)\n",
    "    tweet = re.sub(r\"where's\", \"where is\", tweet)\n",
    "    tweet = re.sub(r\"Don\\x89Ûªt\", \"Do not\", tweet)\n",
    "    tweet = re.sub(r\"we'd\", \"we would\", tweet)\n",
    "    tweet = re.sub(r\"i'll\", \"I will\", tweet)\n",
    "    tweet = re.sub(r\"weren't\", \"were not\", tweet)\n",
    "    tweet = re.sub(r\"They're\", \"They are\", tweet)\n",
    "    tweet = re.sub(r\"Can\\x89Ûªt\", \"Cannot\", tweet)\n",
    "    tweet = re.sub(r\"you\\x89Ûªll\", \"you will\", tweet)\n",
    "    tweet = re.sub(r\"I\\x89Ûªd\", \"I would\", tweet)\n",
    "    tweet = re.sub(r\"let's\", \"let us\", tweet)\n",
    "    tweet = re.sub(r\"it's\", \"it is\", tweet)\n",
    "    tweet = re.sub(r\"can't\", \"cannot\", tweet)\n",
    "    tweet = re.sub(r\"don't\", \"do not\", tweet)\n",
    "    tweet = re.sub(r\"you're\", \"you are\", tweet)\n",
    "    tweet = re.sub(r\"i've\", \"I have\", tweet)\n",
    "    tweet = re.sub(r\"that's\", \"that is\", tweet)\n",
    "    tweet = re.sub(r\"i'll\", \"I will\", tweet)\n",
    "    tweet = re.sub(r\"doesn't\", \"does not\", tweet)\n",
    "    tweet = re.sub(r\"i'd\", \"I would\", tweet)\n",
    "    tweet = re.sub(r\"didn't\", \"did not\", tweet)\n",
    "    tweet = re.sub(r\"ain't\", \"am not\", tweet)\n",
    "    tweet = re.sub(r\"you'll\", \"you will\", tweet)\n",
    "    tweet = re.sub(r\"I've\", \"I have\", tweet)\n",
    "    tweet = re.sub(r\"Don't\", \"do not\", tweet)\n",
    "    tweet = re.sub(r\"I'll\", \"I will\", tweet)\n",
    "    tweet = re.sub(r\"I'd\", \"I would\", tweet)\n",
    "    tweet = re.sub(r\"Let's\", \"Let us\", tweet)\n",
    "    tweet = re.sub(r\"you'd\", \"You would\", tweet)\n",
    "    tweet = re.sub(r\"It's\", \"It is\", tweet)\n",
    "    tweet = re.sub(r\"Ain't\", \"am not\", tweet)\n",
    "    tweet = re.sub(r\"Haven't\", \"Have not\", tweet)\n",
    "    tweet = re.sub(r\"Could've\", \"Could have\", tweet)\n",
    "    tweet = re.sub(r\"youve\", \"you have\", tweet)  \n",
    "    tweet = re.sub(r\"donå«t\", \"do not\", tweet)   \n",
    "            \n",
    "    # Character entity references\n",
    "    tweet = re.sub(r\"&gt;\", \">\", tweet)\n",
    "    tweet = re.sub(r\"&lt;\", \"<\", tweet)\n",
    "    tweet = re.sub(r\"&amp;\", \"&\", tweet)\n",
    "    \n",
    "    # Typos, slang and informal abbreviations\n",
    "    tweet = re.sub(r\"w/e\", \"whatever\", tweet)\n",
    "    tweet = re.sub(r\"w/\", \"with\", tweet)\n",
    "    tweet = re.sub(r\"USAgov\", \"USA government\", tweet)\n",
    "    tweet = re.sub(r\"recentlu\", \"recently\", tweet)\n",
    "    tweet = re.sub(r\"Ph0tos\", \"Photos\", tweet)\n",
    "    tweet = re.sub(r\"amirite\", \"am I right\", tweet)\n",
    "    tweet = re.sub(r\"exp0sed\", \"exposed\", tweet)\n",
    "    tweet = re.sub(r\"<3\", \"love\", tweet)\n",
    "    tweet = re.sub(r\"amageddon\", \"armageddon\", tweet)\n",
    "    tweet = re.sub(r\"Trfc\", \"Traffic\", tweet)\n",
    "    tweet = re.sub(r\"8/5/2015\", \"2015-08-05\", tweet)\n",
    "    tweet = re.sub(r\"WindStorm\", \"Wind Storm\", tweet)\n",
    "    tweet = re.sub(r\"8/6/2015\", \"2015-08-06\", tweet)\n",
    "    tweet = re.sub(r\"10:38PM\", \"10:38 PM\", tweet)\n",
    "    tweet = re.sub(r\"10:30pm\", \"10:30 PM\", tweet)\n",
    "    tweet = re.sub(r\"16yr\", \"16 year\", tweet)\n",
    "    tweet = re.sub(r\"lmao\", \"laughing my ass off\", tweet)   \n",
    "    tweet = re.sub(r\"TRAUMATISED\", \"traumatized\", tweet)\n",
    "    \n",
    "        \n",
    "    # Words with punctuations and special characters\n",
    "    # punctuations = '@#!?+&*[]-%.:/();$=><|{}^' + \"'`\"\n",
    "    # for p in punctuations:\n",
    "    #     tweet = tweet.replace(p, f' {p} ')\n",
    "        \n",
    "    # # ... and ..\n",
    "    tweet = tweet.replace('...', ' ')\n",
    "    if '...' not in tweet:\n",
    "        tweet = tweet.replace('..', ' ')      \n",
    "\n",
    "    #remove mention\n",
    "    tweet=re.sub(r'@\\w+','',tweet)\n",
    "\n",
    "    #remove dupicalte whitespace\n",
    "    tweet=normalize_whitespace(tweet)\n",
    "\n",
    "    return tweet.lower()"
   ]
  },
  {
   "cell_type": "code",
   "execution_count": 96,
   "metadata": {
    "executionInfo": {
     "elapsed": 15363,
     "status": "ok",
     "timestamp": 1608126937067,
     "user": {
      "displayName": "khalil hennara",
      "photoUrl": "",
      "userId": "12581719381754495507"
     },
     "user_tz": -120
    },
    "id": "mU0TPyIDBXAZ"
   },
   "outputs": [],
   "source": [
    "df['clean_text']=df['OriginalTweet'].apply(clean)"
   ]
  },
  {
   "cell_type": "code",
   "execution_count": 97,
   "metadata": {
    "colab": {
     "base_uri": "https://localhost:8080/"
    },
    "executionInfo": {
     "elapsed": 727,
     "status": "ok",
     "timestamp": 1608126938836,
     "user": {
      "displayName": "khalil hennara",
      "photoUrl": "",
      "userId": "12581719381754495507"
     },
     "user_tz": -120
    },
    "id": "6DtlF3kOBrjV",
    "outputId": "19528bb7-4666-4635-fe2d-b9b55b3732d2"
   },
   "outputs": [
    {
     "data": {
      "text/plain": [
       "0                                              and and\n",
       "1    advice talk to your neighbours family to excha...\n",
       "2    coronavirus australia: woolworths to give elde...\n",
       "3    my food stock is not the only one which is emp...\n",
       "4    me, ready to go at supermarket during the #cov...\n",
       "Name: clean_text, dtype: object"
      ]
     },
     "execution_count": 97,
     "metadata": {
      "tags": []
     },
     "output_type": "execute_result"
    }
   ],
   "source": [
    "df['clean_text'].head()"
   ]
  },
  {
   "cell_type": "code",
   "execution_count": 108,
   "metadata": {
    "executionInfo": {
     "elapsed": 1376,
     "status": "ok",
     "timestamp": 1608127296354,
     "user": {
      "displayName": "khalil hennara",
      "photoUrl": "",
      "userId": "12581719381754495507"
     },
     "user_tz": -120
    },
    "id": "TSxGsu2C2lrM"
   },
   "outputs": [],
   "source": [
    "df.to_csv('/content/drive/MyDrive/clean_data.csv',index=False)"
   ]
  },
  {
   "cell_type": "markdown",
   "metadata": {
    "id": "E-hqqwYONqG6"
   },
   "source": [
    "# Text Analysis \n",
    " we can see that  i do some Text analysis in the first and that what we should do\n",
    " to know how to clean data\n",
    " put for sake of Home work i do what you wont me do"
   ]
  },
  {
   "cell_type": "markdown",
   "metadata": {
    "id": "7Rx-wcWZSDXO"
   },
   "source": [
    "**First i well make all tweet as one Text and work with the wall data**"
   ]
  },
  {
   "cell_type": "code",
   "execution_count": 62,
   "metadata": {
    "executionInfo": {
     "elapsed": 1929,
     "status": "ok",
     "timestamp": 1608101700660,
     "user": {
      "displayName": "khalil hennara",
      "photoUrl": "",
      "userId": "12581719381754495507"
     },
     "user_tz": -120
    },
    "id": "xEdFUN7GSdAB"
   },
   "outputs": [],
   "source": [
    "clean_text=\"\"\n",
    "for data in df['clean_text']:\n",
    "  clean_text+=data\n",
    "un_clean_text=\"\"\n",
    "for data in df['OriginalTweet']:\n",
    "  un_clean_text+=data"
   ]
  },
  {
   "cell_type": "code",
   "execution_count": 63,
   "metadata": {
    "colab": {
     "base_uri": "https://localhost:8080/"
    },
    "executionInfo": {
     "elapsed": 876,
     "status": "ok",
     "timestamp": 1608101703098,
     "user": {
      "displayName": "khalil hennara",
      "photoUrl": "",
      "userId": "12581719381754495507"
     },
     "user_tz": -120
    },
    "id": "nwe1ilOSSofg",
    "outputId": "a276582b-6635-4937-9879-4943c082cc13"
   },
   "outputs": [
    {
     "data": {
      "text/plain": [
       "(7557970, 8404266)"
      ]
     },
     "execution_count": 63,
     "metadata": {
      "tags": []
     },
     "output_type": "execute_result"
    }
   ],
   "source": [
    "len(clean_text),len(un_clean_text)"
   ]
  },
  {
   "cell_type": "code",
   "execution_count": 64,
   "metadata": {
    "executionInfo": {
     "elapsed": 3276,
     "status": "ok",
     "timestamp": 1608101708516,
     "user": {
      "displayName": "khalil hennara",
      "photoUrl": "",
      "userId": "12581719381754495507"
     },
     "user_tz": -120
    },
    "id": "aURtWpZNSpQM"
   },
   "outputs": [],
   "source": [
    "clean_freq=nltk.FreqDist(clean_text.split())\n",
    "un_clean_freq=nltk.FreqDist(un_clean_text.split())"
   ]
  },
  {
   "cell_type": "code",
   "execution_count": 65,
   "metadata": {
    "colab": {
     "base_uri": "https://localhost:8080/"
    },
    "executionInfo": {
     "elapsed": 1029,
     "status": "ok",
     "timestamp": 1608101710683,
     "user": {
      "displayName": "khalil hennara",
      "photoUrl": "",
      "userId": "12581719381754495507"
     },
     "user_tz": -120
    },
    "id": "-RfEgy3iUA4i",
    "outputId": "4ce9f988-b0d5-4861-a77f-345d0b5e2554"
   },
   "outputs": [
    {
     "name": "stdout",
     "output_type": "stream",
     "text": [
      "[('the', 42803), ('to', 37921), ('and', 23714), ('of', 21376), ('a', 18633), ('in', 18342), ('is', 13752), ('for', 13739), ('are', 11981), ('#coronavirus', 11090)]\n",
      "________________\n",
      "\n",
      "[('the', 40245), ('to', 37244), ('and', 23032), ('of', 21181), ('a', 17897), ('in', 17617), ('for', 13263), ('is', 11541), ('are', 10771), ('#coronavirus', 10197)]\n"
     ]
    }
   ],
   "source": [
    "print(clean_freq.most_common(10))\n",
    "print('________________\\n')\n",
    "print(un_clean_freq.most_common(10))"
   ]
  },
  {
   "cell_type": "code",
   "execution_count": 66,
   "metadata": {
    "colab": {
     "base_uri": "https://localhost:8080/",
     "height": 336
    },
    "executionInfo": {
     "elapsed": 1829,
     "status": "ok",
     "timestamp": 1608101743158,
     "user": {
      "displayName": "khalil hennara",
      "photoUrl": "",
      "userId": "12581719381754495507"
     },
     "user_tz": -120
    },
    "id": "GUEDH_NlUcqI",
    "outputId": "13fc1189-17f9-4a87-a857-7b59304f4148"
   },
   "outputs": [
    {
     "data": {
      "image/png": "[encoded data removed]",
      "text/plain": [
       "<Figure size 432x288 with 1 Axes>"
      ]
     },
     "metadata": {
      "needs_background": "light",
      "tags": []
     },
     "output_type": "display_data"
    }
   ],
   "source": [
    "clean_freq.plot(50)"
   ]
  },
  {
   "cell_type": "code",
   "execution_count": 67,
   "metadata": {
    "colab": {
     "base_uri": "https://localhost:8080/"
    },
    "executionInfo": {
     "elapsed": 907,
     "status": "ok",
     "timestamp": 1608101748267,
     "user": {
      "displayName": "khalil hennara",
      "photoUrl": "",
      "userId": "12581719381754495507"
     },
     "user_tz": -120
    },
    "id": "UeLfcAAfU0cB",
    "outputId": "e73f4558-dd2c-47a9-b89d-20b9b12d468f"
   },
   "outputs": [
    {
     "name": "stdout",
     "output_type": "stream",
     "text": [
      "['andadvice', 'poss', 'ordercoronavirus', 'australia:', '#confinementgeneralme,', 'litteraly', '#coronavirusfrance', '#confinementas', 'reportscashier', 'civics', 'about\".was', '#rebel', 'understanding!for', 'prevention,we', '19?.', '#govindia', '#indiafightscoronaall', '#manila', '#philippinesdue', 'time.#horningsea', 'has.me:', 'amazon:adara', 'brands:', 'trendslines', 'alternative?', '#covid19?????', '#???_????????', '?16mar20', '\"observed\"', 'groceries,â\\x94']\n",
      "_____________\n",
      "\n",
      "['@MeNyrbie', '@Phil_Gahan', 'https://t.co/iFz9FAn2Pa', 'https://t.co/xX6ghGFzCC', 'https://t.co/I2NlzdxNo8advice', 'poss', 'orderCoronavirus', 'Australia:', 'https://t.co/bInCA9Vp8PMy', '#ConfinementGeneral', 'https://t.co/zrlG0Z520jMe,', 'litteraly', '#CoronavirusFrance', 'https://t.co/usmuaLq72nAs', '@Tim_Dodson', 'https://t.co/cfXch7a2lUCashier', 'Civics', 'about\".', 'https://t.co/ieFDNeHgDOWas', '#Rebel', 'https://t.co/eVXkQLIdAZDue', 'https://t.co/kw91zJ5O5iFor', 'prevention,we', '19?.', '#govindia', '#IndiaFightsCoronaAll', '#manila', 'https://t.co/HxWs9LAnF9Due', 'time.#horningsea', 'https://t.co/lsGrXXhjhhMe:']\n"
     ]
    }
   ],
   "source": [
    "print(clean_freq.hapaxes()[:30])\n",
    "print(\"_____________\\n\")\n",
    "print(un_clean_freq.hapaxes()[:30])"
   ]
  },
  {
   "cell_type": "markdown",
   "metadata": {
    "executionInfo": {
     "elapsed": 919,
     "status": "ok",
     "timestamp": 1608101752584,
     "user": {
      "displayName": "khalil hennara",
      "photoUrl": "",
      "userId": "12581719381754495507"
     },
     "user_tz": -120
    },
    "id": "nV3LbZhFVHDP"
   },
   "source": [
    " we can see the word most comman is stop words and  \n",
    " as we mention befor we cant delet them\n",
    " in the other side we can see the cleaning operation do alot of work\n",
    " the less comman word change alot after cleaning "
   ]
  },
  {
   "cell_type": "code",
   "execution_count": 69,
   "metadata": {
    "executionInfo": {
     "elapsed": 957,
     "status": "ok",
     "timestamp": 1608101755930,
     "user": {
      "displayName": "khalil hennara",
      "photoUrl": "",
      "userId": "12581719381754495507"
     },
     "user_tz": -120
    },
    "id": "ps2rfL7KXpsr"
   },
   "outputs": [],
   "source": [
    "from nltk.collocations import BigramCollocationFinder,BigramAssocMeasures,TrigramCollocationFinder,TrigramAssocMeasures"
   ]
  },
  {
   "cell_type": "code",
   "execution_count": 70,
   "metadata": {
    "executionInfo": {
     "elapsed": 6755,
     "status": "ok",
     "timestamp": 1608101763553,
     "user": {
      "displayName": "khalil hennara",
      "photoUrl": "",
      "userId": "12581719381754495507"
     },
     "user_tz": -120
    },
    "id": "eOxu8rI7YYyM"
   },
   "outputs": [],
   "source": [
    "bigram_collocation=BigramCollocationFinder.from_words(clean_text.split())"
   ]
  },
  {
   "cell_type": "code",
   "execution_count": 71,
   "metadata": {
    "colab": {
     "base_uri": "https://localhost:8080/"
    },
    "executionInfo": {
     "elapsed": 22978,
     "status": "ok",
     "timestamp": 1608101788096,
     "user": {
      "displayName": "khalil hennara",
      "photoUrl": "",
      "userId": "12581719381754495507"
     },
     "user_tz": -120
    },
    "id": "dSjTTjxDZWDP",
    "outputId": "77e71eff-3e54-4a02-afe9-f8a200db675f"
   },
   "outputs": [
    {
     "data": {
      "text/plain": [
       "[('grocery', 'store'),\n",
       " ('covid', '19'),\n",
       " ('hand', 'sanitizer'),\n",
       " ('due', 'to'),\n",
       " ('toilet', 'paper'),\n",
       " ('online', 'shopping'),\n",
       " ('do', 'not'),\n",
       " ('panic', 'buying'),\n",
       " ('i', 'am'),\n",
       " ('the', 'grocery'),\n",
       " ('in', 'the'),\n",
       " ('will', 'be'),\n",
       " ('if', 'you'),\n",
       " ('social', 'distancing'),\n",
       " ('it', 'is'),\n",
       " ('going', 'to'),\n",
       " ('oil', 'prices'),\n",
       " ('don', 't'),\n",
       " ('#coronavirus', '#covid19'),\n",
       " ('have', 'been')]"
      ]
     },
     "execution_count": 71,
     "metadata": {
      "tags": []
     },
     "output_type": "execute_result"
    }
   ],
   "source": [
    "bigram_collocation.nbest(BigramAssocMeasures.likelihood_ratio,20)"
   ]
  },
  {
   "cell_type": "markdown",
   "metadata": {
    "executionInfo": {
     "elapsed": 942,
     "status": "ok",
     "timestamp": 1608101795007,
     "user": {
      "displayName": "khalil hennara",
      "photoUrl": "",
      "userId": "12581719381754495507"
     },
     "user_tz": -120
    },
    "id": "tlcA7QHabPtj"
   },
   "source": [
    " we can see some intersting thing in the bigram \n",
    " word like oil price which is one of the most business afected by the pandemic"
   ]
  },
  {
   "cell_type": "markdown",
   "metadata": {
    "executionInfo": {
     "elapsed": 983,
     "status": "ok",
     "timestamp": 1608101807207,
     "user": {
      "displayName": "khalil hennara",
      "photoUrl": "",
      "userId": "12581719381754495507"
     },
     "user_tz": -120
    },
    "id": "3mQEhPsWc7TO"
   },
   "source": [
    "### for finding the most comman Hashtage "
   ]
  },
  {
   "cell_type": "code",
   "execution_count": 74,
   "metadata": {
    "executionInfo": {
     "elapsed": 1133,
     "status": "ok",
     "timestamp": 1608101808838,
     "user": {
      "displayName": "khalil hennara",
      "photoUrl": "",
      "userId": "12581719381754495507"
     },
     "user_tz": -120
    },
    "id": "rWE3riRwdebw"
   },
   "outputs": [],
   "source": [
    "dic={}\n",
    "for w in clean_text.split():\n",
    "  if '#' in w:\n",
    "    if w in dic:\n",
    "      dic[w]+=1\n",
    "    else:\n",
    "      dic[w]=1"
   ]
  },
  {
   "cell_type": "code",
   "execution_count": 75,
   "metadata": {
    "colab": {
     "base_uri": "https://localhost:8080/"
    },
    "executionInfo": {
     "elapsed": 1012,
     "status": "ok",
     "timestamp": 1608101812342,
     "user": {
      "displayName": "khalil hennara",
      "photoUrl": "",
      "userId": "12581719381754495507"
     },
     "user_tz": -120
    },
    "id": "kKveQVtKd28y",
    "outputId": "e0bee52f-f6fb-4dca-e679-ec8b5e405770"
   },
   "outputs": [
    {
     "data": {
      "text/plain": [
       "27433"
      ]
     },
     "execution_count": 75,
     "metadata": {
      "tags": []
     },
     "output_type": "execute_result"
    }
   ],
   "source": [
    "len(dic) # we have 27433 "
   ]
  },
  {
   "cell_type": "code",
   "execution_count": 77,
   "metadata": {
    "executionInfo": {
     "elapsed": 1237,
     "status": "ok",
     "timestamp": 1608101834660,
     "user": {
      "displayName": "khalil hennara",
      "photoUrl": "",
      "userId": "12581719381754495507"
     },
     "user_tz": -120
    },
    "id": "BzAJqToteyi1"
   },
   "outputs": [],
   "source": [
    "sort_dic={k: v for k, v in sorted(dic.items(), key=lambda item: item[1],reverse=True)}"
   ]
  },
  {
   "cell_type": "code",
   "execution_count": 6,
   "metadata": {
    "executionInfo": {
     "elapsed": 1224,
     "status": "ok",
     "timestamp": 1608101839169,
     "user": {
      "displayName": "khalil hennara",
      "photoUrl": "",
      "userId": "12581719381754495507"
     },
     "user_tz": -120
    },
    "id": "u5Plv282e6XQ"
   },
   "outputs": [],
   "source": [
    "def return_most_common_tag(dic,n=10):\n",
    "    \"\"\"\n",
    "    This Function return the first n item in dictionary.\n",
    "    parameter :\n",
    "        dic : is the dictionay\n",
    "        n : is number of items to return \n",
    "    return :\n",
    "        three list items,keys ,values \n",
    "    \"\"\"\n",
    "\n",
    "    l=[]\n",
    "    keys=[]\n",
    "    values=[]\n",
    "    for key,item in dic.items():\n",
    "        l.append((key,item))\n",
    "        keys.append(key)\n",
    "        values.append(item)\n",
    "        if len(l)==n:\n",
    "            return (l,keys,values)"
   ]
  },
  {
   "cell_type": "code",
   "execution_count": 79,
   "metadata": {
    "colab": {
     "base_uri": "https://localhost:8080/"
    },
    "executionInfo": {
     "elapsed": 1014,
     "status": "ok",
     "timestamp": 1608101841843,
     "user": {
      "displayName": "khalil hennara",
      "photoUrl": "",
      "userId": "12581719381754495507"
     },
     "user_tz": -120
    },
    "id": "y6sdYnyzfpKp",
    "outputId": "4fbf91db-0ef4-48a2-bfae-12032077a7a6"
   },
   "outputs": [
    {
     "data": {
      "text/plain": [
       "[('#coronavirus', 11090),\n",
       " ('#covid19', 3744),\n",
       " ('#covid_19', 2119),\n",
       " ('#toiletpaper', 1269),\n",
       " ('#covid2019', 1049),\n",
       " ('#covid?19', 669),\n",
       " ('#socialdistancing', 669),\n",
       " ('#coronacrisis', 428),\n",
       " ('#pandemic', 376),\n",
       " ('#corona', 361),\n",
       " ('#stayhome', 358),\n",
       " ('#coronavirusoutbreak', 356),\n",
       " ('#coronaviruspandemic', 345),\n",
       " ('#coronavirus.', 342),\n",
       " ('#covid', 333),\n",
       " ('#retail', 318),\n",
       " ('#lockdown', 308),\n",
       " ('#quarantine', 301),\n",
       " ('#supermarket', 301),\n",
       " ('#stayathome', 292),\n",
       " ('#covid-19', 282),\n",
       " ('#food', 256),\n",
       " ('#panicbuying', 246),\n",
       " ('#coronavirusupdate', 243),\n",
       " ('#stophoarding', 237),\n",
       " ('#shopping', 210),\n",
       " ('#sanitizer', 203),\n",
       " ('#covid19uk', 197),\n",
       " ('#stayhomesavelives', 195),\n",
       " ('#staysafe', 193)]"
      ]
     },
     "execution_count": 79,
     "metadata": {
      "tags": []
     },
     "output_type": "execute_result"
    }
   ],
   "source": [
    "l,keys,values=return_most_common_tag(sort_dic,30)\n",
    "l"
   ]
  },
  {
   "cell_type": "code",
   "execution_count": 80,
   "metadata": {
    "colab": {
     "base_uri": "https://localhost:8080/",
     "height": 334
    },
    "executionInfo": {
     "elapsed": 800,
     "status": "ok",
     "timestamp": 1608101854630,
     "user": {
      "displayName": "khalil hennara",
      "photoUrl": "",
      "userId": "12581719381754495507"
     },
     "user_tz": -120
    },
    "id": "FuAi7ZySgWEQ",
    "outputId": "2660c301-9635-4c90-ae09-3a490b95bb7e"
   },
   "outputs": [
    {
     "data": {
      "text/plain": [
       "(array([27.,  1.,  0.,  1.,  0.,  0.,  0.,  0.,  0.,  1.]),\n",
       " array([  193. ,  1282.7,  2372.4,  3462.1,  4551.8,  5641.5,  6731.2,\n",
       "         7820.9,  8910.6, 10000.3, 11090. ]),\n",
       " <a list of 10 Patch objects>)"
      ]
     },
     "execution_count": 80,
     "metadata": {
      "tags": []
     },
     "output_type": "execute_result"
    },
    {
     "data": {
      "image/png": "[encoded data removed]",
      "text/plain": [
       "<Figure size 432x288 with 1 Axes>"
      ]
     },
     "metadata": {
      "needs_background": "light",
      "tags": []
     },
     "output_type": "display_data"
    }
   ],
   "source": [
    "plt.hist(values)"
   ]
  },
  {
   "cell_type": "code",
   "execution_count": 81,
   "metadata": {
    "colab": {
     "base_uri": "https://localhost:8080/"
    },
    "executionInfo": {
     "elapsed": 1145,
     "status": "ok",
     "timestamp": 1608101859119,
     "user": {
      "displayName": "khalil hennara",
      "photoUrl": "",
      "userId": "12581719381754495507"
     },
     "user_tz": -120
    },
    "id": "w9uL-yD-gidB",
    "outputId": "00a57e77-c6fb-4f6b-9175-f7cfcd8849f1"
   },
   "outputs": [
    {
     "data": {
      "text/plain": [
       "{'#coronavirus': 11090,\n",
       " '#covid19': 3744,\n",
       " '#covid_19': 2119,\n",
       " '#toiletpaper': 1269,\n",
       " '#covid2019': 1049,\n",
       " '#covid?19': 669,\n",
       " '#socialdistancing': 669,\n",
       " '#coronacrisis': 428,\n",
       " '#pandemic': 376,\n",
       " '#corona': 361,\n",
       " '#stayhome': 358,\n",
       " '#coronavirusoutbreak': 356,\n",
       " '#coronaviruspandemic': 345,\n",
       " '#coronavirus.': 342,\n",
       " '#covid': 333,\n",
       " '#retail': 318,\n",
       " '#lockdown': 308,\n",
       " '#quarantine': 301,\n",
       " '#supermarket': 301,\n",
       " '#stayathome': 292,\n",
       " '#covid-19': 282,\n",
       " '#food': 256,\n",
       " '#panicbuying': 246,\n",
       " '#coronavirusupdate': 243,\n",
       " '#stophoarding': 237,\n",
       " '#shopping': 210,\n",
       " '#sanitizer': 203,\n",
       " '#covid19uk': 197,\n",
       " '#stayhomesavelives': 195,\n",
       " '#staysafe': 193,\n",
       " '#coronavirus,': 192,\n",
       " '#consumer': 184,\n",
       " '#oil': 180,\n",
       " '#handsanitizer': 177,\n",
       " '#coronavirusthe': 164,\n",
       " '#grocery': 158,\n",
       " '#stoppanicbuying': 157,\n",
       " '#quarantinelife': 156,\n",
       " '#coronavirusi': 156,\n",
       " '#toiletpapercrisis': 138,\n",
       " '#ecommerce': 137,\n",
       " '#coronavirusuk': 135,\n",
       " '#toiletpaperpanic': 133,\n",
       " '#virus': 131,\n",
       " '#economy': 115,\n",
       " '#china': 106,\n",
       " '#coronavirususa': 106,\n",
       " '#health': 101,\n",
       " '#coronaviruslockdown': 98,\n",
       " '#business': 91,\n",
       " '#supermarkets': 89,\n",
       " '#amazon': 86,\n",
       " '#trump': 83,\n",
       " '#uk': 82,\n",
       " '#supplychain': 81,\n",
       " '#toiletpaperapocalypse': 79,\n",
       " '#onlineshopping': 78,\n",
       " '#online': 78,\n",
       " '#news': 78,\n",
       " '#socialdistanacing': 78,\n",
       " '#panicbuyinguk': 77,\n",
       " '#prices': 75,\n",
       " '#covid19.': 73,\n",
       " '#panicshopping': 72,\n",
       " '#washyourhands': 72,\n",
       " '#hoarding': 71,\n",
       " '#coronavirus?': 71,\n",
       " '#coronacrisisuk': 71,\n",
       " '#coronavirusthis': 69,\n",
       " '#covid19pandemic': 68,\n",
       " '#selfisolation': 67,\n",
       " '#pricegouging': 66,\n",
       " '#nhs': 66,\n",
       " '#usa': 65,\n",
       " '#stopstockpiling': 65,\n",
       " '#healthcare': 64,\n",
       " '#tp': 63,\n",
       " '#mask': 62,\n",
       " '#coronavirusif': 61,\n",
       " '#covidiots': 60,\n",
       " '#coronavirus:': 59,\n",
       " '#marketing': 58,\n",
       " '#tesco': 58,\n",
       " '#coronavirusa': 57,\n",
       " '#realestate': 56,\n",
       " '#groceryshopping': 56,\n",
       " '#flattenthecurve': 56,\n",
       " '#staysafestayhome': 56,\n",
       " '#coronavirusindia': 55,\n",
       " '#': 53,\n",
       " '#groceries': 52,\n",
       " '#coronavirusupdates': 50,\n",
       " '#isolation': 50,\n",
       " '#coronapocolypse': 49,\n",
       " '#coronaviruswe': 49,\n",
       " '#russia': 49,\n",
       " '#coronaviruschallenge': 49,\n",
       " '#quaratinelife': 49,\n",
       " '#covid_19.': 48,\n",
       " '#mrx': 48,\n",
       " '#funny': 48,\n",
       " '#money': 47,\n",
       " '#coronavirusit': 47,\n",
       " '#masks': 47,\n",
       " '#auspol': 47,\n",
       " '#stocks': 46,\n",
       " '#coronavirushow': 46,\n",
       " '#london': 46,\n",
       " '#markets': 46,\n",
       " '#coronavirusin': 45,\n",
       " '#coronavirusas': 45,\n",
       " '#gold': 45,\n",
       " '#facemask': 45,\n",
       " '#walmart': 44,\n",
       " '#shelterinplace': 44,\n",
       " '#humor': 44,\n",
       " '#covid19i': 43,\n",
       " '#chinesevirus': 43,\n",
       " '#oilprice': 43,\n",
       " '#coronavirusjust': 43,\n",
       " '#lockdownuk': 43,\n",
       " '#canada': 42,\n",
       " '#stockup': 42,\n",
       " '#chinavirus': 42,\n",
       " '#comedy': 42,\n",
       " '#delivery': 41,\n",
       " '#stockpiling': 41,\n",
       " '#consumers': 41,\n",
       " '#saudiarabia': 41,\n",
       " '#us': 40,\n",
       " '#covid__19': 40,\n",
       " '#nofood': 39,\n",
       " '#bekind': 39,\n",
       " '#italy': 39,\n",
       " '#thankyou': 39,\n",
       " '#covidiot': 39,\n",
       " '#hoarders': 38,\n",
       " '#coronavirusmy': 38,\n",
       " '#grocerystore': 38,\n",
       " '#covid19us': 38,\n",
       " '#home': 38,\n",
       " '#ppe': 38,\n",
       " '#contest': 38,\n",
       " '#oott': 36,\n",
       " '#nyc': 36,\n",
       " '#panic': 35,\n",
       " '#socialdistance': 35,\n",
       " '#coronaviruscovid-19': 35,\n",
       " '#covid19,': 35,\n",
       " '#store': 34,\n",
       " '#coronaoutbreak': 34,\n",
       " '#crisis': 34,\n",
       " '#technology': 34,\n",
       " '#covid_19the': 34,\n",
       " '#asda': 34,\n",
       " '#bitcoin': 34,\n",
       " '#opec': 34,\n",
       " '#india': 34,\n",
       " '#memes': 34,\n",
       " '#alert': 33,\n",
       " '#grocerystores': 33,\n",
       " '#coronavirus#coronavirus': 33,\n",
       " '#covididiots': 33,\n",
       " '#stayhomechallenge': 32,\n",
       " '#sarscov2': 32,\n",
       " '#australia': 32,\n",
       " '#survival': 32,\n",
       " '#covid_19i': 32,\n",
       " '#uklockdown': 32,\n",
       " '#competition': 32,\n",
       " '#coronavid19': 31,\n",
       " '#covid2019i': 31,\n",
       " '#stockmarket': 31,\n",
       " '#coronapocalypse': 31,\n",
       " '#consumerbehavior': 31,\n",
       " '#???????': 31,\n",
       " '#rt': 31,\n",
       " '#tech': 31,\n",
       " '#sainsburys': 31,\n",
       " '#travel': 31,\n",
       " '#toiletpaper.': 31,\n",
       " '#giveawayalert': 31,\n",
       " '#coronaviruswith': 30,\n",
       " '#panicbuyers': 30,\n",
       " '#socialdistancing.': 30,\n",
       " '#covid19au': 30,\n",
       " '#maga': 30,\n",
       " '#restaurants': 30,\n",
       " '#prepper': 30,\n",
       " '#stayhomestaysafe': 30,\n",
       " '#demand': 29,\n",
       " '#stayathomechallenge': 29,\n",
       " '#help': 29,\n",
       " '#????????????': 29,\n",
       " '#property': 29,\n",
       " '#convid19uk': 29,\n",
       " '#love': 29,\n",
       " '#toiletpaperchallenge': 29,\n",
       " '#covid19out': 29,\n",
       " '#workfromhome': 28,\n",
       " '#quarentinelife': 28,\n",
       " '#scams': 28,\n",
       " '#toronto': 28,\n",
       " '#oilprices': 28,\n",
       " '#coronavirusso': 28,\n",
       " '#sanitizers': 28,\n",
       " '#puzzle': 28,\n",
       " '#cdc': 27,\n",
       " '#coronavirusthere': 27,\n",
       " '#blockchain': 27,\n",
       " '#crypto': 27,\n",
       " '#energy': 27,\n",
       " '#coronaviruswhat': 27,\n",
       " '#meme': 27,\n",
       " '#digital': 27,\n",
       " '#bushcraft': 27,\n",
       " '#wuhanvirus': 27,\n",
       " '#covid19the': 27,\n",
       " '#easter': 27,\n",
       " '#lockdowneffect': 27,\n",
       " '#shoplocal': 26,\n",
       " '#stayhealthy': 26,\n",
       " '#california': 26,\n",
       " '#oilpricewar': 26,\n",
       " '#gas': 26,\n",
       " '#n95': 26,\n",
       " '#socialmedia': 26,\n",
       " '#covid19outbreak': 26,\n",
       " '#sundaythoughts': 26,\n",
       " '#coronaviruslockdownuk': 26,\n",
       " '#trends': 25,\n",
       " '#selfquarantine': 25,\n",
       " '#coronavirusto': 25,\n",
       " '#coronavirusaus': 25,\n",
       " '#indiafightscorona': 25,\n",
       " '#coronavirusoutbreakindia': 25,\n",
       " '#coronavirusâ': 25,\n",
       " '#facemasks': 25,\n",
       " '?#coronavirus': 24,\n",
       " '#stopthespread': 24,\n",
       " '#data': 24,\n",
       " '#logistics': 24,\n",
       " '#retailers': 24,\n",
       " '#restaurant': 24,\n",
       " '#morrisons': 24,\n",
       " '#coronaviruswhy': 24,\n",
       " '#oilandgas': 24,\n",
       " '#trumpvirus': 24,\n",
       " '#stayathomesavelives': 24,\n",
       " '#quarantinediaries': 24,\n",
       " '#coronaviruswhen': 23,\n",
       " '#investing': 23,\n",
       " '#corvid19uk': 23,\n",
       " '#toiletpaperemergency': 23,\n",
       " '#crudeoil': 23,\n",
       " '#stock': 23,\n",
       " '#gasprices': 23,\n",
       " '#covid19australia': 23,\n",
       " '#coronavirusnewyork': 23,\n",
       " '#quarantineactivities': 23,\n",
       " '#medical': 23,\n",
       " '#economic': 22,\n",
       " '#advertising': 22,\n",
       " '#2020': 22,\n",
       " '#outbreak': 22,\n",
       " '#newyork': 22,\n",
       " '#recession': 22,\n",
       " '#smallbusiness': 22,\n",
       " '#insurance': 22,\n",
       " '#icis': 22,\n",
       " '#wuhan': 22,\n",
       " '#digitalmarketing': 22,\n",
       " '#diy': 22,\n",
       " '#toiletpapergate': 22,\n",
       " '#europe': 21,\n",
       " '#quarantineandchill': 21,\n",
       " '#pakistan': 21,\n",
       " '#cdnpoli': 21,\n",
       " '#coronavirusaustralia': 21,\n",
       " '#community': 21,\n",
       " '#covid19india': 21,\n",
       " '#workingfromhome': 21,\n",
       " '#panickbuying': 21,\n",
       " '#fightcovid19': 21,\n",
       " '#handwashing': 21,\n",
       " '#fraud': 21,\n",
       " '#sanitize': 21,\n",
       " '#ai': 21,\n",
       " '#costco': 21,\n",
       " '#21daylockdown': 21,\n",
       " '#covid?19uk': 20,\n",
       " '#covid19aus': 20,\n",
       " '#coronavirushere': 20,\n",
       " '#foodsecurity': 20,\n",
       " '#economics': 20,\n",
       " '#shortage': 20,\n",
       " '#emptyshelves': 20,\n",
       " '#healthy': 20,\n",
       " '#borisjohnson': 20,\n",
       " '#toiletroll': 20,\n",
       " '#covid_19,': 20,\n",
       " '#covidcanada': 20,\n",
       " '#toiletpaper,': 20,\n",
       " '#market': 20,\n",
       " '#covid19on': 20,\n",
       " '#coronavirusour': 20,\n",
       " '#stockpilinguk': 20,\n",
       " '#lockdownnow': 20,\n",
       " '#mondaythoughts': 20,\n",
       " '#housewares': 20,\n",
       " '#scammers': 19,\n",
       " '#flu': 19,\n",
       " '#marketresearch': 19,\n",
       " '#retailnews': 19,\n",
       " '#coronavirushey': 19,\n",
       " '#besafe': 19,\n",
       " '#qatar': 19,\n",
       " '#who': 19,\n",
       " '#life': 19,\n",
       " '#innovation': 19,\n",
       " '#florida': 19,\n",
       " '#profiteering': 19,\n",
       " '#cov?d19': 19,\n",
       " '#groceryworkers': 19,\n",
       " '#fridaythoughts': 19,\n",
       " '#coronaviruspeople': 18,\n",
       " '#covid-19.': 18,\n",
       " '#covid_19uk': 18,\n",
       " '#covid2019.': 18,\n",
       " '#coronavirusgrocery': 18,\n",
       " '#elderly': 18,\n",
       " '#trading': 18,\n",
       " '#covid2019the': 18,\n",
       " '#publichealth': 18,\n",
       " '#trending': 18,\n",
       " '#coronavirusyou': 18,\n",
       " '#shop': 18,\n",
       " '#covid_19my': 18,\n",
       " '#government': 18,\n",
       " '#ftc': 18,\n",
       " '#agriculture': 18,\n",
       " '#bidet': 18,\n",
       " '#commodities': 18,\n",
       " '#mining': 18,\n",
       " '#housing': 18,\n",
       " '#art': 18,\n",
       " '#farmers': 18,\n",
       " '#ebay': 18,\n",
       " '#breakingnews': 17,\n",
       " '#toiletpaper?': 17,\n",
       " '#lol': 17,\n",
       " '#coronamemes': 17,\n",
       " '#coronavirusmemes': 17,\n",
       " '#coronavirusconsumer': 17,\n",
       " '#coronavirusfood': 17,\n",
       " '#police': 17,\n",
       " '#safety': 17,\n",
       " '#londonlockdown': 17,\n",
       " '#newnormal': 17,\n",
       " '#silver': 17,\n",
       " '#covid19:': 17,\n",
       " '#webinar': 17,\n",
       " '#essentialworkers': 17,\n",
       " '#covid19lysol': 17,\n",
       " '#quarantinebirthday': 17,\n",
       " '#socialdistancing,': 16,\n",
       " '#fuel': 16,\n",
       " '#physicaldistancing': 16,\n",
       " '#america': 16,\n",
       " '#handsanitizers': 16,\n",
       " '#soap': 16,\n",
       " '#clean': 16,\n",
       " '#covid19southafrica': 16,\n",
       " '#inthistogether': 16,\n",
       " '#chicago': 16,\n",
       " '#wfh': 16,\n",
       " '#toiletpapershortage': 16,\n",
       " '#fashion': 16,\n",
       " '#africa': 16,\n",
       " '#phishing': 16,\n",
       " '#keyworkers': 16,\n",
       " '#coronavirus-related': 16,\n",
       " '#fridayfeeling': 16,\n",
       " '#handwash': 16,\n",
       " '#saturdaymorning': 16,\n",
       " '#asia': 16,\n",
       " '#journaling': 16,\n",
       " '#meat': 15,\n",
       " '#stores': 15,\n",
       " '#coronaviruscan': 15,\n",
       " '#covid19?': 15,\n",
       " '#covidindia': 15,\n",
       " '#mentalhealth': 15,\n",
       " '#looroll': 15,\n",
       " '#saudi': 15,\n",
       " '#coronavirusdo': 15,\n",
       " '#losangeles': 15,\n",
       " '#world': 15,\n",
       " '#covid19if': 15,\n",
       " '#cnn': 15,\n",
       " '#wednesdaythoughts': 15,\n",
       " '#manufacturing': 15,\n",
       " '#cartoon': 15,\n",
       " '#charmin': 15,\n",
       " '#pandemic,': 15,\n",
       " '#publix': 15,\n",
       " '#thursdaythoughts': 15,\n",
       " '#safetyfirst': 15,\n",
       " '#coronavirusau': 15,\n",
       " '#supply': 15,\n",
       " '#coronacrisisi': 15,\n",
       " '#mondaymotivation': 15,\n",
       " '#21dayslockdown': 15,\n",
       " '#masks4all': 15,\n",
       " '#brands': 15,\n",
       " '#coronalockdown': 15,\n",
       " '#lockdownextension': 15,\n",
       " '#foxnews': 14,\n",
       " '#covid19just': 14,\n",
       " '#jobs': 14,\n",
       " '#coronavirussupermarket': 14,\n",
       " '#banking': 14,\n",
       " '#coronavirusare': 14,\n",
       " '#covid19usa': 14,\n",
       " '#supportlocal': 14,\n",
       " '#apocalypse': 14,\n",
       " '#seo': 14,\n",
       " '#research': 14,\n",
       " '#coronavirusall': 14,\n",
       " '#cpg': 14,\n",
       " '#eggs': 14,\n",
       " '#wine': 14,\n",
       " '#covid19sa': 14,\n",
       " '#coronaalert': 14,\n",
       " '#crude': 14,\n",
       " '#cannabis': 14,\n",
       " '#cbd': 14,\n",
       " '#coronavirusis': 14,\n",
       " '#cre': 14,\n",
       " '#covid19canada': 14,\n",
       " '#aldi': 14,\n",
       " '#covid2019au': 14,\n",
       " '#bbcnews': 14,\n",
       " '#foodbanks': 14,\n",
       " '#cryptocurrency': 14,\n",
       " '#family': 14,\n",
       " '#branding': 14,\n",
       " '#cybersecurity': 14,\n",
       " '#consumerprotection': 14,\n",
       " '#investment': 14,\n",
       " '#ad': 14,\n",
       " '#germs': 14,\n",
       " '#gloves': 14,\n",
       " '#finance': 14,\n",
       " '#selfisolating': 14,\n",
       " '#fun': 14,\n",
       " '#lockdownuknow': 14,\n",
       " '#covid_19australia': 14,\n",
       " '#covid_19india': 14,\n",
       " '#privacy': 14,\n",
       " '#foodwaste': 14,\n",
       " '#pricegougers': 13,\n",
       " '#coronavirusinpakistan': 13,\n",
       " '#supplies': 13,\n",
       " '#coronavirusiâ\\x92m': 13,\n",
       " '#coronaviruscovid': 13,\n",
       " '#tuesdaythoughts': 13,\n",
       " '#lysol': 13,\n",
       " '#pandemic.': 13,\n",
       " '#cx': 13,\n",
       " '#texas': 13,\n",
       " '#free': 13,\n",
       " '#coronavirussome': 13,\n",
       " '#coles': 13,\n",
       " '#capitalism': 13,\n",
       " '#trade': 13,\n",
       " '#wtf': 13,\n",
       " '#covid2019india': 13,\n",
       " '#chemicals': 13,\n",
       " '#dollar': 13,\n",
       " '#coronavirusnot': 13,\n",
       " '#coronavirus!': 13,\n",
       " '#netflix': 13,\n",
       " '#fooddelivery': 13,\n",
       " '#protection': 13,\n",
       " '#corvid19': 13,\n",
       " '#heroes': 13,\n",
       " '#laugh': 13,\n",
       " '#2': 13,\n",
       " '#banks': 13,\n",
       " '#investments': 13,\n",
       " '#nhsheroes': 13,\n",
       " '#covidagenparl': 13,\n",
       " '#covid-19,': 13,\n",
       " '#covid19this': 13,\n",
       " '#covid19in': 13,\n",
       " '#water': 13,\n",
       " '#nhsstaff': 13,\n",
       " '#tiktok': 13,\n",
       " '#vulnerable': 13,\n",
       " '#doctors': 13,\n",
       " '#poetry': 13,\n",
       " '#petrol': 13,\n",
       " '#lockdown21': 13,\n",
       " '#journal': 13,\n",
       " '#eastersunday': 13,\n",
       " '#coronavirussa': 12,\n",
       " '#arizona': 12,\n",
       " '#coronavirusplease': 12,\n",
       " '#covid19a': 12,\n",
       " '#coronavirusfor': 12,\n",
       " '#coronaviruscoronavirus': 12,\n",
       " '#trump2020': 12,\n",
       " '#covid2019a': 12,\n",
       " '#uae': 12,\n",
       " '#sem': 12,\n",
       " '#media': 12,\n",
       " '#coronaviruswent': 12,\n",
       " '#coronaviruson': 12,\n",
       " '#epidemic': 12,\n",
       " '#covid19nz': 12,\n",
       " '#??????': 12,\n",
       " '#hygiene': 12,\n",
       " '#politics': 12,\n",
       " '#qanon': 12,\n",
       " '#cooking': 12,\n",
       " '#airlines': 12,\n",
       " '#investors': 12,\n",
       " '#inflation': 12,\n",
       " '#farming': 12,\n",
       " '#coronavirusthanks': 12,\n",
       " '#cats': 12,\n",
       " '#covid19#coronavirus': 12,\n",
       " '#covid19nigeria': 12,\n",
       " '#covid_19how': 12,\n",
       " '#realtor': 12,\n",
       " '#cleaning': 12,\n",
       " '#n95masks': 12,\n",
       " '#toilet': 12,\n",
       " '#shutdown': 12,\n",
       " '#covid_19#coronavirus': 12,\n",
       " '#saferathome': 12,\n",
       " '#alcohol': 12,\n",
       " '#customers': 12,\n",
       " '#covid_19we': 12,\n",
       " '#waitrose': 12,\n",
       " '#essential': 12,\n",
       " '#disinfectant': 12,\n",
       " '#shoponline': 12,\n",
       " '#coronavã\\xadrus': 12,\n",
       " '#stayathomeorder': 12,\n",
       " '#consumerbehaviour': 12,\n",
       " '#healthcareheroes': 12,\n",
       " '#insights': 12,\n",
       " '#coronavillains': 12,\n",
       " '#contestalert': 12,\n",
       " '#iptv': 11,\n",
       " '#breaking': 11,\n",
       " '#anxiety': 11,\n",
       " '#covid19how': 11,\n",
       " '#staythefhome': 11,\n",
       " '#covid2019how': 11,\n",
       " '#curfew': 11,\n",
       " '#thailand': 11,\n",
       " '#wholefoods': 11,\n",
       " '#coronaviruspanic': 11,\n",
       " '#fakenews': 11,\n",
       " '#coronauk': 11,\n",
       " '#selfish': 11,\n",
       " '#marketcrash': 11,\n",
       " '#businessnews': 11,\n",
       " '#covid2019this': 11,\n",
       " '#smm': 11,\n",
       " '#coronavirusgoing': 11,\n",
       " '#beef': 11,\n",
       " '#kroger': 11,\n",
       " '#keepyourdistance': 11,\n",
       " '#coronavirusinsa': 11,\n",
       " '#retailworkers': 11,\n",
       " '#sustainability': 11,\n",
       " '#socialdistancingthe': 11,\n",
       " '#sick': 11,\n",
       " '#foodshortages': 11,\n",
       " '#support': 11,\n",
       " '#vancouver': 11,\n",
       " '#mortgage': 11,\n",
       " '#gratitude': 11,\n",
       " '#coronavirusand': 11,\n",
       " '#coronavirusone': 11,\n",
       " '#wednesdaywisdom': 11,\n",
       " '#lidl': 11,\n",
       " '#coronaviruswill': 11,\n",
       " '#homedelivery': 11,\n",
       " '#brexit': 11,\n",
       " '#consumerconfidence': 11,\n",
       " '#leadership': 11,\n",
       " '#chinesewuhanvirus': 11,\n",
       " '#chloroquine': 11,\n",
       " '#btc': 11,\n",
       " '#employment': 11,\n",
       " '#srilanka': 11,\n",
       " '#ny': 11,\n",
       " '#photography': 11,\n",
       " '#essentials': 11,\n",
       " '#coronaviruswhile': 11,\n",
       " '#covid19ug': 11,\n",
       " '#spain': 11,\n",
       " '#toiletpaperi': 11,\n",
       " '#foodsupply': 11,\n",
       " '#toiletpaperwars': 11,\n",
       " '#podcast': 11,\n",
       " '#pandemia': 11,\n",
       " '#toiletpaper!': 11,\n",
       " '#covid_19sa': 11,\n",
       " '#mondaymorning': 11,\n",
       " '#coronaupdate': 11,\n",
       " '#rakamoto': 11,\n",
       " '#stayathomeandstaysafe': 11,\n",
       " '#coronavirustruth': 11,\n",
       " '#iot': 11,\n",
       " '#covid_19please': 10,\n",
       " '#covid_19?': 10,\n",
       " '#foodsafety': 10,\n",
       " '#repost': 10,\n",
       " '#consumerinsights': 10,\n",
       " '#stockpile': 10,\n",
       " '#humanity': 10,\n",
       " '#telemedicine': 10,\n",
       " '#coffee': 10,\n",
       " '#sales': 10,\n",
       " '#covid2019#coronavirus': 10,\n",
       " '#viruscorona': 10,\n",
       " '#kindness': 10,\n",
       " '#woolworths': 10,\n",
       " '#singapore': 10,\n",
       " '#credit': 10,\n",
       " '#coronavirusno': 10,\n",
       " '#cstores': 10,\n",
       " '#disabled': 10,\n",
       " '#coronavirusinindia': 10,\n",
       " '#shoppingonline': 10,\n",
       " '#awareness': 10,\n",
       " '#covid_19there': 10,\n",
       " '#scam': 10,\n",
       " '#people': 10,\n",
       " '#petrochemicals': 10,\n",
       " '#handsanitiser': 10,\n",
       " '#covid19with': 10,\n",
       " '#donaldtrump': 10,\n",
       " '#ocado': 10,\n",
       " '#lng': 10,\n",
       " '#gop': 10,\n",
       " '#toiletrollchallenge': 10,\n",
       " '#risk': 10,\n",
       " '#n95mask': 10,\n",
       " '#kenya': 10,\n",
       " '(#covid19)': 10,\n",
       " '#music': 10,\n",
       " '#global': 10,\n",
       " '#alberta': 10,\n",
       " '#supplychains': 10,\n",
       " '#coronavirusgood': 10,\n",
       " '#wuhancoronavirus': 10,\n",
       " '#strategy': 10,\n",
       " '#iorestoacasa': 10,\n",
       " '#agenparl': 10,\n",
       " '#coronaviruswho': 10,\n",
       " '#tips': 10,\n",
       " '#facebook': 10,\n",
       " '#safe': 10,\n",
       " '#unemployment': 10,\n",
       " '#foodbank': 10,\n",
       " '#panicbuy': 10,\n",
       " '#emergency': 10,\n",
       " '#work': 10,\n",
       " '#nigeria': 10,\n",
       " '#smile': 10,\n",
       " '#joke': 10,\n",
       " '#bored': 10,\n",
       " '#ontario': 10,\n",
       " '#covid_19in': 10,\n",
       " '#security': 10,\n",
       " '#vegetables': 10,\n",
       " '#saturdaythoughts': 10,\n",
       " '#nhscovidheroes': 10,\n",
       " '#purell': 10,\n",
       " '#dankmemes': 10,\n",
       " '#democrats': 10,\n",
       " '#sundaymorning': 10,\n",
       " '#coronaviruscheck': 10,\n",
       " '#coronapandemie': 10,\n",
       " '#protectthenhs': 10,\n",
       " '#football': 9,\n",
       " '#covid2019we': 9,\n",
       " '#covid19my': 9,\n",
       " '#coronavirusthank': 9,\n",
       " '#businesses': 9,\n",
       " '#coronavirusnz': 9,\n",
       " '#smallbiz': 9,\n",
       " '#dairy': 9,\n",
       " '#coronaindia': 9,\n",
       " '#foodindustry': 9,\n",
       " '#truckers': 9,\n",
       " '#dubai': 9,\n",
       " '#education': 9,\n",
       " '#coronavirussouthafrica': 9,\n",
       " '#covid2019uk': 9,\n",
       " '#websitedesign': 9,\n",
       " '#fijinews': 9,\n",
       " '#startups': 9,\n",
       " '#workers': 9,\n",
       " '#covid19ph': 9,\n",
       " '#coronavirusme': 9,\n",
       " '#stockmarketcrash2020': 9,\n",
       " '#update': 9,\n",
       " '#coronavirusday': 9,\n",
       " '#onpoli': 9,\n",
       " '#sainsbury': 9,\n",
       " '#coronaviruscanada': 9,\n",
       " '#coronainpakistan': 9,\n",
       " '#toiletpaperthe': 9,\n",
       " '#spending': 9,\n",
       " '#currency': 9,\n",
       " '#covid_19if': 9,\n",
       " '#internet': 9,\n",
       " '#selfemployed': 9,\n",
       " '#wednesdaymotivation': 9,\n",
       " '#chinesecoronavirus': 9,\n",
       " '#panickbuyinguk': 9,\n",
       " '#video': 9,\n",
       " '#sketch': 9,\n",
       " '#stimulus': 9,\n",
       " '#alonetogether': 9,\n",
       " '#housingmarket': 9,\n",
       " '#coronavirusfrom': 9,\n",
       " '#payments': 9,\n",
       " '#rice': 9,\n",
       " '#coronavirushave': 9,\n",
       " '#hand': 9,\n",
       " '#hospital': 9,\n",
       " '#janatacurfew': 9,\n",
       " '#covid19covid-19': 9,\n",
       " '#sale': 9,\n",
       " '#coronapandemic': 9,\n",
       " '#socialdistancingnow': 9,\n",
       " '#covid_19so': 9,\n",
       " '#covid19we': 9,\n",
       " '#youtube': 9,\n",
       " '#wellness': 9,\n",
       " '#newjersey': 9,\n",
       " '#coronaviruscovid-19:': 9,\n",
       " '#retailer': 9,\n",
       " '?#coronacrisis': 9,\n",
       " '#covid_19a': 9,\n",
       " '#comic': 9,\n",
       " '#nba': 9,\n",
       " '#illustration': 9,\n",
       " '#coronaviruspakistan': 9,\n",
       " '#coronavirusafter': 9,\n",
       " '#5g': 9,\n",
       " '#jokes': 9,\n",
       " '#target': 9,\n",
       " '#ohio': 9,\n",
       " '#papertowels': 9,\n",
       " '#dankmeme': 9,\n",
       " '#economiccrisis': 9,\n",
       " '#germany': 9,\n",
       " '#retailtech': 9,\n",
       " '#mondaymotivaton': 9,\n",
       " '#onlinemarketing': 9,\n",
       " '#diesel': 9,\n",
       " '#ccp': 9,\n",
       " '#movies': 8,\n",
       " '#covid2019what': 8,\n",
       " '#covid2019just': 8,\n",
       " '#panicbuyingi': 8,\n",
       " '#dallas': 8,\n",
       " '#foodshortage': 8,\n",
       " '#bread': 8,\n",
       " '#covid19ireland': 8,\n",
       " '#covid_19â': 8,\n",
       " '#covid?19i': 8,\n",
       " '#medicine': 8,\n",
       " '#nurses': 8,\n",
       " '#supermarketsweep': 8,\n",
       " '#covid2019covid-19': 8,\n",
       " '#thankful': 8,\n",
       " '#coronacrisismy': 8,\n",
       " '#retailing': 8,\n",
       " '#coronavirusat': 8,\n",
       " '#coronavirusduring': 8,\n",
       " '#covid19you': 8,\n",
       " '#coronavirushi': 8,\n",
       " '#1': 8,\n",
       " '#dontpanic': 8,\n",
       " '#fiji': 8,\n",
       " '#forex': 8,\n",
       " '#prepping': 8,\n",
       " '#coronavirusstop': 8,\n",
       " '#covid19ke': 8,\n",
       " '#covidontario': 8,\n",
       " '#turkey': 8,\n",
       " '#dowjones': 8,\n",
       " '#equity': 8,\n",
       " '#financial': 8,\n",
       " '#panicbuyinguki': 8,\n",
       " '#climatechange': 8,\n",
       " '#prevention': 8,\n",
       " '#kag': 8,\n",
       " '#miami': 8,\n",
       " '#californialockdown': 8,\n",
       " '#yyc': 8,\n",
       " '#stayhomeâ': 8,\n",
       " '#shelteringinplace': 8,\n",
       " '#covid19to': 8,\n",
       " '#corn': 8,\n",
       " '#essentialworker': 8,\n",
       " '#writingcommnunity': 8,\n",
       " '#japan': 8,\n",
       " '#steel': 8,\n",
       " '#toiletpaperthis': 8,\n",
       " '#copper': 8,\n",
       " '#sydney': 8,\n",
       " '#calgary': 8,\n",
       " '#shipping': 8,\n",
       " '#trumppandemic': 8,\n",
       " '#togetherathome': 8,\n",
       " '#coronaviruswell': 8,\n",
       " '#hospitality': 8,\n",
       " '#lka': 8,\n",
       " '#price': 8,\n",
       " '#gasoline': 8,\n",
       " '#thinkofothers': 8,\n",
       " '#boris': 8,\n",
       " '#bcpoli': 8,\n",
       " '#petrolprice': 8,\n",
       " '#vodafone': 8,\n",
       " '#grateful': 8,\n",
       " '#ireland': 8,\n",
       " '#chinese': 8,\n",
       " '#covid_19this': 8,\n",
       " '#euets': 8,\n",
       " '#fmcg': 8,\n",
       " '#blog': 8,\n",
       " '#coronavirus2020': 8,\n",
       " '#coronavirusâ\\x92': 8,\n",
       " '#nhsworkers': 8,\n",
       " '#homeschooling': 8,\n",
       " '#dollartree': 8,\n",
       " '#coronacrisis.': 8,\n",
       " '#beer': 8,\n",
       " '#covid_19supermarket': 8,\n",
       " '#groceryindustry': 8,\n",
       " '#satire': 8,\n",
       " '#calockdown': 8,\n",
       " '#beauty': 8,\n",
       " '#supermarket,': 8,\n",
       " '#co2': 8,\n",
       " '#coronacrisiswe': 8,\n",
       " '#hotels': 8,\n",
       " '#coronavirusinsouthafrica': 8,\n",
       " '#lockdownthe': 8,\n",
       " '#nutrition': 8,\n",
       " '#pharmacy': 8,\n",
       " '#keyworker': 8,\n",
       " '#covid_19it': 8,\n",
       " '#2019ncov': 8,\n",
       " '#coronavirushas': 8,\n",
       " '#chinaliedandpeopledied': 8,\n",
       " '#â': 8,\n",
       " '#style': 8,\n",
       " '#ccpvirus': 8,\n",
       " '#lockdownsa': 8,\n",
       " '#mondaymood': 8,\n",
       " '#stayhomesavelivesi': 8,\n",
       " '#ventilators': 8,\n",
       " '#wearamask': 8,\n",
       " '#clapforkeyworkers': 8,\n",
       " '#worldhealthday': 8,\n",
       " '#confinement': 7,\n",
       " '#covid_19due': 7,\n",
       " '#cheap': 7,\n",
       " '#brickandmortar': 7,\n",
       " '#totallockdown': 7,\n",
       " '#coronavirusglobal': 7,\n",
       " '#malaysia': 7,\n",
       " '#seafood': 7,\n",
       " '#coronavirusan': 7,\n",
       " '#covid2019if': 7,\n",
       " '#coronavirus;': 7,\n",
       " '#apple': 7,\n",
       " '#highriskcovid19': 7,\n",
       " '#wallstreet': 7,\n",
       " '#sp500': 7,\n",
       " '#safeway': 7,\n",
       " '#coronavirusanyone': 7,\n",
       " '#covid2019so': 7,\n",
       " '#selfcare': 7,\n",
       " '#quarentine': 7,\n",
       " '#fintech': 7,\n",
       " '#panicbuying.': 7,\n",
       " '#b2b': 7,\n",
       " '#keepcalm': 7,\n",
       " '#yeg': 7,\n",
       " '#fbcnews': 7,\n",
       " '#coronavirusamazon': 7,\n",
       " '#coronatime': 7,\n",
       " '#ukgoverment': 7,\n",
       " '#retweeet': 7,\n",
       " '#covid2019when': 7,\n",
       " '#coronavirusoil': 7,\n",
       " '#covid-19?': 7,\n",
       " '#commonsense': 7,\n",
       " '#coronaviruslet': 7,\n",
       " '#retailtrends': 7,\n",
       " '#digitaltransformation': 7,\n",
       " '#?????': 7,\n",
       " '#nurses,': 7,\n",
       " '#oman': 7,\n",
       " '#coronavirusitaly': 7,\n",
       " '#illinois': 7,\n",
       " '#cornavirusoutbreak': 7,\n",
       " '#shame': 7,\n",
       " '#coronavirusnigeria': 7,\n",
       " '#foodservice': 7,\n",
       " '#trucking': 7,\n",
       " '#helpeachother': 7,\n",
       " '#covid2019in': 7,\n",
       " '#fed': 7,\n",
       " '#eu': 7,\n",
       " '#coronavirusmore': 7,\n",
       " '#coronavirusprices': 7,\n",
       " '#quarantinecats': 7,\n",
       " '#gouging': 7,\n",
       " '#covid2019covid': 7,\n",
       " '#rationing': 7,\n",
       " '#covid_19covid-19': 7,\n",
       " '#cleveland': 7,\n",
       " '#iran': 7,\n",
       " '#covid_19:': 7,\n",
       " '#lockdowns': 7,\n",
       " '#wti': 7,\n",
       " '#hospitals': 7,\n",
       " '#consumerrights': 7,\n",
       " '#coronavirustoday': 7,\n",
       " '#speculator': 7,\n",
       " '#profits': 7,\n",
       " '#bankruptcy': 7,\n",
       " '#dotherightthing': 7,\n",
       " '#coronavirusnew': 7,\n",
       " '#milk': 7,\n",
       " '#covid19so': 7,\n",
       " '19#coronavirus': 7,\n",
       " '#coronavirusnow': 7,\n",
       " '#apps': 7,\n",
       " '#seattle': 7,\n",
       " '#hungary': 7,\n",
       " '#hr': 7,\n",
       " '#commodity': 7,\n",
       " '#2019cov': 7,\n",
       " '#coronavirusitalia': 7,\n",
       " '#newspicks': 7,\n",
       " '#covid19as': 7,\n",
       " '#twitter': 7,\n",
       " '#shops': 7,\n",
       " '#employees': 7,\n",
       " '#quarantined': 7,\n",
       " '#mumbai': 7,\n",
       " '#fda': 7,\n",
       " '#fitness': 7,\n",
       " '#coronavirusvery': 7,\n",
       " '#animalcrossing': 7,\n",
       " '#unitedstates': 7,\n",
       " '#aramco': 7,\n",
       " '#entertainment': 7,\n",
       " '#drawing': 7,\n",
       " '#coronastopkarona': 7,\n",
       " '#covid_19when': 7,\n",
       " '#coronavirusdue': 7,\n",
       " '#startup': 7,\n",
       " '#hording': 7,\n",
       " '#culture': 7,\n",
       " '#hemp': 7,\n",
       " '#entrepreneur': 7,\n",
       " '#nfl': 7,\n",
       " '#residential': 7,\n",
       " '#coronavirusmemes???': 7,\n",
       " '#?': 7,\n",
       " '#cake': 7,\n",
       " '#resist': 7,\n",
       " '#stayathomei': 7,\n",
       " '#coronaupdates': 7,\n",
       " '#social_distancing': 7,\n",
       " '#covid?19.': 7,\n",
       " '#covididiot': 7,\n",
       " '#poll': 7,\n",
       " '#petrochemical': 7,\n",
       " '#icliniq100hrs': 7,\n",
       " '#grocerydelivery': 7,\n",
       " '#shoppers': 7,\n",
       " ...}"
      ]
     },
     "execution_count": 81,
     "metadata": {
      "tags": []
     },
     "output_type": "execute_result"
    }
   ],
   "source": [
    "sort_dic"
   ]
  },
  {
   "cell_type": "markdown",
   "metadata": {
    "executionInfo": {
     "elapsed": 820,
     "status": "ok",
     "timestamp": 1608101970053,
     "user": {
      "displayName": "khalil hennara",
      "photoUrl": "",
      "userId": "12581719381754495507"
     },
     "user_tz": -120
    },
    "id": "ICUGafA4hasn"
   },
   "source": [
    "the first thing we going to do is split the data for traing ,test ,validate \n",
    "\n",
    " becouse the data is skew we should split in way that make the traning example have equial class as possiple\n",
    "\n",
    " the sklearn have function can do that "
   ]
  },
  {
   "cell_type": "code",
   "execution_count": 2,
   "metadata": {
    "executionInfo": {
     "elapsed": 1877,
     "status": "ok",
     "timestamp": 1608142637452,
     "user": {
      "displayName": "khalil hennara",
      "photoUrl": "",
      "userId": "12581719381754495507"
     },
     "user_tz": -120
    },
    "id": "BlwLd6AaWleT"
   },
   "outputs": [],
   "source": [
    "import  sklearn.model_selection as model_selection"
   ]
  },
  {
   "cell_type": "code",
   "execution_count": 110,
   "metadata": {
    "colab": {
     "base_uri": "https://localhost:8080/"
    },
    "executionInfo": {
     "elapsed": 1057,
     "status": "ok",
     "timestamp": 1608127370469,
     "user": {
      "displayName": "khalil hennara",
      "photoUrl": "",
      "userId": "12581719381754495507"
     },
     "user_tz": -120
    },
    "id": "VJMWgphL0BZG",
    "outputId": "c8a48557-e8f9-45f5-bf0b-ca1c222df107"
   },
   "outputs": [
    {
     "name": "stdout",
     "output_type": "stream",
     "text": [
      "<class 'pandas.core.frame.DataFrame'>\n",
      "RangeIndex: 41141 entries, 0 to 41140\n",
      "Data columns (total 12 columns):\n",
      " #   Column            Non-Null Count  Dtype  \n",
      "---  ------            --------------  -----  \n",
      " 0   UserName          41141 non-null  int64  \n",
      " 1   ScreenName        41141 non-null  int64  \n",
      " 2   TweetAt           41141 non-null  object \n",
      " 3   OriginalTweet     41141 non-null  object \n",
      " 4   Sentiment         41141 non-null  object \n",
      " 5   NomericSentiment  41141 non-null  float64\n",
      " 6   world_count       41141 non-null  float64\n",
      " 7   stop_word_count   41141 non-null  int64  \n",
      " 8   url_count         41141 non-null  int64  \n",
      " 9   hashtage_count    41141 non-null  float64\n",
      " 10  mention_count     41141 non-null  float64\n",
      " 11  clean_text        41141 non-null  object \n",
      "dtypes: float64(4), int64(4), object(4)\n",
      "memory usage: 3.8+ MB\n"
     ]
    }
   ],
   "source": [
    "df=pd.read_csv('/content/drive/MyDrive/clean_data.csv')\n",
    "df.info()"
   ]
  },
  {
   "cell_type": "code",
   "execution_count": 111,
   "metadata": {
    "executionInfo": {
     "elapsed": 933,
     "status": "ok",
     "timestamp": 1608127386048,
     "user": {
      "displayName": "khalil hennara",
      "photoUrl": "",
      "userId": "12581719381754495507"
     },
     "user_tz": -120
    },
    "id": "frOKtP7IX_HK"
   },
   "outputs": [],
   "source": [
    "train,test=model_selection.train_test_split(df,test_size=0.2,stratify=df['NomericSentiment'],random_state=42)\n",
    "# the stratify parameter is tell the function to split the data according to this column so \n",
    "# the train and test set have the same distribution."
   ]
  },
  {
   "cell_type": "code",
   "execution_count": 112,
   "metadata": {
    "colab": {
     "base_uri": "https://localhost:8080/"
    },
    "executionInfo": {
     "elapsed": 702,
     "status": "ok",
     "timestamp": 1608127389845,
     "user": {
      "displayName": "khalil hennara",
      "photoUrl": "",
      "userId": "12581719381754495507"
     },
     "user_tz": -120
    },
    "id": "AATIu-fLa6X2",
    "outputId": "511c3b67-0086-477b-e2c3-c5a9d780c6c8"
   },
   "outputs": [
    {
     "data": {
      "text/plain": [
       "0.0    0.277589\n",
       "1.0    0.241037\n",
       "2.0    0.187135\n",
       "3.0    0.161005\n",
       "4.0    0.133234\n",
       "Name: NomericSentiment, dtype: float64"
      ]
     },
     "execution_count": 112,
     "metadata": {
      "tags": []
     },
     "output_type": "execute_result"
    }
   ],
   "source": [
    "train['NomericSentiment'].value_counts()/len(train)"
   ]
  },
  {
   "cell_type": "code",
   "execution_count": 113,
   "metadata": {
    "colab": {
     "base_uri": "https://localhost:8080/"
    },
    "executionInfo": {
     "elapsed": 899,
     "status": "ok",
     "timestamp": 1608127392002,
     "user": {
      "displayName": "khalil hennara",
      "photoUrl": "",
      "userId": "12581719381754495507"
     },
     "user_tz": -120
    },
    "id": "jxfecTFxbCX8",
    "outputId": "27b5d055-4c24-47d6-8f38-eb354012a96a"
   },
   "outputs": [
    {
     "data": {
      "text/plain": [
       "0.0    0.277677\n",
       "1.0    0.240977\n",
       "2.0    0.187143\n",
       "3.0    0.161016\n",
       "4.0    0.133188\n",
       "Name: NomericSentiment, dtype: float64"
      ]
     },
     "execution_count": 113,
     "metadata": {
      "tags": []
     },
     "output_type": "execute_result"
    }
   ],
   "source": [
    "test['NomericSentiment'].value_counts()/len(test)"
   ]
  },
  {
   "cell_type": "markdown",
   "metadata": {
    "executionInfo": {
     "elapsed": 859,
     "status": "ok",
     "timestamp": 1608103554349,
     "user": {
      "displayName": "khalil hennara",
      "photoUrl": "",
      "userId": "12581719381754495507"
     },
     "user_tz": -120
    },
    "id": "IxUHN57XbHfi"
   },
   "source": [
    "now after we split the data into train and test we can save this two data frame \n",
    "and then we can use this two data frame "
   ]
  },
  {
   "cell_type": "code",
   "execution_count": 114,
   "metadata": {
    "colab": {
     "base_uri": "https://localhost:8080/"
    },
    "executionInfo": {
     "elapsed": 2351,
     "status": "ok",
     "timestamp": 1608127402875,
     "user": {
      "displayName": "khalil hennara",
      "photoUrl": "",
      "userId": "12581719381754495507"
     },
     "user_tz": -120
    },
    "id": "pON3uS4EcOkU",
    "outputId": "7cb664eb-291a-4d74-e8da-73affd4bca92"
   },
   "outputs": [
    {
     "data": {
      "text/plain": [
       "Index(['UserName', 'ScreenName', 'TweetAt', 'OriginalTweet', 'Sentiment',\n",
       "       'NomericSentiment', 'world_count', 'stop_word_count', 'url_count',\n",
       "       'hashtage_count', 'mention_count', 'clean_text'],\n",
       "      dtype='object')"
      ]
     },
     "execution_count": 114,
     "metadata": {
      "tags": []
     },
     "output_type": "execute_result"
    }
   ],
   "source": [
    "train.columns"
   ]
  },
  {
   "cell_type": "markdown",
   "metadata": {
    "executionInfo": {
     "elapsed": 932,
     "status": "ok",
     "timestamp": 1608103706666,
     "user": {
      "displayName": "khalil hennara",
      "photoUrl": "",
      "userId": "12581719381754495507"
     },
     "user_tz": -120
    },
    "id": "R7XBxNJccRKR"
   },
   "source": [
    " ## important Note\n",
    " we can train on the meta data we create like the world count and url count and so on \n",
    " but what should do is train on the tweet text so we will drop all the column except the clean text and Sentient "
   ]
  },
  {
   "cell_type": "code",
   "execution_count": 115,
   "metadata": {
    "executionInfo": {
     "elapsed": 726,
     "status": "ok",
     "timestamp": 1608127407969,
     "user": {
      "displayName": "khalil hennara",
      "photoUrl": "",
      "userId": "12581719381754495507"
     },
     "user_tz": -120
    },
    "id": "DVVWWgUiczvP"
   },
   "outputs": [],
   "source": [
    "train_df=train[['clean_text','Sentiment','NomericSentiment']]\n",
    "test_df=test[['clean_text','Sentiment','NomericSentiment']]"
   ]
  },
  {
   "cell_type": "code",
   "execution_count": 117,
   "metadata": {
    "executionInfo": {
     "elapsed": 1856,
     "status": "ok",
     "timestamp": 1608127434023,
     "user": {
      "displayName": "khalil hennara",
      "photoUrl": "",
      "userId": "12581719381754495507"
     },
     "user_tz": -120
    },
    "id": "Jl9-a4kNdApT"
   },
   "outputs": [],
   "source": [
    "train_df.to_csv('/content/drive/MyDrive/train_df.csv',index=False)\n",
    "test_df.to_csv('/content/drive/MyDrive/test_df.csv',index=False)"
   ]
  },
  {
   "cell_type": "code",
   "execution_count": 2,
   "metadata": {
    "colab": {
     "base_uri": "https://localhost:8080/"
    },
    "executionInfo": {
     "elapsed": 834,
     "status": "ok",
     "timestamp": 1608128907422,
     "user": {
      "displayName": "khalil hennara",
      "photoUrl": "",
      "userId": "12581719381754495507"
     },
     "user_tz": -120
    },
    "id": "Te2aUd-WyLsp",
    "outputId": "5dd6cf48-dd29-43ee-adb0-27671f7e611a"
   },
   "outputs": [
    {
     "name": "stdout",
     "output_type": "stream",
     "text": [
      "<class 'pandas.core.frame.DataFrame'>\n",
      "RangeIndex: 32912 entries, 0 to 32911\n",
      "Data columns (total 3 columns):\n",
      " #   Column            Non-Null Count  Dtype  \n",
      "---  ------            --------------  -----  \n",
      " 0   clean_text        32912 non-null  object \n",
      " 1   Sentiment         32912 non-null  object \n",
      " 2   NomericSentiment  32912 non-null  float64\n",
      "dtypes: float64(1), object(2)\n",
      "memory usage: 771.5+ KB\n",
      "<class 'pandas.core.frame.DataFrame'>\n",
      "RangeIndex: 8229 entries, 0 to 8228\n",
      "Data columns (total 3 columns):\n",
      " #   Column            Non-Null Count  Dtype  \n",
      "---  ------            --------------  -----  \n",
      " 0   clean_text        8229 non-null   object \n",
      " 1   Sentiment         8229 non-null   object \n",
      " 2   NomericSentiment  8229 non-null   float64\n",
      "dtypes: float64(1), object(2)\n",
      "memory usage: 193.0+ KB\n"
     ]
    },
    {
     "data": {
      "text/plain": [
       "(None, None)"
      ]
     },
     "execution_count": 2,
     "metadata": {
      "tags": []
     },
     "output_type": "execute_result"
    }
   ],
   "source": [
    "train_df=pd.read_csv('/content/drive/MyDrive/train_df.csv')\n",
    "test_df=pd.read_csv('/content/drive/MyDrive/test_df.csv')\n",
    "train_df.info(),test_df.info()"
   ]
  },
  {
   "cell_type": "markdown",
   "metadata": {
    "executionInfo": {
     "elapsed": 868,
     "status": "ok",
     "timestamp": 1608103982709,
     "user": {
      "displayName": "khalil hennara",
      "photoUrl": "",
      "userId": "12581719381754495507"
     },
     "user_tz": -120
    },
    "id": "LbnbEBnQdCpo"
   },
   "source": [
    " now we will not toch the test data until we finish the train"
   ]
  },
  {
   "cell_type": "code",
   "execution_count": 3,
   "metadata": {
    "executionInfo": {
     "elapsed": 672,
     "status": "ok",
     "timestamp": 1608128910495,
     "user": {
      "displayName": "khalil hennara",
      "photoUrl": "",
      "userId": "12581719381754495507"
     },
     "user_tz": -120
    },
    "id": "PEX3IiUWd3JX"
   },
   "outputs": [],
   "source": [
    "X_train=train_df['clean_text'].values\n",
    "y_train=train_df['NomericSentiment'].values\n",
    "X_test=test_df['clean_text'].values\n",
    "y_test=test_df['NomericSentiment'].values"
   ]
  },
  {
   "cell_type": "markdown",
   "metadata": {
    "executionInfo": {
     "elapsed": 1614,
     "status": "ok",
     "timestamp": 1608104902518,
     "user": {
      "displayName": "khalil hennara",
      "photoUrl": "",
      "userId": "12581719381754495507"
     },
     "user_tz": -120
    },
    "id": "Je-fG2xHd-en"
   },
   "source": [
    " we will not make the validation data unitl do the deep learning part so\n",
    " first we do some machine learning stuff"
   ]
  },
  {
   "cell_type": "code",
   "execution_count": 3,
   "metadata": {
    "executionInfo": {
     "elapsed": 864,
     "status": "ok",
     "timestamp": 1608142651631,
     "user": {
      "displayName": "khalil hennara",
      "photoUrl": "",
      "userId": "12581719381754495507"
     },
     "user_tz": -120
    },
    "id": "Y_U5RomUhXfq"
   },
   "outputs": [],
   "source": [
    "import sklearn.linear_model as linear_model\n",
    "import sklearn.ensemble as Ensambel\n",
    "import sklearn.metrics as mertics \n",
    "import sklearn.feature_extraction as feature_extraction"
   ]
  },
  {
   "cell_type": "code",
   "execution_count": 6,
   "metadata": {
    "executionInfo": {
     "elapsed": 742,
     "status": "ok",
     "timestamp": 1608127587773,
     "user": {
      "displayName": "khalil hennara",
      "photoUrl": "",
      "userId": "12581719381754495507"
     },
     "user_tz": -120
    },
    "id": "xnRK2ag_hp-J"
   },
   "outputs": [],
   "source": [
    "sgd_cl=linear_model.SGDClassifier()\n",
    "random_cl=Ensambel.RandomForestClassifier()"
   ]
  },
  {
   "cell_type": "code",
   "execution_count": 145,
   "metadata": {
    "colab": {
     "base_uri": "https://localhost:8080/"
    },
    "executionInfo": {
     "elapsed": 1496,
     "status": "ok",
     "timestamp": 1608138740394,
     "user": {
      "displayName": "khalil hennara",
      "photoUrl": "",
      "userId": "12581719381754495507"
     },
     "user_tz": -120
    },
    "id": "pWyhpCqqh3nU",
    "outputId": "45308928-13f8-4ec6-87b1-4e103bb58864"
   },
   "outputs": [
    {
     "data": {
      "text/plain": [
       "CountVectorizer(analyzer='word', binary=False, decode_error='strict',\n",
       "                dtype=<class 'numpy.int64'>, encoding='utf-8', input='content',\n",
       "                lowercase=False, max_df=1.0, max_features=None, min_df=1,\n",
       "                ngram_range=(1, 1), preprocessor=None, stop_words=None,\n",
       "                strip_accents=None, token_pattern='(?u)\\\\b\\\\w\\\\w+\\\\b',\n",
       "                tokenizer=None, vocabulary=None)"
      ]
     },
     "execution_count": 145,
     "metadata": {
      "tags": []
     },
     "output_type": "execute_result"
    }
   ],
   "source": [
    "vectorize=feature_extraction.text.CountVectorizer(lowercase=False)\n",
    "vectorize.fit(X_train)"
   ]
  },
  {
   "cell_type": "code",
   "execution_count": 8,
   "metadata": {
    "executionInfo": {
     "elapsed": 1639,
     "status": "ok",
     "timestamp": 1608127604757,
     "user": {
      "displayName": "khalil hennara",
      "photoUrl": "",
      "userId": "12581719381754495507"
     },
     "user_tz": -120
    },
    "id": "kx27433XryJP"
   },
   "outputs": [],
   "source": [
    "train_set=vectorize.transform(X_train)\n",
    "test_set=vectorize.transform(X_test)"
   ]
  },
  {
   "cell_type": "code",
   "execution_count": 128,
   "metadata": {
    "colab": {
     "base_uri": "https://localhost:8080/"
    },
    "executionInfo": {
     "elapsed": 1006,
     "status": "ok",
     "timestamp": 1608107839003,
     "user": {
      "displayName": "khalil hennara",
      "photoUrl": "",
      "userId": "12581719381754495507"
     },
     "user_tz": -120
    },
    "id": "dSAUcv0-r40u",
    "outputId": "efb51e95-7bc1-4548-f890-4779c001fc51"
   },
   "outputs": [
    {
     "data": {
      "text/plain": [
       "<32925x41787 sparse matrix of type '<class 'numpy.int64'>'\n",
       "\twith 854953 stored elements in Compressed Sparse Row format>"
      ]
     },
     "execution_count": 128,
     "metadata": {
      "tags": []
     },
     "output_type": "execute_result"
    }
   ],
   "source": [
    "train_set"
   ]
  },
  {
   "cell_type": "code",
   "execution_count": 9,
   "metadata": {
    "colab": {
     "base_uri": "https://localhost:8080/"
    },
    "executionInfo": {
     "elapsed": 2457,
     "status": "ok",
     "timestamp": 1608127627506,
     "user": {
      "displayName": "khalil hennara",
      "photoUrl": "",
      "userId": "12581719381754495507"
     },
     "user_tz": -120
    },
    "id": "Vwcrw0vaskmT",
    "outputId": "0f196af2-205b-43a5-f481-7eb7f6506f13"
   },
   "outputs": [
    {
     "name": "stdout",
     "output_type": "stream",
     "text": [
      "Accuracy : 57.856361647830845\n"
     ]
    }
   ],
   "source": [
    "sgd_cl.fit(train_set,y_train)\n",
    "score=sgd_cl.score(test_set,y_test)\n",
    "print(\"Accuracy : {}\".format( score * 100))"
   ]
  },
  {
   "cell_type": "code",
   "execution_count": 10,
   "metadata": {
    "colab": {
     "base_uri": "https://localhost:8080/"
    },
    "executionInfo": {
     "elapsed": 1261,
     "status": "ok",
     "timestamp": 1608127633832,
     "user": {
      "displayName": "khalil hennara",
      "photoUrl": "",
      "userId": "12581719381754495507"
     },
     "user_tz": -120
    },
    "id": "T-uvutm4tIAZ",
    "outputId": "52ec59f3-89b8-41d8-befa-af40ac7df9aa"
   },
   "outputs": [
    {
     "data": {
      "text/plain": [
       "(array([0., 2., 2., 1., 1., 1., 1., 1., 2., 1.]),\n",
       " array([2., 1., 2., 2., 4., 0., 2., 2., 2., 1.]))"
      ]
     },
     "execution_count": 10,
     "metadata": {
      "tags": []
     },
     "output_type": "execute_result"
    }
   ],
   "source": [
    "sgd_cl.predict(test_set[:10]),y_test[:10]"
   ]
  },
  {
   "cell_type": "markdown",
   "metadata": {
    "executionInfo": {
     "elapsed": 715,
     "status": "ok",
     "timestamp": 1608127650183,
     "user": {
      "displayName": "khalil hennara",
      "photoUrl": "",
      "userId": "12581719381754495507"
     },
     "user_tz": -120
    },
    "id": "cTSP8VBPti_X"
   },
   "source": [
    " now lets try with Random Forest Classifier"
   ]
  },
  {
   "cell_type": "code",
   "execution_count": 12,
   "metadata": {
    "colab": {
     "base_uri": "https://localhost:8080/"
    },
    "executionInfo": {
     "elapsed": 135722,
     "status": "ok",
     "timestamp": 1608127802824,
     "user": {
      "displayName": "khalil hennara",
      "photoUrl": "",
      "userId": "12581719381754495507"
     },
     "user_tz": -120
    },
    "id": "h3boUxy6tw_H",
    "outputId": "990a18ba-a2f4-4e3c-c5a1-3920aceb0fc8"
   },
   "outputs": [
    {
     "data": {
      "text/plain": [
       "RandomForestClassifier(bootstrap=True, ccp_alpha=0.0, class_weight=None,\n",
       "                       criterion='gini', max_depth=None, max_features='auto',\n",
       "                       max_leaf_nodes=None, max_samples=None,\n",
       "                       min_impurity_decrease=0.0, min_impurity_split=None,\n",
       "                       min_samples_leaf=1, min_samples_split=2,\n",
       "                       min_weight_fraction_leaf=0.0, n_estimators=100,\n",
       "                       n_jobs=None, oob_score=False, random_state=None,\n",
       "                       verbose=0, warm_start=False)"
      ]
     },
     "execution_count": 12,
     "metadata": {
      "tags": []
     },
     "output_type": "execute_result"
    }
   ],
   "source": [
    "random_cl.fit(train_set,y_train)\n"
   ]
  },
  {
   "cell_type": "code",
   "execution_count": 13,
   "metadata": {
    "colab": {
     "base_uri": "https://localhost:8080/"
    },
    "executionInfo": {
     "elapsed": 1391,
     "status": "ok",
     "timestamp": 1608127810832,
     "user": {
      "displayName": "khalil hennara",
      "photoUrl": "",
      "userId": "12581719381754495507"
     },
     "user_tz": -120
    },
    "id": "IKMvdxxF4Mdh",
    "outputId": "4eb3d423-bcbe-47bf-96b1-e1669af53a09"
   },
   "outputs": [
    {
     "name": "stdout",
     "output_type": "stream",
     "text": [
      "Accuracy : 50.18835824523028\n"
     ]
    }
   ],
   "source": [
    "random_score=random_cl.score(test_set,y_test)\n",
    "print(\"Accuracy : {}\".format( random_score * 100))"
   ]
  },
  {
   "cell_type": "markdown",
   "metadata": {
    "executionInfo": {
     "elapsed": 744,
     "status": "ok",
     "timestamp": 1608127816251,
     "user": {
      "displayName": "khalil hennara",
      "photoUrl": "",
      "userId": "12581719381754495507"
     },
     "user_tz": -120
    },
    "id": "P2mxiZKwuEBx"
   },
   "source": [
    "**stocastic grediant discent** is better than **Random Forest Classifier** \n",
    "\n",
    " now lets try with Deep Neural Network "
   ]
  },
  {
   "cell_type": "code",
   "execution_count": 16,
   "metadata": {
    "executionInfo": {
     "elapsed": 746,
     "status": "ok",
     "timestamp": 1608127930574,
     "user": {
      "displayName": "khalil hennara",
      "photoUrl": "",
      "userId": "12581719381754495507"
     },
     "user_tz": -120
    },
    "id": "e-jGrcIUvwBL"
   },
   "outputs": [],
   "source": [
    "X_train_set,X_val,y_train_set,y_val=model_selection.train_test_split(train_set,y_train,test_size=0.2)"
   ]
  },
  {
   "cell_type": "code",
   "execution_count": 17,
   "metadata": {
    "executionInfo": {
     "elapsed": 646,
     "status": "ok",
     "timestamp": 1608127937335,
     "user": {
      "displayName": "khalil hennara",
      "photoUrl": "",
      "userId": "12581719381754495507"
     },
     "user_tz": -120
    },
    "id": "uHpJTRFPy-QC"
   },
   "outputs": [],
   "source": [
    "y_train_set_cat=keras.utils.to_categorical(y_train_set)\n",
    "y_val_cat=keras.utils.to_categorical(y_val)"
   ]
  },
  {
   "cell_type": "code",
   "execution_count": 27,
   "metadata": {
    "executionInfo": {
     "elapsed": 695,
     "status": "ok",
     "timestamp": 1608128171035,
     "user": {
      "displayName": "khalil hennara",
      "photoUrl": "",
      "userId": "12581719381754495507"
     },
     "user_tz": -120
    },
    "id": "_gVg1NyI6D0Z"
   },
   "outputs": [],
   "source": [
    "y_test_cat=keras.utils.to_categorical(y_test)"
   ]
  },
  {
   "cell_type": "code",
   "execution_count": 18,
   "metadata": {
    "executionInfo": {
     "elapsed": 957,
     "status": "ok",
     "timestamp": 1608127941443,
     "user": {
      "displayName": "khalil hennara",
      "photoUrl": "",
      "userId": "12581719381754495507"
     },
     "user_tz": -120
    },
    "id": "QCVON34_vFaw"
   },
   "outputs": [],
   "source": [
    "input_dim=X_train_set.shape[1]"
   ]
  },
  {
   "cell_type": "code",
   "execution_count": 29,
   "metadata": {
    "colab": {
     "base_uri": "https://localhost:8080/"
    },
    "executionInfo": {
     "elapsed": 715,
     "status": "ok",
     "timestamp": 1608128208878,
     "user": {
      "displayName": "khalil hennara",
      "photoUrl": "",
      "userId": "12581719381754495507"
     },
     "user_tz": -120
    },
    "id": "IGQD9B-Mu3Z7",
    "outputId": "56624cc4-773b-444b-f717-db52087ac25e"
   },
   "outputs": [
    {
     "name": "stdout",
     "output_type": "stream",
     "text": [
      "Model: \"sequential\"\n",
      "_________________________________________________________________\n",
      "Layer (type)                 Output Shape              Param #   \n",
      "=================================================================\n",
      "dense (Dense)                (None, 10)                418050    \n",
      "_________________________________________________________________\n",
      "dropout (Dropout)            (None, 10)                0         \n",
      "_________________________________________________________________\n",
      "dense_1 (Dense)              (None, 5)                 55        \n",
      "=================================================================\n",
      "Total params: 418,105\n",
      "Trainable params: 418,105\n",
      "Non-trainable params: 0\n",
      "_________________________________________________________________\n"
     ]
    }
   ],
   "source": [
    "keras.backend.clear_session()\n",
    "model=keras.models.Sequential([\n",
    "                               keras.layers.Dense(10,activation='relu',input_dim=input_dim),\n",
    "                               keras.layers.Dropout(0.2),\n",
    "                               keras.layers.Dense(5,activation='softmax')\n",
    "])\n",
    "model.summary()"
   ]
  },
  {
   "cell_type": "code",
   "execution_count": 30,
   "metadata": {
    "executionInfo": {
     "elapsed": 639,
     "status": "ok",
     "timestamp": 1608128214845,
     "user": {
      "displayName": "khalil hennara",
      "photoUrl": "",
      "userId": "12581719381754495507"
     },
     "user_tz": -120
    },
    "id": "l4WauFU-veqk"
   },
   "outputs": [],
   "source": [
    "model.compile(loss='categorical_crossentropy',optimizer='sgd',metrics=['accuracy'])"
   ]
  },
  {
   "cell_type": "code",
   "execution_count": 21,
   "metadata": {
    "colab": {
     "base_uri": "https://localhost:8080/"
    },
    "executionInfo": {
     "elapsed": 1244,
     "status": "ok",
     "timestamp": 1608127955062,
     "user": {
      "displayName": "khalil hennara",
      "photoUrl": "",
      "userId": "12581719381754495507"
     },
     "user_tz": -120
    },
    "id": "8zQljL-CzVK3",
    "outputId": "14f5175c-2c79-4ace-8110-847319e77ff8"
   },
   "outputs": [
    {
     "data": {
      "text/plain": [
       "((26329, 5), (6583, 5))"
      ]
     },
     "execution_count": 21,
     "metadata": {
      "tags": []
     },
     "output_type": "execute_result"
    }
   ],
   "source": [
    "y_train_set_cat.shape,y_val_cat.shape"
   ]
  },
  {
   "cell_type": "code",
   "execution_count": 22,
   "metadata": {
    "colab": {
     "base_uri": "https://localhost:8080/"
    },
    "executionInfo": {
     "elapsed": 654,
     "status": "ok",
     "timestamp": 1608127957422,
     "user": {
      "displayName": "khalil hennara",
      "photoUrl": "",
      "userId": "12581719381754495507"
     },
     "user_tz": -120
    },
    "id": "XppAtN8-zkWU",
    "outputId": "16a7aa38-5fd0-448d-fb70-cb49c105960a"
   },
   "outputs": [
    {
     "data": {
      "text/plain": [
       "((26329, 41804), (6583, 41804))"
      ]
     },
     "execution_count": 22,
     "metadata": {
      "tags": []
     },
     "output_type": "execute_result"
    }
   ],
   "source": [
    "X_train_set.shape,X_val.shape"
   ]
  },
  {
   "cell_type": "code",
   "execution_count": 4,
   "metadata": {
    "executionInfo": {
     "elapsed": 783,
     "status": "ok",
     "timestamp": 1608142674757,
     "user": {
      "displayName": "khalil hennara",
      "photoUrl": "",
      "userId": "12581719381754495507"
     },
     "user_tz": -120
    },
    "id": "1D7MSJ1IwRR_"
   },
   "outputs": [],
   "source": [
    "erlay_stop=keras.callbacks.EarlyStopping(monitor='val_loss',patience=5)\n",
    "check=keras.callbacks.ModelCheckpoint('/content/drive/MyDrive/best_model.h5',monitor='val_loss',save_best_only=True)"
   ]
  },
  {
   "cell_type": "code",
   "execution_count": 32,
   "metadata": {
    "colab": {
     "base_uri": "https://localhost:8080/"
    },
    "executionInfo": {
     "elapsed": 85517,
     "status": "ok",
     "timestamp": 1608128309832,
     "user": {
      "displayName": "khalil hennara",
      "photoUrl": "",
      "userId": "12581719381754495507"
     },
     "user_tz": -120
    },
    "id": "OkU1CO3pxEDi",
    "outputId": "8be8554b-7c92-4afe-a214-14f56be28942"
   },
   "outputs": [
    {
     "name": "stdout",
     "output_type": "stream",
     "text": [
      "Epoch 1/100\n",
      "412/412 [==============================] - 1s 3ms/step - loss: 1.5595 - accuracy: 0.2873 - val_loss: 1.5327 - val_accuracy: 0.2982\n",
      "Epoch 2/100\n",
      "412/412 [==============================] - 1s 2ms/step - loss: 1.5082 - accuracy: 0.3299 - val_loss: 1.4965 - val_accuracy: 0.3404\n",
      "Epoch 3/100\n",
      "412/412 [==============================] - 1s 2ms/step - loss: 1.4736 - accuracy: 0.3619 - val_loss: 1.4657 - val_accuracy: 0.3652\n",
      "Epoch 4/100\n",
      "412/412 [==============================] - 1s 2ms/step - loss: 1.4413 - accuracy: 0.3762 - val_loss: 1.4362 - val_accuracy: 0.3763\n",
      "Epoch 5/100\n",
      "412/412 [==============================] - 1s 2ms/step - loss: 1.4122 - accuracy: 0.3928 - val_loss: 1.4068 - val_accuracy: 0.3796\n",
      "Epoch 6/100\n",
      "412/412 [==============================] - 1s 2ms/step - loss: 1.3830 - accuracy: 0.4069 - val_loss: 1.3807 - val_accuracy: 0.3992\n",
      "Epoch 7/100\n",
      "412/412 [==============================] - 1s 2ms/step - loss: 1.3538 - accuracy: 0.4261 - val_loss: 1.3536 - val_accuracy: 0.4212\n",
      "Epoch 8/100\n",
      "412/412 [==============================] - 1s 2ms/step - loss: 1.3299 - accuracy: 0.4423 - val_loss: 1.3335 - val_accuracy: 0.4366\n",
      "Epoch 9/100\n",
      "412/412 [==============================] - 1s 2ms/step - loss: 1.3080 - accuracy: 0.4550 - val_loss: 1.3102 - val_accuracy: 0.4522\n",
      "Epoch 10/100\n",
      "412/412 [==============================] - 1s 2ms/step - loss: 1.2861 - accuracy: 0.4689 - val_loss: 1.2909 - val_accuracy: 0.4688\n",
      "Epoch 11/100\n",
      "412/412 [==============================] - 1s 2ms/step - loss: 1.2644 - accuracy: 0.4786 - val_loss: 1.2729 - val_accuracy: 0.4770\n",
      "Epoch 12/100\n",
      "412/412 [==============================] - 1s 2ms/step - loss: 1.2459 - accuracy: 0.4915 - val_loss: 1.2545 - val_accuracy: 0.4863\n",
      "Epoch 13/100\n",
      "412/412 [==============================] - 1s 2ms/step - loss: 1.2257 - accuracy: 0.5007 - val_loss: 1.2386 - val_accuracy: 0.4963\n",
      "Epoch 14/100\n",
      "412/412 [==============================] - 1s 2ms/step - loss: 1.2084 - accuracy: 0.5092 - val_loss: 1.2241 - val_accuracy: 0.5030\n",
      "Epoch 15/100\n",
      "412/412 [==============================] - 1s 2ms/step - loss: 1.1917 - accuracy: 0.5201 - val_loss: 1.2097 - val_accuracy: 0.5133\n",
      "Epoch 16/100\n",
      "412/412 [==============================] - 1s 2ms/step - loss: 1.1754 - accuracy: 0.5284 - val_loss: 1.1986 - val_accuracy: 0.5182\n",
      "Epoch 17/100\n",
      "412/412 [==============================] - 1s 2ms/step - loss: 1.1586 - accuracy: 0.5426 - val_loss: 1.1833 - val_accuracy: 0.5335\n",
      "Epoch 18/100\n",
      "412/412 [==============================] - 1s 2ms/step - loss: 1.1436 - accuracy: 0.5489 - val_loss: 1.1724 - val_accuracy: 0.5379\n",
      "Epoch 19/100\n",
      "412/412 [==============================] - 1s 2ms/step - loss: 1.1294 - accuracy: 0.5532 - val_loss: 1.1592 - val_accuracy: 0.5431\n",
      "Epoch 20/100\n",
      "412/412 [==============================] - 1s 2ms/step - loss: 1.1150 - accuracy: 0.5624 - val_loss: 1.1486 - val_accuracy: 0.5505\n",
      "Epoch 21/100\n",
      "412/412 [==============================] - 1s 2ms/step - loss: 1.1023 - accuracy: 0.5713 - val_loss: 1.1373 - val_accuracy: 0.5520\n",
      "Epoch 22/100\n",
      "412/412 [==============================] - 1s 2ms/step - loss: 1.0849 - accuracy: 0.5800 - val_loss: 1.1285 - val_accuracy: 0.5592\n",
      "Epoch 23/100\n",
      "412/412 [==============================] - 1s 2ms/step - loss: 1.0750 - accuracy: 0.5858 - val_loss: 1.1192 - val_accuracy: 0.5584\n",
      "Epoch 24/100\n",
      "412/412 [==============================] - 1s 2ms/step - loss: 1.0603 - accuracy: 0.5927 - val_loss: 1.1096 - val_accuracy: 0.5649\n",
      "Epoch 25/100\n",
      "412/412 [==============================] - 1s 2ms/step - loss: 1.0481 - accuracy: 0.6020 - val_loss: 1.1005 - val_accuracy: 0.5704\n",
      "Epoch 26/100\n",
      "412/412 [==============================] - 1s 2ms/step - loss: 1.0351 - accuracy: 0.6074 - val_loss: 1.0903 - val_accuracy: 0.5771\n",
      "Epoch 27/100\n",
      "412/412 [==============================] - 1s 2ms/step - loss: 1.0279 - accuracy: 0.6112 - val_loss: 1.0838 - val_accuracy: 0.5841\n",
      "Epoch 28/100\n",
      "412/412 [==============================] - 1s 2ms/step - loss: 1.0198 - accuracy: 0.6162 - val_loss: 1.0752 - val_accuracy: 0.5858\n",
      "Epoch 29/100\n",
      "412/412 [==============================] - 1s 2ms/step - loss: 1.0045 - accuracy: 0.6269 - val_loss: 1.0682 - val_accuracy: 0.5812\n",
      "Epoch 30/100\n",
      "412/412 [==============================] - 1s 2ms/step - loss: 0.9936 - accuracy: 0.6261 - val_loss: 1.0602 - val_accuracy: 0.5949\n",
      "Epoch 31/100\n",
      "412/412 [==============================] - 1s 2ms/step - loss: 0.9826 - accuracy: 0.6352 - val_loss: 1.0538 - val_accuracy: 0.5953\n",
      "Epoch 32/100\n",
      "412/412 [==============================] - 1s 2ms/step - loss: 0.9729 - accuracy: 0.6377 - val_loss: 1.0459 - val_accuracy: 0.5982\n",
      "Epoch 33/100\n",
      "412/412 [==============================] - 1s 2ms/step - loss: 0.9615 - accuracy: 0.6457 - val_loss: 1.0432 - val_accuracy: 0.5967\n",
      "Epoch 34/100\n",
      "412/412 [==============================] - 1s 2ms/step - loss: 0.9487 - accuracy: 0.6536 - val_loss: 1.0368 - val_accuracy: 0.5971\n",
      "Epoch 35/100\n",
      "412/412 [==============================] - 1s 2ms/step - loss: 0.9417 - accuracy: 0.6529 - val_loss: 1.0339 - val_accuracy: 0.6038\n",
      "Epoch 36/100\n",
      "412/412 [==============================] - 1s 2ms/step - loss: 0.9334 - accuracy: 0.6596 - val_loss: 1.0228 - val_accuracy: 0.6099\n",
      "Epoch 37/100\n",
      "412/412 [==============================] - 1s 2ms/step - loss: 0.9238 - accuracy: 0.6658 - val_loss: 1.0195 - val_accuracy: 0.6105\n",
      "Epoch 38/100\n",
      "412/412 [==============================] - 1s 2ms/step - loss: 0.9132 - accuracy: 0.6658 - val_loss: 1.0127 - val_accuracy: 0.6172\n",
      "Epoch 39/100\n",
      "412/412 [==============================] - 1s 2ms/step - loss: 0.9041 - accuracy: 0.6723 - val_loss: 1.0071 - val_accuracy: 0.6146\n",
      "Epoch 40/100\n",
      "412/412 [==============================] - 1s 2ms/step - loss: 0.8942 - accuracy: 0.6756 - val_loss: 1.0059 - val_accuracy: 0.6183\n",
      "Epoch 41/100\n",
      "412/412 [==============================] - 1s 2ms/step - loss: 0.8873 - accuracy: 0.6809 - val_loss: 0.9988 - val_accuracy: 0.6211\n",
      "Epoch 42/100\n",
      "412/412 [==============================] - 1s 2ms/step - loss: 0.8798 - accuracy: 0.6861 - val_loss: 0.9968 - val_accuracy: 0.6186\n",
      "Epoch 43/100\n",
      "412/412 [==============================] - 1s 2ms/step - loss: 0.8689 - accuracy: 0.6873 - val_loss: 0.9918 - val_accuracy: 0.6280\n",
      "Epoch 44/100\n",
      "412/412 [==============================] - 1s 2ms/step - loss: 0.8595 - accuracy: 0.6926 - val_loss: 0.9844 - val_accuracy: 0.6248\n",
      "Epoch 45/100\n",
      "412/412 [==============================] - 1s 2ms/step - loss: 0.8535 - accuracy: 0.6953 - val_loss: 0.9836 - val_accuracy: 0.6234\n",
      "Epoch 46/100\n",
      "412/412 [==============================] - 1s 2ms/step - loss: 0.8465 - accuracy: 0.7007 - val_loss: 0.9770 - val_accuracy: 0.6260\n",
      "Epoch 47/100\n",
      "412/412 [==============================] - 1s 2ms/step - loss: 0.8369 - accuracy: 0.7028 - val_loss: 0.9824 - val_accuracy: 0.6249\n",
      "Epoch 48/100\n",
      "412/412 [==============================] - 1s 2ms/step - loss: 0.8288 - accuracy: 0.7067 - val_loss: 0.9715 - val_accuracy: 0.6322\n",
      "Epoch 49/100\n",
      "412/412 [==============================] - 1s 2ms/step - loss: 0.8203 - accuracy: 0.7117 - val_loss: 0.9703 - val_accuracy: 0.6293\n",
      "Epoch 50/100\n",
      "412/412 [==============================] - 1s 2ms/step - loss: 0.8117 - accuracy: 0.7156 - val_loss: 0.9651 - val_accuracy: 0.6351\n",
      "Epoch 51/100\n",
      "412/412 [==============================] - 1s 2ms/step - loss: 0.8061 - accuracy: 0.7173 - val_loss: 0.9635 - val_accuracy: 0.6371\n",
      "Epoch 52/100\n",
      "412/412 [==============================] - 1s 2ms/step - loss: 0.8004 - accuracy: 0.7169 - val_loss: 0.9568 - val_accuracy: 0.6356\n",
      "Epoch 53/100\n",
      "412/412 [==============================] - 1s 2ms/step - loss: 0.7925 - accuracy: 0.7254 - val_loss: 0.9556 - val_accuracy: 0.6389\n",
      "Epoch 54/100\n",
      "412/412 [==============================] - 1s 2ms/step - loss: 0.7855 - accuracy: 0.7280 - val_loss: 0.9538 - val_accuracy: 0.6415\n",
      "Epoch 55/100\n",
      "412/412 [==============================] - 1s 2ms/step - loss: 0.7781 - accuracy: 0.7294 - val_loss: 0.9504 - val_accuracy: 0.6395\n",
      "Epoch 56/100\n",
      "412/412 [==============================] - 1s 2ms/step - loss: 0.7714 - accuracy: 0.7353 - val_loss: 0.9484 - val_accuracy: 0.6423\n",
      "Epoch 57/100\n",
      "412/412 [==============================] - 1s 2ms/step - loss: 0.7655 - accuracy: 0.7334 - val_loss: 0.9440 - val_accuracy: 0.6459\n",
      "Epoch 58/100\n",
      "412/412 [==============================] - 1s 2ms/step - loss: 0.7602 - accuracy: 0.7358 - val_loss: 0.9435 - val_accuracy: 0.6435\n",
      "Epoch 59/100\n",
      "412/412 [==============================] - 1s 2ms/step - loss: 0.7511 - accuracy: 0.7400 - val_loss: 0.9394 - val_accuracy: 0.6444\n",
      "Epoch 60/100\n",
      "412/412 [==============================] - 1s 2ms/step - loss: 0.7404 - accuracy: 0.7475 - val_loss: 0.9404 - val_accuracy: 0.6444\n",
      "Epoch 61/100\n",
      "412/412 [==============================] - 1s 2ms/step - loss: 0.7373 - accuracy: 0.7464 - val_loss: 0.9374 - val_accuracy: 0.6462\n",
      "Epoch 62/100\n",
      "412/412 [==============================] - 1s 2ms/step - loss: 0.7332 - accuracy: 0.7483 - val_loss: 0.9361 - val_accuracy: 0.6471\n",
      "Epoch 63/100\n",
      "412/412 [==============================] - 1s 2ms/step - loss: 0.7251 - accuracy: 0.7529 - val_loss: 0.9316 - val_accuracy: 0.6506\n",
      "Epoch 64/100\n",
      "412/412 [==============================] - 1s 3ms/step - loss: 0.7209 - accuracy: 0.7556 - val_loss: 0.9310 - val_accuracy: 0.6512\n",
      "Epoch 65/100\n",
      "412/412 [==============================] - 1s 3ms/step - loss: 0.7162 - accuracy: 0.7556 - val_loss: 0.9306 - val_accuracy: 0.6518\n",
      "Epoch 66/100\n",
      "412/412 [==============================] - 1s 3ms/step - loss: 0.7043 - accuracy: 0.7625 - val_loss: 0.9275 - val_accuracy: 0.6517\n",
      "Epoch 67/100\n",
      "412/412 [==============================] - 1s 3ms/step - loss: 0.6979 - accuracy: 0.7654 - val_loss: 0.9289 - val_accuracy: 0.6503\n",
      "Epoch 68/100\n",
      "412/412 [==============================] - 1s 3ms/step - loss: 0.6977 - accuracy: 0.7608 - val_loss: 0.9273 - val_accuracy: 0.6438\n",
      "Epoch 69/100\n",
      "412/412 [==============================] - 1s 2ms/step - loss: 0.6914 - accuracy: 0.7696 - val_loss: 0.9242 - val_accuracy: 0.6506\n",
      "Epoch 70/100\n",
      "412/412 [==============================] - 1s 2ms/step - loss: 0.6830 - accuracy: 0.7665 - val_loss: 0.9244 - val_accuracy: 0.6523\n",
      "Epoch 71/100\n",
      "412/412 [==============================] - 1s 2ms/step - loss: 0.6777 - accuracy: 0.7761 - val_loss: 0.9220 - val_accuracy: 0.6489\n",
      "Epoch 72/100\n",
      "412/412 [==============================] - 1s 2ms/step - loss: 0.6739 - accuracy: 0.7770 - val_loss: 0.9229 - val_accuracy: 0.6541\n",
      "Epoch 73/100\n",
      "412/412 [==============================] - 1s 2ms/step - loss: 0.6638 - accuracy: 0.7816 - val_loss: 0.9229 - val_accuracy: 0.6505\n",
      "Epoch 74/100\n",
      "412/412 [==============================] - 1s 2ms/step - loss: 0.6612 - accuracy: 0.7804 - val_loss: 0.9167 - val_accuracy: 0.6480\n",
      "Epoch 75/100\n",
      "412/412 [==============================] - 1s 2ms/step - loss: 0.6596 - accuracy: 0.7803 - val_loss: 0.9200 - val_accuracy: 0.6532\n",
      "Epoch 76/100\n",
      "412/412 [==============================] - 1s 2ms/step - loss: 0.6516 - accuracy: 0.7842 - val_loss: 0.9164 - val_accuracy: 0.6546\n",
      "Epoch 77/100\n",
      "412/412 [==============================] - 1s 2ms/step - loss: 0.6432 - accuracy: 0.7860 - val_loss: 0.9179 - val_accuracy: 0.6532\n",
      "Epoch 78/100\n",
      "412/412 [==============================] - 1s 2ms/step - loss: 0.6419 - accuracy: 0.7891 - val_loss: 0.9187 - val_accuracy: 0.6549\n",
      "Epoch 79/100\n",
      "412/412 [==============================] - 1s 2ms/step - loss: 0.6393 - accuracy: 0.7889 - val_loss: 0.9119 - val_accuracy: 0.6530\n",
      "Epoch 80/100\n",
      "412/412 [==============================] - 1s 2ms/step - loss: 0.6291 - accuracy: 0.7933 - val_loss: 0.9145 - val_accuracy: 0.6573\n",
      "Epoch 81/100\n",
      "412/412 [==============================] - 1s 2ms/step - loss: 0.6270 - accuracy: 0.7927 - val_loss: 0.9100 - val_accuracy: 0.6553\n",
      "Epoch 82/100\n",
      "412/412 [==============================] - 1s 2ms/step - loss: 0.6162 - accuracy: 0.7998 - val_loss: 0.9149 - val_accuracy: 0.6544\n",
      "Epoch 83/100\n",
      "412/412 [==============================] - 1s 2ms/step - loss: 0.6151 - accuracy: 0.7975 - val_loss: 0.9128 - val_accuracy: 0.6588\n",
      "Epoch 84/100\n",
      "412/412 [==============================] - 1s 2ms/step - loss: 0.6081 - accuracy: 0.8009 - val_loss: 0.9133 - val_accuracy: 0.6553\n",
      "Epoch 85/100\n",
      "412/412 [==============================] - 1s 2ms/step - loss: 0.6060 - accuracy: 0.8007 - val_loss: 0.9138 - val_accuracy: 0.6535\n",
      "Epoch 86/100\n",
      "412/412 [==============================] - 1s 2ms/step - loss: 0.5983 - accuracy: 0.8049 - val_loss: 0.9104 - val_accuracy: 0.6538\n"
     ]
    }
   ],
   "source": [
    "history=model.fit(X_train_set,y_train_set_cat,epochs=100,batch_size=64,validation_data=(X_val,y_val_cat),callbacks=[erlay_stop,check])"
   ]
  },
  {
   "cell_type": "code",
   "execution_count": 33,
   "metadata": {
    "executionInfo": {
     "elapsed": 696,
     "status": "ok",
     "timestamp": 1608128322889,
     "user": {
      "displayName": "khalil hennara",
      "photoUrl": "",
      "userId": "12581719381754495507"
     },
     "user_tz": -120
    },
    "id": "zlrgujBj4Ezs"
   },
   "outputs": [],
   "source": [
    "model=keras.models.load_model('/content/drive/MyDrive/best_model.h5')"
   ]
  },
  {
   "cell_type": "code",
   "execution_count": 34,
   "metadata": {
    "colab": {
     "base_uri": "https://localhost:8080/"
    },
    "executionInfo": {
     "elapsed": 1629,
     "status": "ok",
     "timestamp": 1608128325423,
     "user": {
      "displayName": "khalil hennara",
      "photoUrl": "",
      "userId": "12581719381754495507"
     },
     "user_tz": -120
    },
    "id": "Zwwt84Zjy3Sz",
    "outputId": "d97b111d-5e39-47d9-e389-65022c80a15f"
   },
   "outputs": [
    {
     "name": "stdout",
     "output_type": "stream",
     "text": [
      "Training Accuracy: 0.8708\n",
      "Testing Accuracy:  0.6668\n"
     ]
    }
   ],
   "source": [
    "loss, accuracy = model.evaluate(X_train_set, y_train_set_cat, verbose=False)\n",
    "print(\"Training Accuracy: {:.4f}\".format(accuracy))\n",
    "loss, accuracy = model.evaluate(test_set, y_test_cat, verbose=False)\n",
    "print(\"Testing Accuracy:  {:.4f}\".format(accuracy))\n"
   ]
  },
  {
   "cell_type": "markdown",
   "metadata": {
    "executionInfo": {
     "elapsed": 763,
     "status": "ok",
     "timestamp": 1608128341774,
     "user": {
      "displayName": "khalil hennara",
      "photoUrl": "",
      "userId": "12581719381754495507"
     },
     "user_tz": -120
    },
    "id": "6eGzmPVn1lMR"
   },
   "source": [
    " as we can see this model do better than the machin learning model but we still have overfit"
   ]
  },
  {
   "cell_type": "code",
   "execution_count": 5,
   "metadata": {
    "executionInfo": {
     "elapsed": 3224,
     "status": "ok",
     "timestamp": 1608142686347,
     "user": {
      "displayName": "khalil hennara",
      "photoUrl": "",
      "userId": "12581719381754495507"
     },
     "user_tz": -120
    },
    "id": "-wmmdJ2b1mxX"
   },
   "outputs": [],
   "source": [
    "def plot_history(history):\n",
    "    acc = history.history['accuracy']\n",
    "    val_acc = history.history['val_accuracy']\n",
    "    loss = history.history['loss']\n",
    "    val_loss = history.history['val_loss']\n",
    "    x = range(1, len(acc) + 1)\n",
    "\n",
    "    plt.figure(figsize=(12, 5))\n",
    "    plt.subplot(1, 2, 1)\n",
    "    plt.plot(x, acc, 'b', label='Training acc')\n",
    "    plt.plot(x, val_acc, 'r', label='Validation acc')\n",
    "    plt.title('Training and validation accuracy')\n",
    "    plt.legend()\n",
    "    plt.subplot(1, 2, 2)\n",
    "    plt.plot(x, loss, 'b', label='Training loss')\n",
    "    plt.plot(x, val_loss, 'r', label='Validation loss')\n",
    "    plt.title('Training and validation loss')\n",
    "    plt.legend()"
   ]
  },
  {
   "cell_type": "code",
   "execution_count": 37,
   "metadata": {
    "colab": {
     "base_uri": "https://localhost:8080/",
     "height": 336
    },
    "executionInfo": {
     "elapsed": 969,
     "status": "ok",
     "timestamp": 1608128345475,
     "user": {
      "displayName": "khalil hennara",
      "photoUrl": "",
      "userId": "12581719381754495507"
     },
     "user_tz": -120
    },
    "id": "54S6AbxT2YVh",
    "outputId": "8185003d-0383-4ebe-dc34-bb4324dbfa42"
   },
   "outputs": [
    {
     "data": {
      "image/png": "[encoded data removed]",
      "text/plain": [
       "<Figure size 864x360 with 2 Axes>"
      ]
     },
     "metadata": {
      "needs_background": "light",
      "tags": []
     },
     "output_type": "display_data"
    }
   ],
   "source": [
    "plot_history(history)"
   ]
  },
  {
   "cell_type": "code",
   "execution_count": 8,
   "metadata": {
    "executionInfo": {
     "elapsed": 660,
     "status": "ok",
     "timestamp": 1608129043514,
     "user": {
      "displayName": "khalil hennara",
      "photoUrl": "",
      "userId": "12581719381754495507"
     },
     "user_tz": -120
    },
    "id": "NrUR2N9s5JKT"
   },
   "outputs": [],
   "source": [
    "tokinizer=keras.preprocessing.text.Tokenizer(num_words=len(vectorize.vocabulary_))"
   ]
  },
  {
   "cell_type": "code",
   "execution_count": 9,
   "metadata": {
    "executionInfo": {
     "elapsed": 1840,
     "status": "ok",
     "timestamp": 1608129047803,
     "user": {
      "displayName": "khalil hennara",
      "photoUrl": "",
      "userId": "12581719381754495507"
     },
     "user_tz": -120
    },
    "id": "nPn8JR2B5kC3"
   },
   "outputs": [],
   "source": [
    "tokinizer.fit_on_texts(X_train)"
   ]
  },
  {
   "cell_type": "code",
   "execution_count": 232,
   "metadata": {
    "colab": {
     "base_uri": "https://localhost:8080/"
    },
    "executionInfo": {
     "elapsed": 956,
     "status": "ok",
     "timestamp": 1608111382231,
     "user": {
      "displayName": "khalil hennara",
      "photoUrl": "",
      "userId": "12581719381754495507"
     },
     "user_tz": -120
    },
    "id": "fOY8jA9s6BOO",
    "outputId": "b2c275c5-e38a-4025-ca6f-a39a35a61331"
   },
   "outputs": [
    {
     "data": {
      "text/plain": [
       "array(['how to avoid coronavirus phishing scams - consumer reports #covid-19 #coronavirus #coronavirus #coronavirusupdate #coronapocolypse',\n",
       "       'harvey amp brockless now selling to the community in light of the covid 19 situation and the struggles seen at the supermarkets we re now selling dairy products cheese amp deli items at reduced prices avoid the crowds come and see for yourself 26 3 the timberdine pub worcester',\n",
       "       'if youâ\\x92re meaning masks to prevent *getting* #coronavirus the materials are very specific and not available to the average consumer :(',\n",
       "       'in addition to our recent update on the â\\x91force majeureâ\\x92 possibilities relating to covid-19, it is important to consider the broader practical implications for commercial and consumer agreements. read here,',\n",
       "       'i work in a supermarket and i am proud to have a job that will continue to provide a service throughout this crazy time. however, a customer admitted last night that he should be self isolating after close contact with someone who is tested positive. not cool #covid2019'],\n",
       "      dtype=object)"
      ]
     },
     "execution_count": 232,
     "metadata": {
      "tags": []
     },
     "output_type": "execute_result"
    }
   ],
   "source": [
    "X_test[:5]"
   ]
  },
  {
   "cell_type": "code",
   "execution_count": 10,
   "metadata": {
    "executionInfo": {
     "elapsed": 2874,
     "status": "ok",
     "timestamp": 1608129064638,
     "user": {
      "displayName": "khalil hennara",
      "photoUrl": "",
      "userId": "12581719381754495507"
     },
     "user_tz": -120
    },
    "id": "-hmkdDyi5sdV"
   },
   "outputs": [],
   "source": [
    "X_train_set=tokinizer.texts_to_sequences(X_train)\n",
    "X_test_set=tokinizer.texts_to_sequences(X_test)"
   ]
  },
  {
   "cell_type": "code",
   "execution_count": 146,
   "metadata": {
    "colab": {
     "base_uri": "https://localhost:8080/"
    },
    "executionInfo": {
     "elapsed": 816,
     "status": "ok",
     "timestamp": 1608138757574,
     "user": {
      "displayName": "khalil hennara",
      "photoUrl": "",
      "userId": "12581719381754495507"
     },
     "user_tz": -120
    },
    "id": "PjUeK05G6KRF",
    "outputId": "8daca27b-d2fe-469c-9173-63cb621b07d8"
   },
   "outputs": [
    {
     "data": {
      "text/plain": [
       "45822"
      ]
     },
     "execution_count": 146,
     "metadata": {
      "tags": []
     },
     "output_type": "execute_result"
    }
   ],
   "source": [
    "vocab_size=len(tokinizer.word_index)+1\n",
    "vocab_size"
   ]
  },
  {
   "cell_type": "code",
   "execution_count": 13,
   "metadata": {
    "colab": {
     "base_uri": "https://localhost:8080/"
    },
    "executionInfo": {
     "elapsed": 759,
     "status": "ok",
     "timestamp": 1608129096959,
     "user": {
      "displayName": "khalil hennara",
      "photoUrl": "",
      "userId": "12581719381754495507"
     },
     "user_tz": -120
    },
    "id": "i17qDmH16Qhc",
    "outputId": "363a1a70-7419-4571-8322-c3a79c621a84"
   },
   "outputs": [
    {
     "data": {
      "text/plain": [
       "array([ 184, 2353,  342,    1, 4139,    2,  116,   34,    1,   98,    1,\n",
       "        635,   13,  261,  782,    2,    1,  985,   62,   44,   98,    2,\n",
       "         54,   24,    1,   54,   15,   64,    7, 2028,  508,    2,  113,\n",
       "        524,    0,    0,    0,    0,    0,    0,    0,    0,    0,    0,\n",
       "          0,    0,    0,    0,    0,    0,    0,    0,    0,    0,    0,\n",
       "          0,    0,    0,    0,    0,    0,    0,    0,    0,    0],\n",
       "      dtype=int32)"
      ]
     },
     "execution_count": 13,
     "metadata": {
      "tags": []
     },
     "output_type": "execute_result"
    }
   ],
   "source": [
    "maxlength=65\n",
    "X_train_set=keras.preprocessing.sequence.pad_sequences(X_train_set,padding='post',maxlen=maxlength)\n",
    "X_test_set=keras.preprocessing.sequence.pad_sequences(X_test_set,padding='post',maxlen=maxlength)\n",
    "X_train_set[0,:]"
   ]
  },
  {
   "cell_type": "code",
   "execution_count": 14,
   "metadata": {
    "colab": {
     "base_uri": "https://localhost:8080/"
    },
    "executionInfo": {
     "elapsed": 988,
     "status": "ok",
     "timestamp": 1608129119257,
     "user": {
      "displayName": "khalil hennara",
      "photoUrl": "",
      "userId": "12581719381754495507"
     },
     "user_tz": -120
    },
    "id": "cd53Dunl4fYS",
    "outputId": "a5b5fc82-98c6-49c8-9f03-8fbbf38e7d4f"
   },
   "outputs": [
    {
     "name": "stdout",
     "output_type": "stream",
     "text": [
      "Model: \"sequential\"\n",
      "_________________________________________________________________\n",
      "Layer (type)                 Output Shape              Param #   \n",
      "=================================================================\n",
      "embedding (Embedding)        (None, 65, 200)           9164400   \n",
      "_________________________________________________________________\n",
      "global_max_pooling1d (Global (None, 200)               0         \n",
      "_________________________________________________________________\n",
      "dense (Dense)                (None, 32)                6432      \n",
      "_________________________________________________________________\n",
      "dropout (Dropout)            (None, 32)                0         \n",
      "_________________________________________________________________\n",
      "dense_1 (Dense)              (None, 10)                330       \n",
      "_________________________________________________________________\n",
      "dropout_1 (Dropout)          (None, 10)                0         \n",
      "_________________________________________________________________\n",
      "dense_2 (Dense)              (None, 5)                 55        \n",
      "=================================================================\n",
      "Total params: 9,171,217\n",
      "Trainable params: 9,171,217\n",
      "Non-trainable params: 0\n",
      "_________________________________________________________________\n"
     ]
    }
   ],
   "source": [
    "keras.backend.clear_session()\n",
    "embading_dim=200\n",
    "model_1=keras.models.Sequential([\n",
    "                keras.layers.Embedding(input_dim=vocab_size,output_dim=embading_dim,input_length=maxlength,mask_zero=True),\n",
    "                keras.layers.GlobalMaxPool1D(),\n",
    "                keras.layers.Dense(32,activation='relu'),\n",
    "                keras.layers.Dropout(0.2),\n",
    "                keras.layers.Dense(10,activation='relu'),\n",
    "                keras.layers.Dropout(0.2),\n",
    "                keras.layers.Dense(5,activation='softmax')                 \n",
    "])\n",
    "model_1.summary()"
   ]
  },
  {
   "cell_type": "code",
   "execution_count": 15,
   "metadata": {
    "executionInfo": {
     "elapsed": 933,
     "status": "ok",
     "timestamp": 1608129134672,
     "user": {
      "displayName": "khalil hennara",
      "photoUrl": "",
      "userId": "12581719381754495507"
     },
     "user_tz": -120
    },
    "id": "raCpYaHp7mGC"
   },
   "outputs": [],
   "source": [
    "model_1.compile(loss='categorical_crossentropy',optimizer='sgd',metrics=['accuracy'])"
   ]
  },
  {
   "cell_type": "code",
   "execution_count": 33,
   "metadata": {
    "executionInfo": {
     "elapsed": 2161,
     "status": "ok",
     "timestamp": 1608140439953,
     "user": {
      "displayName": "khalil hennara",
      "photoUrl": "",
      "userId": "12581719381754495507"
     },
     "user_tz": -120
    },
    "id": "R59Dvs3371Nv"
   },
   "outputs": [],
   "source": [
    "model_checkpoint=keras.callbacks.ModelCheckpoint('/content/drive/MyDrive/best_model_3.h5',monitor='val_loss',save_best_only=True)"
   ]
  },
  {
   "cell_type": "code",
   "execution_count": 17,
   "metadata": {
    "executionInfo": {
     "elapsed": 717,
     "status": "ok",
     "timestamp": 1608129153997,
     "user": {
      "displayName": "khalil hennara",
      "photoUrl": "",
      "userId": "12581719381754495507"
     },
     "user_tz": -120
    },
    "id": "zFUWdtQU8DZZ"
   },
   "outputs": [],
   "source": [
    "X_train_set,X_val,y_train_set,y_val=model_selection.train_test_split(X_train_set,y_train,test_size=0.2)"
   ]
  },
  {
   "cell_type": "code",
   "execution_count": 18,
   "metadata": {
    "colab": {
     "base_uri": "https://localhost:8080/"
    },
    "executionInfo": {
     "elapsed": 1142,
     "status": "ok",
     "timestamp": 1608129156247,
     "user": {
      "displayName": "khalil hennara",
      "photoUrl": "",
      "userId": "12581719381754495507"
     },
     "user_tz": -120
    },
    "id": "JxHU_zWH8ZVx",
    "outputId": "04416689-de30-495e-a4c2-f3b7c59b8ae3"
   },
   "outputs": [
    {
     "data": {
      "text/plain": [
       "((26329,), (26329, 65))"
      ]
     },
     "execution_count": 18,
     "metadata": {
      "tags": []
     },
     "output_type": "execute_result"
    }
   ],
   "source": [
    "y_train_set.shape,X_train_set.shape"
   ]
  },
  {
   "cell_type": "code",
   "execution_count": 19,
   "metadata": {
    "executionInfo": {
     "elapsed": 1912,
     "status": "ok",
     "timestamp": 1608129164512,
     "user": {
      "displayName": "khalil hennara",
      "photoUrl": "",
      "userId": "12581719381754495507"
     },
     "user_tz": -120
    },
    "id": "yvEqxoMf8me1"
   },
   "outputs": [],
   "source": [
    "y_train_set_cat=keras.utils.to_categorical(y_train_set)\n",
    "y_val_cat=keras.utils.to_categorical(y_val)"
   ]
  },
  {
   "cell_type": "code",
   "execution_count": 20,
   "metadata": {
    "colab": {
     "base_uri": "https://localhost:8080/"
    },
    "executionInfo": {
     "elapsed": 211842,
     "status": "ok",
     "timestamp": 1608129380441,
     "user": {
      "displayName": "khalil hennara",
      "photoUrl": "",
      "userId": "12581719381754495507"
     },
     "user_tz": -120
    },
    "id": "dHhbxt-S85wS",
    "outputId": "78faf43e-77b6-459c-9490-eae9db18cb5a"
   },
   "outputs": [
    {
     "name": "stdout",
     "output_type": "stream",
     "text": [
      "Epoch 1/100\n",
      "412/412 [==============================] - 3s 8ms/step - loss: 1.5859 - accuracy: 0.2662 - val_loss: 1.5720 - val_accuracy: 0.2827\n",
      "Epoch 2/100\n",
      "412/412 [==============================] - 3s 8ms/step - loss: 1.5781 - accuracy: 0.2747 - val_loss: 1.5681 - val_accuracy: 0.2827\n",
      "Epoch 3/100\n",
      "412/412 [==============================] - 3s 8ms/step - loss: 1.5753 - accuracy: 0.2767 - val_loss: 1.5641 - val_accuracy: 0.2827\n",
      "Epoch 4/100\n",
      "412/412 [==============================] - 3s 8ms/step - loss: 1.5729 - accuracy: 0.2761 - val_loss: 1.5614 - val_accuracy: 0.2827\n",
      "Epoch 5/100\n",
      "412/412 [==============================] - 3s 8ms/step - loss: 1.5697 - accuracy: 0.2764 - val_loss: 1.5585 - val_accuracy: 0.2827\n",
      "Epoch 6/100\n",
      "412/412 [==============================] - 3s 8ms/step - loss: 1.5674 - accuracy: 0.2765 - val_loss: 1.5559 - val_accuracy: 0.2827\n",
      "Epoch 7/100\n",
      "412/412 [==============================] - 3s 8ms/step - loss: 1.5638 - accuracy: 0.2779 - val_loss: 1.5515 - val_accuracy: 0.2827\n",
      "Epoch 8/100\n",
      "412/412 [==============================] - 3s 8ms/step - loss: 1.5595 - accuracy: 0.2799 - val_loss: 1.5462 - val_accuracy: 0.2827\n",
      "Epoch 9/100\n",
      "412/412 [==============================] - 3s 8ms/step - loss: 1.5543 - accuracy: 0.2860 - val_loss: 1.5407 - val_accuracy: 0.2906\n",
      "Epoch 10/100\n",
      "412/412 [==============================] - 3s 8ms/step - loss: 1.5492 - accuracy: 0.2928 - val_loss: 1.5343 - val_accuracy: 0.3020\n",
      "Epoch 11/100\n",
      "412/412 [==============================] - 3s 8ms/step - loss: 1.5429 - accuracy: 0.3010 - val_loss: 1.5266 - val_accuracy: 0.3126\n",
      "Epoch 12/100\n",
      "412/412 [==============================] - 3s 8ms/step - loss: 1.5351 - accuracy: 0.3053 - val_loss: 1.5184 - val_accuracy: 0.3185\n",
      "Epoch 13/100\n",
      "412/412 [==============================] - 4s 9ms/step - loss: 1.5256 - accuracy: 0.3107 - val_loss: 1.5077 - val_accuracy: 0.3236\n",
      "Epoch 14/100\n",
      "412/412 [==============================] - 3s 8ms/step - loss: 1.5157 - accuracy: 0.3166 - val_loss: 1.4957 - val_accuracy: 0.3350\n",
      "Epoch 15/100\n",
      "412/412 [==============================] - 3s 8ms/step - loss: 1.5050 - accuracy: 0.3189 - val_loss: 1.4821 - val_accuracy: 0.3365\n",
      "Epoch 16/100\n",
      "412/412 [==============================] - 3s 8ms/step - loss: 1.4893 - accuracy: 0.3286 - val_loss: 1.4665 - val_accuracy: 0.3482\n",
      "Epoch 17/100\n",
      "412/412 [==============================] - 3s 8ms/step - loss: 1.4754 - accuracy: 0.3389 - val_loss: 1.4501 - val_accuracy: 0.3606\n",
      "Epoch 18/100\n",
      "412/412 [==============================] - 3s 8ms/step - loss: 1.4576 - accuracy: 0.3518 - val_loss: 1.4296 - val_accuracy: 0.3693\n",
      "Epoch 19/100\n",
      "412/412 [==============================] - 3s 8ms/step - loss: 1.4366 - accuracy: 0.3661 - val_loss: 1.4067 - val_accuracy: 0.3954\n",
      "Epoch 20/100\n",
      "412/412 [==============================] - 3s 8ms/step - loss: 1.4173 - accuracy: 0.3767 - val_loss: 1.3844 - val_accuracy: 0.4114\n",
      "Epoch 21/100\n",
      "412/412 [==============================] - 3s 8ms/step - loss: 1.3947 - accuracy: 0.3906 - val_loss: 1.3614 - val_accuracy: 0.4259\n",
      "Epoch 22/100\n",
      "412/412 [==============================] - 3s 8ms/step - loss: 1.3744 - accuracy: 0.4028 - val_loss: 1.3395 - val_accuracy: 0.4349\n",
      "Epoch 23/100\n",
      "412/412 [==============================] - 3s 8ms/step - loss: 1.3521 - accuracy: 0.4120 - val_loss: 1.3174 - val_accuracy: 0.4461\n",
      "Epoch 24/100\n",
      "412/412 [==============================] - 3s 8ms/step - loss: 1.3274 - accuracy: 0.4232 - val_loss: 1.2949 - val_accuracy: 0.4595\n",
      "Epoch 25/100\n",
      "412/412 [==============================] - 3s 8ms/step - loss: 1.3069 - accuracy: 0.4328 - val_loss: 1.2757 - val_accuracy: 0.4691\n",
      "Epoch 26/100\n",
      "412/412 [==============================] - 3s 8ms/step - loss: 1.2841 - accuracy: 0.4481 - val_loss: 1.2548 - val_accuracy: 0.4838\n",
      "Epoch 27/100\n",
      "412/412 [==============================] - 3s 8ms/step - loss: 1.2625 - accuracy: 0.4543 - val_loss: 1.2368 - val_accuracy: 0.4972\n",
      "Epoch 28/100\n",
      "412/412 [==============================] - 3s 8ms/step - loss: 1.2441 - accuracy: 0.4744 - val_loss: 1.2158 - val_accuracy: 0.5101\n",
      "Epoch 29/100\n",
      "412/412 [==============================] - 3s 8ms/step - loss: 1.2158 - accuracy: 0.4851 - val_loss: 1.1954 - val_accuracy: 0.5206\n",
      "Epoch 30/100\n",
      "412/412 [==============================] - 3s 8ms/step - loss: 1.1945 - accuracy: 0.4943 - val_loss: 1.1794 - val_accuracy: 0.5291\n",
      "Epoch 31/100\n",
      "412/412 [==============================] - 3s 8ms/step - loss: 1.1782 - accuracy: 0.5069 - val_loss: 1.1592 - val_accuracy: 0.5412\n",
      "Epoch 32/100\n",
      "412/412 [==============================] - 3s 8ms/step - loss: 1.1535 - accuracy: 0.5184 - val_loss: 1.1427 - val_accuracy: 0.5499\n",
      "Epoch 33/100\n",
      "412/412 [==============================] - 3s 8ms/step - loss: 1.1327 - accuracy: 0.5330 - val_loss: 1.1255 - val_accuracy: 0.5607\n",
      "Epoch 34/100\n",
      "412/412 [==============================] - 3s 8ms/step - loss: 1.1084 - accuracy: 0.5465 - val_loss: 1.1078 - val_accuracy: 0.5692\n",
      "Epoch 35/100\n",
      "412/412 [==============================] - 3s 8ms/step - loss: 1.0874 - accuracy: 0.5566 - val_loss: 1.0922 - val_accuracy: 0.5816\n",
      "Epoch 36/100\n",
      "412/412 [==============================] - 3s 8ms/step - loss: 1.0679 - accuracy: 0.5680 - val_loss: 1.0747 - val_accuracy: 0.5876\n",
      "Epoch 37/100\n",
      "412/412 [==============================] - 3s 8ms/step - loss: 1.0434 - accuracy: 0.5778 - val_loss: 1.0619 - val_accuracy: 0.5917\n",
      "Epoch 38/100\n",
      "412/412 [==============================] - 3s 8ms/step - loss: 1.0232 - accuracy: 0.5892 - val_loss: 1.0460 - val_accuracy: 0.6034\n",
      "Epoch 39/100\n",
      "412/412 [==============================] - 3s 8ms/step - loss: 1.0024 - accuracy: 0.5987 - val_loss: 1.0324 - val_accuracy: 0.6063\n",
      "Epoch 40/100\n",
      "412/412 [==============================] - 3s 8ms/step - loss: 0.9758 - accuracy: 0.6125 - val_loss: 1.0195 - val_accuracy: 0.6195\n",
      "Epoch 41/100\n",
      "412/412 [==============================] - 3s 8ms/step - loss: 0.9576 - accuracy: 0.6216 - val_loss: 1.0044 - val_accuracy: 0.6263\n",
      "Epoch 42/100\n",
      "412/412 [==============================] - 3s 8ms/step - loss: 0.9408 - accuracy: 0.6300 - val_loss: 0.9938 - val_accuracy: 0.6263\n",
      "Epoch 43/100\n",
      "412/412 [==============================] - 3s 8ms/step - loss: 0.9205 - accuracy: 0.6353 - val_loss: 0.9806 - val_accuracy: 0.6385\n",
      "Epoch 44/100\n",
      "412/412 [==============================] - 4s 9ms/step - loss: 0.8996 - accuracy: 0.6459 - val_loss: 0.9727 - val_accuracy: 0.6423\n",
      "Epoch 45/100\n",
      "412/412 [==============================] - 3s 8ms/step - loss: 0.8819 - accuracy: 0.6552 - val_loss: 0.9619 - val_accuracy: 0.6508\n",
      "Epoch 46/100\n",
      "412/412 [==============================] - 3s 8ms/step - loss: 0.8608 - accuracy: 0.6652 - val_loss: 0.9534 - val_accuracy: 0.6567\n",
      "Epoch 47/100\n",
      "412/412 [==============================] - 3s 8ms/step - loss: 0.8430 - accuracy: 0.6733 - val_loss: 0.9435 - val_accuracy: 0.6532\n",
      "Epoch 48/100\n",
      "412/412 [==============================] - 3s 8ms/step - loss: 0.8200 - accuracy: 0.6829 - val_loss: 0.9409 - val_accuracy: 0.6497\n",
      "Epoch 49/100\n",
      "412/412 [==============================] - 3s 8ms/step - loss: 0.8023 - accuracy: 0.6875 - val_loss: 0.9275 - val_accuracy: 0.6643\n",
      "Epoch 50/100\n",
      "412/412 [==============================] - 3s 8ms/step - loss: 0.7851 - accuracy: 0.6963 - val_loss: 0.9191 - val_accuracy: 0.6644\n",
      "Epoch 51/100\n",
      "412/412 [==============================] - 3s 8ms/step - loss: 0.7642 - accuracy: 0.7056 - val_loss: 0.9147 - val_accuracy: 0.6734\n",
      "Epoch 52/100\n",
      "412/412 [==============================] - 3s 8ms/step - loss: 0.7498 - accuracy: 0.7119 - val_loss: 0.9084 - val_accuracy: 0.6664\n",
      "Epoch 53/100\n",
      "412/412 [==============================] - 3s 8ms/step - loss: 0.7261 - accuracy: 0.7228 - val_loss: 0.9045 - val_accuracy: 0.6760\n",
      "Epoch 54/100\n",
      "412/412 [==============================] - 3s 8ms/step - loss: 0.7121 - accuracy: 0.7312 - val_loss: 0.8997 - val_accuracy: 0.6792\n",
      "Epoch 55/100\n",
      "412/412 [==============================] - 3s 8ms/step - loss: 0.6939 - accuracy: 0.7403 - val_loss: 0.8996 - val_accuracy: 0.6749\n",
      "Epoch 56/100\n",
      "412/412 [==============================] - 3s 8ms/step - loss: 0.6811 - accuracy: 0.7453 - val_loss: 0.8972 - val_accuracy: 0.6804\n",
      "Epoch 57/100\n",
      "412/412 [==============================] - 3s 8ms/step - loss: 0.6600 - accuracy: 0.7553 - val_loss: 0.8929 - val_accuracy: 0.6810\n",
      "Epoch 58/100\n",
      "412/412 [==============================] - 3s 7ms/step - loss: 0.6443 - accuracy: 0.7578 - val_loss: 0.8936 - val_accuracy: 0.6846\n",
      "Epoch 59/100\n",
      "412/412 [==============================] - 3s 8ms/step - loss: 0.6277 - accuracy: 0.7672 - val_loss: 0.8920 - val_accuracy: 0.6830\n",
      "Epoch 60/100\n",
      "412/412 [==============================] - 3s 8ms/step - loss: 0.6140 - accuracy: 0.7743 - val_loss: 0.8914 - val_accuracy: 0.6778\n",
      "Epoch 61/100\n",
      "412/412 [==============================] - 3s 8ms/step - loss: 0.5963 - accuracy: 0.7802 - val_loss: 0.8972 - val_accuracy: 0.6748\n",
      "Epoch 62/100\n",
      "412/412 [==============================] - 3s 8ms/step - loss: 0.5851 - accuracy: 0.7825 - val_loss: 0.8972 - val_accuracy: 0.6836\n",
      "Epoch 63/100\n",
      "412/412 [==============================] - 3s 8ms/step - loss: 0.5683 - accuracy: 0.7922 - val_loss: 0.8964 - val_accuracy: 0.6834\n",
      "Epoch 64/100\n",
      "412/412 [==============================] - 3s 7ms/step - loss: 0.5479 - accuracy: 0.8008 - val_loss: 0.9049 - val_accuracy: 0.6770\n",
      "Epoch 65/100\n",
      "412/412 [==============================] - 3s 7ms/step - loss: 0.5341 - accuracy: 0.8065 - val_loss: 0.9045 - val_accuracy: 0.6781\n"
     ]
    }
   ],
   "source": [
    "history_2=model_1.fit(X_train_set,y_train_set_cat,epochs=100,validation_data=(X_val,y_val_cat),batch_size=64,callbacks=[model_checkpoint,erlay_stop])"
   ]
  },
  {
   "cell_type": "code",
   "execution_count": 21,
   "metadata": {
    "executionInfo": {
     "elapsed": 1434,
     "status": "ok",
     "timestamp": 1608129412027,
     "user": {
      "displayName": "khalil hennara",
      "photoUrl": "",
      "userId": "12581719381754495507"
     },
     "user_tz": -120
    },
    "id": "TG6SV3lm-wNW"
   },
   "outputs": [],
   "source": [
    "model_1=keras.models.load_model('/content/drive/MyDrive/best_model_2.h5')"
   ]
  },
  {
   "cell_type": "code",
   "execution_count": 22,
   "metadata": {
    "executionInfo": {
     "elapsed": 691,
     "status": "ok",
     "timestamp": 1608129453308,
     "user": {
      "displayName": "khalil hennara",
      "photoUrl": "",
      "userId": "12581719381754495507"
     },
     "user_tz": -120
    },
    "id": "oCobQ0vb-4lh"
   },
   "outputs": [],
   "source": [
    "y_test_cat=keras.utils.to_categorical(y_test)"
   ]
  },
  {
   "cell_type": "code",
   "execution_count": 25,
   "metadata": {
    "colab": {
     "base_uri": "https://localhost:8080/",
     "height": 371
    },
    "executionInfo": {
     "elapsed": 2337,
     "status": "ok",
     "timestamp": 1608129494800,
     "user": {
      "displayName": "khalil hennara",
      "photoUrl": "",
      "userId": "12581719381754495507"
     },
     "user_tz": -120
    },
    "id": "BsT5-Eue9Vzl",
    "outputId": "230a8a5c-9ea7-4935-b3d7-d5b8df00f45c"
   },
   "outputs": [
    {
     "name": "stdout",
     "output_type": "stream",
     "text": [
      "Training Accuracy: 0.8637\n",
      "Testing Accuracy:  0.6946\n"
     ]
    },
    {
     "data": {
      "image/png": "[encoded data removed]",
      "text/plain": [
       "<Figure size 864x360 with 2 Axes>"
      ]
     },
     "metadata": {
      "needs_background": "light",
      "tags": []
     },
     "output_type": "display_data"
    }
   ],
   "source": [
    "loss, accuracy = model_1.evaluate(X_train_set, y_train_set_cat, verbose=False)\n",
    "print(\"Training Accuracy: {:.4f}\".format(accuracy))\n",
    "loss, accuracy = model_1.evaluate(X_test_set, y_test_cat, verbose=False)\n",
    "print(\"Testing Accuracy:  {:.4f}\".format(accuracy))\n",
    "plot_history(history_2)"
   ]
  },
  {
   "cell_type": "markdown",
   "metadata": {
    "executionInfo": {
     "elapsed": 733,
     "status": "ok",
     "timestamp": 1608129523378,
     "user": {
      "displayName": "khalil hennara",
      "photoUrl": "",
      "userId": "12581719381754495507"
     },
     "user_tz": -120
    },
    "id": "tOW_rV1M-ZBZ"
   },
   "source": [
    "we get better result with this model but we can do better\n",
    "\n",
    "before we use **LSTM** the best choice for sequnce model we will use pre training embading model"
   ]
  },
  {
   "cell_type": "code",
   "execution_count": 28,
   "metadata": {
    "colab": {
     "base_uri": "https://localhost:8080/"
    },
    "executionInfo": {
     "elapsed": 1016888,
     "status": "ok",
     "timestamp": 1608130553213,
     "user": {
      "displayName": "khalil hennara",
      "photoUrl": "",
      "userId": "12581719381754495507"
     },
     "user_tz": -120
    },
    "id": "U3E1hhYeLC14",
    "outputId": "500692d3-c46a-4a42-b1c4-f4d4328b72c9"
   },
   "outputs": [
    {
     "name": "stdout",
     "output_type": "stream",
     "text": [
      "--2020-12-16 14:38:56--  http://downloads.cs.stanford.edu/nlp/data/glove.840B.300d.zip\n",
      "Resolving downloads.cs.stanford.edu (downloads.cs.stanford.edu)... 171.64.64.22\n",
      "Connecting to downloads.cs.stanford.edu (downloads.cs.stanford.edu)|171.64.64.22|:80... connected.\n",
      "HTTP request sent, awaiting response... 200 OK\n",
      "Length: 2176768927 (2.0G) [application/zip]\n",
      "Saving to: ‘glove.840B.300d.zip’\n",
      "\n",
      "glove.840B.300d.zip 100%[===================>]   2.03G  1.90MB/s    in 16m 56s \n",
      "\n",
      "2020-12-16 14:55:52 (2.04 MB/s) - ‘glove.840B.300d.zip’ saved [2176768927/2176768927]\n",
      "\n"
     ]
    }
   ],
   "source": [
    "! wget http://downloads.cs.stanford.edu/nlp/data/glove.840B.300d.zip"
   ]
  },
  {
   "cell_type": "code",
   "execution_count": 22,
   "metadata": {
    "executionInfo": {
     "elapsed": 48363,
     "status": "ok",
     "timestamp": 1608140149691,
     "user": {
      "displayName": "khalil hennara",
      "photoUrl": "",
      "userId": "12581719381754495507"
     },
     "user_tz": -120
    },
    "id": "DMwFjXzJwyse"
   },
   "outputs": [],
   "source": [
    "!unzip -q /content/drive/MyDrive/glove.6B.zip"
   ]
  },
  {
   "cell_type": "code",
   "execution_count": 6,
   "metadata": {
    "colab": {
     "base_uri": "https://localhost:8080/"
    },
    "executionInfo": {
     "elapsed": 27511,
     "status": "ok",
     "timestamp": 1608142745348,
     "user": {
      "displayName": "khalil hennara",
      "photoUrl": "",
      "userId": "12581719381754495507"
     },
     "user_tz": -120
    },
    "id": "lknfAHj7Fsu_",
    "outputId": "cce7cd1c-ba66-4983-e545-3bf67e8b67ea"
   },
   "outputs": [
    {
     "name": "stdout",
     "output_type": "stream",
     "text": [
      "Found 400000 word vector\n"
     ]
    }
   ],
   "source": [
    "embading_index={}\n",
    "path = '/content/glove.6B.300d.txt'\n",
    "with open(path) as f:\n",
    "  for line in f:\n",
    "    key,value=line.split(maxsplit=1)\n",
    "    value=np.fromstring(value,\"f\",sep=\" \")\n",
    "    embading_index[key]=value\n",
    "\n",
    "print(\"Found {} word vector\".format(len(embading_index)))"
   ]
  },
  {
   "cell_type": "code",
   "execution_count": 26,
   "metadata": {
    "colab": {
     "base_uri": "https://localhost:8080/"
    },
    "executionInfo": {
     "elapsed": 749,
     "status": "ok",
     "timestamp": 1608140286675,
     "user": {
      "displayName": "khalil hennara",
      "photoUrl": "",
      "userId": "12581719381754495507"
     },
     "user_tz": -120
    },
    "id": "5wgvRHmJoLZg",
    "outputId": "4b19def2-4beb-48be-b1b6-efe76655f262"
   },
   "outputs": [
    {
     "data": {
      "text/plain": [
       "{'the': 1,\n",
       " 'to': 2,\n",
       " '\\r': 3,\n",
       " 'and': 4,\n",
       " 'of': 5,\n",
       " 'in': 6,\n",
       " 'a': 7,\n",
       " 'coronavirus': 8,\n",
       " '19': 9,\n",
       " 'covid': 10,\n",
       " 'is': 11,\n",
       " 'for': 12,\n",
       " 'are': 13,\n",
       " 'i': 14,\n",
       " 'you': 15,\n",
       " 'on': 16,\n",
       " 'this': 17,\n",
       " 'prices': 18,\n",
       " 'at': 19,\n",
       " 'food': 20,\n",
       " 'supermarket': 21,\n",
       " 'store': 22,\n",
       " 'have': 23,\n",
       " 'with': 24,\n",
       " 'it': 25,\n",
       " 'we': 26,\n",
       " 'not': 27,\n",
       " 'that': 28,\n",
       " 'grocery': 29,\n",
       " 'as': 30,\n",
       " 'be': 31,\n",
       " 'people': 32,\n",
       " 'from': 33,\n",
       " 'all': 34,\n",
       " 'will': 35,\n",
       " 'covid19': 36,\n",
       " 'consumer': 37,\n",
       " 'your': 38,\n",
       " 'my': 39,\n",
       " 'they': 40,\n",
       " 'our': 41,\n",
       " 'up': 42,\n",
       " 'out': 43,\n",
       " 'has': 44,\n",
       " 'can': 45,\n",
       " 'by': 46,\n",
       " 'or': 47,\n",
       " 'more': 48,\n",
       " 'but': 49,\n",
       " 'shopping': 50,\n",
       " 'if': 51,\n",
       " 'online': 52,\n",
       " 'how': 53,\n",
       " 'do': 54,\n",
       " 'their': 55,\n",
       " 'during': 56,\n",
       " 'so': 57,\n",
       " 'pandemic': 58,\n",
       " 'now': 59,\n",
       " 'no': 60,\n",
       " 'get': 61,\n",
       " 'what': 62,\n",
       " 'about': 63,\n",
       " 'need': 64,\n",
       " 'who': 65,\n",
       " 'just': 66,\n",
       " 'panic': 67,\n",
       " 'workers': 68,\n",
       " 'us': 69,\n",
       " 'like': 70,\n",
       " 'sanitizer': 71,\n",
       " 'time': 72,\n",
       " 'was': 73,\n",
       " 'an': 74,\n",
       " 'when': 75,\n",
       " 'demand': 76,\n",
       " 'home': 77,\n",
       " 'there': 78,\n",
       " 'go': 79,\n",
       " 's': 80,\n",
       " 'some': 81,\n",
       " 'hand': 82,\n",
       " 'help': 83,\n",
       " 'stock': 84,\n",
       " 'going': 85,\n",
       " 'one': 86,\n",
       " 'due': 87,\n",
       " 'me': 88,\n",
       " 'been': 89,\n",
       " 'buying': 90,\n",
       " 'here': 91,\n",
       " 'oil': 92,\n",
       " 'new': 93,\n",
       " 'please': 94,\n",
       " 'work': 95,\n",
       " 'covid2019': 96,\n",
       " 'crisis': 97,\n",
       " 'toiletpaper': 98,\n",
       " 'them': 99,\n",
       " '2': 100,\n",
       " 'because': 101,\n",
       " 'toilet': 102,\n",
       " 'only': 103,\n",
       " 'other': 104,\n",
       " 'after': 105,\n",
       " 'these': 106,\n",
       " 'should': 107,\n",
       " 'than': 108,\n",
       " 'retail': 109,\n",
       " 'paper': 110,\n",
       " 'over': 111,\n",
       " 'local': 112,\n",
       " 'stay': 113,\n",
       " 'am': 114,\n",
       " 'via': 115,\n",
       " 'buy': 116,\n",
       " 'keep': 117,\n",
       " 'stores': 118,\n",
       " '1': 119,\n",
       " 'many': 120,\n",
       " 'today': 121,\n",
       " 'amp': 122,\n",
       " 'being': 123,\n",
       " 'still': 124,\n",
       " 'shelves': 125,\n",
       " 'make': 126,\n",
       " 'delivery': 127,\n",
       " 'see': 128,\n",
       " 'down': 129,\n",
       " 'would': 130,\n",
       " 'those': 131,\n",
       " 'know': 132,\n",
       " 'day': 133,\n",
       " 'take': 134,\n",
       " 'why': 135,\n",
       " 'lockdown': 136,\n",
       " 'its': 137,\n",
       " 'supply': 138,\n",
       " 'health': 139,\n",
       " 'could': 140,\n",
       " 'into': 141,\n",
       " 'stop': 142,\n",
       " 'staff': 143,\n",
       " 'any': 144,\n",
       " 'virus': 145,\n",
       " 'even': 146,\n",
       " 't': 147,\n",
       " 'outbreak': 148,\n",
       " 'while': 149,\n",
       " '3': 150,\n",
       " 'social': 151,\n",
       " 'everyone': 152,\n",
       " 'price': 153,\n",
       " 'had': 154,\n",
       " 'also': 155,\n",
       " 'working': 156,\n",
       " 'masks': 157,\n",
       " 'essential': 158,\n",
       " 'business': 159,\n",
       " 'use': 160,\n",
       " 'week': 161,\n",
       " 'world': 162,\n",
       " 'market': 163,\n",
       " 'were': 164,\n",
       " 'good': 165,\n",
       " 'think': 166,\n",
       " 'amid': 167,\n",
       " 'spread': 168,\n",
       " 'shop': 169,\n",
       " 'safe': 170,\n",
       " 'most': 171,\n",
       " 'way': 172,\n",
       " 'thank': 173,\n",
       " 'customers': 174,\n",
       " 'socialdistancing': 175,\n",
       " 'impact': 176,\n",
       " 'off': 177,\n",
       " 'right': 178,\n",
       " 'government': 179,\n",
       " 'may': 180,\n",
       " 'he': 181,\n",
       " 'back': 182,\n",
       " 'much': 183,\n",
       " 'which': 184,\n",
       " 'employees': 185,\n",
       " 'first': 186,\n",
       " 'before': 187,\n",
       " 'items': 188,\n",
       " 'products': 189,\n",
       " 'every': 190,\n",
       " 'doing': 191,\n",
       " 'supplies': 192,\n",
       " 'times': 193,\n",
       " 'free': 194,\n",
       " 'news': 195,\n",
       " 'last': 196,\n",
       " 'well': 197,\n",
       " 'mask': 198,\n",
       " 'where': 199,\n",
       " 'high': 200,\n",
       " 'want': 201,\n",
       " 'read': 202,\n",
       " 'coronacrisis': 203,\n",
       " 'quarantine': 204,\n",
       " 'find': 205,\n",
       " 'around': 206,\n",
       " 'corona': 207,\n",
       " 'face': 208,\n",
       " 'global': 209,\n",
       " 'support': 210,\n",
       " 'low': 211,\n",
       " 'itâ\\x92s': 212,\n",
       " 'got': 213,\n",
       " '4': 214,\n",
       " 'days': 215,\n",
       " 'supermarkets': 216,\n",
       " 'through': 217,\n",
       " 'said': 218,\n",
       " 'public': 219,\n",
       " 'then': 220,\n",
       " 'risk': 221,\n",
       " 'gas': 222,\n",
       " 'says': 223,\n",
       " 'too': 224,\n",
       " 'empty': 225,\n",
       " 'cannot': 226,\n",
       " 'open': 227,\n",
       " 'distancing': 228,\n",
       " 'u': 229,\n",
       " 'weeks': 230,\n",
       " 'getting': 231,\n",
       " 'economy': 232,\n",
       " 'uk': 233,\n",
       " 'really': 234,\n",
       " 'companies': 235,\n",
       " 'money': 236,\n",
       " 'donâ\\x92t': 237,\n",
       " 'since': 238,\n",
       " 'went': 239,\n",
       " 'say': 240,\n",
       " 'long': 241,\n",
       " 'businesses': 242,\n",
       " 'very': 243,\n",
       " 'order': 244,\n",
       " 'great': 245,\n",
       " 'consumers': 246,\n",
       " 'making': 247,\n",
       " 'care': 248,\n",
       " 'two': 249,\n",
       " 'things': 250,\n",
       " 'enough': 251,\n",
       " 'iâ\\x92m': 252,\n",
       " 'line': 253,\n",
       " 'country': 254,\n",
       " '2020': 255,\n",
       " 'she': 256,\n",
       " '5': 257,\n",
       " 'look': 258,\n",
       " 'her': 259,\n",
       " 'march': 260,\n",
       " 'full': 261,\n",
       " 'next': 262,\n",
       " 'let': 263,\n",
       " 'others': 264,\n",
       " 'available': 265,\n",
       " 're': 266,\n",
       " 'services': 267,\n",
       " 'his': 268,\n",
       " 'did': 269,\n",
       " 'shops': 270,\n",
       " 'service': 271,\n",
       " 'pay': 272,\n",
       " 'against': 273,\n",
       " 'medical': 274,\n",
       " '10': 275,\n",
       " 'hands': 276,\n",
       " 'check': 277,\n",
       " 'hours': 278,\n",
       " 'anyone': 279,\n",
       " 'taking': 280,\n",
       " 'come': 281,\n",
       " 'family': 282,\n",
       " 'gloves': 283,\n",
       " 'across': 284,\n",
       " 'does': 285,\n",
       " 'chain': 286,\n",
       " 'put': 287,\n",
       " 'must': 288,\n",
       " 'industry': 289,\n",
       " 'life': 290,\n",
       " 'markets': 291,\n",
       " 'year': 292,\n",
       " 'response': 293,\n",
       " 'increase': 294,\n",
       " 'self': 295,\n",
       " 'everything': 296,\n",
       " 'needs': 297,\n",
       " 'few': 298,\n",
       " '000': 299,\n",
       " 'hoarding': 300,\n",
       " 'report': 301,\n",
       " 'trump': 302,\n",
       " 'fight': 303,\n",
       " 'trying': 304,\n",
       " 'economic': 305,\n",
       " 'china': 306,\n",
       " 'goods': 307,\n",
       " 'groceries': 308,\n",
       " 'closed': 309,\n",
       " 'same': 310,\n",
       " 'house': 311,\n",
       " 'state': 312,\n",
       " 'sure': 313,\n",
       " 'thing': 314,\n",
       " 'best': 315,\n",
       " 'protect': 316,\n",
       " 'big': 317,\n",
       " 'etc': 318,\n",
       " 'without': 319,\n",
       " 'give': 320,\n",
       " 'emergency': 321,\n",
       " 'increased': 322,\n",
       " 'thanks': 323,\n",
       " 'community': 324,\n",
       " 'coronavirus\\r': 325,\n",
       " 'vulnerable': 326,\n",
       " 'never': 327,\n",
       " 'drivers': 328,\n",
       " 'small': 329,\n",
       " 'per': 330,\n",
       " 'already': 331,\n",
       " 'sales': 332,\n",
       " '20': 333,\n",
       " 'elderly': 334,\n",
       " 'post': 335,\n",
       " 'close': 336,\n",
       " 'continue': 337,\n",
       " 'scams': 338,\n",
       " 'live': 339,\n",
       " 'stayhome': 340,\n",
       " 'having': 341,\n",
       " 'made': 342,\n",
       " 'each': 343,\n",
       " 'real': 344,\n",
       " '6': 345,\n",
       " 'seen': 346,\n",
       " 'banks': 347,\n",
       " 'someone': 348,\n",
       " 'call': 349,\n",
       " 'job': 350,\n",
       " 'hard': 351,\n",
       " 'situation': 352,\n",
       " 'place': 353,\n",
       " 'latest': 354,\n",
       " 'canâ\\x92t': 355,\n",
       " 'shoppers': 356,\n",
       " 'healthcare': 357,\n",
       " 'hope': 358,\n",
       " 'better': 359,\n",
       " 'another': 360,\n",
       " 'behavior': 361,\n",
       " 'cases': 362,\n",
       " 'able': 363,\n",
       " 'such': 364,\n",
       " 'looking': 365,\n",
       " 'data': 366,\n",
       " 'together': 367,\n",
       " 'share': 368,\n",
       " 'coronavirusoutbreak': 369,\n",
       " 'coronaviruspandemic': 370,\n",
       " 'drop': 371,\n",
       " 'person': 372,\n",
       " 'away': 373,\n",
       " 'water': 374,\n",
       " 'left': 375,\n",
       " 'lot': 376,\n",
       " 'production': 377,\n",
       " 'protection': 378,\n",
       " 'retailers': 379,\n",
       " 'using': 380,\n",
       " 'part': 381,\n",
       " 'amazon': 382,\n",
       " 'avoid': 383,\n",
       " 'important': 384,\n",
       " 'hit': 385,\n",
       " 'selling': 386,\n",
       " 'don': 387,\n",
       " 'front': 388,\n",
       " 'morning': 389,\n",
       " 'own': 390,\n",
       " 'current': 391,\n",
       " 'coming': 392,\n",
       " 'nhs': 393,\n",
       " 'learn': 394,\n",
       " 'information': 395,\n",
       " 'under': 396,\n",
       " 'daily': 397,\n",
       " 'positive': 398,\n",
       " 'financial': 399,\n",
       " 'change': 400,\n",
       " 'ever': 401,\n",
       " 'bank': 402,\n",
       " 'spending': 403,\n",
       " 'jobs': 404,\n",
       " 'run': 405,\n",
       " 'end': 406,\n",
       " 'else': 407,\n",
       " 'less': 408,\n",
       " 'least': 409,\n",
       " 'outside': 410,\n",
       " 'essentials': 411,\n",
       " 'normal': 412,\n",
       " 'measures': 413,\n",
       " 'until': 414,\n",
       " 'stayathome': 415,\n",
       " 'again': 416,\n",
       " 'key': 417,\n",
       " 'company': 418,\n",
       " 'safety': 419,\n",
       " 'might': 420,\n",
       " 'start': 421,\n",
       " 'list': 422,\n",
       " 'nothing': 423,\n",
       " 'related': 424,\n",
       " 'leave': 425,\n",
       " 'wash': 426,\n",
       " 'told': 427,\n",
       " 'little': 428,\n",
       " 'milk': 429,\n",
       " 'panicbuying': 430,\n",
       " 'â\\x94': 431,\n",
       " 'thought': 432,\n",
       " 'done': 433,\n",
       " 'man': 434,\n",
       " 'stayhomesavelives': 435,\n",
       " 'something': 436,\n",
       " 'remember': 437,\n",
       " 'feel': 438,\n",
       " 'contact': 439,\n",
       " 'cut': 440,\n",
       " 'police': 441,\n",
       " 'wearing': 442,\n",
       " '7': 443,\n",
       " '100': 444,\n",
       " 'soap': 445,\n",
       " 'shortage': 446,\n",
       " 'tips': 447,\n",
       " 'fall': 448,\n",
       " 'years': 449,\n",
       " 'april': 450,\n",
       " 'sick': 451,\n",
       " 'restaurants': 452,\n",
       " 'yet': 453,\n",
       " 'meet': 454,\n",
       " 'seeing': 455,\n",
       " 'months': 456,\n",
       " 'lives': 457,\n",
       " 'access': 458,\n",
       " 'keeping': 459,\n",
       " 'running': 460,\n",
       " 'families': 461,\n",
       " 'helping': 462,\n",
       " 'video': 463,\n",
       " 'old': 464,\n",
       " 'wear': 465,\n",
       " 'month': 466,\n",
       " 'travel': 467,\n",
       " 'm': 468,\n",
       " '50': 469,\n",
       " 'doctors': 470,\n",
       " 'alcohol': 471,\n",
       " 'farmers': 472,\n",
       " '30': 473,\n",
       " 'needed': 474,\n",
       " 'isolation': 475,\n",
       " 'distance': 476,\n",
       " 'roll': 477,\n",
       " 'stophoarding': 478,\n",
       " 'chains': 479,\n",
       " 'instead': 480,\n",
       " 'update': 481,\n",
       " 'likely': 482,\n",
       " 'india': 483,\n",
       " '8': 484,\n",
       " 'reports': 485,\n",
       " 'lower': 486,\n",
       " 'rise': 487,\n",
       " 'worker': 488,\n",
       " 'bad': 489,\n",
       " 'including': 490,\n",
       " 'americans': 491,\n",
       " 'follow': 492,\n",
       " 'used': 493,\n",
       " 'coronavirusupdate': 494,\n",
       " 'provide': 495,\n",
       " 'possible': 496,\n",
       " 'higher': 497,\n",
       " 'based': 498,\n",
       " 'once': 499,\n",
       " 'nurses': 500,\n",
       " 'visit': 501,\n",
       " 'always': 502,\n",
       " 'soon': 503,\n",
       " 'try': 504,\n",
       " 'found': 505,\n",
       " 'shortages': 506,\n",
       " 'media': 507,\n",
       " 'number': 508,\n",
       " 'set': 509,\n",
       " 'non': 510,\n",
       " 'watch': 511,\n",
       " 'bought': 512,\n",
       " 'offering': 513,\n",
       " 'lines': 514,\n",
       " 'tp': 515,\n",
       " 'govt': 516,\n",
       " 'stocked': 517,\n",
       " 'sanitizers': 518,\n",
       " 'selfish': 519,\n",
       " 'drive': 520,\n",
       " 'love': 521,\n",
       " 'putting': 522,\n",
       " 'especially': 523,\n",
       " 'healthy': 524,\n",
       " 'hospital': 525,\n",
       " 'yesterday': 526,\n",
       " 'far': 527,\n",
       " 'gone': 528,\n",
       " 'affected': 529,\n",
       " 'produce': 530,\n",
       " 'friends': 531,\n",
       " 'city': 532,\n",
       " 'prevent': 533,\n",
       " 'anything': 534,\n",
       " 'e': 535,\n",
       " 'testing': 536,\n",
       " 'advice': 537,\n",
       " 'gouging': 538,\n",
       " 'yourself': 539,\n",
       " 'changes': 540,\n",
       " 'ensure': 541,\n",
       " 'paid': 542,\n",
       " 'meat': 543,\n",
       " 'major': 544,\n",
       " 'covid19uk': 545,\n",
       " 'pharmacy': 546,\n",
       " 'between': 547,\n",
       " 'brands': 548,\n",
       " 'relief': 549,\n",
       " 'test': 550,\n",
       " 'car': 551,\n",
       " 'special': 552,\n",
       " 'orders': 553,\n",
       " '19\\r': 554,\n",
       " 'advantage': 555,\n",
       " 'hour': 556,\n",
       " 'almost': 557,\n",
       " 'states': 558,\n",
       " 'eat': 559,\n",
       " 'deal': 560,\n",
       " 'staying': 561,\n",
       " 'reduce': 562,\n",
       " 'saw': 563,\n",
       " 'result': 564,\n",
       " 'area': 565,\n",
       " 'system': 566,\n",
       " 'works': 567,\n",
       " 'stoppanicbuying': 568,\n",
       " 'whole': 569,\n",
       " 'article': 570,\n",
       " 'â\\x97': 571,\n",
       " 'surge': 572,\n",
       " 'case': 573,\n",
       " 'waiting': 574,\n",
       " 'credit': 575,\n",
       " 'website': 576,\n",
       " 'sell': 577,\n",
       " 'show': 578,\n",
       " 'below': 579,\n",
       " 'kids': 580,\n",
       " 'remain': 581,\n",
       " 'story': 582,\n",
       " 'youâ\\x92re': 583,\n",
       " 'despite': 584,\n",
       " 'following': 585,\n",
       " 'fresh': 586,\n",
       " 'understand': 587,\n",
       " 'tested': 588,\n",
       " 'saying': 589,\n",
       " 'fear': 590,\n",
       " 'given': 591,\n",
       " '15': 592,\n",
       " 'limit': 593,\n",
       " 'die': 594,\n",
       " 'wait': 595,\n",
       " 'million': 596,\n",
       " 'heroes': 597,\n",
       " 'bread': 598,\n",
       " 'staysafe': 599,\n",
       " 'marketing': 600,\n",
       " 'security': 601,\n",
       " 'control': 602,\n",
       " 'countries': 603,\n",
       " 'customer': 604,\n",
       " 'tell': 605,\n",
       " 'sold': 606,\n",
       " 'means': 607,\n",
       " '9': 608,\n",
       " 'info': 609,\n",
       " 'struggling': 610,\n",
       " 'extra': 611,\n",
       " 'shut': 612,\n",
       " 'difficult': 613,\n",
       " 'ask': 614,\n",
       " 'point': 615,\n",
       " 'join': 616,\n",
       " 'scammers': 617,\n",
       " 'huge': 618,\n",
       " 'cash': 619,\n",
       " 'top': 620,\n",
       " 'early': 621,\n",
       " 'stuff': 622,\n",
       " 'three': 623,\n",
       " 'actually': 624,\n",
       " 'rolls': 625,\n",
       " 'caused': 626,\n",
       " 'announced': 627,\n",
       " 'cost': 628,\n",
       " 'quarantinelife': 629,\n",
       " 'italy': 630,\n",
       " 'war': 631,\n",
       " 'ecommerce': 632,\n",
       " 'increasing': 633,\n",
       " 'iâ\\x92ve': 634,\n",
       " 'stocks': 635,\n",
       " 'â\\x96': 636,\n",
       " 'different': 637,\n",
       " '12': 638,\n",
       " 'walmart': 639,\n",
       " 'handsanitizer': 640,\n",
       " 'product': 641,\n",
       " 'facing': 642,\n",
       " 'changing': 643,\n",
       " 'save': 644,\n",
       " 'clean': 645,\n",
       " 'russia': 646,\n",
       " 'energy': 647,\n",
       " 'restaurant': 648,\n",
       " 'critical': 649,\n",
       " 'survive': 650,\n",
       " 'kind': 651,\n",
       " 'queue': 652,\n",
       " 'trip': 653,\n",
       " 'spreading': 654,\n",
       " 'maybe': 655,\n",
       " 'personal': 656,\n",
       " 'eggs': 657,\n",
       " 'weâ\\x92re': 658,\n",
       " 'currently': 659,\n",
       " 'themselves': 660,\n",
       " 'moment': 661,\n",
       " 'closing': 662,\n",
       " 'become': 663,\n",
       " 'idea': 664,\n",
       " 'bring': 665,\n",
       " 'shift': 666,\n",
       " 'mean': 667,\n",
       " 'basic': 668,\n",
       " 'period': 669,\n",
       " 'lost': 670,\n",
       " 'ago': 671,\n",
       " 'woman': 672,\n",
       " 'drug': 673,\n",
       " 'him': 674,\n",
       " 'started': 675,\n",
       " 'both': 676,\n",
       " 'cause': 677,\n",
       " 'national': 678,\n",
       " 'taken': 679,\n",
       " 'ways': 680,\n",
       " 'experts': 681,\n",
       " 'yes': 682,\n",
       " 'gold': 683,\n",
       " 'cleaning': 684,\n",
       " 'fuel': 685,\n",
       " 'restrictions': 686,\n",
       " 'sector': 687,\n",
       " 'shit': 688,\n",
       " 'purchase': 689,\n",
       " 'inside': 690,\n",
       " 'buyers': 691,\n",
       " 'employee': 692,\n",
       " 'consider': 693,\n",
       " 'america': 694,\n",
       " 'fast': 695,\n",
       " 'future': 696,\n",
       " 'giving': 697,\n",
       " 'asked': 698,\n",
       " 'seriously': 699,\n",
       " 'trends': 700,\n",
       " 'group': 701,\n",
       " 'trade': 702,\n",
       " 'further': 703,\n",
       " 'pick': 704,\n",
       " 've': 705,\n",
       " 'nation': 706,\n",
       " 'short': 707,\n",
       " 'research': 708,\n",
       " 'plan': 709,\n",
       " 'canada': 710,\n",
       " '25': 711,\n",
       " 'team': 712,\n",
       " 'shows': 713,\n",
       " 'guys': 714,\n",
       " 'crazy': 715,\n",
       " 'reduced': 716,\n",
       " 'closures': 717,\n",
       " 'stockpiling': 718,\n",
       " 'term': 719,\n",
       " 'sign': 720,\n",
       " 'offer': 721,\n",
       " 'large': 722,\n",
       " 'ppl': 723,\n",
       " 'fears': 724,\n",
       " 'office': 725,\n",
       " 'makes': 726,\n",
       " 'tomorrow': 727,\n",
       " 'recent': 728,\n",
       " 'alert': 729,\n",
       " 'hey': 730,\n",
       " 'president': 731,\n",
       " 'issues': 732,\n",
       " 'school': 733,\n",
       " 'action': 734,\n",
       " 'ready': 735,\n",
       " 'fucking': 736,\n",
       " 'changed': 737,\n",
       " 'allowed': 738,\n",
       " 'behaviour': 739,\n",
       " 'asking': 740,\n",
       " 'donate': 741,\n",
       " 'deliveries': 742,\n",
       " 'link': 743,\n",
       " 'pasta': 744,\n",
       " 'american': 745,\n",
       " 'crude': 746,\n",
       " 'act': 747,\n",
       " 'wrong': 748,\n",
       " 'n': 749,\n",
       " '60': 750,\n",
       " 'tesco': 751,\n",
       " 'came': 752,\n",
       " 'worse': 753,\n",
       " 'gonna': 754,\n",
       " 'goes': 755,\n",
       " 'london': 756,\n",
       " 'continues': 757,\n",
       " 'confidence': 758,\n",
       " 'worried': 759,\n",
       " 'half': 760,\n",
       " 'thinking': 761,\n",
       " 'providing': 762,\n",
       " 'ppe': 763,\n",
       " 'strong': 764,\n",
       " 'household': 765,\n",
       " 'concerns': 766,\n",
       " 'ones': 767,\n",
       " 'resources': 768,\n",
       " 'walk': 769,\n",
       " 'longer': 770,\n",
       " 'fighting': 771,\n",
       " 'hear': 772,\n",
       " 'living': 773,\n",
       " 'behind': 774,\n",
       " 'starting': 775,\n",
       " 'bit': 776,\n",
       " 'delivered': 777,\n",
       " 'problem': 778,\n",
       " 'deliver': 779,\n",
       " 'wipes': 780,\n",
       " 'near': 781,\n",
       " 'according': 782,\n",
       " 'side': 783,\n",
       " '24': 784,\n",
       " 'plenty': 785,\n",
       " 'limited': 786,\n",
       " 'believe': 787,\n",
       " 'email': 788,\n",
       " 'recession': 789,\n",
       " 'rs': 790,\n",
       " 'usa': 791,\n",
       " 'general': 792,\n",
       " 'parents': 793,\n",
       " 'click': 794,\n",
       " 'federal': 795,\n",
       " 'equipment': 796,\n",
       " 'frontline': 797,\n",
       " 'chinese': 798,\n",
       " 'though': 799,\n",
       " 'afford': 800,\n",
       " 'saudi': 801,\n",
       " 'question': 802,\n",
       " 'b': 803,\n",
       " 'necessary': 804,\n",
       " 'insights': 805,\n",
       " 'god': 806,\n",
       " 'send': 807,\n",
       " 'probably': 808,\n",
       " 'message': 809,\n",
       " 'single': 810,\n",
       " 'past': 811,\n",
       " 'expect': 812,\n",
       " 'ceo': 813,\n",
       " 'folks': 814,\n",
       " 'falling': 815,\n",
       " 'members': 816,\n",
       " 'direct': 817,\n",
       " 'rules': 818,\n",
       " 'raise': 819,\n",
       " 'reason': 820,\n",
       " 'door': 821,\n",
       " 'digital': 822,\n",
       " 'pack': 823,\n",
       " 'experience': 824,\n",
       " 'slots': 825,\n",
       " 'lots': 826,\n",
       " 'gets': 827,\n",
       " 'died': 828,\n",
       " 'bottle': 829,\n",
       " 'rice': 830,\n",
       " 'hospitals': 831,\n",
       " 'fuck': 832,\n",
       " 'serious': 833,\n",
       " 'unprecedented': 834,\n",
       " 'looks': 835,\n",
       " 'questions': 836,\n",
       " 'called': 837,\n",
       " 'coronavirusuk': 838,\n",
       " 'forced': 839,\n",
       " 'updates': 840,\n",
       " 'insurance': 841,\n",
       " 'poor': 842,\n",
       " 'c': 843,\n",
       " 'nice': 844,\n",
       " 'seems': 845,\n",
       " 'allow': 846,\n",
       " 'blog': 847,\n",
       " 'night': 848,\n",
       " 'citizens': 849,\n",
       " 'rising': 850,\n",
       " 'biggest': 851,\n",
       " 'expected': 852,\n",
       " 'sale': 853,\n",
       " 'happy': 854,\n",
       " '14': 855,\n",
       " 'monday': 856,\n",
       " 'seniors': 857,\n",
       " '99': 858,\n",
       " 'truck': 859,\n",
       " 'hygiene': 860,\n",
       " 'society': 861,\n",
       " 'w': 862,\n",
       " 'places': 863,\n",
       " 'foods': 864,\n",
       " 'potential': 865,\n",
       " 'growing': 866,\n",
       " 'anxiety': 867,\n",
       " 'law': 868,\n",
       " 'street': 869,\n",
       " 'income': 870,\n",
       " 'pm': 871,\n",
       " 'â\\x95': 872,\n",
       " 'efforts': 873,\n",
       " 'thereâ\\x92s': 874,\n",
       " 'responders': 875,\n",
       " 'apart': 876,\n",
       " 'inflated': 877,\n",
       " 'australia': 878,\n",
       " 'hoard': 879,\n",
       " 'issue': 880,\n",
       " 'county': 881,\n",
       " 'habits': 882,\n",
       " 'toiletpapercrisis': 883,\n",
       " 'calls': 884,\n",
       " 'collapse': 885,\n",
       " 'interesting': 886,\n",
       " 'friend': 887,\n",
       " 'plans': 888,\n",
       " 'phone': 889,\n",
       " 'opening': 890,\n",
       " 'finally': 891,\n",
       " 'kill': 892,\n",
       " 'south': 893,\n",
       " 'worth': 894,\n",
       " 'symptoms': 895,\n",
       " 'clear': 896,\n",
       " 'covid19\\r': 897,\n",
       " 'survey': 898,\n",
       " 'd': 899,\n",
       " 'gov': 900,\n",
       " 'toiletpaperpanic': 901,\n",
       " 'talk': 902,\n",
       " 'amazing': 903,\n",
       " 'human': 904,\n",
       " 'listen': 905,\n",
       " 'comes': 906,\n",
       " 'debt': 907,\n",
       " 'easter': 908,\n",
       " 'true': 909,\n",
       " 'nurse': 910,\n",
       " 'tests': 911,\n",
       " 'light': 912,\n",
       " 'effects': 913,\n",
       " 'myself': 914,\n",
       " 'beginning': 915,\n",
       " 'ok': 916,\n",
       " 'level': 917,\n",
       " 'residents': 918,\n",
       " 'move': 919,\n",
       " 'coughing': 920,\n",
       " 'effect': 921,\n",
       " 'california': 922,\n",
       " 'details': 923,\n",
       " 'amount': 924,\n",
       " 'growth': 925,\n",
       " 'unemployment': 926,\n",
       " 'couple': 927,\n",
       " 'among': 928,\n",
       " 'policy': 929,\n",
       " 'wake': 930,\n",
       " 'massive': 931,\n",
       " 'death': 932,\n",
       " 'disease': 933,\n",
       " 'impacted': 934,\n",
       " 'pretty': 935,\n",
       " 'washing': 936,\n",
       " 'usual': 937,\n",
       " 'stand': 938,\n",
       " 'rate': 939,\n",
       " 'hiking': 940,\n",
       " 'sentiment': 941,\n",
       " 'rt': 942,\n",
       " 'communities': 943,\n",
       " 'showing': 944,\n",
       " 'hoarders': 945,\n",
       " 'co': 946,\n",
       " 'fake': 947,\n",
       " 'easy': 948,\n",
       " 'breaking': 949,\n",
       " 'forget': 950,\n",
       " 'opec': 951,\n",
       " 'hi': 952,\n",
       " 'happen': 953,\n",
       " 'shame': 954,\n",
       " 'driving': 955,\n",
       " 'distribution': 956,\n",
       " 'step': 957,\n",
       " 'impacts': 958,\n",
       " 'thatâ\\x92s': 959,\n",
       " 'department': 960,\n",
       " 'rather': 961,\n",
       " 'took': 962,\n",
       " 'record': 963,\n",
       " 'however': 964,\n",
       " 'wine': 965,\n",
       " 'meals': 966,\n",
       " 'protective': 967,\n",
       " 'spend': 968,\n",
       " 'infected': 969,\n",
       " 'touch': 970,\n",
       " 'theyâ\\x92re': 971,\n",
       " 'package': 972,\n",
       " 'temporarily': 973,\n",
       " 'several': 974,\n",
       " 'hold': 975,\n",
       " 'rest': 976,\n",
       " 'mind': 977,\n",
       " 'minister': 978,\n",
       " 'webinar': 979,\n",
       " 'donations': 980,\n",
       " 'weekly': 981,\n",
       " 'rent': 982,\n",
       " 'cheap': 983,\n",
       " 'scam': 984,\n",
       " 'producers': 985,\n",
       " 'dear': 986,\n",
       " 'priority': 987,\n",
       " 'profit': 988,\n",
       " 'bags': 989,\n",
       " 'dont': 990,\n",
       " 'within': 991,\n",
       " 'cure': 992,\n",
       " 'feed': 993,\n",
       " 'second': 994,\n",
       " 'checkout': 995,\n",
       " '40': 996,\n",
       " 'homes': 997,\n",
       " 'shelf': 998,\n",
       " 'calling': 999,\n",
       " 'profiteering': 1000,\n",
       " ...}"
      ]
     },
     "execution_count": 26,
     "metadata": {
      "tags": []
     },
     "output_type": "execute_result"
    }
   ],
   "source": [
    "tokinizer.word_index"
   ]
  },
  {
   "cell_type": "code",
   "execution_count": 14,
   "metadata": {
    "colab": {
     "base_uri": "https://localhost:8080/"
    },
    "executionInfo": {
     "elapsed": 803,
     "status": "ok",
     "timestamp": 1608142788080,
     "user": {
      "displayName": "khalil hennara",
      "photoUrl": "",
      "userId": "12581719381754495507"
     },
     "user_tz": -120
    },
    "id": "vDPUNyaYHy12",
    "outputId": "b41d9a6f-76ee-4f24-f0bc-dcf1fd11374f"
   },
   "outputs": [
    {
     "name": "stdout",
     "output_type": "stream",
     "text": [
      "27024 18797\n"
     ]
    }
   ],
   "source": [
    "embading_dim=300\n",
    "num_tokens=vocab_size\n",
    "hit=0\n",
    "miss=0\n",
    "\n",
    "embading_matrix=np.zeros((num_tokens,embading_dim))\n",
    "\n",
    "for word,value in tokinizer.word_index.items():\n",
    "  embading_vector=embading_index.get(word)\n",
    "  if embading_vector is not None:\n",
    "      embading_matrix[value]=embading_vector\n",
    "      hit+=1\n",
    "  else:miss+=1\n",
    "print(hit,miss)"
   ]
  },
  {
   "cell_type": "code",
   "execution_count": 39,
   "metadata": {
    "colab": {
     "base_uri": "https://localhost:8080/"
    },
    "executionInfo": {
     "elapsed": 848,
     "status": "ok",
     "timestamp": 1608141021053,
     "user": {
      "displayName": "khalil hennara",
      "photoUrl": "",
      "userId": "12581719381754495507"
     },
     "user_tz": -120
    },
    "id": "8JRF_vZLQ040",
    "outputId": "f838e0b2-a8f2-4715-d935-afb65b18254a"
   },
   "outputs": [
    {
     "name": "stdout",
     "output_type": "stream",
     "text": [
      "Model: \"sequential\"\n",
      "_________________________________________________________________\n",
      "Layer (type)                 Output Shape              Param #   \n",
      "=================================================================\n",
      "embedding (Embedding)        (None, 70, 300)           13746600  \n",
      "_________________________________________________________________\n",
      "max_pooling1d (MaxPooling1D) (None, 35, 300)           0         \n",
      "_________________________________________________________________\n",
      "conv1d (Conv1D)              (None, 31, 128)           192128    \n",
      "_________________________________________________________________\n",
      "max_pooling1d_1 (MaxPooling1 (None, 15, 128)           0         \n",
      "_________________________________________________________________\n",
      "conv1d_1 (Conv1D)            (None, 11, 128)           82048     \n",
      "_________________________________________________________________\n",
      "max_pooling1d_2 (MaxPooling1 (None, 5, 128)            0         \n",
      "_________________________________________________________________\n",
      "conv1d_2 (Conv1D)            (None, 1, 128)            82048     \n",
      "_________________________________________________________________\n",
      "global_max_pooling1d (Global (None, 128)               0         \n",
      "_________________________________________________________________\n",
      "dense (Dense)                (None, 128)               16512     \n",
      "_________________________________________________________________\n",
      "dropout (Dropout)            (None, 128)               0         \n",
      "_________________________________________________________________\n",
      "dense_1 (Dense)              (None, 5)                 645       \n",
      "=================================================================\n",
      "Total params: 14,119,981\n",
      "Trainable params: 14,119,981\n",
      "Non-trainable params: 0\n",
      "_________________________________________________________________\n"
     ]
    }
   ],
   "source": [
    "keras.backend.clear_session()\n",
    "\n",
    "model_3=keras.models.Sequential([\n",
    "                keras.layers.Embedding(input_dim=num_tokens,output_dim=embading_dim,embeddings_initializer=keras.initializers.Constant(embading_matrix),trainable=True,input_length=70,mask_zero=True),\n",
    "                keras.layers.MaxPooling1D(),\n",
    "                keras.layers.Conv1D(128, 5, activation=\"relu\"),\n",
    "                keras.layers.MaxPooling1D(),\n",
    "                keras.layers.Conv1D(128, 5, activation=\"relu\"),\n",
    "                keras.layers.MaxPooling1D(),\n",
    "                keras.layers.Conv1D(128, 5, activation=\"relu\"),\n",
    "                keras.layers.GlobalMaxPooling1D(),\n",
    "                keras.layers.Dense(128, activation=\"relu\"),\n",
    "                keras.layers.Dropout(0.5),\n",
    "                keras.layers.Dense(5, activation=\"softmax\"),\n",
    "])\n",
    "model_3.summary()"
   ]
  },
  {
   "cell_type": "code",
   "execution_count": 42,
   "metadata": {
    "executionInfo": {
     "elapsed": 757,
     "status": "ok",
     "timestamp": 1608141053647,
     "user": {
      "displayName": "khalil hennara",
      "photoUrl": "",
      "userId": "12581719381754495507"
     },
     "user_tz": -120
    },
    "id": "jIHWxrTGSLnN"
   },
   "outputs": [],
   "source": [
    "model_3.compile(loss='categorical_crossentropy',optimizer='rmsprop',metrics=['accuracy'])"
   ]
  },
  {
   "cell_type": "code",
   "execution_count": 31,
   "metadata": {
    "colab": {
     "base_uri": "https://localhost:8080/",
     "height": 35
    },
    "executionInfo": {
     "elapsed": 809,
     "status": "ok",
     "timestamp": 1608140382982,
     "user": {
      "displayName": "khalil hennara",
      "photoUrl": "",
      "userId": "12581719381754495507"
     },
     "user_tz": -120
    },
    "id": "pbXL_fFDopmc",
    "outputId": "c1259288-8329-4094-894b-d212cb1f988f"
   },
   "outputs": [
    {
     "data": {
      "application/vnd.google.colaboratory.intrinsic+json": {
       "type": "string"
      },
      "text/plain": [
       "'/device:GPU:0'"
      ]
     },
     "execution_count": 31,
     "metadata": {
      "tags": []
     },
     "output_type": "execute_result"
    }
   ],
   "source": [
    "tf.test.gpu_device_name()"
   ]
  },
  {
   "cell_type": "code",
   "execution_count": 43,
   "metadata": {
    "colab": {
     "base_uri": "https://localhost:8080/"
    },
    "executionInfo": {
     "elapsed": 270895,
     "status": "ok",
     "timestamp": 1608141332517,
     "user": {
      "displayName": "khalil hennara",
      "photoUrl": "",
      "userId": "12581719381754495507"
     },
     "user_tz": -120
    },
    "id": "mL7iq5XhXZy1",
    "outputId": "ca70ff80-b3dd-43fa-c251-e767e6c25a26"
   },
   "outputs": [
    {
     "name": "stdout",
     "output_type": "stream",
     "text": [
      "Epoch 1/100\n",
      "412/412 [==============================] - 24s 58ms/step - loss: 1.4495 - accuracy: 0.3493 - val_loss: 1.2360 - val_accuracy: 0.4671\n",
      "Epoch 2/100\n",
      "412/412 [==============================] - 34s 82ms/step - loss: 1.1135 - accuracy: 0.5387 - val_loss: 1.0388 - val_accuracy: 0.5753\n",
      "Epoch 3/100\n",
      "412/412 [==============================] - 40s 97ms/step - loss: 0.8760 - accuracy: 0.6611 - val_loss: 0.9440 - val_accuracy: 0.6309\n",
      "Epoch 4/100\n",
      "412/412 [==============================] - 37s 90ms/step - loss: 0.7088 - accuracy: 0.7401 - val_loss: 0.9406 - val_accuracy: 0.6334\n",
      "Epoch 5/100\n",
      "412/412 [==============================] - 27s 66ms/step - loss: 0.5726 - accuracy: 0.7999 - val_loss: 0.9618 - val_accuracy: 0.6667\n",
      "Epoch 6/100\n",
      "412/412 [==============================] - 27s 65ms/step - loss: 0.4655 - accuracy: 0.8419 - val_loss: 0.9979 - val_accuracy: 0.6845\n",
      "Epoch 7/100\n",
      "412/412 [==============================] - 27s 64ms/step - loss: 0.3747 - accuracy: 0.8743 - val_loss: 1.3870 - val_accuracy: 0.6699\n",
      "Epoch 8/100\n",
      "412/412 [==============================] - 27s 64ms/step - loss: 0.3020 - accuracy: 0.9005 - val_loss: 1.6849 - val_accuracy: 0.6192\n",
      "Epoch 9/100\n",
      "412/412 [==============================] - 27s 65ms/step - loss: 0.2470 - accuracy: 0.9178 - val_loss: 2.2743 - val_accuracy: 0.6489\n"
     ]
    }
   ],
   "source": [
    "with tf.device(\"/device:GPU:0\"):\n",
    "  history_3=model_3.fit(X_train_set,y_train,epochs=100,validation_data=(X_val_set,y_val),batch_size=64,callbacks=[erlay_stop,model_checkpoint])"
   ]
  },
  {
   "cell_type": "code",
   "execution_count": 44,
   "metadata": {
    "executionInfo": {
     "elapsed": 6895,
     "status": "ok",
     "timestamp": 1608141356665,
     "user": {
      "displayName": "khalil hennara",
      "photoUrl": "",
      "userId": "12581719381754495507"
     },
     "user_tz": -120
    },
    "id": "sfvbHCCEX6Jt"
   },
   "outputs": [],
   "source": [
    "model_2=keras.models.load_model('/content/drive/MyDrive/best_model_3.h5')"
   ]
  },
  {
   "cell_type": "code",
   "execution_count": 45,
   "metadata": {
    "colab": {
     "base_uri": "https://localhost:8080/",
     "height": 371
    },
    "executionInfo": {
     "elapsed": 4133,
     "status": "ok",
     "timestamp": 1608141365689,
     "user": {
      "displayName": "khalil hennara",
      "photoUrl": "",
      "userId": "12581719381754495507"
     },
     "user_tz": -120
    },
    "id": "nLpw5eq8quOH",
    "outputId": "4e01df2e-763f-4f5a-b8f2-5bbe99880737"
   },
   "outputs": [
    {
     "name": "stdout",
     "output_type": "stream",
     "text": [
      "Training Accuracy: 0.7579\n",
      "Testing Accuracy:  0.6480\n"
     ]
    },
    {
     "data": {
      "image/png": "[encoded data removed]",
      "text/plain": [
       "<Figure size 864x360 with 2 Axes>"
      ]
     },
     "metadata": {
      "needs_background": "light",
      "tags": []
     },
     "output_type": "display_data"
    }
   ],
   "source": [
    "loss, accuracy = model_2.evaluate(X_train_set, y_train, verbose=False)\n",
    "print(\"Training Accuracy: {:.4f}\".format(accuracy))\n",
    "loss, accuracy = model_2.evaluate(X_test_set, y_test, verbose=False)\n",
    "print(\"Testing Accuracy:  {:.4f}\".format(accuracy))\n",
    "plot_history(history_3)"
   ]
  },
  {
   "cell_type": "markdown",
   "metadata": {
    "executionInfo": {
     "elapsed": 716,
     "status": "ok",
     "timestamp": 1608136800901,
     "user": {
      "displayName": "khalil hennara",
      "photoUrl": "",
      "userId": "12581719381754495507"
     },
     "user_tz": -120
    },
    "id": "g6w2rrFWa2R9"
   },
   "source": [
    "now we going to use Rnn to solve this problem \n",
    "\n",
    "I cant continue in the same Notebook so There is some Notebook that I use for training alot of model\n",
    "\n",
    "please read **README** file if you didn't"
   ]
  },
  {
   "cell_type": "code",
   "execution_count": null,
   "metadata": {
    "id": "_0svtlwZfKEr"
   },
   "outputs": [],
   "source": []
  }
 ],
 "metadata": {
  "accelerator": "GPU",
  "colab": {
   "collapsed_sections": [],
   "name": "Min_project_For_university.ipynb",
   "provenance": [
    {
     "file_id": "/v2/external/notebooks/intro.ipynb",
     "timestamp": 1607429017544
    }
   ]
  },
  "kernelspec": {
   "display_name": "Python 3",
   "language": "python",
   "name": "python3"
  },
  "language_info": {
   "codemirror_mode": {
    "name": "ipython",
    "version": 3
   },
   "file_extension": ".py",
   "mimetype": "text/x-python",
   "name": "python",
   "nbconvert_exporter": "python",
   "pygments_lexer": "ipython3",
   "version": "3.8.5"
  }
 },
 "nbformat": 4,
 "nbformat_minor": 1
}
