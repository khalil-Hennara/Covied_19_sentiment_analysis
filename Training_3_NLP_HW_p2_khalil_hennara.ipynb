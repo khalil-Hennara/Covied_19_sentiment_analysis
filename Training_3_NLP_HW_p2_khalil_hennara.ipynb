{
 "cells": [
  {
   "cell_type": "code",
   "execution_count": 2,
   "metadata": {
    "executionInfo": {
     "elapsed": 3437,
     "status": "ok",
     "timestamp": 1608777512602,
     "user": {
      "displayName": "khalil hennara",
      "photoUrl": "",
      "userId": "12581719381754495507"
     },
     "user_tz": -120
    },
    "id": "h1PF8z7Mavd8"
   },
   "outputs": [],
   "source": [
    "import numpy as np\n",
    "import matplotlib.pyplot as plt\n",
    "import pandas as pd\n",
    "import nltk\n",
    "import seaborn as sn\n",
    "import re\n",
    "\n",
    "import tensorflow as tf \n",
    "import tensorflow.keras as keras \n",
    "import tensorflow_addons  as tfa\n",
    "\n",
    "import sklearn.model_selection as model_selection\n",
    "import sklearn.metrics as metrics_model\n",
    "import sklearn.linear_model as linear_model"
   ]
  },
  {
   "cell_type": "code",
   "execution_count": 2,
   "metadata": {
    "colab": {
     "base_uri": "https://localhost:8080/"
    },
    "executionInfo": {
     "elapsed": 35570,
     "status": "ok",
     "timestamp": 1608775465193,
     "user": {
      "displayName": "khalil hennara",
      "photoUrl": "",
      "userId": "12581719381754495507"
     },
     "user_tz": -120
    },
    "id": "uUY5CJcta0da",
    "outputId": "a1956e3c-b8a2-4321-ec9a-0654ecafe8d1"
   },
   "outputs": [
    {
     "name": "stdout",
     "output_type": "stream",
     "text": [
      "Mounted at /content/drive\n"
     ]
    }
   ],
   "source": [
    "from google.colab import drive\n",
    "drive.mount('/content/drive')"
   ]
  },
  {
   "cell_type": "code",
   "execution_count": 3,
   "metadata": {
    "colab": {
     "base_uri": "https://localhost:8080/"
    },
    "executionInfo": {
     "elapsed": 50625,
     "status": "ok",
     "timestamp": 1608775518083,
     "user": {
      "displayName": "khalil hennara",
      "photoUrl": "",
      "userId": "12581719381754495507"
     },
     "user_tz": -120
    },
    "id": "iwh6N-X-a2De",
    "outputId": "1a7e7ede-1522-4b94-9580-7df442178935"
   },
   "outputs": [
    {
     "name": "stdout",
     "output_type": "stream",
     "text": [
      "Archive:  /content/drive/MyDrive/glove.6B.zip\n",
      "  inflating: glove.6B.50d.txt        \n",
      "  inflating: glove.6B.100d.txt       \n",
      "  inflating: glove.6B.200d.txt       \n",
      "  inflating: glove.6B.300d.txt       \n"
     ]
    }
   ],
   "source": [
    "!unzip /content/drive/MyDrive/glove.6B.zip"
   ]
  },
  {
   "cell_type": "code",
   "execution_count": 3,
   "metadata": {
    "colab": {
     "base_uri": "https://localhost:8080/"
    },
    "executionInfo": {
     "elapsed": 874,
     "status": "ok",
     "timestamp": 1608777515514,
     "user": {
      "displayName": "khalil hennara",
      "photoUrl": "",
      "userId": "12581719381754495507"
     },
     "user_tz": -120
    },
    "id": "_EwcbkWLa-rM",
    "outputId": "58493a48-9f87-4db1-8a19-8be35f2c37a1"
   },
   "outputs": [
    {
     "name": "stdout",
     "output_type": "stream",
     "text": [
      "[nltk_data] Downloading package stopwords to /root/nltk_data...\n",
      "[nltk_data]   Package stopwords is already up-to-date!\n"
     ]
    }
   ],
   "source": [
    "import re\n",
    "nltk.download('stopwords')\n",
    "from nltk.corpus import stopwords\n",
    "STOPWORDS=stopwords.words('english')\n",
    "\n",
    "def remove_hash(data):\n",
    "  return re.sub('#','',data)\n",
    "\n",
    "def remove_stop_word_less_than_3_charecter(data):\n",
    "  min_stop=[w for w in STOPWORDS if len(w)<=3]\n",
    "  word=data.split()\n",
    "  res=[w for w in word if w not in min_stop]\n",
    "  return ' '.join(res)\n",
    "\n",
    "def remove_stop_word(data):\n",
    "  word=data.split()\n",
    "  res=[w for w in word if w not in STOPWORDS]\n",
    "  return ' '.join(res)\n",
    "\n",
    "# def remove_hash(data):\n",
    "#   words=data.split()\n",
    "#   res=[w for w in words if '#' not in w]\n",
    "#   return ' '.join(res)\n",
    "\n",
    "def clean(data):\n",
    "  res=re.sub(r'[^a-zA-Z0-9#]',' ',data)\n",
    "  #res=remove_stop_word(res)\n",
    "  res=remove_hash(res)\n",
    "  return res"
   ]
  },
  {
   "cell_type": "code",
   "execution_count": 4,
   "metadata": {
    "executionInfo": {
     "elapsed": 923,
     "status": "ok",
     "timestamp": 1608777518401,
     "user": {
      "displayName": "khalil hennara",
      "photoUrl": "",
      "userId": "12581719381754495507"
     },
     "user_tz": -120
    },
    "id": "1LM-GWlqfcE2"
   },
   "outputs": [],
   "source": [
    "def plot_history(history):\n",
    "    acc = history.history['accuracy']\n",
    "    val_acc = history.history['val_accuracy']\n",
    "    loss = history.history['loss']\n",
    "    val_loss = history.history['val_loss']\n",
    "    x = range(1, len(acc) + 1)\n",
    "\n",
    "    plt.figure(figsize=(12, 5))\n",
    "    plt.subplot(1, 2, 1)\n",
    "    plt.plot(x, acc, 'b', label='Training acc')\n",
    "    plt.plot(x, val_acc, 'r', label='Validation acc')\n",
    "    plt.title('Training and validation accuracy')\n",
    "    plt.legend()\n",
    "    plt.subplot(1, 2, 2)\n",
    "    plt.plot(x, loss, 'b', label='Training loss')\n",
    "    plt.plot(x, val_loss, 'r', label='Validation loss')\n",
    "    plt.title('Training and validation loss')\n",
    "    plt.legend()"
   ]
  },
  {
   "cell_type": "code",
   "execution_count": 5,
   "metadata": {
    "colab": {
     "base_uri": "https://localhost:8080/"
    },
    "executionInfo": {
     "elapsed": 3571,
     "status": "ok",
     "timestamp": 1608777523400,
     "user": {
      "displayName": "khalil hennara",
      "photoUrl": "",
      "userId": "12581719381754495507"
     },
     "user_tz": -120
    },
    "id": "RKlMGgaWbW5D",
    "outputId": "58571e5c-cb4e-493d-b523-5e21732346c8"
   },
   "outputs": [
    {
     "name": "stdout",
     "output_type": "stream",
     "text": [
      "40512\n"
     ]
    }
   ],
   "source": [
    "train_set=pd.read_csv('/content/drive/MyDrive/train_df.csv')\n",
    "test_set=pd.read_csv('/content/drive/MyDrive/test_df.csv')\n",
    "\n",
    "train_set['clean_text_1']=train_set['clean_text'].apply(clean)\n",
    "test_set['clean_text_1']=test_set['clean_text'].apply(clean)\n",
    "\n",
    "train_set['word_number']=train_set['clean_text_1'].apply(lambda x:len(x.split()))\n",
    "test_set['word_number']=test_set['clean_text_1'].apply(lambda x:len(x.split()))\n",
    "\n",
    "train_set=train_set[train_set['word_number']!=0]\n",
    "test_set=test_set[test_set['word_number']!=0]\n",
    "\n",
    "X_train=train_set['clean_text_1'].values\n",
    "X_test=test_set['clean_text_1'].values\n",
    "y_train=train_set['NomericSentiment'].values\n",
    "y_test=test_set['NomericSentiment'].values\n",
    "\n",
    "X_train,X_val,y_train,y_val=model_selection.train_test_split(X_train,y_train,test_size=0.2,stratify=train_set['NomericSentiment'],random_state=42)\n",
    "\n",
    "y_train=keras.utils.to_categorical(y_train,5)\n",
    "y_test=keras.utils.to_categorical(y_test,5)\n",
    "y_val=keras.utils.to_categorical(y_val,5)\n",
    "\n",
    "tokinizer=keras.preprocessing.text.Tokenizer(num_words=30000)\n",
    "tokinizer.fit_on_texts(train_set['clean_text_1'].values)\n",
    "\n",
    "vocab_size=len(tokinizer.word_index)+1\n",
    "print(vocab_size)\n",
    "\n",
    "max_length=70\n",
    "X_train=tokinizer.texts_to_sequences(X_train)\n",
    "X_test=tokinizer.texts_to_sequences(X_test)\n",
    "X_val=tokinizer.texts_to_sequences(X_val)\n",
    "X_train_set=keras.preprocessing.sequence.pad_sequences(X_train,padding='post',maxlen=max_length)\n",
    "X_test_set=keras.preprocessing.sequence.pad_sequences(X_test,padding='post',maxlen=max_length)\n",
    "X_val_set=keras.preprocessing.sequence.pad_sequences(X_val,padding='post',maxlen=max_length)\n",
    "\n"
   ]
  },
  {
   "cell_type": "code",
   "execution_count": 5,
   "metadata": {
    "colab": {
     "base_uri": "https://localhost:8080/"
    },
    "executionInfo": {
     "elapsed": 20267,
     "status": "ok",
     "timestamp": 1608776239898,
     "user": {
      "displayName": "khalil hennara",
      "photoUrl": "",
      "userId": "12581719381754495507"
     },
     "user_tz": -120
    },
    "id": "dCkouEOSfsos",
    "outputId": "c640944e-3c81-45c3-e068-0ca456d47b66"
   },
   "outputs": [
    {
     "name": "stdout",
     "output_type": "stream",
     "text": [
      "Found 400000 word vector\n",
      "Hit : 27398 ,misses: 13113\n"
     ]
    }
   ],
   "source": [
    "embading_index={}\n",
    "path = '/content/glove.6B.300d.txt'\n",
    "with open(path) as f:\n",
    "  for line in f:\n",
    "    key,value=line.split(maxsplit=1)\n",
    "    value=np.fromstring(value,\"f\",sep=\" \")\n",
    "    embading_index[key]=value\n",
    "\n",
    "print(\"Found {} word vector\".format(len(embading_index)))\n",
    "\n",
    "embading_dim=300\n",
    "num_tokens=vocab_size\n",
    "hit=0\n",
    "miss=0\n",
    "\n",
    "embading_matrix=np.zeros((num_tokens,embading_dim))\n",
    "\n",
    "for word,value in tokinizer.word_index.items():\n",
    "  embading_vector=embading_index.get(word)\n",
    "  if embading_vector is not None:\n",
    "      embading_matrix[value]=embading_vector\n",
    "      hit+=1\n",
    "  else:miss+=1\n",
    "print(\"Hit : {} ,misses: {}\".format(hit,miss))"
   ]
  },
  {
   "cell_type": "code",
   "execution_count": 7,
   "metadata": {
    "executionInfo": {
     "elapsed": 6288,
     "status": "ok",
     "timestamp": 1608776347121,
     "user": {
      "displayName": "khalil hennara",
      "photoUrl": "",
      "userId": "12581719381754495507"
     },
     "user_tz": -120
    },
    "id": "T6xEgWr5bXHv"
   },
   "outputs": [],
   "source": [
    "keras.backend.clear_session()\n",
    "K = keras.backend\n",
    "inputs = keras.layers.Input(shape=[None])\n",
    "mask = keras.layers.Lambda(lambda inputs: K.not_equal(inputs, 0))(inputs)\n",
    "z=keras.layers.Embedding(input_dim=num_tokens,\n",
    "                                 output_dim=embading_dim,\n",
    "                                 embeddings_initializer=keras.initializers.Constant(embading_matrix),\n",
    "                                 trainable=True,\n",
    "                                 input_length=max_length)(inputs)\n",
    "z = keras.layers.GRU(128,return_sequences=True)(z,mask=mask)\n",
    "z = keras.layers.GRU(128,return_sequences=True)(z,mask=mask)\n",
    "z = keras.layers.GlobalMaxPool1D()(z)\n",
    "outputs=keras.layers.Dense(5,activation='softmax')(z)\n",
    "Model=keras.Model(inputs=[inputs],outputs=[outputs])"
   ]
  },
  {
   "cell_type": "code",
   "execution_count": 8,
   "metadata": {
    "executionInfo": {
     "elapsed": 1563,
     "status": "ok",
     "timestamp": 1608776369213,
     "user": {
      "displayName": "khalil hennara",
      "photoUrl": "",
      "userId": "12581719381754495507"
     },
     "user_tz": -120
    },
    "id": "q3Gg2Xf3ifLw"
   },
   "outputs": [],
   "source": [
    "LR_START = 0.0000001\n",
    "LR_MIN = 0.000001\n",
    "LR_MAX = 0.0008\n",
    "LR_RAMPUP_EPOCHS = 3\n",
    "LR_SUSTAIN_EPOCHS = 0\n",
    "LR_EXP_DECAY = .8\n",
    "\n",
    "def lr_schedule(epoch):\n",
    "    if epoch < LR_RAMPUP_EPOCHS:\n",
    "        lr = (LR_MAX - LR_START) / LR_RAMPUP_EPOCHS * epoch + LR_START\n",
    "    elif epoch < LR_RAMPUP_EPOCHS + LR_SUSTAIN_EPOCHS:\n",
    "        lr = LR_MAX\n",
    "    else:\n",
    "        lr = (LR_MAX - LR_MIN) * LR_EXP_DECAY**(epoch - LR_RAMPUP_EPOCHS - LR_SUSTAIN_EPOCHS) + LR_MIN\n",
    "    return lr\n"
   ]
  },
  {
   "cell_type": "code",
   "execution_count": 9,
   "metadata": {
    "executionInfo": {
     "elapsed": 960,
     "status": "ok",
     "timestamp": 1608776387782,
     "user": {
      "displayName": "khalil hennara",
      "photoUrl": "",
      "userId": "12581719381754495507"
     },
     "user_tz": -120
    },
    "id": "Z-SAJ_3AbXKu"
   },
   "outputs": [],
   "source": [
    "Model.compile(loss='categorical_crossentropy',optimizer=keras.optimizers.Adam(lr=1e-4),metrics=['accuracy'])\n",
    "eraly_stop=keras.callbacks.EarlyStopping(monitor='val_loss',patience=3)\n",
    "check_point=keras.callbacks.ModelCheckpoint('/content/drive/MyDrive/GRU_Learning_scheduler_20.h5',save_best_only=True)\n",
    "lr_scdual=keras.callbacks.LearningRateScheduler(lr_schedule,verbose=0)\n",
    "reduce_lr =  keras.callbacks.ReduceLROnPlateau(monitor = \"val_loss\", factor = 0.5, patience = 3,\n",
    "  verbose = 0, mode = \"auto\", min_delta = 0.0008, cooldown = 0,\n",
    "  min_lr = 1e-5)\n",
    "callbacks_list=[eraly_stop,check_point,lr_scdual]\n"
   ]
  },
  {
   "cell_type": "code",
   "execution_count": 10,
   "metadata": {
    "colab": {
     "base_uri": "https://localhost:8080/"
    },
    "executionInfo": {
     "elapsed": 799016,
     "status": "ok",
     "timestamp": 1608777189071,
     "user": {
      "displayName": "khalil hennara",
      "photoUrl": "",
      "userId": "12581719381754495507"
     },
     "user_tz": -120
    },
    "id": "1f6b1ZTXbXOY",
    "outputId": "8cb9e1cc-c06f-408e-8d16-4c922895c6b2"
   },
   "outputs": [
    {
     "name": "stdout",
     "output_type": "stream",
     "text": [
      "Epoch 1/20\n",
      "823/823 [==============================] - 115s 130ms/step - loss: 1.6400 - accuracy: 0.1890 - val_loss: 1.6355 - val_accuracy: 0.1849\n",
      "Epoch 2/20\n",
      "823/823 [==============================] - 109s 133ms/step - loss: 1.3884 - accuracy: 0.3831 - val_loss: 0.9186 - val_accuracy: 0.6470\n",
      "Epoch 3/20\n",
      "823/823 [==============================] - 108s 131ms/step - loss: 0.8136 - accuracy: 0.6896 - val_loss: 0.6918 - val_accuracy: 0.7547\n",
      "Epoch 4/20\n",
      "823/823 [==============================] - 107s 130ms/step - loss: 0.5428 - accuracy: 0.8121 - val_loss: 0.6289 - val_accuracy: 0.7677\n",
      "Epoch 5/20\n",
      "823/823 [==============================] - 108s 131ms/step - loss: 0.3610 - accuracy: 0.8832 - val_loss: 0.7289 - val_accuracy: 0.7383\n",
      "Epoch 6/20\n",
      "823/823 [==============================] - 105s 128ms/step - loss: 0.2393 - accuracy: 0.9281 - val_loss: 0.6948 - val_accuracy: 0.7613\n",
      "Epoch 7/20\n",
      "823/823 [==============================] - 105s 127ms/step - loss: 0.1552 - accuracy: 0.9561 - val_loss: 0.7966 - val_accuracy: 0.7535\n"
     ]
    }
   ],
   "source": [
    "with tf.device('/device:GPU:0'):\n",
    "  history=Model.fit(X_train_set,y_train,epochs=20,validation_data=(X_val_set,y_val),callbacks=callbacks_list)"
   ]
  },
  {
   "cell_type": "code",
   "execution_count": 11,
   "metadata": {
    "colab": {
     "base_uri": "https://localhost:8080/",
     "height": 371
    },
    "executionInfo": {
     "elapsed": 16236,
     "status": "ok",
     "timestamp": 1608777214200,
     "user": {
      "displayName": "khalil hennara",
      "photoUrl": "",
      "userId": "12581719381754495507"
     },
     "user_tz": -120
    },
    "id": "WmSOFWh7bRwb",
    "outputId": "fe4bbc38-4a22-4da1-df90-2a205d6b4c96"
   },
   "outputs": [
    {
     "name": "stdout",
     "output_type": "stream",
     "text": [
      "Accuracy : 0.8869\n",
      "Accuracy : 0.7774\n"
     ]
    },
    {
     "data": {
      "image/png": "[encoded data removed]",
      "text/plain": [
       "<Figure size 864x360 with 2 Axes>"
      ]
     },
     "metadata": {
      "tags": []
     },
     "output_type": "display_data"
    }
   ],
   "source": [
    "Model=keras.models.load_model('/content/drive/MyDrive/GRU_Learning_scheduler_20.h5')\n",
    "loss,acc=Model.evaluate(X_train_set,y_train,verbose=False)\n",
    "print(\"Accuracy : {:.4f}\".format(acc))\n",
    "loss,acc=Model.evaluate(X_test_set,y_test,verbose=False)\n",
    "print(\"Accuracy : {:.4f}\".format(acc))\n",
    "plot_history(history)"
   ]
  },
  {
   "cell_type": "code",
   "execution_count": null,
   "metadata": {
    "id": "aXsh9hkCmzAC"
   },
   "outputs": [],
   "source": []
  }
 ],
 "metadata": {
  "accelerator": "GPU",
  "colab": {
   "authorship_tag": "ABX9TyMMiEh2MyE8Jfnyp2VKyKRq",
   "collapsed_sections": [],
   "name": "last_try.ipynb",
   "version": ""
  },
  "kernelspec": {
   "display_name": "Python 3",
   "language": "python",
   "name": "python3"
  },
  "language_info": {
   "codemirror_mode": {
    "name": "ipython",
    "version": 3
   },
   "file_extension": ".py",
   "mimetype": "text/x-python",
   "name": "python",
   "nbconvert_exporter": "python",
   "pygments_lexer": "ipython3",
   "version": "3.8.5"
  }
 },
 "nbformat": 4,
 "nbformat_minor": 1
}
