{
 "cells": [
  {
   "cell_type": "code",
   "execution_count": 1,
   "metadata": {
    "executionInfo": {
     "elapsed": 4206,
     "status": "ok",
     "timestamp": 1608301200740,
     "user": {
      "displayName": "khalil hennara",
      "photoUrl": "",
      "userId": "12581719381754495507"
     },
     "user_tz": -120
    },
    "id": "6fMAB8Rpqqli"
   },
   "outputs": [],
   "source": [
    "import numpy as np\n",
    "import matplotlib.pyplot as plt\n",
    "import pandas as pd\n",
    "import nltk\n",
    "import seaborn as sn\n",
    "import re\n",
    "\n",
    "import tensorflow as tf \n",
    "import tensorflow.keras as keras \n",
    "\n",
    "import sklearn.model_selection as model_selection\n",
    "import sklearn.metrics as metrics_model\n",
    "import sklearn.linear_model as linear_model"
   ]
  },
  {
   "cell_type": "code",
   "execution_count": 2,
   "metadata": {
    "colab": {
     "base_uri": "https://localhost:8080/"
    },
    "executionInfo": {
     "elapsed": 26219,
     "status": "ok",
     "timestamp": 1608301228417,
     "user": {
      "displayName": "khalil hennara",
      "photoUrl": "",
      "userId": "12581719381754495507"
     },
     "user_tz": -120
    },
    "id": "IJgeMTeVrCrK",
    "outputId": "d15b1de7-a96a-418e-da6e-9cfc452d59de"
   },
   "outputs": [
    {
     "name": "stdout",
     "output_type": "stream",
     "text": [
      "Mounted at /content/drive\n"
     ]
    }
   ],
   "source": [
    "from google.colab import drive\n",
    "drive.mount('/content/drive')"
   ]
  },
  {
   "cell_type": "code",
   "execution_count": 3,
   "metadata": {
    "colab": {
     "base_uri": "https://localhost:8080/"
    },
    "executionInfo": {
     "elapsed": 50705,
     "status": "ok",
     "timestamp": 1608301288916,
     "user": {
      "displayName": "khalil hennara",
      "photoUrl": "",
      "userId": "12581719381754495507"
     },
     "user_tz": -120
    },
    "id": "vNH3awQSsShA",
    "outputId": "e6863ac5-f438-4428-c866-fb2b6024f5bb"
   },
   "outputs": [
    {
     "name": "stdout",
     "output_type": "stream",
     "text": [
      "Archive:  /content/drive/MyDrive/glove.6B.zip\n",
      "  inflating: glove.6B.50d.txt        \n",
      "  inflating: glove.6B.100d.txt       \n",
      "  inflating: glove.6B.200d.txt       \n",
      "  inflating: glove.6B.300d.txt       \n"
     ]
    }
   ],
   "source": [
    "!unzip /content/drive/MyDrive/glove.6B.zip"
   ]
  },
  {
   "cell_type": "code",
   "execution_count": 4,
   "metadata": {
    "executionInfo": {
     "elapsed": 2245,
     "status": "ok",
     "timestamp": 1608301297373,
     "user": {
      "displayName": "khalil hennara",
      "photoUrl": "",
      "userId": "12581719381754495507"
     },
     "user_tz": -120
    },
    "id": "Lv0rmwA4bW0R"
   },
   "outputs": [],
   "source": [
    "import re\n",
    "def remove_just_Hash(data):\n",
    "  data=re.sub('#','',data)\n",
    "  return data"
   ]
  },
  {
   "cell_type": "markdown",
   "metadata": {},
   "source": [
    "# Training\n",
    "we have trained alot of model in this Notebook and\n",
    "other notebook you cant see all model we have train hear \n",
    "becouse I have run the same cell on defrent model."
   ]
  },
  {
   "cell_type": "code",
   "execution_count": 9,
   "metadata": {
    "colab": {
     "base_uri": "https://localhost:8080/"
    },
    "executionInfo": {
     "elapsed": 3042,
     "status": "ok",
     "timestamp": 1608288125773,
     "user": {
      "displayName": "khalil hennara",
      "photoUrl": "",
      "userId": "12581719381754495507"
     },
     "user_tz": -120
    },
    "id": "QRXxclKErP-W",
    "outputId": "4beddf41-3892-49cc-e3a3-3b024c3c2350"
   },
   "outputs": [
    {
     "name": "stdout",
     "output_type": "stream",
     "text": [
      "45832\n"
     ]
    }
   ],
   "source": [
    "#This cell import clean data after we save them as DataFrame and make the tokinizer and prepare the \n",
    "# data for trainig\n",
    "\n",
    "#import data\n",
    "train_set=pd.read_csv('/content/drive/MyDrive/train_df.csv')\n",
    "test_set=pd.read_csv('/content/drive/MyDrive/test_df.csv')\n",
    "\n",
    "#train_set['clean_text']=train_set['clean_text']\n",
    "#test_set['clean_text']=test_set['clean_text']\n",
    "\n",
    "X_train=train_set['clean_text'].values\n",
    "X_test=test_set['clean_text'].values\n",
    "y_train=train_set['NomericSentiment'].values\n",
    "y_test=test_set['NomericSentiment'].values\n",
    "\n",
    "#split train data into train and evaluate\n",
    "X_train,X_val,y_train,y_val=model_selection.train_test_split(X_train,y_train,test_size=0.2,stratify=train_set['NomericSentiment'],random_state=42)\n",
    "\n",
    "#convert the label to one_hot vector\n",
    "y_train=keras.utils.to_categorical(y_train,5)\n",
    "y_test=keras.utils.to_categorical(y_test,5)\n",
    "y_val=keras.utils.to_categorical(y_val,5)\n",
    "\n",
    "#create the tokinizer and fit on the data\n",
    "tokinizer=keras.preprocessing.text.Tokenizer(num_words=30000)\n",
    "tokinizer.fit_on_texts(train_set['clean_text'].values)\n",
    "\n",
    "vocab_size=len(tokinizer.word_index)+1\n",
    "print(vocab_size)\n",
    "\n",
    "#convert data from string to number depending on the tokinizer\n",
    "X_train=tokinizer.texts_to_sequences(X_train)\n",
    "X_test=tokinizer.texts_to_sequences(X_test)\n",
    "X_val=tokinizer.texts_to_sequences(X_val)\n",
    "\n",
    "#add padding to the data\n",
    "X_train_set=keras.preprocessing.sequence.pad_sequences(X_train,padding='post',maxlen=70)\n",
    "X_test_set=keras.preprocessing.sequence.pad_sequences(X_test,padding='post',maxlen=70)\n",
    "X_val_set=keras.preprocessing.sequence.pad_sequences(X_val,padding='post',maxlen=70)\n",
    "\n"
   ]
  },
  {
   "cell_type": "code",
   "execution_count": 10,
   "metadata": {
    "colab": {
     "base_uri": "https://localhost:8080/"
    },
    "executionInfo": {
     "elapsed": 23298,
     "status": "ok",
     "timestamp": 1608288157456,
     "user": {
      "displayName": "khalil hennara",
      "photoUrl": "",
      "userId": "12581719381754495507"
     },
     "user_tz": -120
    },
    "id": "9hTXFN6nr5DE",
    "outputId": "48128860-71c1-4917-86c7-bd82d4450f3d"
   },
   "outputs": [
    {
     "name": "stdout",
     "output_type": "stream",
     "text": [
      "Found 400000 word vector\n"
     ]
    }
   ],
   "source": [
    "# read the embbeding file and create dictionary of word\n",
    "embading_index={}\n",
    "path = '/content/glove.6B.300d.txt'\n",
    "with open(path) as f:\n",
    "  for line in f:\n",
    "    key,value=line.split(maxsplit=1)\n",
    "    value=np.fromstring(value,\"f\",sep=\" \")\n",
    "    embading_index[key]=value\n",
    "\n",
    "print(\"Found {} word vector\".format(len(embading_index)))\n",
    "\n",
    "# create embbeding matrix to use as intial wight in the model\n",
    "embading_dim=300\n",
    "num_tokens=vocab_size\n",
    "hit=0\n",
    "miss=0\n",
    "\n",
    "embading_matrix=np.zeros((num_tokens,embading_dim))\n",
    "\n",
    "for word,value in tokinizer.word_index.items():\n",
    "  embading_vector=embading_index.get(word)\n",
    "  if embading_vector is not None:\n",
    "      embading_matrix[value]=embading_vector\n",
    "      hit+=1\n",
    "  else:miss+=1\n",
    "print(\"Hit : {} ,misses: {}\".format(hit,miss))"
   ]
  },
  {
   "cell_type": "code",
   "execution_count": 20,
   "metadata": {
    "colab": {
     "base_uri": "https://localhost:8080/"
    },
    "executionInfo": {
     "elapsed": 1446,
     "status": "ok",
     "timestamp": 1608290953662,
     "user": {
      "displayName": "khalil hennara",
      "photoUrl": "",
      "userId": "12581719381754495507"
     },
     "user_tz": -120
    },
    "id": "GAPBS4rZsjeF",
    "outputId": "5fcf597b-a928-4025-ddc7-dc65570c56d4"
   },
   "outputs": [
    {
     "name": "stdout",
     "output_type": "stream",
     "text": [
      "WARNING:tensorflow:Layer lstm will not use cuDNN kernel since it doesn't meet the cuDNN kernel criteria. It will use generic GPU kernel as fallback when running on GPU\n",
      "Model: \"sequential\"\n",
      "_________________________________________________________________\n",
      "Layer (type)                 Output Shape              Param #   \n",
      "=================================================================\n",
      "embedding (Embedding)        (None, 70, 300)           13749600  \n",
      "_________________________________________________________________\n",
      "lstm (LSTM)                  (None, 70, 128)           219648    \n",
      "_________________________________________________________________\n",
      "lstm_1 (LSTM)                (None, 128)               131584    \n",
      "_________________________________________________________________\n",
      "dropout (Dropout)            (None, 128)               0         \n",
      "_________________________________________________________________\n",
      "dense (Dense)                (None, 5)                 645       \n",
      "=================================================================\n",
      "Total params: 14,101,477\n",
      "Trainable params: 14,101,477\n",
      "Non-trainable params: 0\n",
      "_________________________________________________________________\n"
     ]
    }
   ],
   "source": [
    "keras.backend.clear_session()\n",
    "model=keras.models.Sequential([\n",
    "          keras.layers.Embedding(input_dim=num_tokens,\n",
    "                                 output_dim=embading_dim,\n",
    "                                 embeddings_initializer=keras.initializers.Constant(embading_matrix),\n",
    "                                 trainable=True,\n",
    "                                 input_length=70),\n",
    "          keras.layers.LSTM(128,return_sequences=True,recurrent_dropout=0.2),\n",
    "          keras.layers.LSTM(128),\n",
    "          keras.layers.Dropout(0.2),\n",
    "          keras.layers.Dense(5,activation='softmax')\n",
    "])\n",
    "model.summary()"
   ]
  },
  {
   "cell_type": "code",
   "execution_count": 21,
   "metadata": {
    "executionInfo": {
     "elapsed": 827,
     "status": "ok",
     "timestamp": 1608291004034,
     "user": {
      "displayName": "khalil hennara",
      "photoUrl": "",
      "userId": "12581719381754495507"
     },
     "user_tz": -120
    },
    "id": "3RlYXqeznJaL"
   },
   "outputs": [],
   "source": [
    "import tensorflow_addons as tfa\n",
    "f1=tfa.metrics.F1Score(5)"
   ]
  },
  {
   "cell_type": "markdown",
   "metadata": {},
   "source": [
    "#### we use The f1_score becouse the data its skew as we mention befor"
   ]
  },
  {
   "cell_type": "code",
   "execution_count": 22,
   "metadata": {
    "executionInfo": {
     "elapsed": 707,
     "status": "ok",
     "timestamp": 1608291010419,
     "user": {
      "displayName": "khalil hennara",
      "photoUrl": "",
      "userId": "12581719381754495507"
     },
     "user_tz": -120
    },
    "id": "atIMVN3zsypa"
   },
   "outputs": [],
   "source": [
    "model.compile(loss='categorical_crossentropy',optimizer='rmsprop',metrics=['accuracy',f1])"
   ]
  },
  {
   "cell_type": "markdown",
   "metadata": {},
   "source": [
    "we create callbacks for **erlay stop** and **check_point**\n",
    "\n",
    "the first one stop if the model start overfit according to the val_loss\n",
    "\n",
    "the second one save the model after each epoch and save the best wight only"
   ]
  },
  {
   "cell_type": "code",
   "execution_count": 23,
   "metadata": {
    "executionInfo": {
     "elapsed": 2047,
     "status": "ok",
     "timestamp": 1608291026555,
     "user": {
      "displayName": "khalil hennara",
      "photoUrl": "",
      "userId": "12581719381754495507"
     },
     "user_tz": -120
    },
    "id": "3raeDyqFs59k"
   },
   "outputs": [],
   "source": [
    "model_checkpoint=keras.callbacks.ModelCheckpoint('/content/drive/MyDrive/LSTM_with_Regulaization_And_clean_#.h5',monitor='val_loss',save_best_only=True)\n",
    "erlay_stop=keras.callbacks.EarlyStopping(monitor='val_loss',patience=5)"
   ]
  },
  {
   "cell_type": "markdown",
   "metadata": {},
   "source": [
    "## Trainig \n",
    "we train on the **gpu** the first line is for let as use gpu on colab \n",
    "\n",
    "then i put the operation i wont do on the **gpu** inside this block"
   ]
  },
  {
   "cell_type": "code",
   "execution_count": 24,
   "metadata": {
    "colab": {
     "base_uri": "https://localhost:8080/"
    },
    "executionInfo": {
     "elapsed": 2437336,
     "status": "ok",
     "timestamp": 1608293465596,
     "user": {
      "displayName": "khalil hennara",
      "photoUrl": "",
      "userId": "12581719381754495507"
     },
     "user_tz": -120
    },
    "id": "7FsqGDI3tMN4",
    "outputId": "0a216683-7de2-4516-ed8e-a8685c0eb7f4"
   },
   "outputs": [
    {
     "name": "stdout",
     "output_type": "stream",
     "text": [
      "Epoch 1/15\n",
      "823/823 [==============================] - 221s 265ms/step - loss: 1.4853 - accuracy: 0.3248 - f1_score: 0.2642 - val_loss: 1.1406 - val_accuracy: 0.5343 - val_f1_score: 0.5523\n",
      "Epoch 2/15\n",
      "823/823 [==============================] - 215s 261ms/step - loss: 1.0098 - accuracy: 0.5988 - f1_score: 0.6074 - val_loss: 0.7766 - val_accuracy: 0.7140 - val_f1_score: 0.7257\n",
      "Epoch 3/15\n",
      "823/823 [==============================] - 214s 260ms/step - loss: 0.6931 - accuracy: 0.7526 - f1_score: 0.7603 - val_loss: 0.6520 - val_accuracy: 0.7673 - val_f1_score: 0.7766\n",
      "Epoch 4/15\n",
      "823/823 [==============================] - 217s 264ms/step - loss: 0.5518 - accuracy: 0.8149 - f1_score: 0.8194 - val_loss: 0.6376 - val_accuracy: 0.7828 - val_f1_score: 0.7903\n",
      "Epoch 5/15\n",
      "823/823 [==============================] - 217s 264ms/step - loss: 0.4513 - accuracy: 0.8552 - f1_score: 0.8598 - val_loss: 0.6765 - val_accuracy: 0.7864 - val_f1_score: 0.7940\n",
      "Epoch 6/15\n",
      "823/823 [==============================] - 215s 261ms/step - loss: 0.3699 - accuracy: 0.8797 - f1_score: 0.8832 - val_loss: 0.6286 - val_accuracy: 0.7952 - val_f1_score: 0.8041\n",
      "Epoch 7/15\n",
      "823/823 [==============================] - 217s 263ms/step - loss: 0.3083 - accuracy: 0.9016 - f1_score: 0.9056 - val_loss: 0.6703 - val_accuracy: 0.7817 - val_f1_score: 0.7901\n",
      "Epoch 8/15\n",
      "823/823 [==============================] - 215s 261ms/step - loss: 0.2541 - accuracy: 0.9217 - f1_score: 0.9249 - val_loss: 0.7494 - val_accuracy: 0.7773 - val_f1_score: 0.7850\n",
      "Epoch 9/15\n",
      "823/823 [==============================] - 219s 266ms/step - loss: 0.2067 - accuracy: 0.9369 - f1_score: 0.9396 - val_loss: 0.7612 - val_accuracy: 0.7806 - val_f1_score: 0.7877\n",
      "Epoch 10/15\n",
      "823/823 [==============================] - 218s 264ms/step - loss: 0.1697 - accuracy: 0.9499 - f1_score: 0.9521 - val_loss: 0.9024 - val_accuracy: 0.7705 - val_f1_score: 0.7781\n",
      "Epoch 11/15\n",
      "823/823 [==============================] - 218s 265ms/step - loss: 0.1555 - accuracy: 0.9537 - f1_score: 0.9559 - val_loss: 0.9275 - val_accuracy: 0.7677 - val_f1_score: 0.7744\n"
     ]
    }
   ],
   "source": [
    "\n",
    "with tf.device('/device:GPU:0'):\n",
    "  history=model.fit(X_train_set,y_train,epochs=15,validation_data=(X_val_set,y_val),batch_size=32,callbacks=[model_checkpoint,erlay_stop])"
   ]
  },
  {
   "cell_type": "markdown",
   "metadata": {},
   "source": [
    "## import model we had saved.\n",
    "This step its important befor evaluate the data becouse the ModelCheckpoint save best wight we get during \n",
    "the Training"
   ]
  },
  {
   "cell_type": "code",
   "execution_count": 25,
   "metadata": {
    "colab": {
     "base_uri": "https://localhost:8080/"
    },
    "executionInfo": {
     "elapsed": 6778,
     "status": "ok",
     "timestamp": 1608293475939,
     "user": {
      "displayName": "khalil hennara",
      "photoUrl": "",
      "userId": "12581719381754495507"
     },
     "user_tz": -120
    },
    "id": "FVNXRLbot3qm",
    "outputId": "2392eb08-39e3-451c-9c43-f6636830e263"
   },
   "outputs": [
    {
     "name": "stdout",
     "output_type": "stream",
     "text": [
      "WARNING:tensorflow:Layer lstm will not use cuDNN kernel since it doesn't meet the cuDNN kernel criteria. It will use generic GPU kernel as fallback when running on GPU\n"
     ]
    }
   ],
   "source": [
    "model=keras.models.load_model('/content/drive/MyDrive/LSTM_with_Regulaization_And_clean_#.h5')"
   ]
  },
  {
   "cell_type": "code",
   "execution_count": 33,
   "metadata": {
    "executionInfo": {
     "elapsed": 972,
     "status": "ok",
     "timestamp": 1608305084671,
     "user": {
      "displayName": "khalil hennara",
      "photoUrl": "",
      "userId": "12581719381754495507"
     },
     "user_tz": -120
    },
    "id": "qlT2sBo02jLE"
   },
   "outputs": [],
   "source": [
    "def plot_history(history):\n",
    "    acc = history.history['accuracy']\n",
    "    val_acc = history.history['val_accuracy']\n",
    "    loss = history.history['loss']\n",
    "    val_loss = history.history['val_loss']\n",
    "    x = range(1, len(acc) + 1)\n",
    "\n",
    "    plt.figure(figsize=(12, 5))\n",
    "    plt.subplot(1, 2, 1)\n",
    "    plt.plot(x, acc, 'b', label='Training acc')\n",
    "    plt.plot(x, val_acc, 'r', label='Validation acc')\n",
    "    plt.title('Training and validation accuracy')\n",
    "    plt.legend()\n",
    "    plt.subplot(1, 2, 2)\n",
    "    plt.plot(x, loss, 'b', label='Training loss')\n",
    "    plt.plot(x, val_loss, 'r', label='Validation loss')\n",
    "    plt.title('Training and validation loss')\n",
    "    plt.legend()"
   ]
  },
  {
   "cell_type": "code",
   "execution_count": 27,
   "metadata": {
    "colab": {
     "base_uri": "https://localhost:8080/",
     "height": 371
    },
    "executionInfo": {
     "elapsed": 23524,
     "status": "ok",
     "timestamp": 1608293505874,
     "user": {
      "displayName": "khalil hennara",
      "photoUrl": "",
      "userId": "12581719381754495507"
     },
     "user_tz": -120
    },
    "id": "zNLkqDp62vdt",
    "outputId": "11a65d22-568e-4bab-a489-ae63f6882f63"
   },
   "outputs": [
    {
     "name": "stdout",
     "output_type": "stream",
     "text": [
      "Training Accuracy: 0.9172, f1_score : [0.9086776  0.9009023  0.9106529  0.94649714 0.94011366]\n",
      "Testing Accuracy:  0.7886, f1_score : [0.76172453 0.7564692  0.8420325  0.8135461  0.8081672 ]\n"
     ]
    },
    {
     "data": {
      "image/png": "[encoded data removed]",
      "text/plain": [
       "<Figure size 864x360 with 2 Axes>"
      ]
     },
     "metadata": {
      "needs_background": "light",
      "tags": []
     },
     "output_type": "display_data"
    }
   ],
   "source": [
    "loss, accuracy,f1_score = model.evaluate(X_train_set, y_train, verbose=False)\n",
    "print(\"Training Accuracy: {:.4f}, f1_score : {}\".format(accuracy,f1_score))\n",
    "loss, accuracy,f1_score = model.evaluate(X_test_set, y_test, verbose=False)\n",
    "print(\"Testing Accuracy:  {:.4f}, f1_score : {}\".format(accuracy,f1_score))\n",
    "plot_history(history)"
   ]
  },
  {
   "cell_type": "markdown",
   "metadata": {
    "id": "7E_b6baB3BZ5"
   },
   "source": [
    "we can see that this model is the best model until now but we can do better than this"
   ]
  },
  {
   "cell_type": "code",
   "execution_count": null,
   "metadata": {
    "colab": {
     "base_uri": "https://localhost:8080/"
    },
    "executionInfo": {
     "elapsed": 1060,
     "status": "ok",
     "timestamp": 1608211600490,
     "user": {
      "displayName": "khalil hennara",
      "photoUrl": "",
      "userId": "12581719381754495507"
     },
     "user_tz": -120
    },
    "id": "nnuB5DuR257i",
    "outputId": "8b58966e-be32-4c16-812f-41993a7d34cc"
   },
   "outputs": [
    {
     "name": "stdout",
     "output_type": "stream",
     "text": [
      "WARNING:tensorflow:Layer gru will not use cuDNN kernel since it doesn't meet the cuDNN kernel criteria. It will use generic GPU kernel as fallback when running on GPU\n",
      "WARNING:tensorflow:Layer gru_1 will not use cuDNN kernel since it doesn't meet the cuDNN kernel criteria. It will use generic GPU kernel as fallback when running on GPU\n",
      "Model: \"sequential\"\n",
      "_________________________________________________________________\n",
      "Layer (type)                 Output Shape              Param #   \n",
      "=================================================================\n",
      "embedding (Embedding)        (None, 70, 300)           13746600  \n",
      "_________________________________________________________________\n",
      "gru (GRU)                    (None, 70, 128)           165120    \n",
      "_________________________________________________________________\n",
      "gru_1 (GRU)                  (None, 128)               99072     \n",
      "_________________________________________________________________\n",
      "dense (Dense)                (None, 5)                 645       \n",
      "=================================================================\n",
      "Total params: 14,011,437\n",
      "Trainable params: 14,011,437\n",
      "Non-trainable params: 0\n",
      "_________________________________________________________________\n"
     ]
    }
   ],
   "source": [
    "keras.backend.clear_session()\n",
    "model_2=keras.models.Sequential([\n",
    "          keras.layers.Embedding(input_dim=num_tokens,\n",
    "                                 output_dim=embading_dim,\n",
    "                                 embeddings_initializer=keras.initializers.Constant(embading_matrix),\n",
    "                                 trainable=True,\n",
    "                                 input_length=70),\n",
    "          keras.layers.GRU(128,return_sequences=True,recurrent_dropout=0.2,dropout=0.2),\n",
    "          keras.layers.GRU(128,recurrent_dropout=0.2,dropout=0.2),\n",
    "          keras.layers.Dense(5,activation='softmax')\n",
    "])\n",
    "model_2.summary()"
   ]
  },
  {
   "cell_type": "code",
   "execution_count": null,
   "metadata": {
    "id": "5nAdByW23pbY"
   },
   "outputs": [],
   "source": [
    "model_2.compile(loss='categorical_crossentropy',optimizer='rmsprop',metrics=['accuracy'])\n"
   ]
  },
  {
   "cell_type": "code",
   "execution_count": null,
   "metadata": {
    "id": "ADRDy9ZX30tt"
   },
   "outputs": [],
   "source": [
    "model_checkpoint=keras.callbacks.ModelCheckpoint('/content/drive/MyDrive/GRURNN_with_Regulaziation.h5',monitor='val_loss',save_best_only=True)\n",
    "erlay_stop=keras.callbacks.EarlyStopping(monitor='val_loss',patience=4)"
   ]
  },
  {
   "cell_type": "code",
   "execution_count": null,
   "metadata": {
    "colab": {
     "base_uri": "https://localhost:8080/"
    },
    "executionInfo": {
     "elapsed": 524275,
     "status": "ok",
     "timestamp": 1608215446964,
     "user": {
      "displayName": "khalil hennara",
      "photoUrl": "",
      "userId": "12581719381754495507"
     },
     "user_tz": -120
    },
    "id": "UXrsk3o438xE",
    "outputId": "05ba328b-8a4e-4eea-9313-106153003189"
   },
   "outputs": [
    {
     "name": "stdout",
     "output_type": "stream",
     "text": [
      "Epoch 1/15\n",
      "412/412 [==============================] - 323s 785ms/step - loss: 1.5563 - accuracy: 0.2858 - val_loss: 1.5714 - val_accuracy: 0.2513\n",
      "Epoch 2/15\n",
      "412/412 [==============================] - 326s 792ms/step - loss: 1.2762 - accuracy: 0.4410 - val_loss: 1.1488 - val_accuracy: 0.5086\n",
      "Epoch 3/15\n",
      "412/412 [==============================] - 324s 787ms/step - loss: 0.9003 - accuracy: 0.6424 - val_loss: 0.7861 - val_accuracy: 0.7102\n",
      "Epoch 4/15\n",
      "412/412 [==============================] - 323s 783ms/step - loss: 0.6935 - accuracy: 0.7410 - val_loss: 0.6520 - val_accuracy: 0.7667\n",
      "Epoch 5/15\n",
      "412/412 [==============================] - 314s 761ms/step - loss: 0.5759 - accuracy: 0.7899 - val_loss: 0.6527 - val_accuracy: 0.7589\n",
      "Epoch 6/15\n",
      "412/412 [==============================] - 326s 791ms/step - loss: 0.4882 - accuracy: 0.8251 - val_loss: 0.6162 - val_accuracy: 0.7761\n",
      "Epoch 7/15\n",
      "412/412 [==============================] - 325s 788ms/step - loss: 0.4121 - accuracy: 0.8557 - val_loss: 0.5919 - val_accuracy: 0.7759\n",
      "Epoch 8/15\n",
      "412/412 [==============================] - 325s 790ms/step - loss: 0.3529 - accuracy: 0.8760 - val_loss: 0.5900 - val_accuracy: 0.7887\n",
      "Epoch 9/15\n",
      "412/412 [==============================] - 307s 745ms/step - loss: 0.3089 - accuracy: 0.8921 - val_loss: 0.5942 - val_accuracy: 0.7904\n",
      "Epoch 10/15\n",
      "412/412 [==============================] - 309s 749ms/step - loss: 0.2624 - accuracy: 0.9084 - val_loss: 0.7238 - val_accuracy: 0.7652\n",
      "Epoch 11/15\n",
      "412/412 [==============================] - 309s 750ms/step - loss: 0.2268 - accuracy: 0.9230 - val_loss: 0.6690 - val_accuracy: 0.7813\n",
      "Epoch 12/15\n",
      "412/412 [==============================] - 308s 747ms/step - loss: 0.1975 - accuracy: 0.9340 - val_loss: 0.7358 - val_accuracy: 0.7683\n"
     ]
    }
   ],
   "source": [
    "with tf.device('/device:GPU:0'):\n",
    "  history=model_2.fit(X_train_set,y_train,epochs=15,validation_data=(X_val_set,y_val),batch_size=64,callbacks=[model_checkpoint,erlay_stop])"
   ]
  },
  {
   "cell_type": "code",
   "execution_count": null,
   "metadata": {
    "colab": {
     "base_uri": "https://localhost:8080/"
    },
    "executionInfo": {
     "elapsed": 10579,
     "status": "ok",
     "timestamp": 1608215509780,
     "user": {
      "displayName": "khalil hennara",
      "photoUrl": "",
      "userId": "12581719381754495507"
     },
     "user_tz": -120
    },
    "id": "t4Tg9B8n4HJp",
    "outputId": "91922c5f-2bfa-4ef2-fbe0-87124508dc0f"
   },
   "outputs": [
    {
     "name": "stdout",
     "output_type": "stream",
     "text": [
      "WARNING:tensorflow:Layer gru will not use cuDNN kernel since it doesn't meet the cuDNN kernel criteria. It will use generic GPU kernel as fallback when running on GPU\n",
      "WARNING:tensorflow:Layer gru_1 will not use cuDNN kernel since it doesn't meet the cuDNN kernel criteria. It will use generic GPU kernel as fallback when running on GPU\n"
     ]
    }
   ],
   "source": [
    "model_2=keras.models.load_model('/content/drive/MyDrive/GRURNN_with_Regulaziation.h5')"
   ]
  },
  {
   "cell_type": "code",
   "execution_count": null,
   "metadata": {
    "colab": {
     "base_uri": "https://localhost:8080/",
     "height": 371
    },
    "executionInfo": {
     "elapsed": 59892,
     "status": "ok",
     "timestamp": 1608215580650,
     "user": {
      "displayName": "khalil hennara",
      "photoUrl": "",
      "userId": "12581719381754495507"
     },
     "user_tz": -120
    },
    "id": "bTy8tIkIHRDt",
    "outputId": "1f81471d-5dc7-4393-dce3-e04f6ba0ac5b"
   },
   "outputs": [
    {
     "name": "stdout",
     "output_type": "stream",
     "text": [
      "Training Accuracy: 0.9189\n",
      "Testing Accuracy:  0.7889\n"
     ]
    },
    {
     "data": {
      "image/png": "[encoded data removed]",
      "text/plain": [
       "<Figure size 864x360 with 2 Axes>"
      ]
     },
     "metadata": {
      "needs_background": "light",
      "tags": []
     },
     "output_type": "display_data"
    }
   ],
   "source": [
    "loss, accuracy = model_2.evaluate(X_train_set, y_train, verbose=False)\n",
    "print(\"Training Accuracy: {:.4f}\".format(accuracy))\n",
    "loss, accuracy = model_2.evaluate(X_test_set, y_test, verbose=False)\n",
    "print(\"Testing Accuracy:  {:.4f}\".format(accuracy))\n",
    "plot_history(history)"
   ]
  },
  {
   "cell_type": "markdown",
   "metadata": {
    "id": "K1NRaWCpHqjn"
   },
   "source": [
    "as we can see the dropout layer make the model do better on the traning and generalize better on the testing now we should do some clean to the data and see how will do "
   ]
  },
  {
   "cell_type": "code",
   "execution_count": null,
   "metadata": {
    "colab": {
     "base_uri": "https://localhost:8080/"
    },
    "executionInfo": {
     "elapsed": 831,
     "status": "ok",
     "timestamp": 1608215789615,
     "user": {
      "displayName": "khalil hennara",
      "photoUrl": "",
      "userId": "12581719381754495507"
     },
     "user_tz": -120
    },
    "id": "A24HKYScISwe",
    "outputId": "179dfee7-dbfb-4f64-f481-b1c467b4c26c"
   },
   "outputs": [
    {
     "name": "stdout",
     "output_type": "stream",
     "text": [
      "[nltk_data] Downloading package stopwords to /root/nltk_data...\n",
      "[nltk_data]   Unzipping corpora/stopwords.zip.\n"
     ]
    },
    {
     "data": {
      "text/plain": [
       "True"
      ]
     },
     "execution_count": 31,
     "metadata": {
      "tags": []
     },
     "output_type": "execute_result"
    }
   ],
   "source": [
    "nltk.download('stopwords')"
   ]
  },
  {
   "cell_type": "code",
   "execution_count": null,
   "metadata": {
    "id": "ce3icoVaHWTz"
   },
   "outputs": [],
   "source": [
    "from nltk.corpus import stopwords\n",
    "STOPWORDS=stopwords.words('english')\n",
    "\n",
    "def remove_stop_word_less_than_3_charecter(data):\n",
    "  min_stop=[w for w in STOPWORDS if len(w)<=3]\n",
    "  word=data.split()\n",
    "  res=[w for w in word if w not in min_stop]\n",
    "  return ' '.join(res)"
   ]
  },
  {
   "cell_type": "code",
   "execution_count": null,
   "metadata": {
    "id": "GOrr0NgeJZzB"
   },
   "outputs": [],
   "source": [
    "def remove_hash(data):\n",
    "  words=data.split()\n",
    "  res=[w for w in words if '#' not in w]\n",
    "  return ' '.join(res)"
   ]
  },
  {
   "cell_type": "markdown",
   "metadata": {
    "id": "PuD0bWugKONB"
   },
   "source": [
    "These two function I am goning to use for cleaning stuf\n",
    "and I am gone use f1_score instade of accuracy"
   ]
  },
  {
   "cell_type": "code",
   "execution_count": null,
   "metadata": {
    "id": "MPbbc62TJ7Mc"
   },
   "outputs": [],
   "source": [
    "import tensorflow_addons  as tfa"
   ]
  },
  {
   "cell_type": "code",
   "execution_count": null,
   "metadata": {
    "id": "CMCj5NTlKHeo"
   },
   "outputs": [],
   "source": [
    "f1=tfa.metrics.F1Score(5)"
   ]
  },
  {
   "cell_type": "code",
   "execution_count": null,
   "metadata": {
    "colab": {
     "base_uri": "https://localhost:8080/"
    },
    "executionInfo": {
     "elapsed": 1403,
     "status": "ok",
     "timestamp": 1608219646309,
     "user": {
      "displayName": "khalil hennara",
      "photoUrl": "",
      "userId": "12581719381754495507"
     },
     "user_tz": -120
    },
    "id": "IdVKLEeLLOq8",
    "outputId": "3450990e-b44d-4755-f68c-62e5fed2f6ca"
   },
   "outputs": [
    {
     "name": "stdout",
     "output_type": "stream",
     "text": [
      "WARNING:tensorflow:Layer gru will not use cuDNN kernel since it doesn't meet the cuDNN kernel criteria. It will use generic GPU kernel as fallback when running on GPU\n",
      "WARNING:tensorflow:Layer gru_1 will not use cuDNN kernel since it doesn't meet the cuDNN kernel criteria. It will use generic GPU kernel as fallback when running on GPU\n",
      "Model: \"sequential\"\n",
      "_________________________________________________________________\n",
      "Layer (type)                 Output Shape              Param #   \n",
      "=================================================================\n",
      "embedding (Embedding)        (None, 70, 300)           13746600  \n",
      "_________________________________________________________________\n",
      "gru (GRU)                    (None, 70, 128)           165120    \n",
      "_________________________________________________________________\n",
      "gru_1 (GRU)                  (None, 128)               99072     \n",
      "_________________________________________________________________\n",
      "dense (Dense)                (None, 5)                 645       \n",
      "=================================================================\n",
      "Total params: 14,011,437\n",
      "Trainable params: 14,011,437\n",
      "Non-trainable params: 0\n",
      "_________________________________________________________________\n"
     ]
    }
   ],
   "source": [
    "keras.backend.clear_session()\n",
    "model_3=keras.models.Sequential([\n",
    "          keras.layers.Embedding(input_dim=num_tokens,\n",
    "                                 output_dim=embading_dim,\n",
    "                                 embeddings_initializer=keras.initializers.Constant(embading_matrix),\n",
    "                                 trainable=True,\n",
    "                                 input_length=70),\n",
    "          keras.layers.GRU(128,return_sequences=True,recurrent_dropout=0.2,dropout=0.2),\n",
    "          keras.layers.GRU(128,recurrent_dropout=0.2,dropout=0.2),\n",
    "          keras.layers.Dense(5,activation='softmax')\n",
    "])\n",
    "model_3.summary()"
   ]
  },
  {
   "cell_type": "code",
   "execution_count": null,
   "metadata": {
    "id": "P6sSZYGCMZJh"
   },
   "outputs": [],
   "source": [
    "model_3.compile(loss='categorical_crossentropy',optimizer='adam',metrics=['accuracy',f1])\n"
   ]
  },
  {
   "cell_type": "code",
   "execution_count": null,
   "metadata": {
    "id": "DWmSUqmNMhR-"
   },
   "outputs": [],
   "source": [
    "model_checkpoint=keras.callbacks.ModelCheckpoint('/content/drive/MyDrive/GRURNN_with_Regulaziation_with_f1Score.h5',monitor='val_loss',save_best_only=True)\n",
    "erlay_stop=keras.callbacks.EarlyStopping(monitor='val_loss',patience=4)"
   ]
  },
  {
   "cell_type": "code",
   "execution_count": null,
   "metadata": {
    "colab": {
     "base_uri": "https://localhost:8080/"
    },
    "executionInfo": {
     "elapsed": 163108,
     "status": "ok",
     "timestamp": 1608222504513,
     "user": {
      "displayName": "khalil hennara",
      "photoUrl": "",
      "userId": "12581719381754495507"
     },
     "user_tz": -120
    },
    "id": "ysE8IP8vMtkT",
    "outputId": "ebee0250-994a-4388-ce82-5a9836bfcbfb"
   },
   "outputs": [
    {
     "name": "stdout",
     "output_type": "stream",
     "text": [
      "Epoch 1/15\n",
      "412/412 [==============================] - 362s 879ms/step - loss: 1.5779 - accuracy: 0.2734 - f1_score: 0.1131 - val_loss: 1.5727 - val_accuracy: 0.2825 - val_f1_score: 0.0881\n",
      "Epoch 2/15\n",
      "412/412 [==============================] - 358s 868ms/step - loss: 1.3141 - accuracy: 0.4138 - f1_score: 0.3982 - val_loss: 0.9365 - val_accuracy: 0.6303 - val_f1_score: 0.6417\n",
      "Epoch 3/15\n",
      "412/412 [==============================] - 358s 869ms/step - loss: 0.6842 - accuracy: 0.7431 - f1_score: 0.7509 - val_loss: 0.6871 - val_accuracy: 0.7231 - val_f1_score: 0.7386\n",
      "Epoch 4/15\n",
      "412/412 [==============================] - 359s 872ms/step - loss: 0.4474 - accuracy: 0.8418 - f1_score: 0.8480 - val_loss: 0.6036 - val_accuracy: 0.7776 - val_f1_score: 0.7870\n",
      "Epoch 5/15\n",
      "412/412 [==============================] - 337s 818ms/step - loss: 0.3140 - accuracy: 0.8910 - f1_score: 0.8956 - val_loss: 0.6375 - val_accuracy: 0.7840 - val_f1_score: 0.7918\n",
      "Epoch 6/15\n",
      "412/412 [==============================] - 343s 833ms/step - loss: 0.2297 - accuracy: 0.9213 - f1_score: 0.9247 - val_loss: 0.6936 - val_accuracy: 0.7846 - val_f1_score: 0.7919\n",
      "Epoch 7/15\n",
      "412/412 [==============================] - 348s 846ms/step - loss: 0.1724 - accuracy: 0.9428 - f1_score: 0.9456 - val_loss: 0.8105 - val_accuracy: 0.7677 - val_f1_score: 0.7748\n",
      "Epoch 8/15\n",
      "412/412 [==============================] - 349s 846ms/step - loss: 0.1363 - accuracy: 0.9557 - f1_score: 0.9576 - val_loss: 0.8466 - val_accuracy: 0.7773 - val_f1_score: 0.7850\n"
     ]
    }
   ],
   "source": [
    "with tf.device('/device:GPU:0'):\n",
    "  history=model_3.fit(X_train_set,y_train,epochs=15,validation_data=(X_val_set,y_val),batch_size=64,callbacks=[model_checkpoint,erlay_stop])"
   ]
  },
  {
   "cell_type": "code",
   "execution_count": null,
   "metadata": {
    "colab": {
     "base_uri": "https://localhost:8080/"
    },
    "executionInfo": {
     "elapsed": 10564,
     "status": "ok",
     "timestamp": 1608222552395,
     "user": {
      "displayName": "khalil hennara",
      "photoUrl": "",
      "userId": "12581719381754495507"
     },
     "user_tz": -120
    },
    "id": "FjiUGtlVgFZI",
    "outputId": "e33425f0-5097-4925-a9fc-2704db3a6e57"
   },
   "outputs": [
    {
     "name": "stdout",
     "output_type": "stream",
     "text": [
      "WARNING:tensorflow:Layer gru will not use cuDNN kernel since it doesn't meet the cuDNN kernel criteria. It will use generic GPU kernel as fallback when running on GPU\n",
      "WARNING:tensorflow:Layer gru_1 will not use cuDNN kernel since it doesn't meet the cuDNN kernel criteria. It will use generic GPU kernel as fallback when running on GPU\n"
     ]
    }
   ],
   "source": [
    "model_3=keras.models.load_model('/content/drive/MyDrive/GRURNN_with_Regulaziation_with_f1Score.h5')"
   ]
  },
  {
   "cell_type": "code",
   "execution_count": null,
   "metadata": {
    "colab": {
     "base_uri": "https://localhost:8080/",
     "height": 425
    },
    "executionInfo": {
     "elapsed": 69242,
     "status": "ok",
     "timestamp": 1608223001489,
     "user": {
      "displayName": "khalil hennara",
      "photoUrl": "",
      "userId": "12581719381754495507"
     },
     "user_tz": -120
    },
    "id": "h3MKNYV1M0z2",
    "outputId": "5e0de948-a748-4c2b-a274-9a2b8dcec907"
   },
   "outputs": [
    {
     "name": "stdout",
     "output_type": "stream",
     "text": [
      "823/823 [==============================] - 52s 63ms/step - loss: 0.3017 - accuracy: 0.9037 - f1_score: 0.9096\n",
      "Training Accuracy:0.9037183523178101 , f1_score 0.909615159034729\n",
      "258/258 [==============================] - 16s 61ms/step - loss: 0.6089 - accuracy: 0.7780 - f1_score: 0.7858\n",
      "Testing Accuracy:  0.7780, f1_score 0.7858\n"
     ]
    },
    {
     "data": {
      "image/png": "[encoded data removed]",
      "text/plain": [
       "<Figure size 864x360 with 2 Axes>"
      ]
     },
     "metadata": {
      "needs_background": "light",
      "tags": []
     },
     "output_type": "display_data"
    }
   ],
   "source": [
    "\n",
    "loss, accuracy ,f1_score = model_3.evaluate(X_train_set, y_train)\n",
    "print(\"Training Accuracy:{} , f1_score {}\".format(accuracy,np.average(f1_score)))\n",
    "loss, accuracy ,f1_score = model_3.evaluate(X_test_set, y_test)\n",
    "print(\"Testing Accuracy:  {:.4f}, f1_score {:.4f}\".format(accuracy,np.mean(f1_score)))\n",
    "plot_history(history)"
   ]
  },
  {
   "cell_type": "markdown",
   "metadata": {
    "id": "Z2xLA3_QkHKb"
   },
   "source": [
    "we still have overfit"
   ]
  },
  {
   "cell_type": "code",
   "execution_count": null,
   "metadata": {
    "colab": {
     "base_uri": "https://localhost:8080/",
     "height": 407
    },
    "executionInfo": {
     "elapsed": 1213,
     "status": "ok",
     "timestamp": 1608223073012,
     "user": {
      "displayName": "khalil hennara",
      "photoUrl": "",
      "userId": "12581719381754495507"
     },
     "user_tz": -120
    },
    "id": "HWGvv8BgWHBl",
    "outputId": "16651b81-135d-4ba7-d4ee-83ed9143616f"
   },
   "outputs": [
    {
     "data": {
      "text/plain": [
       "[<matplotlib.lines.Line2D at 0x7f28f7c02438>,\n",
       " <matplotlib.lines.Line2D at 0x7f28f7916b38>,\n",
       " <matplotlib.lines.Line2D at 0x7f28f7916c88>,\n",
       " <matplotlib.lines.Line2D at 0x7f28f7916dd8>,\n",
       " <matplotlib.lines.Line2D at 0x7f28f7916f28>]"
      ]
     },
     "execution_count": 78,
     "metadata": {
      "tags": []
     },
     "output_type": "execute_result"
    },
    {
     "data": {
      "image/png": "[encoded data removed]",
      "text/plain": [
       "<Figure size 864x360 with 1 Axes>"
      ]
     },
     "metadata": {
      "needs_background": "light",
      "tags": []
     },
     "output_type": "display_data"
    }
   ],
   "source": [
    "f1_s=np.mean(history.history['f1_score'])\n",
    "f1_s_val=np.mean(history.history['val_f1_score'])\n",
    "x = range(1, len(f1_s) + 1)\n",
    "plt.figure(figsize=(12, 5))\n",
    "plt.plot(x, f1_s, 'b', label='Training acc')\n",
    "plt.plot(x, f1_s_val, 'r', label='Validation acc')"
   ]
  },
  {
   "cell_type": "markdown",
   "metadata": {
    "id": "_etANkDtkQ81"
   },
   "source": [
    "as we can see if we use f1_score we get evaluate for each class not all class togather and this give as \n",
    "more information about the class that model mis classification it\n"
   ]
  },
  {
   "cell_type": "markdown",
   "metadata": {},
   "source": [
    "**now we will remove stop word that have less than three charecter**"
   ]
  },
  {
   "cell_type": "code",
   "execution_count": null,
   "metadata": {
    "colab": {
     "base_uri": "https://localhost:8080/"
    },
    "executionInfo": {
     "elapsed": 5266,
     "status": "ok",
     "timestamp": 1608225352158,
     "user": {
      "displayName": "khalil hennara",
      "photoUrl": "",
      "userId": "12581719381754495507"
     },
     "user_tz": -120
    },
    "id": "6Nfe_IhwkJ2j",
    "outputId": "ebe7017e-d78e-47ed-a292-bcaeede49a9d"
   },
   "outputs": [
    {
     "name": "stdout",
     "output_type": "stream",
     "text": [
      "43721\n"
     ]
    }
   ],
   "source": [
    "train_set=pd.read_csv('/content/drive/MyDrive/train_df.csv')\n",
    "test_set=pd.read_csv('/content/drive/MyDrive/test_df.csv')\n",
    "\n",
    "train_set['clean_text_1']=train_set['clean_text'].apply(remove_stop_word_less_than_3_charecter)\n",
    "test_set['clean_text_1']=test_set['clean_text'].apply(remove_stop_word_less_than_3_charecter)\n",
    "\n",
    "X_train=train_set['clean_text_1'].values\n",
    "X_test=test_set['clean_text_1'].values\n",
    "y_train=train_set['NomericSentiment'].values\n",
    "y_test=test_set['NomericSentiment'].values\n",
    "\n",
    "X_train,X_val,y_train,y_val=model_selection.train_test_split(X_train,y_train,test_size=0.2,random_state=42)\n",
    "\n",
    "y_train=keras.utils.to_categorical(y_train,5)\n",
    "y_test=keras.utils.to_categorical(y_test,5)\n",
    "y_val=keras.utils.to_categorical(y_val,5)\n",
    "\n",
    "tokinizer=keras.preprocessing.text.Tokenizer(num_words=30000)\n",
    "tokinizer.fit_on_texts(train_set['clean_text_1'].values)\n",
    "\n",
    "vocab_size=len(tokinizer.word_index)+1\n",
    "print(vocab_size)\n",
    "\n",
    "X_train=tokinizer.texts_to_sequences(X_train)\n",
    "X_test=tokinizer.texts_to_sequences(X_test)\n",
    "X_val=tokinizer.texts_to_sequences(X_val)\n",
    "X_train_set=keras.preprocessing.sequence.pad_sequences(X_train,padding='post',maxlen=50)\n",
    "X_test_set=keras.preprocessing.sequence.pad_sequences(X_test,padding='post',maxlen=50)\n",
    "X_val_set=keras.preprocessing.sequence.pad_sequences(X_val,padding='post',maxlen=50)\n",
    "\n"
   ]
  },
  {
   "cell_type": "code",
   "execution_count": null,
   "metadata": {
    "colab": {
     "base_uri": "https://localhost:8080/"
    },
    "executionInfo": {
     "elapsed": 968,
     "status": "ok",
     "timestamp": 1608225354845,
     "user": {
      "displayName": "khalil hennara",
      "photoUrl": "",
      "userId": "12581719381754495507"
     },
     "user_tz": -120
    },
    "id": "9VaVfXgmkwT3",
    "outputId": "b2de398f-6851-4d0c-919a-168646271948"
   },
   "outputs": [
    {
     "name": "stdout",
     "output_type": "stream",
     "text": [
      "Hit : 27150 ,misses: 16570\n"
     ]
    }
   ],
   "source": [
    "embading_dim=300\n",
    "num_tokens=vocab_size\n",
    "hit=0\n",
    "miss=0\n",
    "\n",
    "embading_matrix=np.zeros((num_tokens,embading_dim))\n",
    "\n",
    "for word,value in tokinizer.word_index.items():\n",
    "  embading_vector=embading_index.get(word)\n",
    "  if embading_vector is not None:\n",
    "      embading_matrix[value]=embading_vector\n",
    "      hit+=1\n",
    "  else:miss+=1\n",
    "print(\"Hit : {} ,misses: {}\".format(hit,miss))"
   ]
  },
  {
   "cell_type": "code",
   "execution_count": null,
   "metadata": {
    "colab": {
     "base_uri": "https://localhost:8080/"
    },
    "executionInfo": {
     "elapsed": 993,
     "status": "ok",
     "timestamp": 1608226309333,
     "user": {
      "displayName": "khalil hennara",
      "photoUrl": "",
      "userId": "12581719381754495507"
     },
     "user_tz": -120
    },
    "id": "RXkiUkDLk2X-",
    "outputId": "6f7497f1-b0a2-41ff-936d-0ea6d1dd49f8"
   },
   "outputs": [
    {
     "name": "stdout",
     "output_type": "stream",
     "text": [
      "WARNING:tensorflow:Layer lstm will not use cuDNN kernel since it doesn't meet the cuDNN kernel criteria. It will use generic GPU kernel as fallback when running on GPU\n",
      "WARNING:tensorflow:Layer lstm_1 will not use cuDNN kernel since it doesn't meet the cuDNN kernel criteria. It will use generic GPU kernel as fallback when running on GPU\n",
      "Model: \"sequential\"\n",
      "_________________________________________________________________\n",
      "Layer (type)                 Output Shape              Param #   \n",
      "=================================================================\n",
      "embedding (Embedding)        (None, 50, 300)           13116300  \n",
      "_________________________________________________________________\n",
      "lstm (LSTM)                  (None, 50, 128)           219648    \n",
      "_________________________________________________________________\n",
      "lstm_1 (LSTM)                (None, 128)               131584    \n",
      "_________________________________________________________________\n",
      "dense (Dense)                (None, 5)                 645       \n",
      "=================================================================\n",
      "Total params: 13,468,177\n",
      "Trainable params: 13,468,177\n",
      "Non-trainable params: 0\n",
      "_________________________________________________________________\n"
     ]
    }
   ],
   "source": [
    "keras.backend.clear_session()\n",
    "model_4=keras.models.Sequential([\n",
    "          keras.layers.Embedding(input_dim=num_tokens,\n",
    "                                 output_dim=embading_dim,\n",
    "                                 embeddings_initializer=keras.initializers.Constant(embading_matrix),\n",
    "                                 trainable=True,\n",
    "                                 input_length=50),\n",
    "          keras.layers.LSTM(128,return_sequences=True,recurrent_dropout=0.2,dropout=0.2),\n",
    "          keras.layers.LSTM(128,recurrent_dropout=0.2,dropout=0.2),\n",
    "          keras.layers.Dense(5,activation='softmax')\n",
    "])\n",
    "model_4.summary()"
   ]
  },
  {
   "cell_type": "code",
   "execution_count": null,
   "metadata": {
    "id": "9zdak4XHk9Du"
   },
   "outputs": [],
   "source": [
    "model_4.compile(loss='categorical_crossentropy',optimizer='adam',metrics=['accuracy',f1])"
   ]
  },
  {
   "cell_type": "code",
   "execution_count": null,
   "metadata": {
    "id": "xvCLJzdilJlB"
   },
   "outputs": [],
   "source": [
    "model_checkpoint=keras.callbacks.ModelCheckpoint('/content/drive/MyDrive/LSTMRNN_with_Regulaziation_with_f1Score_and_Clan_StopWords.h5',monitor='val_loss',save_best_only=True)\n",
    "erlay_stop=keras.callbacks.EarlyStopping(monitor='val_loss',patience=5)"
   ]
  },
  {
   "cell_type": "code",
   "execution_count": null,
   "metadata": {
    "colab": {
     "base_uri": "https://localhost:8080/"
    },
    "executionInfo": {
     "elapsed": 2460159,
     "status": "ok",
     "timestamp": 1608228804627,
     "user": {
      "displayName": "khalil hennara",
      "photoUrl": "",
      "userId": "12581719381754495507"
     },
     "user_tz": -120
    },
    "id": "SQXsqpSVlSrC",
    "outputId": "ae39310d-fb90-4274-a117-17084f8c2173"
   },
   "outputs": [
    {
     "name": "stdout",
     "output_type": "stream",
     "text": [
      "Epoch 1/15\n",
      "412/412 [==============================] - 308s 748ms/step - loss: 1.1679 - accuracy: 0.5058 - f1_score: 0.5675 - val_loss: 0.9093 - val_accuracy: 0.6432 - val_f1_score: 0.6501\n",
      "Epoch 2/15\n",
      "412/412 [==============================] - 317s 768ms/step - loss: 0.7316 - accuracy: 0.7312 - f1_score: 0.7396 - val_loss: 0.7140 - val_accuracy: 0.7456 - val_f1_score: 0.7519\n",
      "Epoch 3/15\n",
      "412/412 [==============================] - 319s 774ms/step - loss: 0.5510 - accuracy: 0.8137 - f1_score: 0.8197 - val_loss: 0.7033 - val_accuracy: 0.7615 - val_f1_score: 0.7694\n",
      "Epoch 4/15\n",
      "412/412 [==============================] - 301s 730ms/step - loss: 0.4479 - accuracy: 0.8572 - f1_score: 0.8621 - val_loss: 0.7814 - val_accuracy: 0.7442 - val_f1_score: 0.7514\n",
      "Epoch 5/15\n",
      "412/412 [==============================] - 300s 729ms/step - loss: 0.3843 - accuracy: 0.8816 - f1_score: 0.8856 - val_loss: 0.8070 - val_accuracy: 0.7433 - val_f1_score: 0.7532\n",
      "Epoch 6/15\n",
      "412/412 [==============================] - 299s 725ms/step - loss: 0.3288 - accuracy: 0.8997 - f1_score: 0.9034 - val_loss: 0.8246 - val_accuracy: 0.7434 - val_f1_score: 0.7523\n",
      "Epoch 7/15\n",
      "412/412 [==============================] - 302s 734ms/step - loss: 0.2819 - accuracy: 0.9178 - f1_score: 0.9207 - val_loss: 0.8861 - val_accuracy: 0.7387 - val_f1_score: 0.7467\n",
      "Epoch 8/15\n",
      "412/412 [==============================] - 301s 729ms/step - loss: 0.2465 - accuracy: 0.9288 - f1_score: 0.9314 - val_loss: 0.9028 - val_accuracy: 0.7323 - val_f1_score: 0.7376\n"
     ]
    }
   ],
   "source": [
    "with tf.device('/device:GPU:0'):\n",
    "  history=model_4.fit(X_train_set,y_train,epochs=15,validation_data=(X_val_set,y_val),batch_size=64,callbacks=[model_checkpoint,erlay_stop])"
   ]
  },
  {
   "cell_type": "code",
   "execution_count": null,
   "metadata": {
    "colab": {
     "base_uri": "https://localhost:8080/"
    },
    "executionInfo": {
     "elapsed": 10596,
     "status": "ok",
     "timestamp": 1608228819936,
     "user": {
      "displayName": "khalil hennara",
      "photoUrl": "",
      "userId": "12581719381754495507"
     },
     "user_tz": -120
    },
    "id": "XE7E1Y7d5VMx",
    "outputId": "35354805-9293-42e6-cda5-ecd0d764d47e"
   },
   "outputs": [
    {
     "name": "stdout",
     "output_type": "stream",
     "text": [
      "WARNING:tensorflow:Layer lstm will not use cuDNN kernel since it doesn't meet the cuDNN kernel criteria. It will use generic GPU kernel as fallback when running on GPU\n",
      "WARNING:tensorflow:Layer lstm_1 will not use cuDNN kernel since it doesn't meet the cuDNN kernel criteria. It will use generic GPU kernel as fallback when running on GPU\n"
     ]
    }
   ],
   "source": [
    "model_4=keras.models.load_model('/content/drive/MyDrive/LSTMRNN_with_Regulaziation_with_f1Score_and_Clan_StopWords.h5')"
   ]
  },
  {
   "cell_type": "code",
   "execution_count": null,
   "metadata": {
    "colab": {
     "base_uri": "https://localhost:8080/",
     "height": 371
    },
    "executionInfo": {
     "elapsed": 53148,
     "status": "ok",
     "timestamp": 1608228960096,
     "user": {
      "displayName": "khalil hennara",
      "photoUrl": "",
      "userId": "12581719381754495507"
     },
     "user_tz": -120
    },
    "id": "jBCtIcLRv4y4",
    "outputId": "16fde411-dde7-4bdf-c1b5-b6e2a5eb3edc"
   },
   "outputs": [
    {
     "name": "stdout",
     "output_type": "stream",
     "text": [
      "Training Accuracy:0.8846 , f1_score [0.8737786  0.85671145 0.9018984  0.91504335 0.8969646 ]\n",
      "Testing Accuracy:  0.7560, f1_score [0.73406965 0.69856703 0.82241726 0.79852396 0.76313365]\n"
     ]
    },
    {
     "data": {
      "image/png": "[encoded data removed]",
      "text/plain": [
       "<Figure size 864x360 with 2 Axes>"
      ]
     },
     "metadata": {
      "needs_background": "light",
      "tags": []
     },
     "output_type": "display_data"
    }
   ],
   "source": [
    "loss, accuracy ,f1_score = model_4.evaluate(X_train_set, y_train,verbose=False)\n",
    "print(\"Training Accuracy:{:.4f} , f1_score {}\".format(accuracy,f1_score))\n",
    "loss, accuracy ,f1_score = model_4.evaluate(X_test_set, y_test,verbose=False)\n",
    "print(\"Testing Accuracy:  {:.4f}, f1_score {}\".format(accuracy,f1_score))\n",
    "plot_history(history)"
   ]
  },
  {
   "cell_type": "code",
   "execution_count": null,
   "metadata": {
    "colab": {
     "base_uri": "https://localhost:8080/",
     "height": 407
    },
    "executionInfo": {
     "elapsed": 2151,
     "status": "ok",
     "timestamp": 1608228986478,
     "user": {
      "displayName": "khalil hennara",
      "photoUrl": "",
      "userId": "12581719381754495507"
     },
     "user_tz": -120
    },
    "id": "Znmzwpv7lpH7",
    "outputId": "c471d0b0-5582-4b88-d867-2badd1f3b9ee"
   },
   "outputs": [
    {
     "data": {
      "text/plain": [
       "[<matplotlib.lines.Line2D at 0x7f28e6dc4160>,\n",
       " <matplotlib.lines.Line2D at 0x7f28e6dcd240>,\n",
       " <matplotlib.lines.Line2D at 0x7f28e6dcd390>,\n",
       " <matplotlib.lines.Line2D at 0x7f28e6dcd4e0>,\n",
       " <matplotlib.lines.Line2D at 0x7f28e6dcd630>]"
      ]
     },
     "execution_count": 124,
     "metadata": {
      "tags": []
     },
     "output_type": "execute_result"
    },
    {
     "data": {
      "image/png": "[encoded data removed]",
      "text/plain": [
       "<Figure size 864x360 with 1 Axes>"
      ]
     },
     "metadata": {
      "needs_background": "light",
      "tags": []
     },
     "output_type": "display_data"
    }
   ],
   "source": [
    "f1_s=history.history['f1_score']\n",
    "f1_s_val=history.history['val_f1_score']\n",
    "x = range(1, len(f1_s) + 1)\n",
    "plt.figure(figsize=(12, 5))\n",
    "plt.plot(x, f1_s, 'b', label='Training acc')\n",
    "plt.plot(x, f1_s_val, 'r', label='Validation acc')"
   ]
  },
  {
   "cell_type": "markdown",
   "metadata": {},
   "source": [
    "Its not good as befor so i thenk for now that remove stop words its not good idea"
   ]
  },
  {
   "cell_type": "markdown",
   "metadata": {
    "id": "4lhVd_z962bH"
   },
   "source": [
    "we will train lstm without remove stop word"
   ]
  },
  {
   "cell_type": "code",
   "execution_count": null,
   "metadata": {
    "colab": {
     "base_uri": "https://localhost:8080/"
    },
    "executionInfo": {
     "elapsed": 3099,
     "status": "ok",
     "timestamp": 1608230246357,
     "user": {
      "displayName": "khalil hennara",
      "photoUrl": "",
      "userId": "12581719381754495507"
     },
     "user_tz": -120
    },
    "id": "ZVeBZbtxsVAD",
    "outputId": "7fdfd14e-c3b7-4ba5-b94f-22dd62762ed1"
   },
   "outputs": [
    {
     "name": "stdout",
     "output_type": "stream",
     "text": [
      "Model: \"sequential\"\n",
      "_________________________________________________________________\n",
      "Layer (type)                 Output Shape              Param #   \n",
      "=================================================================\n",
      "embedding (Embedding)        (None, 70, 300)           13746600  \n",
      "_________________________________________________________________\n",
      "lstm (LSTM)                  (None, 70, 128)           219648    \n",
      "_________________________________________________________________\n",
      "lstm_1 (LSTM)                (None, 128)               131584    \n",
      "_________________________________________________________________\n",
      "dense (Dense)                (None, 32)                4128      \n",
      "_________________________________________________________________\n",
      "dropout (Dropout)            (None, 32)                0         \n",
      "_________________________________________________________________\n",
      "dense_1 (Dense)              (None, 5)                 165       \n",
      "=================================================================\n",
      "Total params: 14,102,125\n",
      "Trainable params: 14,102,125\n",
      "Non-trainable params: 0\n",
      "_________________________________________________________________\n"
     ]
    }
   ],
   "source": [
    "keras.backend.clear_session()\n",
    "model_5=keras.models.Sequential([\n",
    "          keras.layers.Embedding(input_dim=num_tokens,\n",
    "                                 output_dim=embading_dim,\n",
    "                                 embeddings_initializer=keras.initializers.Constant(embading_matrix),\n",
    "                                 trainable=True,\n",
    "                                 input_length=70),\n",
    "          keras.layers.LSTM(128,return_sequences=True),\n",
    "          keras.layers.LSTM(128),\n",
    "          keras.layers.Dense(32,activation='relu'),\n",
    "          keras.layers.Dropout(0.2),\n",
    "          keras.layers.Dense(5,activation='softmax')\n",
    "])\n",
    "model_5.summary()"
   ]
  },
  {
   "cell_type": "code",
   "execution_count": null,
   "metadata": {
    "id": "VZkclHTH7b_b"
   },
   "outputs": [],
   "source": [
    "model_5.compile(loss='categorical_crossentropy',optimizer='adam',metrics=['accuracy',f1])\n"
   ]
  },
  {
   "cell_type": "code",
   "execution_count": null,
   "metadata": {
    "id": "S3reDYEQ7hbo"
   },
   "outputs": [],
   "source": [
    "model_checkpoint=keras.callbacks.ModelCheckpoint('/content/drive/MyDrive/LSTMRNN_with_Regulaziation_with_f1Score_1.h5',monitor='val_loss',save_best_only=True)\n",
    "erlay_stop=keras.callbacks.EarlyStopping(monitor='val_loss',patience=5)"
   ]
  },
  {
   "cell_type": "code",
   "execution_count": null,
   "metadata": {
    "colab": {
     "base_uri": "https://localhost:8080/"
    },
    "executionInfo": {
     "elapsed": 753528,
     "status": "ok",
     "timestamp": 1608231025813,
     "user": {
      "displayName": "khalil hennara",
      "photoUrl": "",
      "userId": "12581719381754495507"
     },
     "user_tz": -120
    },
    "id": "XEn4QLxB7rYu",
    "outputId": "1dfa9623-e58b-473d-ab6b-6d2c7119d03d"
   },
   "outputs": [
    {
     "name": "stdout",
     "output_type": "stream",
     "text": [
      "Epoch 1/15\n",
      "412/412 [==============================] - 90s 218ms/step - loss: 1.4315 - accuracy: 0.3456 - f1_score: 0.4025 - val_loss: 1.2933 - val_accuracy: 0.4117 - val_f1_score: 0.3472\n",
      "Epoch 2/15\n",
      "412/412 [==============================] - 93s 226ms/step - loss: 1.2094 - accuracy: 0.4799 - f1_score: 0.4337 - val_loss: 1.1035 - val_accuracy: 0.5292 - val_f1_score: 0.4804\n",
      "Epoch 3/15\n",
      "412/412 [==============================] - 91s 221ms/step - loss: 0.8220 - accuracy: 0.6942 - f1_score: 0.7003 - val_loss: 0.7315 - val_accuracy: 0.7401 - val_f1_score: 0.7499\n",
      "Epoch 4/15\n",
      "412/412 [==============================] - 91s 221ms/step - loss: 0.5595 - accuracy: 0.8169 - f1_score: 0.8237 - val_loss: 0.6983 - val_accuracy: 0.7652 - val_f1_score: 0.7750\n",
      "Epoch 5/15\n",
      "412/412 [==============================] - 78s 188ms/step - loss: 0.4249 - accuracy: 0.8720 - f1_score: 0.8772 - val_loss: 0.7019 - val_accuracy: 0.7668 - val_f1_score: 0.7753\n",
      "Epoch 6/15\n",
      "412/412 [==============================] - 77s 186ms/step - loss: 0.3300 - accuracy: 0.9067 - f1_score: 0.9109 - val_loss: 0.7977 - val_accuracy: 0.7573 - val_f1_score: 0.7671\n",
      "Epoch 7/15\n",
      "412/412 [==============================] - 76s 185ms/step - loss: 0.2657 - accuracy: 0.9259 - f1_score: 0.9295 - val_loss: 0.8198 - val_accuracy: 0.7586 - val_f1_score: 0.7662\n",
      "Epoch 8/15\n",
      "412/412 [==============================] - 76s 184ms/step - loss: 0.2165 - accuracy: 0.9410 - f1_score: 0.9436 - val_loss: 0.9636 - val_accuracy: 0.7349 - val_f1_score: 0.7430\n",
      "Epoch 9/15\n",
      "412/412 [==============================] - 76s 184ms/step - loss: 0.1873 - accuracy: 0.9496 - f1_score: 0.9516 - val_loss: 0.9300 - val_accuracy: 0.7440 - val_f1_score: 0.7501\n"
     ]
    }
   ],
   "source": [
    "with tf.device('/device:GPU:0'):\n",
    "  history=model_5.fit(X_train_set,y_train,epochs=15,validation_data=(X_val_set,y_val),batch_size=64,callbacks=[model_checkpoint,erlay_stop])"
   ]
  },
  {
   "cell_type": "code",
   "execution_count": null,
   "metadata": {
    "id": "w3XzeFyn7xqr"
   },
   "outputs": [],
   "source": [
    "model_5=keras.models.load_model('/content/drive/MyDrive/LSTMRNN_with_Regulaziation_with_f1Score_1.h5')"
   ]
  },
  {
   "cell_type": "code",
   "execution_count": null,
   "metadata": {
    "colab": {
     "base_uri": "https://localhost:8080/",
     "height": 371
    },
    "executionInfo": {
     "elapsed": 21493,
     "status": "ok",
     "timestamp": 1608231072302,
     "user": {
      "displayName": "khalil hennara",
      "photoUrl": "",
      "userId": "12581719381754495507"
     },
     "user_tz": -120
    },
    "id": "jEAnTlTz_IN2",
    "outputId": "943fadf0-ef70-4a8d-f97e-2b0187863264"
   },
   "outputs": [
    {
     "name": "stdout",
     "output_type": "stream",
     "text": [
      "Training Accuracy:0.8834 , f1_score [0.8767314  0.8398455  0.91094035 0.92745745 0.89079165]\n",
      "Testing Accuracy:  0.7661, f1_score [0.74510676 0.7210418  0.8302544  0.79906726 0.7764815 ]\n"
     ]
    },
    {
     "data": {
      "image/png": "[encoded data removed]",
      "text/plain": [
       "<Figure size 864x360 with 2 Axes>"
      ]
     },
     "metadata": {
      "needs_background": "light",
      "tags": []
     },
     "output_type": "display_data"
    }
   ],
   "source": [
    "loss, accuracy ,f1_score = model_5.evaluate(X_train_set, y_train,verbose=False)\n",
    "print(\"Training Accuracy:{:.4f} , f1_score {}\".format(accuracy,f1_score))\n",
    "loss, accuracy ,f1_score = model_5.evaluate(X_test_set, y_test,verbose=False)\n",
    "print(\"Testing Accuracy:  {:.4f}, f1_score {}\".format(accuracy,f1_score))\n",
    "plot_history(history)"
   ]
  },
  {
   "cell_type": "code",
   "execution_count": null,
   "metadata": {
    "colab": {
     "base_uri": "https://localhost:8080/"
    },
    "executionInfo": {
     "elapsed": 2309,
     "status": "ok",
     "timestamp": 1608231152607,
     "user": {
      "displayName": "khalil hennara",
      "photoUrl": "",
      "userId": "12581719381754495507"
     },
     "user_tz": -120
    },
    "id": "Qu1K8AOt_NMi",
    "outputId": "db310023-2949-494d-eee2-c274efa3e8d6"
   },
   "outputs": [
    {
     "name": "stdout",
     "output_type": "stream",
     "text": [
      "Model: \"sequential\"\n",
      "_________________________________________________________________\n",
      "Layer (type)                 Output Shape              Param #   \n",
      "=================================================================\n",
      "embedding (Embedding)        (None, 70, 300)           13746600  \n",
      "_________________________________________________________________\n",
      "lstm (LSTM)                  (None, 128)               219648    \n",
      "_________________________________________________________________\n",
      "dense (Dense)                (None, 32)                4128      \n",
      "_________________________________________________________________\n",
      "dropout (Dropout)            (None, 32)                0         \n",
      "_________________________________________________________________\n",
      "dense_1 (Dense)              (None, 5)                 165       \n",
      "=================================================================\n",
      "Total params: 13,970,541\n",
      "Trainable params: 13,970,541\n",
      "Non-trainable params: 0\n",
      "_________________________________________________________________\n"
     ]
    }
   ],
   "source": [
    "keras.backend.clear_session()\n",
    "model_6=keras.models.Sequential([\n",
    "          keras.layers.Embedding(input_dim=num_tokens,\n",
    "                                 output_dim=embading_dim,\n",
    "                                 embeddings_initializer=keras.initializers.Constant(embading_matrix),\n",
    "                                 trainable=True,\n",
    "                                 input_length=70),\n",
    "          keras.layers.LSTM(128),\n",
    "          keras.layers.Dense(32,activation='relu'),\n",
    "          keras.layers.Dropout(0.2),\n",
    "          keras.layers.Dense(5,activation='softmax')\n",
    "])\n",
    "model_6.summary()"
   ]
  },
  {
   "cell_type": "code",
   "execution_count": null,
   "metadata": {
    "id": "LviiUMzVC-Iy"
   },
   "outputs": [],
   "source": [
    "model_6.compile(loss='categorical_crossentropy',optimizer='adam',metrics=['accuracy',f1])"
   ]
  },
  {
   "cell_type": "code",
   "execution_count": null,
   "metadata": {
    "id": "Km0ppWTuDHNm"
   },
   "outputs": [],
   "source": [
    "model_checkpoint=keras.callbacks.ModelCheckpoint('/content/drive/MyDrive/LSTMRNN_with_Regulaziation_with_f1Score_2.h5',monitor='val_loss',save_best_only=True)\n",
    "erlay_stop=keras.callbacks.EarlyStopping(monitor='val_loss',patience=5)"
   ]
  },
  {
   "cell_type": "code",
   "execution_count": null,
   "metadata": {
    "colab": {
     "base_uri": "https://localhost:8080/"
    },
    "executionInfo": {
     "elapsed": 605207,
     "status": "ok",
     "timestamp": 1608231834887,
     "user": {
      "displayName": "khalil hennara",
      "photoUrl": "",
      "userId": "12581719381754495507"
     },
     "user_tz": -120
    },
    "id": "Hyx_pB4-DMxi",
    "outputId": "6c18be50-e47d-41b4-bf9a-9506930b81ae"
   },
   "outputs": [
    {
     "name": "stdout",
     "output_type": "stream",
     "text": [
      "Epoch 1/15\n",
      "412/412 [==============================] - 82s 200ms/step - loss: 1.4473 - accuracy: 0.3396 - f1_score: 0.4057 - val_loss: 1.1566 - val_accuracy: 0.5162 - val_f1_score: 0.5323\n",
      "Epoch 2/15\n",
      "412/412 [==============================] - 85s 205ms/step - loss: 0.9695 - accuracy: 0.6252 - f1_score: 0.6377 - val_loss: 0.8102 - val_accuracy: 0.6998 - val_f1_score: 0.7115\n",
      "Epoch 3/15\n",
      "412/412 [==============================] - 84s 204ms/step - loss: 0.7066 - accuracy: 0.7557 - f1_score: 0.7644 - val_loss: 0.7064 - val_accuracy: 0.7491 - val_f1_score: 0.7579\n",
      "Epoch 4/15\n",
      "412/412 [==============================] - 70s 171ms/step - loss: 0.5283 - accuracy: 0.8347 - f1_score: 0.8402 - val_loss: 0.7132 - val_accuracy: 0.7621 - val_f1_score: 0.7702\n",
      "Epoch 5/15\n",
      "412/412 [==============================] - 70s 170ms/step - loss: 0.4257 - accuracy: 0.8759 - f1_score: 0.8803 - val_loss: 0.7258 - val_accuracy: 0.7600 - val_f1_score: 0.7687\n",
      "Epoch 6/15\n",
      "412/412 [==============================] - 70s 169ms/step - loss: 0.3187 - accuracy: 0.9094 - f1_score: 0.9132 - val_loss: 0.7400 - val_accuracy: 0.7524 - val_f1_score: 0.7617\n",
      "Epoch 7/15\n",
      "412/412 [==============================] - 70s 169ms/step - loss: 0.2527 - accuracy: 0.9289 - f1_score: 0.9321 - val_loss: 0.8563 - val_accuracy: 0.7518 - val_f1_score: 0.7602\n",
      "Epoch 8/15\n",
      "412/412 [==============================] - 70s 169ms/step - loss: 0.2103 - accuracy: 0.9421 - f1_score: 0.9447 - val_loss: 0.9201 - val_accuracy: 0.7454 - val_f1_score: 0.7539\n"
     ]
    }
   ],
   "source": [
    "with tf.device('/device:GPU:0'):\n",
    "  history=model_6.fit(X_train_set,y_train,epochs=15,validation_data=(X_val_set,y_val),batch_size=64,callbacks=[model_checkpoint,erlay_stop])"
   ]
  },
  {
   "cell_type": "code",
   "execution_count": null,
   "metadata": {
    "colab": {
     "base_uri": "https://localhost:8080/",
     "height": 371
    },
    "executionInfo": {
     "elapsed": 11678,
     "status": "ok",
     "timestamp": 1608231905163,
     "user": {
      "displayName": "khalil hennara",
      "photoUrl": "",
      "userId": "12581719381754495507"
     },
     "user_tz": -120
    },
    "id": "quIvA7UaDRUt",
    "outputId": "26483490-ea4b-4641-f033-b5372441ea97"
   },
   "outputs": [
    {
     "name": "stdout",
     "output_type": "stream",
     "text": [
      "Training Accuracy:0.9589 , f1_score [0.95200866 0.95547754 0.9457381  0.9729029  0.9803363 ]\n",
      "Testing Accuracy:  0.7550, f1_score [0.7371123  0.71978563 0.78858715 0.79442775 0.7672658 ]\n"
     ]
    },
    {
     "data": {
      "image/png": "[encoded data removed]",
      "text/plain": [
       "<Figure size 864x360 with 2 Axes>"
      ]
     },
     "metadata": {
      "needs_background": "light",
      "tags": []
     },
     "output_type": "display_data"
    }
   ],
   "source": [
    "loss, accuracy ,f1_score = model_6.evaluate(X_train_set, y_train,verbose=False)\n",
    "print(\"Training Accuracy:{:.4f} , f1_score {}\".format(accuracy,f1_score))\n",
    "loss, accuracy ,f1_score = model_6.evaluate(X_test_set, y_test,verbose=False)\n",
    "print(\"Testing Accuracy:  {:.4f}, f1_score {}\".format(accuracy,f1_score))\n",
    "plot_history(history)"
   ]
  },
  {
   "cell_type": "markdown",
   "metadata": {
    "id": "2O1zhcPgW4c5"
   },
   "source": [
    "we will train The binary classification on The model we chose GRU_with_regulaziation_clean_# and we will see the result and compare all result of the models we train so far"
   ]
  },
  {
   "cell_type": "code",
   "execution_count": 20,
   "metadata": {
    "colab": {
     "base_uri": "https://localhost:8080/"
    },
    "executionInfo": {
     "elapsed": 2411,
     "status": "ok",
     "timestamp": 1608302158735,
     "user": {
      "displayName": "khalil hennara",
      "photoUrl": "",
      "userId": "12581719381754495507"
     },
     "user_tz": -120
    },
    "id": "HdhJUDvGFzYZ",
    "outputId": "9a741653-7601-451d-d2ff-fd0905c1e736"
   },
   "outputs": [
    {
     "name": "stdout",
     "output_type": "stream",
     "text": [
      "40518\n"
     ]
    }
   ],
   "source": [
    "train_set=pd.read_csv('/content/drive/MyDrive/train_df.csv')\n",
    "test_set=pd.read_csv('/content/drive/MyDrive/test_df.csv')\n",
    "\n",
    "train_set['clean_text_1']=train_set['clean_text'].apply(remove_just_Hash)\n",
    "test_set['clean_text_1']=test_set['clean_text'].apply(remove_just_Hash)\n",
    "\n",
    "dic={0:0,1:1,3:0,4:1}\n",
    "\n",
    "train_set=train_set[train_set['NomericSentiment']!=2]\n",
    "test_set=test_set[test_set['NomericSentiment']!=2]\n",
    "\n",
    "train_set['label']=train_set['NomericSentiment'].apply(lambda x:dic[x])\n",
    "test_set['label']=test_set['NomericSentiment'].apply(lambda x:dic[x])\n",
    "\n",
    "X_train=train_set['clean_text_1'].values\n",
    "X_test=test_set['clean_text_1'].values\n",
    "y_train=train_set['label'].values\n",
    "y_test=test_set['label'].values\n",
    "\n",
    "\n",
    "X_train,X_val,y_train,y_val=model_selection.train_test_split(X_train,y_train,test_size=0.2,stratify=train_set['label'],random_state=42)\n",
    "\n",
    "# y_train=keras.utils.to_categorical(y_train,2)\n",
    "# y_test=keras.utils.to_categorical(y_test,2)\n",
    "# y_val=keras.utils.to_categorical(y_val,2)\n",
    "y_train=y_train.astype(np.uint8)\n",
    "y_test=y_test.astype(np.uint8)\n",
    "y_val=y_val.astype(np.uint8)\n",
    "\n",
    "tokinizer=keras.preprocessing.text.Tokenizer(num_words=30000)\n",
    "tokinizer.fit_on_texts(train_set['clean_text_1'].values)\n",
    "\n",
    "vocab_size=len(tokinizer.word_index)+1\n",
    "print(vocab_size)\n",
    "\n",
    "X_train=tokinizer.texts_to_sequences(X_train)\n",
    "X_test=tokinizer.texts_to_sequences(X_test)\n",
    "X_val=tokinizer.texts_to_sequences(X_val)\n",
    "X_train_set=keras.preprocessing.sequence.pad_sequences(X_train,padding='post',maxlen=70)\n",
    "X_test_set=keras.preprocessing.sequence.pad_sequences(X_test,padding='post',maxlen=70)\n",
    "X_val_set=keras.preprocessing.sequence.pad_sequences(X_val,padding='post',maxlen=70)\n",
    "\n"
   ]
  },
  {
   "cell_type": "code",
   "execution_count": 22,
   "metadata": {
    "colab": {
     "base_uri": "https://localhost:8080/"
    },
    "executionInfo": {
     "elapsed": 18973,
     "status": "ok",
     "timestamp": 1608302209097,
     "user": {
      "displayName": "khalil hennara",
      "photoUrl": "",
      "userId": "12581719381754495507"
     },
     "user_tz": -120
    },
    "id": "Gj2jrIRaO1Kd",
    "outputId": "82ab1348-20e4-4d02-b98d-56e03008f5e8"
   },
   "outputs": [
    {
     "name": "stdout",
     "output_type": "stream",
     "text": [
      "Found 400000 word vector\n",
      "Hit : 25086 ,misses: 15431\n"
     ]
    }
   ],
   "source": [
    "embading_index={}\n",
    "path = '/content/glove.6B.300d.txt'\n",
    "with open(path) as f:\n",
    "  for line in f:\n",
    "    key,value=line.split(maxsplit=1)\n",
    "    value=np.fromstring(value,\"f\",sep=\" \")\n",
    "    embading_index[key]=value\n",
    "\n",
    "print(\"Found {} word vector\".format(len(embading_index)))\n",
    "\n",
    "embading_dim=300\n",
    "num_tokens=vocab_size\n",
    "hit=0\n",
    "miss=0\n",
    "\n",
    "embading_matrix=np.zeros((num_tokens,embading_dim))\n",
    "\n",
    "for word,value in tokinizer.word_index.items():\n",
    "  embading_vector=embading_index.get(word)\n",
    "  if embading_vector is not None:\n",
    "      embading_matrix[value]=embading_vector\n",
    "      hit+=1\n",
    "  else:miss+=1\n",
    "print(\"Hit : {} ,misses: {}\".format(hit,miss))"
   ]
  },
  {
   "cell_type": "code",
   "execution_count": 23,
   "metadata": {
    "colab": {
     "base_uri": "https://localhost:8080/"
    },
    "executionInfo": {
     "elapsed": 7674,
     "status": "ok",
     "timestamp": 1608302278017,
     "user": {
      "displayName": "khalil hennara",
      "photoUrl": "",
      "userId": "12581719381754495507"
     },
     "user_tz": -120
    },
    "id": "PPaw9jy3R92S",
    "outputId": "17ed5888-5daa-43aa-e6fc-476391e08fd7"
   },
   "outputs": [
    {
     "name": "stdout",
     "output_type": "stream",
     "text": [
      "WARNING:tensorflow:Layer lstm will not use cuDNN kernel since it doesn't meet the cuDNN kernel criteria. It will use generic GPU kernel as fallback when running on GPU\n",
      "Model: \"sequential\"\n",
      "_________________________________________________________________\n",
      "Layer (type)                 Output Shape              Param #   \n",
      "=================================================================\n",
      "embedding (Embedding)        (None, 70, 300)           12155400  \n",
      "_________________________________________________________________\n",
      "lstm (LSTM)                  (None, 70, 128)           219648    \n",
      "_________________________________________________________________\n",
      "lstm_1 (LSTM)                (None, 128)               131584    \n",
      "_________________________________________________________________\n",
      "dropout (Dropout)            (None, 128)               0         \n",
      "_________________________________________________________________\n",
      "dense (Dense)                (None, 1)                 129       \n",
      "=================================================================\n",
      "Total params: 12,506,761\n",
      "Trainable params: 12,506,761\n",
      "Non-trainable params: 0\n",
      "_________________________________________________________________\n"
     ]
    }
   ],
   "source": [
    "keras.backend.clear_session()\n",
    "model=keras.models.Sequential([\n",
    "          keras.layers.Embedding(input_dim=num_tokens,\n",
    "                                 output_dim=embading_dim,\n",
    "                                 embeddings_initializer=keras.initializers.Constant(embading_matrix),\n",
    "                                 trainable=True,\n",
    "                                 input_length=70),\n",
    "          keras.layers.LSTM(128,return_sequences=True,recurrent_dropout=0.2),\n",
    "          keras.layers.LSTM(128),\n",
    "          keras.layers.Dropout(0.2),\n",
    "          keras.layers.Dense(1,activation='sigmoid')\n",
    "])\n",
    "model.summary()"
   ]
  },
  {
   "cell_type": "code",
   "execution_count": 25,
   "metadata": {
    "executionInfo": {
     "elapsed": 7510,
     "status": "ok",
     "timestamp": 1608302471074,
     "user": {
      "displayName": "khalil hennara",
      "photoUrl": "",
      "userId": "12581719381754495507"
     },
     "user_tz": -120
    },
    "id": "J79Lc1KgSlpJ"
   },
   "outputs": [],
   "source": [
    "model.compile(loss='binary_crossentropy',optimizer='rmsprop',metrics=['accuracy'])\n",
    "\n",
    "check_point=keras.callbacks.ModelCheckpoint('/content/drive/MyDrive/Binary_Classifaction.h5',save_best_only=True,monitor='val_loss')\n",
    "early_stop=keras.callbacks.EarlyStopping(monitor='val_loss',patience=5)"
   ]
  },
  {
   "cell_type": "code",
   "execution_count": 27,
   "metadata": {
    "colab": {
     "base_uri": "https://localhost:8080/"
    },
    "executionInfo": {
     "elapsed": 837656,
     "status": "ok",
     "timestamp": 1608304957344,
     "user": {
      "displayName": "khalil hennara",
      "photoUrl": "",
      "userId": "12581719381754495507"
     },
     "user_tz": -120
    },
    "id": "fFiXKt5vTAmr",
    "outputId": "496c1be0-814f-4afc-98d3-db518a678cfa"
   },
   "outputs": [
    {
     "name": "stdout",
     "output_type": "stream",
     "text": [
      "Epoch 1/20\n",
      "669/669 [==============================] - 172s 244ms/step - loss: 0.6769 - accuracy: 0.5716 - val_loss: 0.6904 - val_accuracy: 0.5395\n",
      "Epoch 2/20\n",
      "669/669 [==============================] - 166s 248ms/step - loss: 0.6900 - accuracy: 0.5404 - val_loss: 0.6675 - val_accuracy: 0.5947\n",
      "Epoch 3/20\n",
      "669/669 [==============================] - 167s 250ms/step - loss: 0.6773 - accuracy: 0.5654 - val_loss: 0.6542 - val_accuracy: 0.5720\n",
      "Epoch 4/20\n",
      "669/669 [==============================] - 167s 249ms/step - loss: 0.5847 - accuracy: 0.6957 - val_loss: 0.4824 - val_accuracy: 0.7735\n",
      "Epoch 5/20\n",
      "669/669 [==============================] - 167s 249ms/step - loss: 0.4563 - accuracy: 0.8042 - val_loss: 0.4239 - val_accuracy: 0.8236\n",
      "Epoch 6/20\n",
      "669/669 [==============================] - 167s 249ms/step - loss: 0.3419 - accuracy: 0.8679 - val_loss: 0.3837 - val_accuracy: 0.8329\n",
      "Epoch 7/20\n",
      "669/669 [==============================] - 167s 250ms/step - loss: 0.2538 - accuracy: 0.9090 - val_loss: 0.3021 - val_accuracy: 0.8873\n",
      "Epoch 8/20\n",
      "669/669 [==============================] - 167s 250ms/step - loss: 0.1875 - accuracy: 0.9323 - val_loss: 0.2885 - val_accuracy: 0.8875\n",
      "Epoch 9/20\n",
      "669/669 [==============================] - 165s 247ms/step - loss: 0.1417 - accuracy: 0.9520 - val_loss: 0.2820 - val_accuracy: 0.8903\n",
      "Epoch 10/20\n",
      "669/669 [==============================] - 166s 249ms/step - loss: 0.1115 - accuracy: 0.9601 - val_loss: 0.3288 - val_accuracy: 0.8789\n",
      "Epoch 11/20\n",
      "669/669 [==============================] - 167s 249ms/step - loss: 0.0901 - accuracy: 0.9688 - val_loss: 0.3890 - val_accuracy: 0.8875\n",
      "Epoch 12/20\n",
      "669/669 [==============================] - 166s 249ms/step - loss: 0.0677 - accuracy: 0.9777 - val_loss: 0.3874 - val_accuracy: 0.8873\n",
      "Epoch 13/20\n",
      "669/669 [==============================] - 165s 247ms/step - loss: 0.0491 - accuracy: 0.9851 - val_loss: 0.4969 - val_accuracy: 0.8796\n",
      "Epoch 14/20\n",
      "669/669 [==============================] - 167s 249ms/step - loss: 0.0389 - accuracy: 0.9882 - val_loss: 0.5310 - val_accuracy: 0.8815\n"
     ]
    }
   ],
   "source": [
    "with tf.device('/device:GPU:0'):\n",
    "  history=model.fit(X_train_set,y_train,epochs=20,validation_data=(X_val_set,y_val),batch_size=32,callbacks=[check_point,early_stop])"
   ]
  },
  {
   "cell_type": "code",
   "execution_count": 28,
   "metadata": {
    "colab": {
     "base_uri": "https://localhost:8080/"
    },
    "executionInfo": {
     "elapsed": 8774,
     "status": "ok",
     "timestamp": 1608304972962,
     "user": {
      "displayName": "khalil hennara",
      "photoUrl": "",
      "userId": "12581719381754495507"
     },
     "user_tz": -120
    },
    "id": "WfFfbu8LYJc3",
    "outputId": "f038f8ff-384b-4d7a-f1e2-4cf46d80f74c"
   },
   "outputs": [
    {
     "name": "stdout",
     "output_type": "stream",
     "text": [
      "WARNING:tensorflow:Layer lstm will not use cuDNN kernel since it doesn't meet the cuDNN kernel criteria. It will use generic GPU kernel as fallback when running on GPU\n"
     ]
    }
   ],
   "source": [
    "model=keras.models.load_model('/content/drive/MyDrive/Binary_Classifaction.h5')"
   ]
  },
  {
   "cell_type": "code",
   "execution_count": 31,
   "metadata": {
    "colab": {
     "base_uri": "https://localhost:8080/"
    },
    "executionInfo": {
     "elapsed": 16264,
     "status": "ok",
     "timestamp": 1608305046888,
     "user": {
      "displayName": "khalil hennara",
      "photoUrl": "",
      "userId": "12581719381754495507"
     },
     "user_tz": -120
    },
    "id": "zlXh6-oaXWrt",
    "outputId": "8d496fd6-0990-4e34-db4a-0b729a3c9f22"
   },
   "outputs": [
    {
     "name": "stdout",
     "output_type": "stream",
     "text": [
      "Training Accuracy:0.9644 \n",
      "Testing Accuracy:  0.8927\n"
     ]
    }
   ],
   "source": [
    "loss, accuracy = model.evaluate(X_train_set, y_train,verbose=False)\n",
    "print(\"Training Accuracy:{:.4f} \".format(accuracy))\n",
    "loss, accuracy = model.evaluate(X_test_set, y_test,verbose=False)\n",
    "print(\"Testing Accuracy:  {:.4f}\".format(accuracy))"
   ]
  },
  {
   "cell_type": "code",
   "execution_count": 34,
   "metadata": {
    "colab": {
     "base_uri": "https://localhost:8080/",
     "height": 336
    },
    "executionInfo": {
     "elapsed": 1220,
     "status": "ok",
     "timestamp": 1608305096789,
     "user": {
      "displayName": "khalil hennara",
      "photoUrl": "",
      "userId": "12581719381754495507"
     },
     "user_tz": -120
    },
    "id": "Td4ARPdkTMsy",
    "outputId": "3c0df459-878c-412d-9159-c3858846ec8c"
   },
   "outputs": [
    {
     "data": {
      "image/png": "[encoded data removed]",
      "text/plain": [
       "<Figure size 864x360 with 2 Axes>"
      ]
     },
     "metadata": {
      "needs_background": "light",
      "tags": []
     },
     "output_type": "display_data"
    }
   ],
   "source": [
    "plot_history(history)\n"
   ]
  },
  {
   "cell_type": "markdown",
   "metadata": {
    "id": "Z_xyDptidMMK"
   },
   "source": [
    "we have overfit but its do much better than classification with 5 category"
   ]
  },
  {
   "cell_type": "markdown",
   "metadata": {
    "id": "xu4mtXSrdcZ4"
   },
   "source": [
    "we will try to training another model and hope to do better than this model"
   ]
  },
  {
   "cell_type": "code",
   "execution_count": 35,
   "metadata": {
    "colab": {
     "base_uri": "https://localhost:8080/"
    },
    "executionInfo": {
     "elapsed": 2325,
     "status": "ok",
     "timestamp": 1608305328983,
     "user": {
      "displayName": "khalil hennara",
      "photoUrl": "",
      "userId": "12581719381754495507"
     },
     "user_tz": -120
    },
    "id": "vsYPR0_Ac5zZ",
    "outputId": "6a829fbc-0c8e-4a93-a086-2ae8e222c67b"
   },
   "outputs": [
    {
     "name": "stdout",
     "output_type": "stream",
     "text": [
      "Model: \"sequential\"\n",
      "_________________________________________________________________\n",
      "Layer (type)                 Output Shape              Param #   \n",
      "=================================================================\n",
      "embedding (Embedding)        (None, 70, 300)           12155400  \n",
      "_________________________________________________________________\n",
      "lstm (LSTM)                  (None, 70, 128)           219648    \n",
      "_________________________________________________________________\n",
      "global_max_pooling1d (Global (None, 128)               0         \n",
      "_________________________________________________________________\n",
      "dense (Dense)                (None, 32)                4128      \n",
      "_________________________________________________________________\n",
      "dropout (Dropout)            (None, 32)                0         \n",
      "_________________________________________________________________\n",
      "dense_1 (Dense)              (None, 1)                 33        \n",
      "=================================================================\n",
      "Total params: 12,379,209\n",
      "Trainable params: 12,379,209\n",
      "Non-trainable params: 0\n",
      "_________________________________________________________________\n"
     ]
    }
   ],
   "source": [
    "keras.backend.clear_session()\n",
    "model=keras.models.Sequential([\n",
    "          keras.layers.Embedding(input_dim=num_tokens,\n",
    "                                 output_dim=embading_dim,\n",
    "                                 embeddings_initializer=keras.initializers.Constant(embading_matrix),\n",
    "                                 trainable=True,\n",
    "                                 input_length=70),\n",
    "          keras.layers.LSTM(128,return_sequences=True),\n",
    "          keras.layers.GlobalMaxPool1D(),\n",
    "          keras.layers.Dense(32,activation='relu'),\n",
    "          keras.layers.Dropout(0.2),\n",
    "          keras.layers.Dense(1,activation='sigmoid')\n",
    "])\n",
    "model.summary()"
   ]
  },
  {
   "cell_type": "code",
   "execution_count": 36,
   "metadata": {
    "executionInfo": {
     "elapsed": 1042,
     "status": "ok",
     "timestamp": 1608305395697,
     "user": {
      "displayName": "khalil hennara",
      "photoUrl": "",
      "userId": "12581719381754495507"
     },
     "user_tz": -120
    },
    "id": "iNlyJgsCd7mm"
   },
   "outputs": [],
   "source": [
    "model.compile(loss='binary_crossentropy',optimizer='rmsprop',metrics=['accuracy'])\n",
    "\n",
    "check_point=keras.callbacks.ModelCheckpoint('/content/drive/MyDrive/Binary_Classifaction_2.h5',save_best_only=True,monitor='val_loss')\n",
    "early_stop=keras.callbacks.EarlyStopping(monitor='val_loss',patience=5)"
   ]
  },
  {
   "cell_type": "code",
   "execution_count": 37,
   "metadata": {
    "colab": {
     "base_uri": "https://localhost:8080/"
    },
    "executionInfo": {
     "elapsed": 271679,
     "status": "ok",
     "timestamp": 1608305683163,
     "user": {
      "displayName": "khalil hennara",
      "photoUrl": "",
      "userId": "12581719381754495507"
     },
     "user_tz": -120
    },
    "id": "1cJ3lkedeMMZ",
    "outputId": "68e3fcdd-091d-4cad-b63f-060368beb56f"
   },
   "outputs": [
    {
     "name": "stdout",
     "output_type": "stream",
     "text": [
      "Epoch 1/20\n",
      "669/669 [==============================] - 33s 47ms/step - loss: 0.5081 - accuracy: 0.7411 - val_loss: 0.3162 - val_accuracy: 0.8703\n",
      "Epoch 2/20\n",
      "669/669 [==============================] - 34s 51ms/step - loss: 0.2611 - accuracy: 0.8962 - val_loss: 0.2702 - val_accuracy: 0.8894\n",
      "Epoch 3/20\n",
      "669/669 [==============================] - 28s 42ms/step - loss: 0.1691 - accuracy: 0.9323 - val_loss: 0.2649 - val_accuracy: 0.8946\n",
      "Epoch 4/20\n",
      "669/669 [==============================] - 28s 42ms/step - loss: 0.1158 - accuracy: 0.9584 - val_loss: 0.2895 - val_accuracy: 0.8963\n",
      "Epoch 5/20\n",
      "669/669 [==============================] - 28s 41ms/step - loss: 0.0634 - accuracy: 0.9787 - val_loss: 0.3703 - val_accuracy: 0.8830\n",
      "Epoch 6/20\n",
      "669/669 [==============================] - 28s 41ms/step - loss: 0.0326 - accuracy: 0.9895 - val_loss: 0.4051 - val_accuracy: 0.8937\n",
      "Epoch 7/20\n",
      "669/669 [==============================] - 32s 48ms/step - loss: 0.0140 - accuracy: 0.9964 - val_loss: 0.5132 - val_accuracy: 0.8918\n",
      "Epoch 8/20\n",
      "669/669 [==============================] - 32s 48ms/step - loss: 0.0055 - accuracy: 0.9987 - val_loss: 0.4915 - val_accuracy: 0.8942\n"
     ]
    }
   ],
   "source": [
    "with tf.device('/device:GPU:0'):\n",
    "  history=model.fit(X_train_set,y_train,epochs=20,validation_data=(X_val_set,y_val),batch_size=32,callbacks=[check_point,early_stop])"
   ]
  },
  {
   "cell_type": "code",
   "execution_count": 38,
   "metadata": {
    "colab": {
     "base_uri": "https://localhost:8080/"
    },
    "executionInfo": {
     "elapsed": 4074,
     "status": "ok",
     "timestamp": 1608305700411,
     "user": {
      "displayName": "khalil hennara",
      "photoUrl": "",
      "userId": "12581719381754495507"
     },
     "user_tz": -120
    },
    "id": "yEo2Ai6PePsE",
    "outputId": "69988125-56ed-4a6b-e6bd-3329623f83a4"
   },
   "outputs": [
    {
     "name": "stdout",
     "output_type": "stream",
     "text": [
      "Training Accuracy:0.9995 \n",
      "Testing Accuracy:  0.8889\n"
     ]
    }
   ],
   "source": [
    "loss, accuracy = model.evaluate(X_train_set, y_train,verbose=False)\n",
    "print(\"Training Accuracy:{:.4f} \".format(accuracy))\n",
    "loss, accuracy = model.evaluate(X_test_set, y_test,verbose=False)\n",
    "print(\"Testing Accuracy:  {:.4f}\".format(accuracy))"
   ]
  },
  {
   "cell_type": "code",
   "execution_count": 39,
   "metadata": {
    "colab": {
     "base_uri": "https://localhost:8080/",
     "height": 336
    },
    "executionInfo": {
     "elapsed": 1492,
     "status": "ok",
     "timestamp": 1608305719616,
     "user": {
      "displayName": "khalil hennara",
      "photoUrl": "",
      "userId": "12581719381754495507"
     },
     "user_tz": -120
    },
    "id": "zWMObpMhfV2k",
    "outputId": "e9650731-3357-4575-c49c-10f66cbd871e"
   },
   "outputs": [
    {
     "data": {
      "image/png": "[encoded data removed]",
      "text/plain": [
       "<Figure size 864x360 with 2 Axes>"
      ]
     },
     "metadata": {
      "needs_background": "light",
      "tags": []
     },
     "output_type": "display_data"
    }
   ],
   "source": [
    "plot_history(history)"
   ]
  },
  {
   "cell_type": "markdown",
   "metadata": {
    "id": "l94ifEcofhnK"
   },
   "source": [
    "the previous model is better than this"
   ]
  },
  {
   "cell_type": "markdown",
   "metadata": {
    "id": "2BmlSpzhfnPH"
   },
   "source": [
    "The last model we will try on th binary classification"
   ]
  },
  {
   "cell_type": "code",
   "execution_count": 51,
   "metadata": {
    "colab": {
     "base_uri": "https://localhost:8080/"
    },
    "executionInfo": {
     "elapsed": 8357,
     "status": "ok",
     "timestamp": 1608306791423,
     "user": {
      "displayName": "khalil hennara",
      "photoUrl": "",
      "userId": "12581719381754495507"
     },
     "user_tz": -120
    },
    "id": "va8E0xiqfbGr",
    "outputId": "0ce34734-34c1-4862-e37f-c8b8b58d27fb"
   },
   "outputs": [
    {
     "name": "stdout",
     "output_type": "stream",
     "text": [
      "WARNING:tensorflow:Layer gru will not use cuDNN kernel since it doesn't meet the cuDNN kernel criteria. It will use generic GPU kernel as fallback when running on GPU\n",
      "Model: \"sequential\"\n",
      "_________________________________________________________________\n",
      "Layer (type)                 Output Shape              Param #   \n",
      "=================================================================\n",
      "embedding (Embedding)        (None, 70, 300)           12155400  \n",
      "_________________________________________________________________\n",
      "gru (GRU)                    (None, 70, 64)            70272     \n",
      "_________________________________________________________________\n",
      "gru_1 (GRU)                  (None, 64)                24960     \n",
      "_________________________________________________________________\n",
      "dropout (Dropout)            (None, 64)                0         \n",
      "_________________________________________________________________\n",
      "dense (Dense)                (None, 1)                 65        \n",
      "=================================================================\n",
      "Total params: 12,250,697\n",
      "Trainable params: 12,250,697\n",
      "Non-trainable params: 0\n",
      "_________________________________________________________________\n"
     ]
    }
   ],
   "source": [
    "keras.backend.clear_session()\n",
    "model=keras.models.Sequential([\n",
    "          keras.layers.Embedding(input_dim=num_tokens,\n",
    "                                 output_dim=embading_dim,\n",
    "                                 embeddings_initializer=keras.initializers.Constant(embading_matrix),\n",
    "                                 trainable=True,\n",
    "                                 input_length=70),\n",
    "          keras.layers.GRU(64,return_sequences=True,recurrent_dropout=0.2),\n",
    "          keras.layers.GRU(64),\n",
    "          keras.layers.Dropout(0.24),\n",
    "          keras.layers.Dense(1,activation='sigmoid')\n",
    "])\n",
    "model.summary()"
   ]
  },
  {
   "cell_type": "code",
   "execution_count": 52,
   "metadata": {
    "executionInfo": {
     "elapsed": 1020,
     "status": "ok",
     "timestamp": 1608306795014,
     "user": {
      "displayName": "khalil hennara",
      "photoUrl": "",
      "userId": "12581719381754495507"
     },
     "user_tz": -120
    },
    "id": "OV_JNSk2gR2Y"
   },
   "outputs": [],
   "source": [
    "model.compile(loss='binary_crossentropy',optimizer='rmsprop',metrics=['accuracy'])\n",
    "\n",
    "check_point=keras.callbacks.ModelCheckpoint('/content/drive/MyDrive/Binary_Classifaction_3.h5',save_best_only=True,monitor='val_loss')\n",
    "early_stop=keras.callbacks.EarlyStopping(monitor='val_loss',patience=5)"
   ]
  },
  {
   "cell_type": "code",
   "execution_count": null,
   "metadata": {
    "id": "7OqUKLmGgZDm"
   },
   "outputs": [],
   "source": [
    "with tf.device('/device:GPU:0'):\n",
    "  history=model.fit(X_train_set,y_train,epochs=20,validation_data=(X_val_set,y_val),batch_size=32,callbacks=[check_point,early_stop])"
   ]
  },
  {
   "cell_type": "code",
   "execution_count": null,
   "metadata": {
    "id": "xs-Q3cmYgZtY"
   },
   "outputs": [],
   "source": []
  }
 ],
 "metadata": {
  "accelerator": "GPU",
  "colab": {
   "authorship_tag": "ABX9TyO6p9gmq5zp5ICreb+8r0am",
   "collapsed_sections": [],
   "name": "Second_Part",
   "provenance": []
  },
  "kernelspec": {
   "display_name": "Python 3",
   "language": "python",
   "name": "python3"
  },
  "language_info": {
   "codemirror_mode": {
    "name": "ipython",
    "version": 3
   },
   "file_extension": ".py",
   "mimetype": "text/x-python",
   "name": "python",
   "nbconvert_exporter": "python",
   "pygments_lexer": "ipython3",
   "version": "3.8.5"
  }
 },
 "nbformat": 4,
 "nbformat_minor": 1
}
